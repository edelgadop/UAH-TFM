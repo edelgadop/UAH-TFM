{
 "cells": [
  {
   "cell_type": "code",
   "execution_count": 1,
   "metadata": {},
   "outputs": [],
   "source": [
    "import pandas as pd\n",
    "import numpy as np\n",
    "import matplotlib.pyplot as plt\n",
    "import seaborn as sns\n",
    "%matplotlib inline"
   ]
  },
  {
   "cell_type": "code",
   "execution_count": 287,
   "metadata": {},
   "outputs": [
    {
     "data": {
      "text/html": [
       "<div>\n",
       "<style scoped>\n",
       "    .dataframe tbody tr th:only-of-type {\n",
       "        vertical-align: middle;\n",
       "    }\n",
       "\n",
       "    .dataframe tbody tr th {\n",
       "        vertical-align: top;\n",
       "    }\n",
       "\n",
       "    .dataframe thead th {\n",
       "        text-align: right;\n",
       "    }\n",
       "</style>\n",
       "<table border=\"1\" class=\"dataframe\">\n",
       "  <thead>\n",
       "    <tr style=\"text-align: right;\">\n",
       "      <th></th>\n",
       "      <th>element_key</th>\n",
       "      <th>latitude</th>\n",
       "      <th>longitude</th>\n",
       "      <th>timestamp</th>\n",
       "      <th>occupation_perc</th>\n",
       "      <th>prcp</th>\n",
       "      <th>tmax</th>\n",
       "      <th>tmin</th>\n",
       "    </tr>\n",
       "  </thead>\n",
       "  <tbody>\n",
       "    <tr>\n",
       "      <th>0</th>\n",
       "      <td>35693</td>\n",
       "      <td>47.619158</td>\n",
       "      <td>-122.346457</td>\n",
       "      <td>2016-01-02 00:00:00</td>\n",
       "      <td>28.57</td>\n",
       "      <td>0.0</td>\n",
       "      <td>42</td>\n",
       "      <td>25</td>\n",
       "    </tr>\n",
       "    <tr>\n",
       "      <th>1</th>\n",
       "      <td>53549</td>\n",
       "      <td>47.628175</td>\n",
       "      <td>-122.341132</td>\n",
       "      <td>2016-01-02 00:00:00</td>\n",
       "      <td>3.12</td>\n",
       "      <td>0.0</td>\n",
       "      <td>42</td>\n",
       "      <td>25</td>\n",
       "    </tr>\n",
       "    <tr>\n",
       "      <th>2</th>\n",
       "      <td>11881</td>\n",
       "      <td>47.619156</td>\n",
       "      <td>-122.333107</td>\n",
       "      <td>2016-01-02 02:00:00</td>\n",
       "      <td>10.00</td>\n",
       "      <td>0.0</td>\n",
       "      <td>42</td>\n",
       "      <td>25</td>\n",
       "    </tr>\n",
       "    <tr>\n",
       "      <th>3</th>\n",
       "      <td>9393</td>\n",
       "      <td>47.621441</td>\n",
       "      <td>-122.335970</td>\n",
       "      <td>2016-01-02 03:00:00</td>\n",
       "      <td>20.00</td>\n",
       "      <td>0.0</td>\n",
       "      <td>42</td>\n",
       "      <td>25</td>\n",
       "    </tr>\n",
       "    <tr>\n",
       "      <th>4</th>\n",
       "      <td>11133</td>\n",
       "      <td>47.619815</td>\n",
       "      <td>-122.348131</td>\n",
       "      <td>2016-01-02 04:00:00</td>\n",
       "      <td>20.00</td>\n",
       "      <td>0.0</td>\n",
       "      <td>42</td>\n",
       "      <td>25</td>\n",
       "    </tr>\n",
       "    <tr>\n",
       "      <th>5</th>\n",
       "      <td>31310</td>\n",
       "      <td>47.619256</td>\n",
       "      <td>-122.339661</td>\n",
       "      <td>2016-01-02 04:00:00</td>\n",
       "      <td>9.09</td>\n",
       "      <td>0.0</td>\n",
       "      <td>42</td>\n",
       "      <td>25</td>\n",
       "    </tr>\n",
       "    <tr>\n",
       "      <th>6</th>\n",
       "      <td>13130</td>\n",
       "      <td>47.620816</td>\n",
       "      <td>-122.345711</td>\n",
       "      <td>2016-01-02 04:00:00</td>\n",
       "      <td>22.22</td>\n",
       "      <td>0.0</td>\n",
       "      <td>42</td>\n",
       "      <td>25</td>\n",
       "    </tr>\n",
       "    <tr>\n",
       "      <th>7</th>\n",
       "      <td>53126</td>\n",
       "      <td>47.616374</td>\n",
       "      <td>-122.341452</td>\n",
       "      <td>2016-01-02 04:00:00</td>\n",
       "      <td>9.09</td>\n",
       "      <td>0.0</td>\n",
       "      <td>42</td>\n",
       "      <td>25</td>\n",
       "    </tr>\n",
       "    <tr>\n",
       "      <th>8</th>\n",
       "      <td>36142</td>\n",
       "      <td>47.617287</td>\n",
       "      <td>-122.338056</td>\n",
       "      <td>2016-01-02 05:00:00</td>\n",
       "      <td>16.67</td>\n",
       "      <td>0.0</td>\n",
       "      <td>42</td>\n",
       "      <td>25</td>\n",
       "    </tr>\n",
       "    <tr>\n",
       "      <th>9</th>\n",
       "      <td>76433</td>\n",
       "      <td>47.622804</td>\n",
       "      <td>-122.339860</td>\n",
       "      <td>2016-01-02 05:00:00</td>\n",
       "      <td>9.09</td>\n",
       "      <td>0.0</td>\n",
       "      <td>42</td>\n",
       "      <td>25</td>\n",
       "    </tr>\n",
       "  </tbody>\n",
       "</table>\n",
       "</div>"
      ],
      "text/plain": [
       "   element_key   latitude   longitude           timestamp  occupation_perc  \\\n",
       "0        35693  47.619158 -122.346457 2016-01-02 00:00:00            28.57   \n",
       "1        53549  47.628175 -122.341132 2016-01-02 00:00:00             3.12   \n",
       "2        11881  47.619156 -122.333107 2016-01-02 02:00:00            10.00   \n",
       "3         9393  47.621441 -122.335970 2016-01-02 03:00:00            20.00   \n",
       "4        11133  47.619815 -122.348131 2016-01-02 04:00:00            20.00   \n",
       "5        31310  47.619256 -122.339661 2016-01-02 04:00:00             9.09   \n",
       "6        13130  47.620816 -122.345711 2016-01-02 04:00:00            22.22   \n",
       "7        53126  47.616374 -122.341452 2016-01-02 04:00:00             9.09   \n",
       "8        36142  47.617287 -122.338056 2016-01-02 05:00:00            16.67   \n",
       "9        76433  47.622804 -122.339860 2016-01-02 05:00:00             9.09   \n",
       "\n",
       "   prcp  tmax  tmin  \n",
       "0   0.0    42    25  \n",
       "1   0.0    42    25  \n",
       "2   0.0    42    25  \n",
       "3   0.0    42    25  \n",
       "4   0.0    42    25  \n",
       "5   0.0    42    25  \n",
       "6   0.0    42    25  \n",
       "7   0.0    42    25  \n",
       "8   0.0    42    25  \n",
       "9   0.0    42    25  "
      ]
     },
     "execution_count": 287,
     "metadata": {},
     "output_type": "execute_result"
    }
   ],
   "source": [
    "df = pd.read_csv('./data/Serie_Total2016.csv')\n",
    "df.timestamp = pd.to_datetime(df.timestamp)\n",
    "df = df.loc[df.timestamp.dt.hour < 20]\n",
    "df.head(10)"
   ]
  },
  {
   "cell_type": "code",
   "execution_count": 286,
   "metadata": {},
   "outputs": [
    {
     "data": {
      "text/plain": [
       "4113518"
      ]
     },
     "execution_count": 286,
     "metadata": {},
     "output_type": "execute_result"
    }
   ],
   "source": [
    "df.shape[0]"
   ]
  },
  {
   "cell_type": "markdown",
   "metadata": {},
   "source": [
    "# Funciones estadísticas"
   ]
  },
  {
   "cell_type": "code",
   "execution_count": 280,
   "metadata": {},
   "outputs": [],
   "source": [
    "from scipy.stats import norm, t, beta"
   ]
  },
  {
   "cell_type": "markdown",
   "metadata": {},
   "source": [
    "# Distribución de temperaturas\n",
    "\n",
    "\n",
    "## Temperatura máxima"
   ]
  },
  {
   "cell_type": "code",
   "execution_count": 250,
   "metadata": {},
   "outputs": [
    {
     "name": "stdout",
     "output_type": "stream",
     "text": [
      "Temperatura máxima media de la muestra: 62.93ºF\n",
      "Desviación típica de la Temperatura máxima de la muestra: 12.68ºF\n"
     ]
    }
   ],
   "source": [
    "mu = df['tmax'].mean()\n",
    "s = df['tmax'].std()\n",
    "print(\"Temperatura máxima media de la muestra: %.2fºF\" % mu)\n",
    "print(\"Desviación típica de la Temperatura máxima de la muestra: %.2fºF\" % s)"
   ]
  },
  {
   "cell_type": "code",
   "execution_count": 256,
   "metadata": {},
   "outputs": [
    {
     "data": {
      "text/plain": [
       "Text(0,0.5,'Densidad de probabilidad')"
      ]
     },
     "execution_count": 256,
     "metadata": {},
     "output_type": "execute_result"
    },
    {
     "data": {
      "image/png": "[encoded data removed]",
      "text/plain": [
       "<Figure size 900x600 with 1 Axes>"
      ]
     },
     "metadata": {},
     "output_type": "display_data"
    }
   ],
   "source": [
    "plt.figure(dpi=150)\n",
    "sns.distplot(df['tmax'], bins=11, kde=False, norm_hist=True)\n",
    "x = np.linspace(20,100, 100)\n",
    "rv = norm(loc=mu, scale=s)\n",
    "plt.plot(x, rv.pdf(x), color='r')\n",
    "plt.xlabel(\"ºF\")\n",
    "plt.ylabel(\"Densidad de probabilidad\")"
   ]
  },
  {
   "cell_type": "markdown",
   "metadata": {},
   "source": [
    "Muestra grande, varianza poblacional desconocida\n",
    "\n",
    "$ \\Big(\\bar{x}-z_{\\alpha/2}\\cdot\\dfrac{s}{\\sqrt{N}}, \\;\\bar{x}+z_{\\alpha/2}\\cdot\\dfrac{s}{\\sqrt{N}}\\Big), \\; 1-\\alpha  $"
   ]
  },
  {
   "cell_type": "code",
   "execution_count": 163,
   "metadata": {},
   "outputs": [],
   "source": [
    "def confint_mean_normal(x, s, N, alpha):\n",
    "    from scipy.stats import norm\n",
    "    import numpy as np\n",
    "    import pandas as pd\n",
    "    \n",
    "    rv = norm()\n",
    "    za = np.abs(rv.ppf(alpha/2))\n",
    "    mu_i = x-za*s/np.sqrt(N)\n",
    "    mu_s = x+za*s/np.sqrt(N)\n",
    "    return pd.DataFrame({str(100*(alpha/2))+\"%\": [mu_i], str(100*(1-alpha/2))+\"%\": [mu_s]})  "
   ]
  },
  {
   "cell_type": "markdown",
   "metadata": {},
   "source": [
    "Muestra grande, media poblacional desconocida\n",
    "\n",
    "$ \\Big(\\dfrac{Ns^2}{\\chi^2_{\\alpha/2}}, \\dfrac{Ns^2}{\\chi^2_{1-\\alpha/2}} \\Big), \\; 1-\\alpha  $"
   ]
  },
  {
   "cell_type": "code",
   "execution_count": 164,
   "metadata": {},
   "outputs": [],
   "source": [
    "def confint_variance(s, N, alpha):\n",
    "    from scipy.stats import chi2\n",
    "    import numpy as np\n",
    "    import pandas as pd\n",
    "    \n",
    "    rv = chi2(N)\n",
    "    x1 = rv.ppf(alpha/2)\n",
    "    x2 = rv.ppf(1-alpha/2)\n",
    "    s_i = np.sqrt(N*s**2/max(x1,x2))\n",
    "    s_s = np.sqrt(N*s**2/min(x1,x2))\n",
    "    \n",
    "    return pd.DataFrame({str(100*(alpha/2))+\"%\": [s_i], str(100*(1-alpha/2))+\"%\": [s_s]})\n",
    "    "
   ]
  },
  {
   "cell_type": "code",
   "execution_count": 165,
   "metadata": {},
   "outputs": [
    {
     "data": {
      "text/html": [
       "<div>\n",
       "<style scoped>\n",
       "    .dataframe tbody tr th:only-of-type {\n",
       "        vertical-align: middle;\n",
       "    }\n",
       "\n",
       "    .dataframe tbody tr th {\n",
       "        vertical-align: top;\n",
       "    }\n",
       "\n",
       "    .dataframe thead th {\n",
       "        text-align: right;\n",
       "    }\n",
       "</style>\n",
       "<table border=\"1\" class=\"dataframe\">\n",
       "  <thead>\n",
       "    <tr style=\"text-align: right;\">\n",
       "      <th></th>\n",
       "      <th>2.5%</th>\n",
       "      <th>97.5%</th>\n",
       "    </tr>\n",
       "  </thead>\n",
       "  <tbody>\n",
       "    <tr>\n",
       "      <th>0</th>\n",
       "      <td>62.915133</td>\n",
       "      <td>62.939637</td>\n",
       "    </tr>\n",
       "  </tbody>\n",
       "</table>\n",
       "</div>"
      ],
      "text/plain": [
       "        2.5%      97.5%\n",
       "0  62.915133  62.939637"
      ]
     },
     "execution_count": 165,
     "metadata": {},
     "output_type": "execute_result"
    }
   ],
   "source": [
    "confint_mean_normal(mu, s, df.shape[0], 0.05)"
   ]
  },
  {
   "cell_type": "code",
   "execution_count": 166,
   "metadata": {},
   "outputs": [
    {
     "data": {
      "text/html": [
       "<div>\n",
       "<style scoped>\n",
       "    .dataframe tbody tr th:only-of-type {\n",
       "        vertical-align: middle;\n",
       "    }\n",
       "\n",
       "    .dataframe tbody tr th {\n",
       "        vertical-align: top;\n",
       "    }\n",
       "\n",
       "    .dataframe thead th {\n",
       "        text-align: right;\n",
       "    }\n",
       "</style>\n",
       "<table border=\"1\" class=\"dataframe\">\n",
       "  <thead>\n",
       "    <tr style=\"text-align: right;\">\n",
       "      <th></th>\n",
       "      <th>2.5%</th>\n",
       "      <th>97.5%</th>\n",
       "    </tr>\n",
       "  </thead>\n",
       "  <tbody>\n",
       "    <tr>\n",
       "      <th>0</th>\n",
       "      <td>12.669637</td>\n",
       "      <td>12.686963</td>\n",
       "    </tr>\n",
       "  </tbody>\n",
       "</table>\n",
       "</div>"
      ],
      "text/plain": [
       "        2.5%      97.5%\n",
       "0  12.669637  12.686963"
      ]
     },
     "execution_count": 166,
     "metadata": {},
     "output_type": "execute_result"
    }
   ],
   "source": [
    "confint_variance(s, df.shape[0], 0.05)"
   ]
  },
  {
   "cell_type": "markdown",
   "metadata": {},
   "source": [
    "## Temperatura mínima"
   ]
  },
  {
   "cell_type": "code",
   "execution_count": 258,
   "metadata": {},
   "outputs": [
    {
     "name": "stdout",
     "output_type": "stream",
     "text": [
      "Temperatura máxima media de la muestra: 47.76ºF\n",
      "Desviación típica de la Temperatura máxima de la muestra: 8.15ºF\n"
     ]
    }
   ],
   "source": [
    "mu = df['tmin'].mean()\n",
    "s = df['tmin'].std()\n",
    "print(\"Temperatura máxima media de la muestra: %.2fºF\" % mu)\n",
    "print(\"Desviación típica de la Temperatura máxima de la muestra: %.2fºF\" % s)"
   ]
  },
  {
   "cell_type": "code",
   "execution_count": 268,
   "metadata": {},
   "outputs": [
    {
     "data": {
      "text/plain": [
       "Text(0,0.5,'Densidad de probabilidad')"
      ]
     },
     "execution_count": 268,
     "metadata": {},
     "output_type": "execute_result"
    },
    {
     "data": {
      "image/png": "[encoded data removed]",
      "text/plain": [
       "<Figure size 900x600 with 1 Axes>"
      ]
     },
     "metadata": {},
     "output_type": "display_data"
    }
   ],
   "source": [
    "plt.figure(dpi=150)\n",
    "sns.distplot(df['tmin'], bins=7, kde=False, norm_hist=True)\n",
    "x = np.linspace(20,80, 100)\n",
    "rv = norm(loc=mu, scale=s)\n",
    "plt.plot(x, rv.pdf(x), color='r')\n",
    "plt.xlabel(\"ºF\")\n",
    "plt.ylabel(\"Densidad de probabilidad\")"
   ]
  },
  {
   "cell_type": "code",
   "execution_count": 169,
   "metadata": {},
   "outputs": [
    {
     "data": {
      "text/html": [
       "<div>\n",
       "<style scoped>\n",
       "    .dataframe tbody tr th:only-of-type {\n",
       "        vertical-align: middle;\n",
       "    }\n",
       "\n",
       "    .dataframe tbody tr th {\n",
       "        vertical-align: top;\n",
       "    }\n",
       "\n",
       "    .dataframe thead th {\n",
       "        text-align: right;\n",
       "    }\n",
       "</style>\n",
       "<table border=\"1\" class=\"dataframe\">\n",
       "  <thead>\n",
       "    <tr style=\"text-align: right;\">\n",
       "      <th></th>\n",
       "      <th>2.5%</th>\n",
       "      <th>97.5%</th>\n",
       "    </tr>\n",
       "  </thead>\n",
       "  <tbody>\n",
       "    <tr>\n",
       "      <th>0</th>\n",
       "      <td>47.754053</td>\n",
       "      <td>47.769807</td>\n",
       "    </tr>\n",
       "  </tbody>\n",
       "</table>\n",
       "</div>"
      ],
      "text/plain": [
       "        2.5%      97.5%\n",
       "0  47.754053  47.769807"
      ]
     },
     "execution_count": 169,
     "metadata": {},
     "output_type": "execute_result"
    }
   ],
   "source": [
    "confint_mean_normal(mu, s, df.shape[0], 0.05)"
   ]
  },
  {
   "cell_type": "code",
   "execution_count": 170,
   "metadata": {},
   "outputs": [
    {
     "data": {
      "text/html": [
       "<div>\n",
       "<style scoped>\n",
       "    .dataframe tbody tr th:only-of-type {\n",
       "        vertical-align: middle;\n",
       "    }\n",
       "\n",
       "    .dataframe tbody tr th {\n",
       "        vertical-align: top;\n",
       "    }\n",
       "\n",
       "    .dataframe thead th {\n",
       "        text-align: right;\n",
       "    }\n",
       "</style>\n",
       "<table border=\"1\" class=\"dataframe\">\n",
       "  <thead>\n",
       "    <tr style=\"text-align: right;\">\n",
       "      <th></th>\n",
       "      <th>2.5%</th>\n",
       "      <th>97.5%</th>\n",
       "    </tr>\n",
       "  </thead>\n",
       "  <tbody>\n",
       "    <tr>\n",
       "      <th>0</th>\n",
       "      <td>8.14581</td>\n",
       "      <td>8.15695</td>\n",
       "    </tr>\n",
       "  </tbody>\n",
       "</table>\n",
       "</div>"
      ],
      "text/plain": [
       "      2.5%    97.5%\n",
       "0  8.14581  8.15695"
      ]
     },
     "execution_count": 170,
     "metadata": {},
     "output_type": "execute_result"
    }
   ],
   "source": [
    "confint_variance(s, df.shape[0], 0.05)"
   ]
  },
  {
   "cell_type": "markdown",
   "metadata": {},
   "source": [
    "# Distribución de precipitaciones"
   ]
  },
  {
   "cell_type": "code",
   "execution_count": 281,
   "metadata": {},
   "outputs": [
    {
     "name": "stdout",
     "output_type": "stream",
     "text": [
      "Precipitación media de la muestra: 0.13\n",
      "Desviación típica de la precipitación de la muestra: 0.26\n"
     ]
    }
   ],
   "source": [
    "mu = df['prcp'].mean()\n",
    "s = df['prcp'].std()\n",
    "print(\"Precipitación media de la muestra: %.2f\" % mu)\n",
    "print(\"Desviación típica de la precipitación de la muestra: %.2f\" % s)"
   ]
  },
  {
   "cell_type": "code",
   "execution_count": 288,
   "metadata": {},
   "outputs": [
    {
     "data": {
      "text/plain": [
       "Text(0,0.5,'Densidad de probabilidad')"
      ]
     },
     "execution_count": 288,
     "metadata": {},
     "output_type": "execute_result"
    },
    {
     "data": {
      "image/png": "[encoded data removed]",
      "text/plain": [
       "<Figure size 900x600 with 1 Axes>"
      ]
     },
     "metadata": {},
     "output_type": "display_data"
    }
   ],
   "source": [
    "plt.figure(dpi=150)\n",
    "sns.distplot(df['prcp'], bins=12, kde=False, norm_hist=True)\n",
    "plt.xlabel(\"Precipitación\")\n",
    "plt.ylabel(\"Densidad de probabilidad\")"
   ]
  },
  {
   "cell_type": "code",
   "execution_count": 173,
   "metadata": {},
   "outputs": [
    {
     "data": {
      "text/html": [
       "<div>\n",
       "<style scoped>\n",
       "    .dataframe tbody tr th:only-of-type {\n",
       "        vertical-align: middle;\n",
       "    }\n",
       "\n",
       "    .dataframe tbody tr th {\n",
       "        vertical-align: top;\n",
       "    }\n",
       "\n",
       "    .dataframe thead th {\n",
       "        text-align: right;\n",
       "    }\n",
       "</style>\n",
       "<table border=\"1\" class=\"dataframe\">\n",
       "  <thead>\n",
       "    <tr style=\"text-align: right;\">\n",
       "      <th></th>\n",
       "      <th>2.5%</th>\n",
       "      <th>97.5%</th>\n",
       "    </tr>\n",
       "  </thead>\n",
       "  <tbody>\n",
       "    <tr>\n",
       "      <th>0</th>\n",
       "      <td>0.1266</td>\n",
       "      <td>0.127093</td>\n",
       "    </tr>\n",
       "  </tbody>\n",
       "</table>\n",
       "</div>"
      ],
      "text/plain": [
       "     2.5%     97.5%\n",
       "0  0.1266  0.127093"
      ]
     },
     "execution_count": 173,
     "metadata": {},
     "output_type": "execute_result"
    }
   ],
   "source": [
    "confint_mean_normal(mu, s, df.shape[0], 0.05)"
   ]
  },
  {
   "cell_type": "code",
   "execution_count": 174,
   "metadata": {},
   "outputs": [
    {
     "data": {
      "text/html": [
       "<div>\n",
       "<style scoped>\n",
       "    .dataframe tbody tr th:only-of-type {\n",
       "        vertical-align: middle;\n",
       "    }\n",
       "\n",
       "    .dataframe tbody tr th {\n",
       "        vertical-align: top;\n",
       "    }\n",
       "\n",
       "    .dataframe thead th {\n",
       "        text-align: right;\n",
       "    }\n",
       "</style>\n",
       "<table border=\"1\" class=\"dataframe\">\n",
       "  <thead>\n",
       "    <tr style=\"text-align: right;\">\n",
       "      <th></th>\n",
       "      <th>2.5%</th>\n",
       "      <th>97.5%</th>\n",
       "    </tr>\n",
       "  </thead>\n",
       "  <tbody>\n",
       "    <tr>\n",
       "      <th>0</th>\n",
       "      <td>0.254893</td>\n",
       "      <td>0.255242</td>\n",
       "    </tr>\n",
       "  </tbody>\n",
       "</table>\n",
       "</div>"
      ],
      "text/plain": [
       "       2.5%     97.5%\n",
       "0  0.254893  0.255242"
      ]
     },
     "execution_count": 174,
     "metadata": {},
     "output_type": "execute_result"
    }
   ],
   "source": [
    "confint_variance(s, df.shape[0], 0.05)"
   ]
  },
  {
   "cell_type": "markdown",
   "metadata": {},
   "source": [
    "# Distribución del porcentaje de ocupación"
   ]
  },
  {
   "cell_type": "code",
   "execution_count": 177,
   "metadata": {},
   "outputs": [
    {
     "name": "stdout",
     "output_type": "stream",
     "text": [
      "Ocupación media de la muestra: 50.81\n",
      "Desviación típica de la ocupación de la muestra: 40.08\n"
     ]
    }
   ],
   "source": [
    "mu = df['occupation_perc'].mean()\n",
    "s = df['occupation_perc'].std()\n",
    "print(\"Ocupación media de la muestra: %.2f\" % mu)\n",
    "print(\"Desviación típica de la ocupación de la muestra: %.2f\" % s)"
   ]
  },
  {
   "cell_type": "code",
   "execution_count": 289,
   "metadata": {},
   "outputs": [
    {
     "data": {
      "text/plain": [
       "Text(0,0.5,'Densidad de probabilidad')"
      ]
     },
     "execution_count": 289,
     "metadata": {},
     "output_type": "execute_result"
    },
    {
     "data": {
      "image/png": "[encoded data removed]",
      "text/plain": [
       "<Figure size 900x600 with 1 Axes>"
      ]
     },
     "metadata": {},
     "output_type": "display_data"
    }
   ],
   "source": [
    "plt.figure(dpi=150)\n",
    "sns.distplot(df['occupation_perc'], bins=15, kde=False, norm_hist=True)\n",
    "plt.xlabel(\"Porcentaje de ocupación\")\n",
    "plt.ylabel(\"Densidad de probabilidad\")"
   ]
  },
  {
   "cell_type": "code",
   "execution_count": 179,
   "metadata": {},
   "outputs": [
    {
     "data": {
      "text/html": [
       "<div>\n",
       "<style scoped>\n",
       "    .dataframe tbody tr th:only-of-type {\n",
       "        vertical-align: middle;\n",
       "    }\n",
       "\n",
       "    .dataframe tbody tr th {\n",
       "        vertical-align: top;\n",
       "    }\n",
       "\n",
       "    .dataframe thead th {\n",
       "        text-align: right;\n",
       "    }\n",
       "</style>\n",
       "<table border=\"1\" class=\"dataframe\">\n",
       "  <thead>\n",
       "    <tr style=\"text-align: right;\">\n",
       "      <th></th>\n",
       "      <th>2.5%</th>\n",
       "      <th>97.5%</th>\n",
       "    </tr>\n",
       "  </thead>\n",
       "  <tbody>\n",
       "    <tr>\n",
       "      <th>0</th>\n",
       "      <td>50.771656</td>\n",
       "      <td>50.849128</td>\n",
       "    </tr>\n",
       "  </tbody>\n",
       "</table>\n",
       "</div>"
      ],
      "text/plain": [
       "        2.5%      97.5%\n",
       "0  50.771656  50.849128"
      ]
     },
     "execution_count": 179,
     "metadata": {},
     "output_type": "execute_result"
    }
   ],
   "source": [
    "confint_mean_normal(mu, s, df.shape[0], 0.05)"
   ]
  },
  {
   "cell_type": "code",
   "execution_count": 180,
   "metadata": {},
   "outputs": [
    {
     "data": {
      "text/html": [
       "<div>\n",
       "<style scoped>\n",
       "    .dataframe tbody tr th:only-of-type {\n",
       "        vertical-align: middle;\n",
       "    }\n",
       "\n",
       "    .dataframe tbody tr th {\n",
       "        vertical-align: top;\n",
       "    }\n",
       "\n",
       "    .dataframe thead th {\n",
       "        text-align: right;\n",
       "    }\n",
       "</style>\n",
       "<table border=\"1\" class=\"dataframe\">\n",
       "  <thead>\n",
       "    <tr style=\"text-align: right;\">\n",
       "      <th></th>\n",
       "      <th>2.5%</th>\n",
       "      <th>97.5%</th>\n",
       "    </tr>\n",
       "  </thead>\n",
       "  <tbody>\n",
       "    <tr>\n",
       "      <th>0</th>\n",
       "      <td>40.0565</td>\n",
       "      <td>40.11128</td>\n",
       "    </tr>\n",
       "  </tbody>\n",
       "</table>\n",
       "</div>"
      ],
      "text/plain": [
       "      2.5%     97.5%\n",
       "0  40.0565  40.11128"
      ]
     },
     "execution_count": 180,
     "metadata": {},
     "output_type": "execute_result"
    }
   ],
   "source": [
    "confint_variance(s, df.shape[0], 0.05)"
   ]
  },
  {
   "cell_type": "markdown",
   "metadata": {},
   "source": [
    "# Correlaciones entre las covariantes y el target\n",
    "Correlación de Pearson. Se dan dos p-valor. El primero es la probabilidad de que otra muestra dé el mismo coeficiente que el calculado, estando incorrelada. El otro P valor calculado se utiliza para establecer si el coeficiente es significativamente distinto de cero. Este segundo test es una comprobación del primer valor (**porque la documentación dice que es aproximado y no siempre es fiable**), y se hace mediante un t-test.\n",
    "\n",
    "El citado t-test hace lo siguiente:\n",
    "1. Calcula el coeficiente de correlación de Pearson de la muestra ($r$)\n",
    "2. Calcula el estadístico $t$, que se distribuye según una t de Student con $N-2$ grados de libertad:\n",
    "\n",
    "$t = \\dfrac{r}{\\sqrt{1-r^2}}\\cdot \\sqrt{N-2}  \\sim  t_{N-2}\\$\n",
    "\n",
    "El p-valor se calcula con dos colas, como la probabilidad de obtener un valor más extremo que el estadístico calculado. Como nuestro dataset tiene muchas muestras, y $\\sqrt{N-2} \\gg \\frac{r}{\\sqrt{1-r^2}}$, los resultados casi siempre son significativos, porque el estadístico queda siempre muy a la derecha (o a la izquierda) del valor crítico.\n",
    "\n",
    "**La conclusión que se demuestra a continuación es que no hay evidencia de que haya correlaciones significativas entre las covariantes y el porcentaje de ocupación. Además, la evidencia es muy fuerte debido al número de muestras del dataset.**"
   ]
  },
  {
   "cell_type": "code",
   "execution_count": 149,
   "metadata": {},
   "outputs": [],
   "source": [
    "from scipy.stats import pearsonr"
   ]
  },
  {
   "cell_type": "code",
   "execution_count": 232,
   "metadata": {},
   "outputs": [],
   "source": [
    "def t_test_pearson(r, N):\n",
    "    from scipy.stats import t\n",
    "    import numpy as np\n",
    "    st = r*np.sqrt(N-2)/np.sqrt(1-r**2)\n",
    "    p = 2*t(N-2).cdf(-abs(st))\n",
    "    return (st,p)"
   ]
  },
  {
   "cell_type": "code",
   "execution_count": 233,
   "metadata": {},
   "outputs": [
    {
     "data": {
      "text/plain": [
       "(12.169301841464167, 4.53552211585125e-34)"
      ]
     },
     "execution_count": 233,
     "metadata": {},
     "output_type": "execute_result"
    }
   ],
   "source": [
    "t_test_pearson(0.006, df.shape[0])"
   ]
  },
  {
   "cell_type": "code",
   "execution_count": 214,
   "metadata": {},
   "outputs": [
    {
     "data": {
      "text/plain": [
       "-1.9599645612415337"
      ]
     },
     "execution_count": 214,
     "metadata": {},
     "output_type": "execute_result"
    }
   ],
   "source": [
    "t(df.shape[0]).ppf(0.025)"
   ]
  },
  {
   "cell_type": "code",
   "execution_count": 234,
   "metadata": {},
   "outputs": [
    {
     "name": "stdout",
     "output_type": "stream",
     "text": [
      "Correlación entre 'occupation_perc' y 'tmax' = 0.004 (p= 1.563e-15)\n",
      "¿Significativamente distinto de cero? Sí: p = 1.563e-15\n"
     ]
    }
   ],
   "source": [
    "(r, p) = pearsonr(df['occupation_perc'], df['tmax'])\n",
    "print(\"Correlación entre 'occupation_perc' y 'tmax' = %.3f (p= %.3e)\" %(r,p))\n",
    "print(\"¿Significativamente distinto de cero? Sí: p = %.3e\" % t_test_pearson(r, df.shape[0])[1])"
   ]
  },
  {
   "cell_type": "code",
   "execution_count": 235,
   "metadata": {},
   "outputs": [
    {
     "name": "stdout",
     "output_type": "stream",
     "text": [
      "Correlación entre 'occupation_perc' y 'tmin' = 0.006 (p = 4.23e-39)\n",
      "¿Significativamente distinto de cero? Sí: p = 4.226e-39\n"
     ]
    }
   ],
   "source": [
    "(r, p) = pearsonr(df['occupation_perc'], df['tmin'])\n",
    "print(\"Correlación entre 'occupation_perc' y 'tmin' = %.3f (p = %.2e)\" % (r,p))\n",
    "print(\"¿Significativamente distinto de cero? Sí: p = %.3e\" % t_test_pearson(r, df.shape[0])[1])"
   ]
  },
  {
   "cell_type": "code",
   "execution_count": 236,
   "metadata": {},
   "outputs": [
    {
     "name": "stdout",
     "output_type": "stream",
     "text": [
      "Correlación entre 'occupation_perc' y 'tmax' = -0.006 (p = 4.82e-29)\n",
      "¿Significativamente distinto de cero? Sí: p = 4.824e-29\n"
     ]
    }
   ],
   "source": [
    "(r, p) = pearsonr(df['occupation_perc'], df['prcp'])\n",
    "print(\"Correlación entre 'occupation_perc' y 'tmax' = %.3f (p = %.2e)\" % (r,p))\n",
    "print(\"¿Significativamente distinto de cero? Sí: p = %.3e\" % t_test_pearson(r, df.shape[0])[1])"
   ]
  },
  {
   "cell_type": "code",
   "execution_count": 237,
   "metadata": {},
   "outputs": [
    {
     "name": "stdout",
     "output_type": "stream",
     "text": [
      "Correlación entre 'occupation_perc' y 'latitude' = 0.068 (p = 0.00e+00)\n",
      "¿Significativamente distinto de cero? Sí: p = 0.000e+00\n"
     ]
    }
   ],
   "source": [
    "(r, p) = pearsonr(df['occupation_perc'], df['latitude'])\n",
    "print(\"Correlación entre 'occupation_perc' y 'latitude' = %.3f (p = %.2e)\" % (r,p))\n",
    "print(\"¿Significativamente distinto de cero? Sí: p = %.3e\" % t_test_pearson(r, df.shape[0])[1])"
   ]
  },
  {
   "cell_type": "code",
   "execution_count": 238,
   "metadata": {},
   "outputs": [
    {
     "name": "stdout",
     "output_type": "stream",
     "text": [
      "Correlación entre 'occupation_perc' y 'longitude' = -0.110 (p = 0.00e+00)\n",
      "¿Significativamente distinto de cero? Sí: p = 0.000e+00\n"
     ]
    }
   ],
   "source": [
    "(r, p) = pearsonr(df['occupation_perc'], df['longitude'])\n",
    "print(\"Correlación entre 'occupation_perc' y 'longitude' = %.3f (p = %.2e)\" % (r,p))\n",
    "print(\"¿Significativamente distinto de cero? Sí: p = %.3e\" % t_test_pearson(r, df.shape[0])[1])"
   ]
  },
  {
   "cell_type": "code",
   "execution_count": 240,
   "metadata": {},
   "outputs": [
    {
     "name": "stdout",
     "output_type": "stream",
     "text": [
      "Correlación entre 'occupation_perc' y la hora  = 0.015 (p = 9.61e-208)\n",
      "¿Significativamente distinto de cero? Sí: p = 9.606e-208\n"
     ]
    }
   ],
   "source": [
    "(r, p) = pearsonr(df['occupation_perc'], df.timestamp.dt.hour)\n",
    "print(\"Correlación entre 'occupation_perc' y la hora  = %.3f (p = %.2e)\" % (r,p))\n",
    "print(\"¿Significativamente distinto de cero? Sí: p = %.3e\" % t_test_pearson(r, df.shape[0])[1])"
   ]
  },
  {
   "cell_type": "code",
   "execution_count": 242,
   "metadata": {},
   "outputs": [
    {
     "name": "stdout",
     "output_type": "stream",
     "text": [
      "Correlación entre 'occupation_perc' y el día del mes  = 0.003 (p = 8.21e-08)\n",
      "¿Significativamente distinto de cero? Sí: p = 8.214e-08\n"
     ]
    }
   ],
   "source": [
    "(r, p) = pearsonr(df['occupation_perc'], df.timestamp.dt.day)\n",
    "print(\"Correlación entre 'occupation_perc' y el día del mes  = %.3f (p = %.2e)\" % (r,p))\n",
    "print(\"¿Significativamente distinto de cero? Sí: p = %.3e\" % t_test_pearson(r, df.shape[0])[1])"
   ]
  },
  {
   "cell_type": "code",
   "execution_count": 243,
   "metadata": {},
   "outputs": [
    {
     "name": "stdout",
     "output_type": "stream",
     "text": [
      "Correlación entre 'occupation_perc' y el mes  = -0.003 (p = 6.50e-10)\n",
      "¿Significativamente distinto de cero? Sí: p = 6.498e-10\n"
     ]
    }
   ],
   "source": [
    "(r, p) = pearsonr(df['occupation_perc'], df.timestamp.dt.month)\n",
    "print(\"Correlación entre 'occupation_perc' y el mes  = %.3f (p = %.2e)\" % (r,p))\n",
    "print(\"¿Significativamente distinto de cero? Sí: p = %.3e\" % t_test_pearson(r, df.shape[0])[1])"
   ]
  },
  {
   "cell_type": "markdown",
   "metadata": {},
   "source": [
    "# Correlaciones entre las covariantes (entre sí)"
   ]
  },
  {
   "cell_type": "markdown",
   "metadata": {},
   "source": [
    "A continuación se repite el análisis para estudiar si hay correlaciones entre las covariantes. Este análisis puede llevarnos a descrubir si hay multicolinealidad que pudiera afectar a la parte regresiva de los modelos espacio-temporales. "
   ]
  },
  {
   "cell_type": "code",
   "execution_count": 244,
   "metadata": {},
   "outputs": [
    {
     "name": "stdout",
     "output_type": "stream",
     "text": [
      "Correlación entre 'tmin' y 'tmax' = 0.878 (p= 0.000e+00)\n",
      "¿Significativamente distinto de cero? Sí: p = 0.000e+00\n"
     ]
    }
   ],
   "source": [
    "(r, p) = pearsonr(df['tmin'], df['tmax'])\n",
    "print(\"Correlación entre 'tmin' y 'tmax' = %.3f (p= %.3e)\" %(r,p))\n",
    "print(\"¿Significativamente distinto de cero? Sí: p = %.3e\" % t_test_pearson(r, df.shape[0])[1])"
   ]
  },
  {
   "cell_type": "code",
   "execution_count": 247,
   "metadata": {},
   "outputs": [
    {
     "name": "stdout",
     "output_type": "stream",
     "text": [
      "Correlación entre 'prcp' y 'tmax' = -0.275 (p= 0.000e+00)\n",
      "¿Significativamente distinto de cero? Sí: p = 0.000e+00\n"
     ]
    }
   ],
   "source": [
    "(r, p) = pearsonr(df['prcp'], df['tmax'])\n",
    "print(\"Correlación entre 'prcp' y 'tmax' = %.3f (p= %.3e)\" %(r,p))\n",
    "print(\"¿Significativamente distinto de cero? Sí: p = %.3e\" % t_test_pearson(r, df.shape[0])[1])"
   ]
  },
  {
   "cell_type": "code",
   "execution_count": 246,
   "metadata": {},
   "outputs": [
    {
     "name": "stdout",
     "output_type": "stream",
     "text": [
      "Correlación entre 'prcp' y 'tmin' = -0.108 (p= 0.000e+00)\n",
      "¿Significativamente distinto de cero? Sí: p = 0.000e+00\n"
     ]
    }
   ],
   "source": [
    "(r, p) = pearsonr(df['prcp'], df['tmin'])\n",
    "print(\"Correlación entre 'prcp' y 'tmin' = %.3f (p= %.3e)\" %(r,p))\n",
    "print(\"¿Significativamente distinto de cero? Sí: p = %.3e\" % t_test_pearson(r, df.shape[0])[1])"
   ]
  },
  {
   "cell_type": "code",
   "execution_count": 296,
   "metadata": {},
   "outputs": [],
   "source": [
    "def plot_cdf(num_bins, data, label):\n",
    "    counts, bin_edges = np.histogram (data, bins=num_bins, normed=True)\n",
    "    cdf = np.cumsum (counts)\n",
    "    plt.plot (bin_edges[1:], cdf/cdf[-1], label=label)\n"
   ]
  },
  {
   "cell_type": "code",
   "execution_count": 299,
   "metadata": {},
   "outputs": [
    {
     "data": {
      "text/plain": [
       "Text(0,0.5,'CDF')"
      ]
     },
     "execution_count": 299,
     "metadata": {},
     "output_type": "execute_result"
    },
    {
     "data": {
      "image/png": "[encoded data removed]",
      "text/plain": [
       "<Figure size 900x600 with 1 Axes>"
      ]
     },
     "metadata": {},
     "output_type": "display_data"
    }
   ],
   "source": [
    "plt.figure(dpi=150)\n",
    "plot_cdf(30, df['tmax'], label='Tmax')\n",
    "plot_cdf(30, df['tmin'], label='Tmin')\n",
    "plt.legend()\n",
    "plt.xlabel('ºF')\n",
    "plt.ylabel('CDF')"
   ]
  },
  {
   "cell_type": "code",
   "execution_count": 304,
   "metadata": {},
   "outputs": [
    {
     "data": {
      "text/plain": [
       "Ks_2sampResult(statistic=0.5432347688766648, pvalue=0.0)"
      ]
     },
     "execution_count": 304,
     "metadata": {},
     "output_type": "execute_result"
    }
   ],
   "source": [
    "from scipy.stats import ks_2samp\n",
    "\n",
    "ks_2samp(df['tmax'], df['tmin'])"
   ]
  },
  {
   "cell_type": "markdown",
   "metadata": {},
   "source": [
    "* Sólo aparece correlación significativa entre **tmax** y **tmin**, del orden de 0.9, y con una significación estadística fuerte. Esto podría tener sentido, pues tmax y tmin formarían parte de la misma variable: 'temperatura durante el día'. Si la temperatura media durante el día sube, normalmente suben tanto la mínima como la máxima, salvo en casos extremos.\n",
    "* El resto de variables están muy poco correlacionadas, teniendo el análisis mucha significación estadística.\n",
    "\n",
    "Los valores extremos de p que se están obteniendo se debe a que $N$ es muy grande, y las conclusiones se han obtenido con muchísimos datos, por lo que la mayoría de tests estadísticos van a salir muy significativos. "
   ]
  },
  {
   "cell_type": "markdown",
   "metadata": {},
   "source": [
    "# Bibliografía\n",
    "\n",
    "- G. Kanji, *100 statistical tests*, Third Edition, SAGE Publications LTD, 2006\n",
    "- G. Casella, L. Berger, *Statistical Inference*, Second Edition, Duxbury Advanced Series, 2002."
   ]
  }
 ],
 "metadata": {
  "kernelspec": {
   "display_name": "Python 3",
   "language": "python",
   "name": "python3"
  },
  "language_info": {
   "codemirror_mode": {
    "name": "ipython",
    "version": 3
   },
   "file_extension": ".py",
   "mimetype": "text/x-python",
   "name": "python",
   "nbconvert_exporter": "python",
   "pygments_lexer": "ipython3",
   "version": "3.5.5"
  }
 },
 "nbformat": 4,
 "nbformat_minor": 2
}
