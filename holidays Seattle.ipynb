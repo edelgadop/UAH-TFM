{
 "cells": [
  {
   "cell_type": "code",
   "execution_count": null,
   "metadata": {},
   "outputs": [],
   "source": [
    "Fuente:\n",
    "    https://www.officeholidays.com/countries/usa/all.php?year=2012\n",
    "    https://toughmudder.com/mudder-nation/photos/washington-seattle-2012\n",
    "    https://www.visitseattle.org/things-to-do/spectator-sports/\n",
    "    https://en.wikipedia.org/wiki/2012_World_Football_Challenge\n",
    "        # equipos de deportes: Seattle Seahawks (NFL Football); Seattle Mariners (MLB Baseball); Seattle Sounders FC (MLS Soccer);\n",
    "        # Seattle Storm (WNBA Basketball); Rat City Rollergirls (Roller Derby); Seattle Thunderbirds (WHL Hockey)"
   ]
  },
  {
   "cell_type": "code",
   "execution_count": null,
   "metadata": {},
   "outputs": [],
   "source": [
    "holidays = ['2012-01-02', '2012-01-16', '2012-02-20', '2012-05-13', '2012-05-28', '2012-06-17', \n",
    "            '2012-07-04', '2012-09-03', '2012-10-08', '2012-11-12', '2012-11-22', '2012-11-23', '2012-12-25',\n",
    "           # fiesta Tough Mudder en Seattle\n",
    "           '2012-09-29', '2012-09-30',\n",
    "           # partido World Football Challenge Seattle - Chelsea\n",
    "           '2012-07-18']\n",
    "# el 13-05-2012 es el día de la madre (domingo), no es public holiday, pero puede ser relevante para nuestro estudio (búsqueda de regalos, etc)\n",
    "# el 17-06-2012 es el día del padre (domingo). Tampoco es public holiday."
   ]
  },
  {
   "cell_type": "code",
   "execution_count": null,
   "metadata": {},
   "outputs": [],
   "source": [
    "df['Holiday'] = df.index.get_level_values(0).isin(holidays).astype(int)"
   ]
  }
 ],
 "metadata": {
  "kernelspec": {
   "display_name": "Python 3",
   "language": "python",
   "name": "python3"
  },
  "language_info": {
   "codemirror_mode": {
    "name": "ipython",
    "version": 3
   },
   "file_extension": ".py",
   "mimetype": "text/x-python",
   "name": "python",
   "nbconvert_exporter": "python",
   "pygments_lexer": "ipython3",
   "version": "3.6.5"
  }
 },
 "nbformat": 4,
 "nbformat_minor": 2
}
