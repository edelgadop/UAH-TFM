{
 "cells": [
  {
   "cell_type": "markdown",
   "metadata": {
    "toc": "true"
   },
   "source": [
    "# Table of Contents\n",
    "<p>\n",
    "<div class=\"lev1 toc-item\">\n",
    "    <a href=\"#Extracción-de-transacciones-de-2016\" data-toc-modified-id=\"Extracción-de-transacciones-de-2016\">\n",
    "        <span class=\"toc-item-num\">1&nbsp;&nbsp;</span>\n",
    "        Extracción de transacciones de 2016</a></div>\n",
    "\n",
    "<div class=\"lev1 toc-item\">\n",
    "    <a href=\"#Limpieza-y-transformación-de-transacciones\" data-toc-modified-id=\"Limpieza-y-transformación-de-transacciones\">\n",
    "    <span class=\"toc-item-num\">2&nbsp;&nbsp;</span>\n",
    "    Limpieza y transformación de transacciones</a></div>\n",
    "    \n",
    "<div class=\"lev1 toc-item\">\n",
    "    <a href=\"#Extracción-de-datos-de-capacidad-de-plazas\" data-toc-modified-id=\"Extracción-de-datos-de-capacidad-de-plazas\">\n",
    "    <span class=\"toc-item-num\">3&nbsp;&nbsp;</span>\n",
    "    Extracción de datos de capacidad de plazas</a></div>\n",
    "    \n",
    "<div class=\"lev1 toc-item\">\n",
    "    <a href=\"#Extracción-de-datos-de-ubicación-geográfica\" data-toc-modified-id=\"Extracción-de-datos-de-ubicación-geográfica\">\n",
    "    <span class=\"toc-item-num\">4&nbsp;&nbsp;</span>\n",
    "    Extracción de datos de ubicación geográfica</a></div>\n",
    "    \n",
    "<div class=\"lev1 toc-item\">\n",
    "    <a href=\"#Relación-de-transacciones,-ubicaciones-y-capacidad\" data-toc-modified-id=\"Relación-de-transacciones,-ubicaciones-y-capacidad\">\n",
    "    <span class=\"toc-item-num\">5&nbsp;&nbsp;</span>\n",
    "    Relación de transacciones, ubicaciones y capacidad</a></div>\n",
    "          \n",
    "<div class=\"lev1 toc-item\">\n",
    "    <a href=\"#Construcción-de-la-serie-de-ocupación-por-timestamp\" data-toc-modified-id=\"Construcción-de-la-serie-de-ocupación-por-timestamp\">\n",
    "    <span class=\"toc-item-num\">6&nbsp;&nbsp;</span>\n",
    "    Construcción de la serie de ocupación por timestamp</a></div>\n",
    "\n",
    "<div class=\"lev1 toc-item\">\n",
    "    <a href=\"#Corrección-de-la-capacidad-de-plazas-disponibles\" data-toc-modified-id=\"Corrección-de-la-capacidad-de-plazas-disponibles\">\n",
    "    <span class=\"toc-item-num\">7&nbsp;&nbsp;</span>\n",
    "    Corrección de la capacidad de plazas disponibles</a></div>\n",
    "\n",
    "<div class=\"lev1 toc-item\">\n",
    "    <a href=\"#Completamos-la-serie-con-datos-meteorológicos\" data-toc-modified-id=\"Completamos-la-serie-con-datos-meteorológicos\">\n",
    "    <span class=\"toc-item-num\">8&nbsp;&nbsp;</span>\n",
    "    Completamos la serie con datos meteorológicos</a></div>"
   ]
  },
  {
   "cell_type": "code",
   "execution_count": 1,
   "metadata": {
    "ExecuteTime": {
     "end_time": "2018-07-03T17:34:13.558645Z",
     "start_time": "2018-07-03T17:34:12.654286Z"
    }
   },
   "outputs": [],
   "source": [
    "import numpy as np\n",
    "import pandas as pd\n",
    "import os\n",
    "import seaborn as sns\n",
    "% matplotlib inline"
   ]
  },
  {
   "cell_type": "markdown",
   "metadata": {},
   "source": [
    "## Extracción de transacciones de 2016"
   ]
  },
  {
   "cell_type": "code",
   "execution_count": 2,
   "metadata": {},
   "outputs": [],
   "source": [
    "df = pd.read_csv(os.path.join('./data/ParkingTransaction_2016_cleaned.csv'), \n",
    "                           parse_dates=['TransactionDateTime'])"
   ]
  },
  {
   "cell_type": "code",
   "execution_count": 3,
   "metadata": {},
   "outputs": [
    {
     "data": {
      "text/plain": [
       "count                10935395\n",
       "unique                5505469\n",
       "top       2016-04-08 12:03:59\n",
       "freq                       63\n",
       "first     2016-01-01 11:49:15\n",
       "last      2016-12-31 20:00:51\n",
       "Name: TransactionDateTime, dtype: object"
      ]
     },
     "execution_count": 3,
     "metadata": {},
     "output_type": "execute_result"
    }
   ],
   "source": [
    "df['TransactionDateTime'].describe()"
   ]
  },
  {
   "cell_type": "code",
   "execution_count": 4,
   "metadata": {},
   "outputs": [],
   "source": [
    "import re\n",
    "\n",
    "_underscorer1 = re.compile(r'(.)([A-Z][a-z]+)')\n",
    "_underscorer2 = re.compile('([a-z0-9])([A-Z])')\n",
    "\n",
    "def camelToSnake(s):\n",
    "    subbed = _underscorer1.sub(r'\\1_\\2', s)\n",
    "    return _underscorer2.sub(r'\\1_\\2', subbed).lower()"
   ]
  },
  {
   "cell_type": "code",
   "execution_count": 5,
   "metadata": {},
   "outputs": [
    {
     "name": "stdout",
     "output_type": "stream",
     "text": [
      "<class 'pandas.core.frame.DataFrame'>\n",
      "Int64Index: 10935395 entries, 8 to 10912795\n",
      "Data columns (total 12 columns):\n",
      "unnamed: 0               int64\n",
      "transaction_id           int64\n",
      "transaction_date_time    datetime64[ns]\n",
      "transaction_date         object\n",
      "time_start               object\n",
      "time_expired             object\n",
      "duration_mins            int64\n",
      "amount                   float64\n",
      "payment_mean             object\n",
      "meter_code               int64\n",
      "element_key              int64\n",
      "final_date_time          datetime64[ns]\n",
      "dtypes: datetime64[ns](2), float64(1), int64(5), object(4)\n",
      "memory usage: 3.4 GB\n"
     ]
    }
   ],
   "source": [
    "df.columns = df.columns.map(lambda x: camelToSnake(x))\n",
    "\n",
    "df.sort_values('transaction_date_time', inplace=True)\n",
    "\n",
    "# creamos nueva columna 'final_date_time'\n",
    "df['final_date_time'] = df.transaction_date_time.add(pd.to_timedelta(df.duration_mins, unit=\"m\"))\n",
    "\n",
    "df.info(memory_usage='deep')"
   ]
  },
  {
   "cell_type": "code",
   "execution_count": 6,
   "metadata": {},
   "outputs": [],
   "source": [
    "df = df.drop(columns=['unnamed: 0','transaction_date','amount','payment_mean',\n",
    "                      'meter_code','time_start','time_expired'])"
   ]
  },
  {
   "cell_type": "code",
   "execution_count": 7,
   "metadata": {},
   "outputs": [
    {
     "data": {
      "text/html": [
       "<div>\n",
       "<style scoped>\n",
       "    .dataframe tbody tr th:only-of-type {\n",
       "        vertical-align: middle;\n",
       "    }\n",
       "\n",
       "    .dataframe tbody tr th {\n",
       "        vertical-align: top;\n",
       "    }\n",
       "\n",
       "    .dataframe thead th {\n",
       "        text-align: right;\n",
       "    }\n",
       "</style>\n",
       "<table border=\"1\" class=\"dataframe\">\n",
       "  <thead>\n",
       "    <tr style=\"text-align: right;\">\n",
       "      <th></th>\n",
       "      <th>transaction_id</th>\n",
       "      <th>transaction_date_time</th>\n",
       "      <th>duration_mins</th>\n",
       "      <th>element_key</th>\n",
       "      <th>final_date_time</th>\n",
       "    </tr>\n",
       "  </thead>\n",
       "  <tbody>\n",
       "    <tr>\n",
       "      <th>8</th>\n",
       "      <td>183506786</td>\n",
       "      <td>2016-01-01 11:49:15</td>\n",
       "      <td>0</td>\n",
       "      <td>54730</td>\n",
       "      <td>2016-01-01 11:49:15</td>\n",
       "    </tr>\n",
       "    <tr>\n",
       "      <th>4</th>\n",
       "      <td>183511748</td>\n",
       "      <td>2016-01-01 12:36:04</td>\n",
       "      <td>0</td>\n",
       "      <td>88773</td>\n",
       "      <td>2016-01-01 12:36:04</td>\n",
       "    </tr>\n",
       "    <tr>\n",
       "      <th>17</th>\n",
       "      <td>183511753</td>\n",
       "      <td>2016-01-01 12:36:08</td>\n",
       "      <td>0</td>\n",
       "      <td>88773</td>\n",
       "      <td>2016-01-01 12:36:08</td>\n",
       "    </tr>\n",
       "    <tr>\n",
       "      <th>15</th>\n",
       "      <td>183529739</td>\n",
       "      <td>2016-01-01 12:40:30</td>\n",
       "      <td>0</td>\n",
       "      <td>57354</td>\n",
       "      <td>2016-01-01 12:40:30</td>\n",
       "    </tr>\n",
       "    <tr>\n",
       "      <th>12</th>\n",
       "      <td>183527118</td>\n",
       "      <td>2016-01-01 14:52:45</td>\n",
       "      <td>0</td>\n",
       "      <td>76102</td>\n",
       "      <td>2016-01-01 14:52:45</td>\n",
       "    </tr>\n",
       "  </tbody>\n",
       "</table>\n",
       "</div>"
      ],
      "text/plain": [
       "    transaction_id transaction_date_time  duration_mins  element_key  \\\n",
       "8        183506786   2016-01-01 11:49:15              0        54730   \n",
       "4        183511748   2016-01-01 12:36:04              0        88773   \n",
       "17       183511753   2016-01-01 12:36:08              0        88773   \n",
       "15       183529739   2016-01-01 12:40:30              0        57354   \n",
       "12       183527118   2016-01-01 14:52:45              0        76102   \n",
       "\n",
       "       final_date_time  \n",
       "8  2016-01-01 11:49:15  \n",
       "4  2016-01-01 12:36:04  \n",
       "17 2016-01-01 12:36:08  \n",
       "15 2016-01-01 12:40:30  \n",
       "12 2016-01-01 14:52:45  "
      ]
     },
     "execution_count": 7,
     "metadata": {},
     "output_type": "execute_result"
    }
   ],
   "source": [
    "df.head()"
   ]
  },
  {
   "cell_type": "code",
   "execution_count": 8,
   "metadata": {},
   "outputs": [
    {
     "data": {
      "text/html": [
       "<div>\n",
       "<style scoped>\n",
       "    .dataframe tbody tr th:only-of-type {\n",
       "        vertical-align: middle;\n",
       "    }\n",
       "\n",
       "    .dataframe tbody tr th {\n",
       "        vertical-align: top;\n",
       "    }\n",
       "\n",
       "    .dataframe thead th {\n",
       "        text-align: right;\n",
       "    }\n",
       "</style>\n",
       "<table border=\"1\" class=\"dataframe\">\n",
       "  <thead>\n",
       "    <tr style=\"text-align: right;\">\n",
       "      <th></th>\n",
       "      <th>transaction_id</th>\n",
       "      <th>transaction_date_time</th>\n",
       "      <th>duration_mins</th>\n",
       "      <th>element_key</th>\n",
       "      <th>final_date_time</th>\n",
       "    </tr>\n",
       "  </thead>\n",
       "  <tbody>\n",
       "    <tr>\n",
       "      <th>10909957</th>\n",
       "      <td>313159887</td>\n",
       "      <td>2016-12-31 19:58:49</td>\n",
       "      <td>2</td>\n",
       "      <td>81194</td>\n",
       "      <td>2016-12-31 20:00:49</td>\n",
       "    </tr>\n",
       "    <tr>\n",
       "      <th>10918741</th>\n",
       "      <td>313159702</td>\n",
       "      <td>2016-12-31 19:58:53</td>\n",
       "      <td>2</td>\n",
       "      <td>79570</td>\n",
       "      <td>2016-12-31 20:00:53</td>\n",
       "    </tr>\n",
       "    <tr>\n",
       "      <th>10910192</th>\n",
       "      <td>313159980</td>\n",
       "      <td>2016-12-31 19:59:24</td>\n",
       "      <td>1</td>\n",
       "      <td>1234</td>\n",
       "      <td>2016-12-31 20:00:24</td>\n",
       "    </tr>\n",
       "    <tr>\n",
       "      <th>10907062</th>\n",
       "      <td>313159989</td>\n",
       "      <td>2016-12-31 19:59:45</td>\n",
       "      <td>0</td>\n",
       "      <td>43914</td>\n",
       "      <td>2016-12-31 19:59:45</td>\n",
       "    </tr>\n",
       "    <tr>\n",
       "      <th>10912795</th>\n",
       "      <td>313160195</td>\n",
       "      <td>2016-12-31 20:00:51</td>\n",
       "      <td>0</td>\n",
       "      <td>8306</td>\n",
       "      <td>2016-12-31 20:00:51</td>\n",
       "    </tr>\n",
       "  </tbody>\n",
       "</table>\n",
       "</div>"
      ],
      "text/plain": [
       "          transaction_id transaction_date_time  duration_mins  element_key  \\\n",
       "10909957       313159887   2016-12-31 19:58:49              2        81194   \n",
       "10918741       313159702   2016-12-31 19:58:53              2        79570   \n",
       "10910192       313159980   2016-12-31 19:59:24              1         1234   \n",
       "10907062       313159989   2016-12-31 19:59:45              0        43914   \n",
       "10912795       313160195   2016-12-31 20:00:51              0         8306   \n",
       "\n",
       "             final_date_time  \n",
       "10909957 2016-12-31 20:00:49  \n",
       "10918741 2016-12-31 20:00:53  \n",
       "10910192 2016-12-31 20:00:24  \n",
       "10907062 2016-12-31 19:59:45  \n",
       "10912795 2016-12-31 20:00:51  "
      ]
     },
     "execution_count": 8,
     "metadata": {},
     "output_type": "execute_result"
    }
   ],
   "source": [
    "df.tail()"
   ]
  },
  {
   "cell_type": "markdown",
   "metadata": {},
   "source": [
    "### Limpieza y transformación de transacciones"
   ]
  },
  {
   "cell_type": "code",
   "execution_count": 9,
   "metadata": {},
   "outputs": [
    {
     "data": {
      "text/plain": [
       "0"
      ]
     },
     "execution_count": 9,
     "metadata": {},
     "output_type": "execute_result"
    }
   ],
   "source": [
    "df.transaction_id.duplicated().sum()  # no hay transacciones duplicadas"
   ]
  },
  {
   "cell_type": "code",
   "execution_count": 10,
   "metadata": {},
   "outputs": [
    {
     "data": {
      "text/plain": [
       "transaction_id           0\n",
       "transaction_date_time    0\n",
       "duration_mins            0\n",
       "element_key              0\n",
       "final_date_time          0\n",
       "dtype: int64"
      ]
     },
     "execution_count": 10,
     "metadata": {},
     "output_type": "execute_result"
    }
   ],
   "source": [
    "df.isnull().sum()  # no hay valores nulos"
   ]
  },
  {
   "cell_type": "markdown",
   "metadata": {},
   "source": [
    "#### Duración incorrecta"
   ]
  },
  {
   "cell_type": "code",
   "execution_count": 11,
   "metadata": {},
   "outputs": [
    {
     "data": {
      "text/plain": [
       "9086"
      ]
     },
     "execution_count": 11,
     "metadata": {},
     "output_type": "execute_result"
    }
   ],
   "source": [
    "# Observamos algunas transacciones con duración = 0\n",
    "df.duration_mins.loc[df.duration_mins == 0].count()"
   ]
  },
  {
   "cell_type": "code",
   "execution_count": 12,
   "metadata": {},
   "outputs": [
    {
     "data": {
      "text/plain": [
       "1118"
      ]
     },
     "execution_count": 12,
     "metadata": {},
     "output_type": "execute_result"
    }
   ],
   "source": [
    "# Incluso hay algunas transacciones con duración negativa\n",
    "df.duration_mins.loc[df.duration_mins < 0].count()"
   ]
  },
  {
   "cell_type": "code",
   "execution_count": 13,
   "metadata": {
    "ExecuteTime": {
     "end_time": "2018-07-03T17:34:59.469053Z",
     "start_time": "2018-07-03T17:34:59.411159Z"
    }
   },
   "outputs": [],
   "source": [
    "# Eliminamos ambos casos que suponen menos de un 0.1% del total\n",
    "df = df.loc[df.duration_mins > 0]"
   ]
  },
  {
   "cell_type": "markdown",
   "metadata": {},
   "source": [
    "#### Transacciones de larga duración"
   ]
  },
  {
   "cell_type": "code",
   "execution_count": 14,
   "metadata": {},
   "outputs": [
    {
     "name": "stdout",
     "output_type": "stream",
     "text": [
      "(13403, 5)\n"
     ]
    }
   ],
   "source": [
    "# Procesado de transacciones con distinta fecha de inicio y fin\n",
    "long_trans = df.loc[df.transaction_date_time.dt.date != df.final_date_time.dt.date]\n",
    "print(long_trans.shape)\n",
    "indexes = df.loc[df.transaction_date_time.dt.date != df.final_date_time.dt.date].index.get_values()\n",
    "df = df.drop(index=indexes, axis=1)"
   ]
  },
  {
   "cell_type": "code",
   "execution_count": 15,
   "metadata": {},
   "outputs": [],
   "source": [
    "long_trans_dup = long_trans.copy()\n",
    "long_trans_dup = long_trans_dup.loc[long_trans_dup.final_date_time.dt.hour >= 8]\n",
    "long_trans.final_date_time = long_trans.transaction_date_time.apply(\n",
    "    lambda x: x.replace(hour=20,minute=0,second=0,microsecond=0))\n",
    "long_trans_dup.transaction_date_time = long_trans_dup.final_date_time.apply(\n",
    "    lambda x: x.replace(hour=8,minute=0,second=0,microsecond=0))"
   ]
  },
  {
   "cell_type": "code",
   "execution_count": 16,
   "metadata": {},
   "outputs": [],
   "source": [
    "long_trans_full = pd.concat([long_trans,long_trans_dup], ignore_index=True, sort=True)\n",
    "df = pd.concat([df,long_trans_full], ignore_index=True, sort=True)"
   ]
  },
  {
   "cell_type": "markdown",
   "metadata": {},
   "source": [
    "#### Horario de funcionamiento de los parquímetros"
   ]
  },
  {
   "cell_type": "code",
   "execution_count": 17,
   "metadata": {},
   "outputs": [
    {
     "name": "stdout",
     "output_type": "stream",
     "text": [
      "55413\n"
     ]
    }
   ],
   "source": [
    "# Eliminamos las transacciones con inicio y fin antes de las 08:00\n",
    "indexes = df.loc[(df.transaction_date_time.dt.hour < 8) & (df.final_date_time.dt.hour < 8)].index.get_values()\n",
    "print(indexes.size)\n",
    "df = df.drop(index=indexes, axis=1)"
   ]
  },
  {
   "cell_type": "code",
   "execution_count": 18,
   "metadata": {},
   "outputs": [
    {
     "name": "stdout",
     "output_type": "stream",
     "text": [
      "17107\n"
     ]
    }
   ],
   "source": [
    "# Eliminamos las transacciones con inicio y fin después de las 20:00\n",
    "indexes = df.loc[(df.transaction_date_time.dt.hour >= 20) & (df.final_date_time.dt.hour >= 20)].index.get_values()\n",
    "print(indexes.size)\n",
    "df = df.drop(index=indexes, axis=1)"
   ]
  },
  {
   "cell_type": "code",
   "execution_count": 19,
   "metadata": {},
   "outputs": [],
   "source": [
    "# Redondeo la hora (sin minutos o segundos) y fijo a 08:00 la hora mínima de comienzo\n",
    "df.transaction_date_time = np.where(df.transaction_date_time.dt.hour < 8, \n",
    "                                    df.transaction_date_time.apply(lambda x: x.replace(hour=8,minute=0,second=0,microsecond=0)), \n",
    "                                    df.transaction_date_time.apply(lambda x: x.replace(minute=0,second=0,microsecond=0)))"
   ]
  },
  {
   "cell_type": "code",
   "execution_count": 20,
   "metadata": {},
   "outputs": [],
   "source": [
    "# Redondeo la hora final (sin minutos o segundos) y fijo a 20:00 la hora máxima final\n",
    "df.final_date_time = np.where(df.final_date_time.dt.hour > 20,\n",
    "                              df.final_date_time.apply(lambda x: x.replace(hour=20,minute=0,second=0,microsecond=0)), \n",
    "                              df.final_date_time.apply(lambda x: x.replace(minute=0,second=0,microsecond=0)))"
   ]
  },
  {
   "cell_type": "code",
   "execution_count": 21,
   "metadata": {},
   "outputs": [
    {
     "data": {
      "text/plain": [
       "0"
      ]
     },
     "execution_count": 21,
     "metadata": {},
     "output_type": "execute_result"
    }
   ],
   "source": [
    "# Comprobamos que no hay transacciones fuera del rango horario de uso de los parquímetros (de 8 a 20h)\n",
    "df.element_key.loc[((df.transaction_date_time.dt.hour > 20) | (df.transaction_date_time.dt.hour < 8)) | \n",
    "       ((df.final_date_time.dt.hour > 20) | (df.final_date_time.dt.hour < 8))].count()"
   ]
  },
  {
   "cell_type": "markdown",
   "metadata": {},
   "source": [
    "#### Domingos o festivos"
   ]
  },
  {
   "cell_type": "code",
   "execution_count": 22,
   "metadata": {},
   "outputs": [
    {
     "data": {
      "text/plain": [
       "239"
      ]
     },
     "execution_count": 22,
     "metadata": {},
     "output_type": "execute_result"
    }
   ],
   "source": [
    "# Observamos algunas transacciones realizadas por error en domingo\n",
    "df.transaction_date_time.loc[df.transaction_date_time.dt.weekday == 6].count()"
   ]
  },
  {
   "cell_type": "code",
   "execution_count": 23,
   "metadata": {},
   "outputs": [],
   "source": [
    "# Las eliminamos también\n",
    "df = df.loc[df.transaction_date_time.dt.weekday != 6]"
   ]
  },
  {
   "cell_type": "code",
   "execution_count": 24,
   "metadata": {},
   "outputs": [
    {
     "data": {
      "text/plain": [
       "32871"
      ]
     },
     "execution_count": 24,
     "metadata": {},
     "output_type": "execute_result"
    }
   ],
   "source": [
    "# Y observamos transacciones en días festivos\n",
    "import holidays\n",
    "\n",
    "hol = holidays.US(state='WA', years=[2016]).items()\n",
    "hol_dates = []\n",
    "for dat, name in sorted(hol):\n",
    "    hol_dates.append(dat)\n",
    "\n",
    "df.transaction_date_time.loc[df.transaction_date_time.dt.date.isin(hol_dates)].count()"
   ]
  },
  {
   "cell_type": "code",
   "execution_count": 25,
   "metadata": {},
   "outputs": [],
   "source": [
    "# Las eliminamos también\n",
    "df = df.loc[~df.transaction_date_time.dt.date.isin(hol_dates)]"
   ]
  },
  {
   "cell_type": "code",
   "execution_count": 26,
   "metadata": {},
   "outputs": [
    {
     "data": {
      "text/plain": [
       "(10822236, 5)"
      ]
     },
     "execution_count": 26,
     "metadata": {},
     "output_type": "execute_result"
    }
   ],
   "source": [
    "df.shape  "
   ]
  },
  {
   "cell_type": "code",
   "execution_count": 27,
   "metadata": {},
   "outputs": [
    {
     "data": {
      "text/plain": [
       "1.0592575759723357"
      ]
     },
     "execution_count": 27,
     "metadata": {},
     "output_type": "execute_result"
    }
   ],
   "source": [
    "# Con la limpieza hemos reducido el tamaño del dataset inicial en un 1%\n",
    "(10935395-(df.shape[0]-long_trans_dup.shape[0]))/10935395*100"
   ]
  },
  {
   "cell_type": "markdown",
   "metadata": {},
   "source": [
    "## Extracción de datos de capacidad de plazas"
   ]
  },
  {
   "cell_type": "code",
   "execution_count": 28,
   "metadata": {},
   "outputs": [],
   "source": [
    "blocks = pd.read_csv(os.path.join('./data/Blockface_cleaned.csv'))"
   ]
  },
  {
   "cell_type": "code",
   "execution_count": 29,
   "metadata": {},
   "outputs": [
    {
     "data": {
      "text/plain": [
       "(13706, 39)"
      ]
     },
     "execution_count": 29,
     "metadata": {},
     "output_type": "execute_result"
    }
   ],
   "source": [
    "blocks.shape"
   ]
  },
  {
   "cell_type": "code",
   "execution_count": 30,
   "metadata": {},
   "outputs": [],
   "source": [
    "blocks.columns = blocks.columns.map(lambda x: camelToSnake(x))"
   ]
  },
  {
   "cell_type": "code",
   "execution_count": 31,
   "metadata": {},
   "outputs": [
    {
     "data": {
      "text/html": [
       "<div>\n",
       "<style scoped>\n",
       "    .dataframe tbody tr th:only-of-type {\n",
       "        vertical-align: middle;\n",
       "    }\n",
       "\n",
       "    .dataframe tbody tr th {\n",
       "        vertical-align: top;\n",
       "    }\n",
       "\n",
       "    .dataframe thead th {\n",
       "        text-align: right;\n",
       "    }\n",
       "</style>\n",
       "<table border=\"1\" class=\"dataframe\">\n",
       "  <thead>\n",
       "    <tr style=\"text-align: right;\">\n",
       "      <th></th>\n",
       "      <th>pay_station_blockface_id</th>\n",
       "      <th>element_key</th>\n",
       "      <th>parking_spaces</th>\n",
       "      <th>paid_parking_area</th>\n",
       "      <th>parking_time_limit_category</th>\n",
       "      <th>peak_hour_start1</th>\n",
       "      <th>peak_hour_end1</th>\n",
       "      <th>peak_hour_start2</th>\n",
       "      <th>peak_hour_end2</th>\n",
       "      <th>paid_area_start_time</th>\n",
       "      <th>...</th>\n",
       "      <th>saturday_start1</th>\n",
       "      <th>saturday_end1</th>\n",
       "      <th>saturday_rate2</th>\n",
       "      <th>saturday_start2</th>\n",
       "      <th>saturday_end2</th>\n",
       "      <th>saturday_rate3</th>\n",
       "      <th>saturday_start3</th>\n",
       "      <th>saturday_end3</th>\n",
       "      <th>start_time_saturday</th>\n",
       "      <th>end_time_saturday</th>\n",
       "    </tr>\n",
       "  </thead>\n",
       "  <tbody>\n",
       "    <tr>\n",
       "      <th>469</th>\n",
       "      <td>7576</td>\n",
       "      <td>1001</td>\n",
       "      <td>5.0</td>\n",
       "      <td>Pioneer Square</td>\n",
       "      <td>120.0</td>\n",
       "      <td>06:00:00</td>\n",
       "      <td>09:00:00</td>\n",
       "      <td>15:00:00</td>\n",
       "      <td>18:00:00</td>\n",
       "      <td>08:00:00</td>\n",
       "      <td>...</td>\n",
       "      <td>08:00:00</td>\n",
       "      <td>11:00:00</td>\n",
       "      <td>4.0</td>\n",
       "      <td>11:00:00</td>\n",
       "      <td>18:00:00</td>\n",
       "      <td>NaN</td>\n",
       "      <td>NaN</td>\n",
       "      <td>NaN</td>\n",
       "      <td>08:00:00</td>\n",
       "      <td>18:00:00</td>\n",
       "    </tr>\n",
       "    <tr>\n",
       "      <th>2783</th>\n",
       "      <td>10071</td>\n",
       "      <td>1001</td>\n",
       "      <td>5.0</td>\n",
       "      <td>Pioneer Square</td>\n",
       "      <td>120.0</td>\n",
       "      <td>06:00:00</td>\n",
       "      <td>09:00:00</td>\n",
       "      <td>15:00:00</td>\n",
       "      <td>18:00:00</td>\n",
       "      <td>08:00:00</td>\n",
       "      <td>...</td>\n",
       "      <td>08:00:00</td>\n",
       "      <td>11:00:00</td>\n",
       "      <td>4.5</td>\n",
       "      <td>11:00:00</td>\n",
       "      <td>18:00:00</td>\n",
       "      <td>NaN</td>\n",
       "      <td>NaN</td>\n",
       "      <td>NaN</td>\n",
       "      <td>08:00:00</td>\n",
       "      <td>18:00:00</td>\n",
       "    </tr>\n",
       "    <tr>\n",
       "      <th>3017</th>\n",
       "      <td>10262</td>\n",
       "      <td>1001</td>\n",
       "      <td>4.0</td>\n",
       "      <td>Pioneer Square</td>\n",
       "      <td>120.0</td>\n",
       "      <td>06:00:00</td>\n",
       "      <td>09:00:00</td>\n",
       "      <td>15:00:00</td>\n",
       "      <td>18:00:00</td>\n",
       "      <td>08:00:00</td>\n",
       "      <td>...</td>\n",
       "      <td>08:00:00</td>\n",
       "      <td>11:00:00</td>\n",
       "      <td>4.5</td>\n",
       "      <td>11:00:00</td>\n",
       "      <td>18:00:00</td>\n",
       "      <td>NaN</td>\n",
       "      <td>NaN</td>\n",
       "      <td>NaN</td>\n",
       "      <td>08:00:00</td>\n",
       "      <td>18:00:00</td>\n",
       "    </tr>\n",
       "    <tr>\n",
       "      <th>4648</th>\n",
       "      <td>11976</td>\n",
       "      <td>1001</td>\n",
       "      <td>4.0</td>\n",
       "      <td>NaN</td>\n",
       "      <td>120.0</td>\n",
       "      <td>06:00:00</td>\n",
       "      <td>09:00:00</td>\n",
       "      <td>15:00:00</td>\n",
       "      <td>18:00:00</td>\n",
       "      <td>NaN</td>\n",
       "      <td>...</td>\n",
       "      <td>00:00:00</td>\n",
       "      <td>00:00:00</td>\n",
       "      <td>0.0</td>\n",
       "      <td>00:00:00</td>\n",
       "      <td>00:00:00</td>\n",
       "      <td>0.0</td>\n",
       "      <td>00:00:00</td>\n",
       "      <td>00:00:00</td>\n",
       "      <td>NaN</td>\n",
       "      <td>NaN</td>\n",
       "    </tr>\n",
       "    <tr>\n",
       "      <th>5989</th>\n",
       "      <td>13670</td>\n",
       "      <td>1001</td>\n",
       "      <td>4.0</td>\n",
       "      <td>Pioneer Square</td>\n",
       "      <td>120.0</td>\n",
       "      <td>06:00:00</td>\n",
       "      <td>09:00:00</td>\n",
       "      <td>15:00:00</td>\n",
       "      <td>18:00:00</td>\n",
       "      <td>08:00:00</td>\n",
       "      <td>...</td>\n",
       "      <td>08:00:00</td>\n",
       "      <td>11:00:00</td>\n",
       "      <td>4.5</td>\n",
       "      <td>11:00:00</td>\n",
       "      <td>18:00:00</td>\n",
       "      <td>NaN</td>\n",
       "      <td>NaN</td>\n",
       "      <td>NaN</td>\n",
       "      <td>08:00:00</td>\n",
       "      <td>18:00:00</td>\n",
       "    </tr>\n",
       "    <tr>\n",
       "      <th>6301</th>\n",
       "      <td>14348</td>\n",
       "      <td>1001</td>\n",
       "      <td>5.0</td>\n",
       "      <td>Pioneer Square</td>\n",
       "      <td>120.0</td>\n",
       "      <td>06:00:00</td>\n",
       "      <td>09:00:00</td>\n",
       "      <td>15:00:00</td>\n",
       "      <td>18:00:00</td>\n",
       "      <td>08:00:00</td>\n",
       "      <td>...</td>\n",
       "      <td>08:00:00</td>\n",
       "      <td>11:00:00</td>\n",
       "      <td>5.0</td>\n",
       "      <td>11:00:00</td>\n",
       "      <td>18:00:00</td>\n",
       "      <td>NaN</td>\n",
       "      <td>NaN</td>\n",
       "      <td>NaN</td>\n",
       "      <td>08:00:00</td>\n",
       "      <td>18:00:00</td>\n",
       "    </tr>\n",
       "    <tr>\n",
       "      <th>7077</th>\n",
       "      <td>13939</td>\n",
       "      <td>1001</td>\n",
       "      <td>5.0</td>\n",
       "      <td>Pioneer Square</td>\n",
       "      <td>120.0</td>\n",
       "      <td>06:00:00</td>\n",
       "      <td>09:00:00</td>\n",
       "      <td>15:00:00</td>\n",
       "      <td>18:00:00</td>\n",
       "      <td>08:00:00</td>\n",
       "      <td>...</td>\n",
       "      <td>08:00:00</td>\n",
       "      <td>11:00:00</td>\n",
       "      <td>4.5</td>\n",
       "      <td>11:00:00</td>\n",
       "      <td>18:00:00</td>\n",
       "      <td>NaN</td>\n",
       "      <td>NaN</td>\n",
       "      <td>NaN</td>\n",
       "      <td>08:00:00</td>\n",
       "      <td>18:00:00</td>\n",
       "    </tr>\n",
       "    <tr>\n",
       "      <th>8059</th>\n",
       "      <td>3405</td>\n",
       "      <td>1001</td>\n",
       "      <td>5.0</td>\n",
       "      <td>Pioneer Square</td>\n",
       "      <td>120.0</td>\n",
       "      <td>06:00:00</td>\n",
       "      <td>09:00:00</td>\n",
       "      <td>15:00:00</td>\n",
       "      <td>18:00:00</td>\n",
       "      <td>08:00:00</td>\n",
       "      <td>...</td>\n",
       "      <td>NaN</td>\n",
       "      <td>NaN</td>\n",
       "      <td>NaN</td>\n",
       "      <td>NaN</td>\n",
       "      <td>NaN</td>\n",
       "      <td>NaN</td>\n",
       "      <td>NaN</td>\n",
       "      <td>NaN</td>\n",
       "      <td>NaN</td>\n",
       "      <td>NaN</td>\n",
       "    </tr>\n",
       "    <tr>\n",
       "      <th>10576</th>\n",
       "      <td>1352</td>\n",
       "      <td>1001</td>\n",
       "      <td>7.0</td>\n",
       "      <td>Pioneer Square</td>\n",
       "      <td>120.0</td>\n",
       "      <td>06:00:00</td>\n",
       "      <td>09:00:00</td>\n",
       "      <td>15:00:00</td>\n",
       "      <td>18:00:00</td>\n",
       "      <td>08:00:00</td>\n",
       "      <td>...</td>\n",
       "      <td>NaN</td>\n",
       "      <td>NaN</td>\n",
       "      <td>NaN</td>\n",
       "      <td>NaN</td>\n",
       "      <td>NaN</td>\n",
       "      <td>NaN</td>\n",
       "      <td>NaN</td>\n",
       "      <td>NaN</td>\n",
       "      <td>NaN</td>\n",
       "      <td>NaN</td>\n",
       "    </tr>\n",
       "    <tr>\n",
       "      <th>11332</th>\n",
       "      <td>6046</td>\n",
       "      <td>1001</td>\n",
       "      <td>5.0</td>\n",
       "      <td>Pioneer Square</td>\n",
       "      <td>120.0</td>\n",
       "      <td>06:00:00</td>\n",
       "      <td>09:00:00</td>\n",
       "      <td>15:00:00</td>\n",
       "      <td>18:00:00</td>\n",
       "      <td>08:00:00</td>\n",
       "      <td>...</td>\n",
       "      <td>08:00:00</td>\n",
       "      <td>11:00:00</td>\n",
       "      <td>3.5</td>\n",
       "      <td>11:00:00</td>\n",
       "      <td>18:00:00</td>\n",
       "      <td>NaN</td>\n",
       "      <td>NaN</td>\n",
       "      <td>NaN</td>\n",
       "      <td>08:00:00</td>\n",
       "      <td>18:00:00</td>\n",
       "    </tr>\n",
       "    <tr>\n",
       "      <th>11812</th>\n",
       "      <td>7333</td>\n",
       "      <td>1001</td>\n",
       "      <td>5.0</td>\n",
       "      <td>NaN</td>\n",
       "      <td>120.0</td>\n",
       "      <td>06:00:00</td>\n",
       "      <td>09:00:00</td>\n",
       "      <td>15:00:00</td>\n",
       "      <td>18:00:00</td>\n",
       "      <td>NaN</td>\n",
       "      <td>...</td>\n",
       "      <td>00:00:00</td>\n",
       "      <td>00:00:00</td>\n",
       "      <td>0.0</td>\n",
       "      <td>00:00:00</td>\n",
       "      <td>00:00:00</td>\n",
       "      <td>0.0</td>\n",
       "      <td>00:00:00</td>\n",
       "      <td>00:00:00</td>\n",
       "      <td>NaN</td>\n",
       "      <td>NaN</td>\n",
       "    </tr>\n",
       "    <tr>\n",
       "      <th>12193</th>\n",
       "      <td>7440</td>\n",
       "      <td>1001</td>\n",
       "      <td>5.0</td>\n",
       "      <td>Pioneer Square</td>\n",
       "      <td>120.0</td>\n",
       "      <td>06:00:00</td>\n",
       "      <td>09:00:00</td>\n",
       "      <td>15:00:00</td>\n",
       "      <td>18:00:00</td>\n",
       "      <td>08:00:00</td>\n",
       "      <td>...</td>\n",
       "      <td>08:00:00</td>\n",
       "      <td>11:00:00</td>\n",
       "      <td>3.5</td>\n",
       "      <td>11:00:00</td>\n",
       "      <td>18:00:00</td>\n",
       "      <td>NaN</td>\n",
       "      <td>NaN</td>\n",
       "      <td>NaN</td>\n",
       "      <td>08:00:00</td>\n",
       "      <td>18:00:00</td>\n",
       "    </tr>\n",
       "  </tbody>\n",
       "</table>\n",
       "<p>12 rows × 39 columns</p>\n",
       "</div>"
      ],
      "text/plain": [
       "       pay_station_blockface_id  element_key  parking_spaces  \\\n",
       "469                        7576         1001             5.0   \n",
       "2783                      10071         1001             5.0   \n",
       "3017                      10262         1001             4.0   \n",
       "4648                      11976         1001             4.0   \n",
       "5989                      13670         1001             4.0   \n",
       "6301                      14348         1001             5.0   \n",
       "7077                      13939         1001             5.0   \n",
       "8059                       3405         1001             5.0   \n",
       "10576                      1352         1001             7.0   \n",
       "11332                      6046         1001             5.0   \n",
       "11812                      7333         1001             5.0   \n",
       "12193                      7440         1001             5.0   \n",
       "\n",
       "      paid_parking_area  parking_time_limit_category peak_hour_start1  \\\n",
       "469      Pioneer Square                        120.0         06:00:00   \n",
       "2783     Pioneer Square                        120.0         06:00:00   \n",
       "3017     Pioneer Square                        120.0         06:00:00   \n",
       "4648                NaN                        120.0         06:00:00   \n",
       "5989     Pioneer Square                        120.0         06:00:00   \n",
       "6301     Pioneer Square                        120.0         06:00:00   \n",
       "7077     Pioneer Square                        120.0         06:00:00   \n",
       "8059     Pioneer Square                        120.0         06:00:00   \n",
       "10576    Pioneer Square                        120.0         06:00:00   \n",
       "11332    Pioneer Square                        120.0         06:00:00   \n",
       "11812               NaN                        120.0         06:00:00   \n",
       "12193    Pioneer Square                        120.0         06:00:00   \n",
       "\n",
       "      peak_hour_end1 peak_hour_start2 peak_hour_end2 paid_area_start_time  \\\n",
       "469         09:00:00         15:00:00       18:00:00             08:00:00   \n",
       "2783        09:00:00         15:00:00       18:00:00             08:00:00   \n",
       "3017        09:00:00         15:00:00       18:00:00             08:00:00   \n",
       "4648        09:00:00         15:00:00       18:00:00                  NaN   \n",
       "5989        09:00:00         15:00:00       18:00:00             08:00:00   \n",
       "6301        09:00:00         15:00:00       18:00:00             08:00:00   \n",
       "7077        09:00:00         15:00:00       18:00:00             08:00:00   \n",
       "8059        09:00:00         15:00:00       18:00:00             08:00:00   \n",
       "10576       09:00:00         15:00:00       18:00:00             08:00:00   \n",
       "11332       09:00:00         15:00:00       18:00:00             08:00:00   \n",
       "11812       09:00:00         15:00:00       18:00:00                  NaN   \n",
       "12193       09:00:00         15:00:00       18:00:00             08:00:00   \n",
       "\n",
       "             ...        saturday_start1 saturday_end1 saturday_rate2  \\\n",
       "469          ...               08:00:00      11:00:00            4.0   \n",
       "2783         ...               08:00:00      11:00:00            4.5   \n",
       "3017         ...               08:00:00      11:00:00            4.5   \n",
       "4648         ...               00:00:00      00:00:00            0.0   \n",
       "5989         ...               08:00:00      11:00:00            4.5   \n",
       "6301         ...               08:00:00      11:00:00            5.0   \n",
       "7077         ...               08:00:00      11:00:00            4.5   \n",
       "8059         ...                    NaN           NaN            NaN   \n",
       "10576        ...                    NaN           NaN            NaN   \n",
       "11332        ...               08:00:00      11:00:00            3.5   \n",
       "11812        ...               00:00:00      00:00:00            0.0   \n",
       "12193        ...               08:00:00      11:00:00            3.5   \n",
       "\n",
       "       saturday_start2 saturday_end2  saturday_rate3  saturday_start3  \\\n",
       "469           11:00:00      18:00:00             NaN              NaN   \n",
       "2783          11:00:00      18:00:00             NaN              NaN   \n",
       "3017          11:00:00      18:00:00             NaN              NaN   \n",
       "4648          00:00:00      00:00:00             0.0         00:00:00   \n",
       "5989          11:00:00      18:00:00             NaN              NaN   \n",
       "6301          11:00:00      18:00:00             NaN              NaN   \n",
       "7077          11:00:00      18:00:00             NaN              NaN   \n",
       "8059               NaN           NaN             NaN              NaN   \n",
       "10576              NaN           NaN             NaN              NaN   \n",
       "11332         11:00:00      18:00:00             NaN              NaN   \n",
       "11812         00:00:00      00:00:00             0.0         00:00:00   \n",
       "12193         11:00:00      18:00:00             NaN              NaN   \n",
       "\n",
       "       saturday_end3 start_time_saturday end_time_saturday  \n",
       "469              NaN            08:00:00          18:00:00  \n",
       "2783             NaN            08:00:00          18:00:00  \n",
       "3017             NaN            08:00:00          18:00:00  \n",
       "4648        00:00:00                 NaN               NaN  \n",
       "5989             NaN            08:00:00          18:00:00  \n",
       "6301             NaN            08:00:00          18:00:00  \n",
       "7077             NaN            08:00:00          18:00:00  \n",
       "8059             NaN                 NaN               NaN  \n",
       "10576            NaN                 NaN               NaN  \n",
       "11332            NaN            08:00:00          18:00:00  \n",
       "11812       00:00:00                 NaN               NaN  \n",
       "12193            NaN            08:00:00          18:00:00  \n",
       "\n",
       "[12 rows x 39 columns]"
      ]
     },
     "execution_count": 31,
     "metadata": {},
     "output_type": "execute_result"
    }
   ],
   "source": [
    "blocks.loc[blocks.element_key == 1001]"
   ]
  },
  {
   "cell_type": "code",
   "execution_count": 32,
   "metadata": {},
   "outputs": [
    {
     "data": {
      "text/plain": [
       "pay_station_blockface_id           0\n",
       "element_key                        0\n",
       "parking_spaces                    14\n",
       "paid_parking_area               1831\n",
       "parking_time_limit_category     1330\n",
       "peak_hour_start1               12368\n",
       "peak_hour_end1                 12368\n",
       "peak_hour_start2               13209\n",
       "peak_hour_end2                 13209\n",
       "paid_area_start_time            1831\n",
       "paid_area_end_time              1831\n",
       "effective_start_date               0\n",
       "effective_end_date              1707\n",
       "paid_parking_rate               9057\n",
       "parking_category                   0\n",
       "load                               0\n",
       "zone                               0\n",
       "weekday_rate1                   4677\n",
       "weekday_start1                  4677\n",
       "weekday_end1                    4677\n",
       "weekday_rate2                   4677\n",
       "weekday_start2                  4677\n",
       "weekday_end2                    4677\n",
       "weekday_rate3                   7532\n",
       "weekday_start3                  7532\n",
       "weekday_end3                    7532\n",
       "start_time_weekday              6480\n",
       "end_time_weekday                6480\n",
       "saturday_rate1                  4719\n",
       "saturday_start1                 4719\n",
       "saturday_end1                   4719\n",
       "saturday_rate2                  4719\n",
       "saturday_start2                 4719\n",
       "saturday_end2                   4719\n",
       "saturday_rate3                  7532\n",
       "saturday_start3                 7532\n",
       "saturday_end3                   7532\n",
       "start_time_saturday             6522\n",
       "end_time_saturday               6522\n",
       "dtype: int64"
      ]
     },
     "execution_count": 32,
     "metadata": {},
     "output_type": "execute_result"
    }
   ],
   "source": [
    "blocks.isnull().sum()"
   ]
  },
  {
   "cell_type": "markdown",
   "metadata": {},
   "source": [
    "Dado que hay algunos casos como el anterior donde hay divergencia en la información de plazas asociadas a un mismo element_key, calculamos la media redondeada a un valor entero de los distintos valores existentes."
   ]
  },
  {
   "cell_type": "code",
   "execution_count": 33,
   "metadata": {},
   "outputs": [],
   "source": [
    "park_spaces = blocks[['element_key','parking_spaces','paid_parking_area']]\n",
    "park_spaces = park_spaces.dropna()\n",
    "park_spaces = park_spaces.groupby(['element_key','paid_parking_area'])['parking_spaces'].max()"
   ]
  },
  {
   "cell_type": "code",
   "execution_count": 34,
   "metadata": {},
   "outputs": [],
   "source": [
    "park_spaces = park_spaces.reset_index()"
   ]
  },
  {
   "cell_type": "code",
   "execution_count": 35,
   "metadata": {},
   "outputs": [
    {
     "data": {
      "text/plain": [
       "0"
      ]
     },
     "execution_count": 35,
     "metadata": {},
     "output_type": "execute_result"
    }
   ],
   "source": [
    "park_spaces[['element_key','paid_parking_area']].duplicated().sum()"
   ]
  },
  {
   "cell_type": "code",
   "execution_count": 36,
   "metadata": {},
   "outputs": [
    {
     "data": {
      "text/plain": [
       "(1709, 3)"
      ]
     },
     "execution_count": 36,
     "metadata": {},
     "output_type": "execute_result"
    }
   ],
   "source": [
    "park_spaces.shape"
   ]
  },
  {
   "cell_type": "code",
   "execution_count": 37,
   "metadata": {},
   "outputs": [
    {
     "data": {
      "text/html": [
       "<div>\n",
       "<style scoped>\n",
       "    .dataframe tbody tr th:only-of-type {\n",
       "        vertical-align: middle;\n",
       "    }\n",
       "\n",
       "    .dataframe tbody tr th {\n",
       "        vertical-align: top;\n",
       "    }\n",
       "\n",
       "    .dataframe thead th {\n",
       "        text-align: right;\n",
       "    }\n",
       "</style>\n",
       "<table border=\"1\" class=\"dataframe\">\n",
       "  <thead>\n",
       "    <tr style=\"text-align: right;\">\n",
       "      <th></th>\n",
       "      <th>element_key</th>\n",
       "      <th>paid_parking_area</th>\n",
       "      <th>parking_spaces</th>\n",
       "    </tr>\n",
       "  </thead>\n",
       "  <tbody>\n",
       "    <tr>\n",
       "      <th>194</th>\n",
       "      <td>9762</td>\n",
       "      <td>Commercial Core</td>\n",
       "      <td>4.0</td>\n",
       "    </tr>\n",
       "    <tr>\n",
       "      <th>195</th>\n",
       "      <td>9762</td>\n",
       "      <td>Pioneer Square</td>\n",
       "      <td>4.0</td>\n",
       "    </tr>\n",
       "    <tr>\n",
       "      <th>1439</th>\n",
       "      <td>78114</td>\n",
       "      <td>Belltown</td>\n",
       "      <td>15.0</td>\n",
       "    </tr>\n",
       "    <tr>\n",
       "      <th>1440</th>\n",
       "      <td>78114</td>\n",
       "      <td>Commercial Core</td>\n",
       "      <td>17.0</td>\n",
       "    </tr>\n",
       "  </tbody>\n",
       "</table>\n",
       "</div>"
      ],
      "text/plain": [
       "      element_key paid_parking_area  parking_spaces\n",
       "194          9762   Commercial Core             4.0\n",
       "195          9762    Pioneer Square             4.0\n",
       "1439        78114          Belltown            15.0\n",
       "1440        78114   Commercial Core            17.0"
      ]
     },
     "execution_count": 37,
     "metadata": {},
     "output_type": "execute_result"
    }
   ],
   "source": [
    "park_spaces[park_spaces.element_key.duplicated(keep=False)]"
   ]
  },
  {
   "cell_type": "code",
   "execution_count": 38,
   "metadata": {},
   "outputs": [
    {
     "data": {
      "text/plain": [
       "count               1709.0\n",
       "mean     8.537741369221767\n",
       "std      5.441127087493119\n",
       "min                    0.0\n",
       "25%                    5.0\n",
       "50%                    8.0\n",
       "75%                   10.0\n",
       "max                   63.0\n",
       "Name: parking_spaces, dtype: object"
      ]
     },
     "execution_count": 38,
     "metadata": {},
     "output_type": "execute_result"
    }
   ],
   "source": [
    "park_spaces.parking_spaces.describe().astype(str)"
   ]
  },
  {
   "cell_type": "code",
   "execution_count": 39,
   "metadata": {},
   "outputs": [
    {
     "data": {
      "text/plain": [
       "1161    63.0\n",
       "1685    50.0\n",
       "754     48.0\n",
       "1683    47.0\n",
       "753     45.0\n",
       "1673    40.0\n",
       "536     39.0\n",
       "919     36.0\n",
       "1682    36.0\n",
       "1365    34.0\n",
       "Name: parking_spaces, dtype: float64"
      ]
     },
     "execution_count": 39,
     "metadata": {},
     "output_type": "execute_result"
    }
   ],
   "source": [
    "park_spaces.parking_spaces.sort_values(ascending=False).head(10)  # el valor de 63 podría ser un outlier"
   ]
  },
  {
   "cell_type": "code",
   "execution_count": 40,
   "metadata": {},
   "outputs": [
    {
     "data": {
      "text/plain": [
       "6"
      ]
     },
     "execution_count": 40,
     "metadata": {},
     "output_type": "execute_result"
    }
   ],
   "source": [
    "park_spaces.element_key.loc[park_spaces.parking_spaces == 0].count()"
   ]
  },
  {
   "cell_type": "code",
   "execution_count": 41,
   "metadata": {},
   "outputs": [],
   "source": [
    "# Eliminamos los registros que no tienen información de la capacidad de plazas\n",
    "park_spaces = park_spaces.loc[park_spaces.parking_spaces != 0]"
   ]
  },
  {
   "cell_type": "code",
   "execution_count": 42,
   "metadata": {},
   "outputs": [
    {
     "data": {
      "text/html": [
       "<div>\n",
       "<style scoped>\n",
       "    .dataframe tbody tr th:only-of-type {\n",
       "        vertical-align: middle;\n",
       "    }\n",
       "\n",
       "    .dataframe tbody tr th {\n",
       "        vertical-align: top;\n",
       "    }\n",
       "\n",
       "    .dataframe thead th {\n",
       "        text-align: right;\n",
       "    }\n",
       "</style>\n",
       "<table border=\"1\" class=\"dataframe\">\n",
       "  <thead>\n",
       "    <tr style=\"text-align: right;\">\n",
       "      <th></th>\n",
       "      <th>element_key</th>\n",
       "      <th>paid_parking_area</th>\n",
       "      <th>parking_spaces</th>\n",
       "    </tr>\n",
       "  </thead>\n",
       "  <tbody>\n",
       "    <tr>\n",
       "      <th>0</th>\n",
       "      <td>1001</td>\n",
       "      <td>Pioneer Square</td>\n",
       "      <td>7.0</td>\n",
       "    </tr>\n",
       "    <tr>\n",
       "      <th>1</th>\n",
       "      <td>1002</td>\n",
       "      <td>Pioneer Square</td>\n",
       "      <td>9.0</td>\n",
       "    </tr>\n",
       "    <tr>\n",
       "      <th>2</th>\n",
       "      <td>1005</td>\n",
       "      <td>Commercial Core</td>\n",
       "      <td>8.0</td>\n",
       "    </tr>\n",
       "    <tr>\n",
       "      <th>3</th>\n",
       "      <td>1006</td>\n",
       "      <td>Commercial Core</td>\n",
       "      <td>6.0</td>\n",
       "    </tr>\n",
       "    <tr>\n",
       "      <th>4</th>\n",
       "      <td>1009</td>\n",
       "      <td>Commercial Core</td>\n",
       "      <td>5.0</td>\n",
       "    </tr>\n",
       "  </tbody>\n",
       "</table>\n",
       "</div>"
      ],
      "text/plain": [
       "   element_key paid_parking_area  parking_spaces\n",
       "0         1001    Pioneer Square             7.0\n",
       "1         1002    Pioneer Square             9.0\n",
       "2         1005   Commercial Core             8.0\n",
       "3         1006   Commercial Core             6.0\n",
       "4         1009   Commercial Core             5.0"
      ]
     },
     "execution_count": 42,
     "metadata": {},
     "output_type": "execute_result"
    }
   ],
   "source": [
    "park_spaces.head()"
   ]
  },
  {
   "cell_type": "markdown",
   "metadata": {},
   "source": [
    "## Extracción de datos de ubicación geográfica"
   ]
  },
  {
   "cell_type": "code",
   "execution_count": 43,
   "metadata": {},
   "outputs": [],
   "source": [
    "coord = pd.read_csv(os.path.join('./data/Coord_EK.csv'))"
   ]
  },
  {
   "cell_type": "code",
   "execution_count": 44,
   "metadata": {
    "ExecuteTime": {
     "end_time": "2018-07-03T17:34:59.893643Z",
     "start_time": "2018-07-03T17:34:59.880961Z"
    }
   },
   "outputs": [
    {
     "data": {
      "text/html": [
       "<div>\n",
       "<style scoped>\n",
       "    .dataframe tbody tr th:only-of-type {\n",
       "        vertical-align: middle;\n",
       "    }\n",
       "\n",
       "    .dataframe tbody tr th {\n",
       "        vertical-align: top;\n",
       "    }\n",
       "\n",
       "    .dataframe thead th {\n",
       "        text-align: right;\n",
       "    }\n",
       "</style>\n",
       "<table border=\"1\" class=\"dataframe\">\n",
       "  <thead>\n",
       "    <tr style=\"text-align: right;\">\n",
       "      <th></th>\n",
       "      <th>element_key</th>\n",
       "      <th>latitude</th>\n",
       "      <th>longitude</th>\n",
       "    </tr>\n",
       "  </thead>\n",
       "  <tbody>\n",
       "    <tr>\n",
       "      <th>0</th>\n",
       "      <td>1001</td>\n",
       "      <td>47.602862</td>\n",
       "      <td>-122.334703</td>\n",
       "    </tr>\n",
       "    <tr>\n",
       "      <th>1</th>\n",
       "      <td>1002</td>\n",
       "      <td>47.602997</td>\n",
       "      <td>-122.334538</td>\n",
       "    </tr>\n",
       "    <tr>\n",
       "      <th>2</th>\n",
       "      <td>1005</td>\n",
       "      <td>47.603602</td>\n",
       "      <td>-122.335382</td>\n",
       "    </tr>\n",
       "    <tr>\n",
       "      <th>3</th>\n",
       "      <td>1006</td>\n",
       "      <td>47.603725</td>\n",
       "      <td>-122.335171</td>\n",
       "    </tr>\n",
       "    <tr>\n",
       "      <th>4</th>\n",
       "      <td>1009</td>\n",
       "      <td>47.605010</td>\n",
       "      <td>-122.336669</td>\n",
       "    </tr>\n",
       "  </tbody>\n",
       "</table>\n",
       "</div>"
      ],
      "text/plain": [
       "   element_key   latitude   longitude\n",
       "0         1001  47.602862 -122.334703\n",
       "1         1002  47.602997 -122.334538\n",
       "2         1005  47.603602 -122.335382\n",
       "3         1006  47.603725 -122.335171\n",
       "4         1009  47.605010 -122.336669"
      ]
     },
     "execution_count": 44,
     "metadata": {},
     "output_type": "execute_result"
    }
   ],
   "source": [
    "coord.head()"
   ]
  },
  {
   "cell_type": "code",
   "execution_count": 45,
   "metadata": {},
   "outputs": [
    {
     "data": {
      "text/plain": [
       "(1517, 3)"
      ]
     },
     "execution_count": 45,
     "metadata": {},
     "output_type": "execute_result"
    }
   ],
   "source": [
    "coord.shape"
   ]
  },
  {
   "cell_type": "code",
   "execution_count": 46,
   "metadata": {},
   "outputs": [
    {
     "data": {
      "text/plain": [
       "0"
      ]
     },
     "execution_count": 46,
     "metadata": {},
     "output_type": "execute_result"
    }
   ],
   "source": [
    "coord.duplicated().sum()  # no hay registros duplicados"
   ]
  },
  {
   "cell_type": "code",
   "execution_count": 47,
   "metadata": {},
   "outputs": [
    {
     "data": {
      "text/plain": [
       "0"
      ]
     },
     "execution_count": 47,
     "metadata": {},
     "output_type": "execute_result"
    }
   ],
   "source": [
    "coord.element_key.duplicated().sum()  # tampoco hay duplicados de Element Key"
   ]
  },
  {
   "cell_type": "code",
   "execution_count": 48,
   "metadata": {},
   "outputs": [
    {
     "data": {
      "text/plain": [
       "0"
      ]
     },
     "execution_count": 48,
     "metadata": {},
     "output_type": "execute_result"
    }
   ],
   "source": [
    "coord[['latitude','longitude']].duplicated().sum()  # ni hay ubicaciones repetidas"
   ]
  },
  {
   "cell_type": "markdown",
   "metadata": {},
   "source": [
    "#### Análisis de ubicación de element_key duplicados en park_spaces"
   ]
  },
  {
   "cell_type": "code",
   "execution_count": 49,
   "metadata": {},
   "outputs": [
    {
     "data": {
      "text/html": [
       "<div>\n",
       "<style scoped>\n",
       "    .dataframe tbody tr th:only-of-type {\n",
       "        vertical-align: middle;\n",
       "    }\n",
       "\n",
       "    .dataframe tbody tr th {\n",
       "        vertical-align: top;\n",
       "    }\n",
       "\n",
       "    .dataframe thead th {\n",
       "        text-align: right;\n",
       "    }\n",
       "</style>\n",
       "<table border=\"1\" class=\"dataframe\">\n",
       "  <thead>\n",
       "    <tr style=\"text-align: right;\">\n",
       "      <th></th>\n",
       "      <th>element_key</th>\n",
       "      <th>latitude</th>\n",
       "      <th>longitude</th>\n",
       "    </tr>\n",
       "  </thead>\n",
       "  <tbody>\n",
       "    <tr>\n",
       "      <th>175</th>\n",
       "      <td>9762</td>\n",
       "      <td>47.602669</td>\n",
       "      <td>-122.336182</td>\n",
       "    </tr>\n",
       "    <tr>\n",
       "      <th>1270</th>\n",
       "      <td>78114</td>\n",
       "      <td>47.609074</td>\n",
       "      <td>-122.343332</td>\n",
       "    </tr>\n",
       "  </tbody>\n",
       "</table>\n",
       "</div>"
      ],
      "text/plain": [
       "      element_key   latitude   longitude\n",
       "175          9762  47.602669 -122.336182\n",
       "1270        78114  47.609074 -122.343332"
      ]
     },
     "execution_count": 49,
     "metadata": {},
     "output_type": "execute_result"
    }
   ],
   "source": [
    "coord.loc[(coord.element_key == 9762) | (coord.element_key == 78114)]"
   ]
  },
  {
   "cell_type": "markdown",
   "metadata": {},
   "source": [
    "Utilizamos la web https://www.coordenadas-gps.com para analizar las ubicaciones y decidimos asociar ambos segmentos de calle con el distrito Commercial Core:"
   ]
  },
  {
   "cell_type": "code",
   "execution_count": 50,
   "metadata": {},
   "outputs": [],
   "source": [
    "park_spaces = park_spaces[(park_spaces.index != 195) & (park_spaces.index != 1439)]"
   ]
  },
  {
   "cell_type": "markdown",
   "metadata": {},
   "source": [
    "## Relación de transacciones, ubicaciones y capacidad"
   ]
  },
  {
   "cell_type": "code",
   "execution_count": 51,
   "metadata": {
    "ExecuteTime": {
     "end_time": "2018-07-03T17:35:00.005598Z",
     "start_time": "2018-07-03T17:34:59.983371Z"
    }
   },
   "outputs": [
    {
     "data": {
      "text/plain": [
       "1514"
      ]
     },
     "execution_count": 51,
     "metadata": {},
     "output_type": "execute_result"
    }
   ],
   "source": [
    "df.element_key.unique().size"
   ]
  },
  {
   "cell_type": "code",
   "execution_count": 52,
   "metadata": {},
   "outputs": [
    {
     "data": {
      "text/plain": [
       "1517"
      ]
     },
     "execution_count": 52,
     "metadata": {},
     "output_type": "execute_result"
    }
   ],
   "source": [
    "coord.element_key.unique().size"
   ]
  },
  {
   "cell_type": "code",
   "execution_count": 53,
   "metadata": {},
   "outputs": [
    {
     "data": {
      "text/plain": [
       "1701"
      ]
     },
     "execution_count": 53,
     "metadata": {},
     "output_type": "execute_result"
    }
   ],
   "source": [
    "park_spaces.element_key.unique().size"
   ]
  },
  {
   "cell_type": "code",
   "execution_count": 54,
   "metadata": {
    "ExecuteTime": {
     "end_time": "2018-07-03T17:35:00.317807Z",
     "start_time": "2018-07-03T17:35:00.006918Z"
    }
   },
   "outputs": [
    {
     "data": {
      "text/plain": [
       "1445"
      ]
     },
     "execution_count": 54,
     "metadata": {},
     "output_type": "execute_result"
    }
   ],
   "source": [
    "len(set(coord.element_key).intersection(set(df.element_key)))"
   ]
  },
  {
   "cell_type": "code",
   "execution_count": 55,
   "metadata": {},
   "outputs": [
    {
     "data": {
      "text/plain": [
       "1498"
      ]
     },
     "execution_count": 55,
     "metadata": {},
     "output_type": "execute_result"
    }
   ],
   "source": [
    "len(set(park_spaces.element_key).intersection(set(coord.element_key)))"
   ]
  },
  {
   "cell_type": "markdown",
   "metadata": {},
   "source": [
    "**Mezclamos los datasets:**"
   ]
  },
  {
   "cell_type": "code",
   "execution_count": 56,
   "metadata": {
    "ExecuteTime": {
     "end_time": "2018-07-03T17:35:02.704490Z",
     "start_time": "2018-07-03T17:35:00.319180Z"
    }
   },
   "outputs": [],
   "source": [
    "# Transacciones con Coordenadas\n",
    "df_c = pd.merge(df, coord, on='element_key', how='inner', validate='many_to_one')"
   ]
  },
  {
   "cell_type": "code",
   "execution_count": 57,
   "metadata": {},
   "outputs": [],
   "source": [
    "# Transacciones con Coordenadas y con Capacidad de Plazas disponibles\n",
    "df_cp = pd.merge(df_c, park_spaces, on='element_key', how='inner', validate='many_to_one')"
   ]
  },
  {
   "cell_type": "code",
   "execution_count": 58,
   "metadata": {
    "ExecuteTime": {
     "end_time": "2018-07-03T17:35:04.274684Z",
     "start_time": "2018-07-03T17:35:04.271724Z"
    }
   },
   "outputs": [
    {
     "data": {
      "text/plain": [
       "((10822236, 5), (10657805, 7), (10652430, 9))"
      ]
     },
     "execution_count": 58,
     "metadata": {},
     "output_type": "execute_result"
    }
   ],
   "source": [
    "df.shape, df_c.shape, df_cp.shape"
   ]
  },
  {
   "cell_type": "code",
   "execution_count": 59,
   "metadata": {
    "ExecuteTime": {
     "end_time": "2018-07-03T17:35:04.684905Z",
     "start_time": "2018-07-03T17:35:04.634751Z"
    }
   },
   "outputs": [
    {
     "data": {
      "text/html": [
       "<div>\n",
       "<style scoped>\n",
       "    .dataframe tbody tr th:only-of-type {\n",
       "        vertical-align: middle;\n",
       "    }\n",
       "\n",
       "    .dataframe tbody tr th {\n",
       "        vertical-align: top;\n",
       "    }\n",
       "\n",
       "    .dataframe thead th {\n",
       "        text-align: right;\n",
       "    }\n",
       "</style>\n",
       "<table border=\"1\" class=\"dataframe\">\n",
       "  <thead>\n",
       "    <tr style=\"text-align: right;\">\n",
       "      <th></th>\n",
       "      <th>duration_mins</th>\n",
       "      <th>element_key</th>\n",
       "      <th>final_date_time</th>\n",
       "      <th>transaction_date_time</th>\n",
       "      <th>transaction_id</th>\n",
       "      <th>latitude</th>\n",
       "      <th>longitude</th>\n",
       "      <th>paid_parking_area</th>\n",
       "      <th>parking_spaces</th>\n",
       "    </tr>\n",
       "  </thead>\n",
       "  <tbody>\n",
       "    <tr>\n",
       "      <th>0</th>\n",
       "      <td>598</td>\n",
       "      <td>35693</td>\n",
       "      <td>2016-01-02 10:00:00</td>\n",
       "      <td>2016-01-02 08:00:00</td>\n",
       "      <td>64059668</td>\n",
       "      <td>47.619158</td>\n",
       "      <td>-122.346457</td>\n",
       "      <td>Uptown Triangle</td>\n",
       "      <td>10.0</td>\n",
       "    </tr>\n",
       "    <tr>\n",
       "      <th>1</th>\n",
       "      <td>598</td>\n",
       "      <td>35693</td>\n",
       "      <td>2016-01-02 10:00:00</td>\n",
       "      <td>2016-01-02 08:00:00</td>\n",
       "      <td>64059669</td>\n",
       "      <td>47.619158</td>\n",
       "      <td>-122.346457</td>\n",
       "      <td>Uptown Triangle</td>\n",
       "      <td>10.0</td>\n",
       "    </tr>\n",
       "    <tr>\n",
       "      <th>2</th>\n",
       "      <td>370</td>\n",
       "      <td>35693</td>\n",
       "      <td>2016-01-02 14:00:00</td>\n",
       "      <td>2016-01-02 08:00:00</td>\n",
       "      <td>64084672</td>\n",
       "      <td>47.619158</td>\n",
       "      <td>-122.346457</td>\n",
       "      <td>Uptown Triangle</td>\n",
       "      <td>10.0</td>\n",
       "    </tr>\n",
       "    <tr>\n",
       "      <th>3</th>\n",
       "      <td>60</td>\n",
       "      <td>35693</td>\n",
       "      <td>2016-01-02 09:00:00</td>\n",
       "      <td>2016-01-02 08:00:00</td>\n",
       "      <td>183563751</td>\n",
       "      <td>47.619158</td>\n",
       "      <td>-122.346457</td>\n",
       "      <td>Uptown Triangle</td>\n",
       "      <td>10.0</td>\n",
       "    </tr>\n",
       "    <tr>\n",
       "      <th>4</th>\n",
       "      <td>120</td>\n",
       "      <td>35693</td>\n",
       "      <td>2016-01-02 10:00:00</td>\n",
       "      <td>2016-01-02 08:00:00</td>\n",
       "      <td>64084673</td>\n",
       "      <td>47.619158</td>\n",
       "      <td>-122.346457</td>\n",
       "      <td>Uptown Triangle</td>\n",
       "      <td>10.0</td>\n",
       "    </tr>\n",
       "  </tbody>\n",
       "</table>\n",
       "</div>"
      ],
      "text/plain": [
       "   duration_mins  element_key     final_date_time transaction_date_time  \\\n",
       "0            598        35693 2016-01-02 10:00:00   2016-01-02 08:00:00   \n",
       "1            598        35693 2016-01-02 10:00:00   2016-01-02 08:00:00   \n",
       "2            370        35693 2016-01-02 14:00:00   2016-01-02 08:00:00   \n",
       "3             60        35693 2016-01-02 09:00:00   2016-01-02 08:00:00   \n",
       "4            120        35693 2016-01-02 10:00:00   2016-01-02 08:00:00   \n",
       "\n",
       "   transaction_id   latitude   longitude paid_parking_area  parking_spaces  \n",
       "0        64059668  47.619158 -122.346457   Uptown Triangle            10.0  \n",
       "1        64059669  47.619158 -122.346457   Uptown Triangle            10.0  \n",
       "2        64084672  47.619158 -122.346457   Uptown Triangle            10.0  \n",
       "3       183563751  47.619158 -122.346457   Uptown Triangle            10.0  \n",
       "4        64084673  47.619158 -122.346457   Uptown Triangle            10.0  "
      ]
     },
     "execution_count": 59,
     "metadata": {},
     "output_type": "execute_result"
    }
   ],
   "source": [
    "#df_cp.set_index('transaction_id', inplace=True)\n",
    "df_cp.head()"
   ]
  },
  {
   "cell_type": "code",
   "execution_count": 60,
   "metadata": {},
   "outputs": [
    {
     "data": {
      "text/plain": [
       "1443"
      ]
     },
     "execution_count": 60,
     "metadata": {},
     "output_type": "execute_result"
    }
   ],
   "source": [
    "df_cp.element_key.unique().size"
   ]
  },
  {
   "cell_type": "markdown",
   "metadata": {},
   "source": [
    "## Construcción de la serie de ocupación por timestamp\n",
    "\n",
    "Construimos primero la tabla corta que usaremos para montar las series temporales:"
   ]
  },
  {
   "cell_type": "code",
   "execution_count": 61,
   "metadata": {
    "ExecuteTime": {
     "end_time": "2018-07-03T17:36:46.500695Z",
     "start_time": "2018-07-03T17:36:42.079494Z"
    }
   },
   "outputs": [],
   "source": [
    "in_cols = ['element_key', 'latitude', 'longitude', 'transaction_date_time', 'parking_spaces','paid_parking_area']\n",
    "out_cols = ['element_key', 'latitude', 'longitude', 'final_date_time', 'parking_spaces','paid_parking_area']\n",
    "\n",
    "df_in = df_cp[in_cols].reset_index(drop=True)\n",
    "#df_in.transaction_id = df_in.transaction_id.map(lambda s:'%s_in' % str(s))\n",
    "df_in['timestamp_sign'] = 1.0\n",
    "df_in.rename(columns={'transaction_date_time': 'timestamp'}, inplace=True)\n",
    "\n",
    "df_out = df_cp[out_cols].reset_index(drop=True)\n",
    "#df_out.transaction_id = df_out.transaction_id.map(lambda s:'%s_out' % str(s))\n",
    "df_out['timestamp_sign'] = - 1.0\n",
    "df_out.rename(columns={'final_date_time': 'timestamp'}, inplace=True)  # inplace = True, value of copy is ignored"
   ]
  },
  {
   "cell_type": "code",
   "execution_count": 62,
   "metadata": {
    "ExecuteTime": {
     "end_time": "2018-07-03T17:36:46.511121Z",
     "start_time": "2018-07-03T17:36:46.502183Z"
    }
   },
   "outputs": [
    {
     "data": {
      "text/html": [
       "<div>\n",
       "<style scoped>\n",
       "    .dataframe tbody tr th:only-of-type {\n",
       "        vertical-align: middle;\n",
       "    }\n",
       "\n",
       "    .dataframe tbody tr th {\n",
       "        vertical-align: top;\n",
       "    }\n",
       "\n",
       "    .dataframe thead th {\n",
       "        text-align: right;\n",
       "    }\n",
       "</style>\n",
       "<table border=\"1\" class=\"dataframe\">\n",
       "  <thead>\n",
       "    <tr style=\"text-align: right;\">\n",
       "      <th></th>\n",
       "      <th>element_key</th>\n",
       "      <th>latitude</th>\n",
       "      <th>longitude</th>\n",
       "      <th>timestamp</th>\n",
       "      <th>parking_spaces</th>\n",
       "      <th>paid_parking_area</th>\n",
       "      <th>timestamp_sign</th>\n",
       "    </tr>\n",
       "  </thead>\n",
       "  <tbody>\n",
       "    <tr>\n",
       "      <th>0</th>\n",
       "      <td>35693</td>\n",
       "      <td>47.619158</td>\n",
       "      <td>-122.346457</td>\n",
       "      <td>2016-01-02 08:00:00</td>\n",
       "      <td>10.0</td>\n",
       "      <td>Uptown Triangle</td>\n",
       "      <td>1.0</td>\n",
       "    </tr>\n",
       "    <tr>\n",
       "      <th>1</th>\n",
       "      <td>35693</td>\n",
       "      <td>47.619158</td>\n",
       "      <td>-122.346457</td>\n",
       "      <td>2016-01-02 08:00:00</td>\n",
       "      <td>10.0</td>\n",
       "      <td>Uptown Triangle</td>\n",
       "      <td>1.0</td>\n",
       "    </tr>\n",
       "    <tr>\n",
       "      <th>2</th>\n",
       "      <td>35693</td>\n",
       "      <td>47.619158</td>\n",
       "      <td>-122.346457</td>\n",
       "      <td>2016-01-02 08:00:00</td>\n",
       "      <td>10.0</td>\n",
       "      <td>Uptown Triangle</td>\n",
       "      <td>1.0</td>\n",
       "    </tr>\n",
       "    <tr>\n",
       "      <th>3</th>\n",
       "      <td>35693</td>\n",
       "      <td>47.619158</td>\n",
       "      <td>-122.346457</td>\n",
       "      <td>2016-01-02 08:00:00</td>\n",
       "      <td>10.0</td>\n",
       "      <td>Uptown Triangle</td>\n",
       "      <td>1.0</td>\n",
       "    </tr>\n",
       "    <tr>\n",
       "      <th>4</th>\n",
       "      <td>35693</td>\n",
       "      <td>47.619158</td>\n",
       "      <td>-122.346457</td>\n",
       "      <td>2016-01-02 08:00:00</td>\n",
       "      <td>10.0</td>\n",
       "      <td>Uptown Triangle</td>\n",
       "      <td>1.0</td>\n",
       "    </tr>\n",
       "  </tbody>\n",
       "</table>\n",
       "</div>"
      ],
      "text/plain": [
       "   element_key   latitude   longitude           timestamp  parking_spaces  \\\n",
       "0        35693  47.619158 -122.346457 2016-01-02 08:00:00            10.0   \n",
       "1        35693  47.619158 -122.346457 2016-01-02 08:00:00            10.0   \n",
       "2        35693  47.619158 -122.346457 2016-01-02 08:00:00            10.0   \n",
       "3        35693  47.619158 -122.346457 2016-01-02 08:00:00            10.0   \n",
       "4        35693  47.619158 -122.346457 2016-01-02 08:00:00            10.0   \n",
       "\n",
       "  paid_parking_area  timestamp_sign  \n",
       "0   Uptown Triangle             1.0  \n",
       "1   Uptown Triangle             1.0  \n",
       "2   Uptown Triangle             1.0  \n",
       "3   Uptown Triangle             1.0  \n",
       "4   Uptown Triangle             1.0  "
      ]
     },
     "execution_count": 62,
     "metadata": {},
     "output_type": "execute_result"
    }
   ],
   "source": [
    "df_in.head()"
   ]
  },
  {
   "cell_type": "code",
   "execution_count": 63,
   "metadata": {
    "ExecuteTime": {
     "end_time": "2018-07-03T17:36:46.522761Z",
     "start_time": "2018-07-03T17:36:46.512194Z"
    }
   },
   "outputs": [
    {
     "data": {
      "text/html": [
       "<div>\n",
       "<style scoped>\n",
       "    .dataframe tbody tr th:only-of-type {\n",
       "        vertical-align: middle;\n",
       "    }\n",
       "\n",
       "    .dataframe tbody tr th {\n",
       "        vertical-align: top;\n",
       "    }\n",
       "\n",
       "    .dataframe thead th {\n",
       "        text-align: right;\n",
       "    }\n",
       "</style>\n",
       "<table border=\"1\" class=\"dataframe\">\n",
       "  <thead>\n",
       "    <tr style=\"text-align: right;\">\n",
       "      <th></th>\n",
       "      <th>element_key</th>\n",
       "      <th>latitude</th>\n",
       "      <th>longitude</th>\n",
       "      <th>timestamp</th>\n",
       "      <th>parking_spaces</th>\n",
       "      <th>paid_parking_area</th>\n",
       "      <th>timestamp_sign</th>\n",
       "    </tr>\n",
       "  </thead>\n",
       "  <tbody>\n",
       "    <tr>\n",
       "      <th>0</th>\n",
       "      <td>35693</td>\n",
       "      <td>47.619158</td>\n",
       "      <td>-122.346457</td>\n",
       "      <td>2016-01-02 10:00:00</td>\n",
       "      <td>10.0</td>\n",
       "      <td>Uptown Triangle</td>\n",
       "      <td>-1.0</td>\n",
       "    </tr>\n",
       "    <tr>\n",
       "      <th>1</th>\n",
       "      <td>35693</td>\n",
       "      <td>47.619158</td>\n",
       "      <td>-122.346457</td>\n",
       "      <td>2016-01-02 10:00:00</td>\n",
       "      <td>10.0</td>\n",
       "      <td>Uptown Triangle</td>\n",
       "      <td>-1.0</td>\n",
       "    </tr>\n",
       "    <tr>\n",
       "      <th>2</th>\n",
       "      <td>35693</td>\n",
       "      <td>47.619158</td>\n",
       "      <td>-122.346457</td>\n",
       "      <td>2016-01-02 14:00:00</td>\n",
       "      <td>10.0</td>\n",
       "      <td>Uptown Triangle</td>\n",
       "      <td>-1.0</td>\n",
       "    </tr>\n",
       "    <tr>\n",
       "      <th>3</th>\n",
       "      <td>35693</td>\n",
       "      <td>47.619158</td>\n",
       "      <td>-122.346457</td>\n",
       "      <td>2016-01-02 09:00:00</td>\n",
       "      <td>10.0</td>\n",
       "      <td>Uptown Triangle</td>\n",
       "      <td>-1.0</td>\n",
       "    </tr>\n",
       "    <tr>\n",
       "      <th>4</th>\n",
       "      <td>35693</td>\n",
       "      <td>47.619158</td>\n",
       "      <td>-122.346457</td>\n",
       "      <td>2016-01-02 10:00:00</td>\n",
       "      <td>10.0</td>\n",
       "      <td>Uptown Triangle</td>\n",
       "      <td>-1.0</td>\n",
       "    </tr>\n",
       "  </tbody>\n",
       "</table>\n",
       "</div>"
      ],
      "text/plain": [
       "   element_key   latitude   longitude           timestamp  parking_spaces  \\\n",
       "0        35693  47.619158 -122.346457 2016-01-02 10:00:00            10.0   \n",
       "1        35693  47.619158 -122.346457 2016-01-02 10:00:00            10.0   \n",
       "2        35693  47.619158 -122.346457 2016-01-02 14:00:00            10.0   \n",
       "3        35693  47.619158 -122.346457 2016-01-02 09:00:00            10.0   \n",
       "4        35693  47.619158 -122.346457 2016-01-02 10:00:00            10.0   \n",
       "\n",
       "  paid_parking_area  timestamp_sign  \n",
       "0   Uptown Triangle            -1.0  \n",
       "1   Uptown Triangle            -1.0  \n",
       "2   Uptown Triangle            -1.0  \n",
       "3   Uptown Triangle            -1.0  \n",
       "4   Uptown Triangle            -1.0  "
      ]
     },
     "execution_count": 63,
     "metadata": {},
     "output_type": "execute_result"
    }
   ],
   "source": [
    "df_out.head()"
   ]
  },
  {
   "cell_type": "code",
   "execution_count": 64,
   "metadata": {
    "ExecuteTime": {
     "end_time": "2018-07-03T17:40:48.918260Z",
     "start_time": "2018-07-03T17:40:47.003098Z"
    }
   },
   "outputs": [],
   "source": [
    "full_transactions = pd.concat([df_in, df_out])\n",
    "full_transactions.sort_values('timestamp', ascending=True, inplace=True)"
   ]
  },
  {
   "cell_type": "code",
   "execution_count": 65,
   "metadata": {
    "ExecuteTime": {
     "end_time": "2018-07-03T17:40:49.105651Z",
     "start_time": "2018-07-03T17:40:49.099414Z"
    }
   },
   "outputs": [
    {
     "data": {
      "text/html": [
       "<div>\n",
       "<style scoped>\n",
       "    .dataframe tbody tr th:only-of-type {\n",
       "        vertical-align: middle;\n",
       "    }\n",
       "\n",
       "    .dataframe tbody tr th {\n",
       "        vertical-align: top;\n",
       "    }\n",
       "\n",
       "    .dataframe thead th {\n",
       "        text-align: right;\n",
       "    }\n",
       "</style>\n",
       "<table border=\"1\" class=\"dataframe\">\n",
       "  <thead>\n",
       "    <tr style=\"text-align: right;\">\n",
       "      <th></th>\n",
       "      <th>element_key</th>\n",
       "      <th>latitude</th>\n",
       "      <th>longitude</th>\n",
       "      <th>timestamp</th>\n",
       "      <th>parking_spaces</th>\n",
       "      <th>paid_parking_area</th>\n",
       "      <th>timestamp_sign</th>\n",
       "    </tr>\n",
       "  </thead>\n",
       "  <tbody>\n",
       "    <tr>\n",
       "      <th>0</th>\n",
       "      <td>35693</td>\n",
       "      <td>47.619158</td>\n",
       "      <td>-122.346457</td>\n",
       "      <td>2016-01-02 08:00:00</td>\n",
       "      <td>10.0</td>\n",
       "      <td>Uptown Triangle</td>\n",
       "      <td>1.0</td>\n",
       "    </tr>\n",
       "    <tr>\n",
       "      <th>1878023</th>\n",
       "      <td>46254</td>\n",
       "      <td>47.611498</td>\n",
       "      <td>-122.343153</td>\n",
       "      <td>2016-01-02 08:00:00</td>\n",
       "      <td>10.0</td>\n",
       "      <td>Belltown</td>\n",
       "      <td>1.0</td>\n",
       "    </tr>\n",
       "    <tr>\n",
       "      <th>1878022</th>\n",
       "      <td>46254</td>\n",
       "      <td>47.611498</td>\n",
       "      <td>-122.343153</td>\n",
       "      <td>2016-01-02 08:00:00</td>\n",
       "      <td>10.0</td>\n",
       "      <td>Belltown</td>\n",
       "      <td>1.0</td>\n",
       "    </tr>\n",
       "    <tr>\n",
       "      <th>1878021</th>\n",
       "      <td>46254</td>\n",
       "      <td>47.611498</td>\n",
       "      <td>-122.343153</td>\n",
       "      <td>2016-01-02 08:00:00</td>\n",
       "      <td>10.0</td>\n",
       "      <td>Belltown</td>\n",
       "      <td>1.0</td>\n",
       "    </tr>\n",
       "    <tr>\n",
       "      <th>3727491</th>\n",
       "      <td>25710</td>\n",
       "      <td>47.613757</td>\n",
       "      <td>-122.344972</td>\n",
       "      <td>2016-01-02 08:00:00</td>\n",
       "      <td>11.0</td>\n",
       "      <td>Belltown</td>\n",
       "      <td>1.0</td>\n",
       "    </tr>\n",
       "  </tbody>\n",
       "</table>\n",
       "</div>"
      ],
      "text/plain": [
       "         element_key   latitude   longitude           timestamp  \\\n",
       "0              35693  47.619158 -122.346457 2016-01-02 08:00:00   \n",
       "1878023        46254  47.611498 -122.343153 2016-01-02 08:00:00   \n",
       "1878022        46254  47.611498 -122.343153 2016-01-02 08:00:00   \n",
       "1878021        46254  47.611498 -122.343153 2016-01-02 08:00:00   \n",
       "3727491        25710  47.613757 -122.344972 2016-01-02 08:00:00   \n",
       "\n",
       "         parking_spaces paid_parking_area  timestamp_sign  \n",
       "0                  10.0   Uptown Triangle             1.0  \n",
       "1878023            10.0          Belltown             1.0  \n",
       "1878022            10.0          Belltown             1.0  \n",
       "1878021            10.0          Belltown             1.0  \n",
       "3727491            11.0          Belltown             1.0  "
      ]
     },
     "execution_count": 65,
     "metadata": {},
     "output_type": "execute_result"
    }
   ],
   "source": [
    "full_transactions.head()"
   ]
  },
  {
   "cell_type": "code",
   "execution_count": 66,
   "metadata": {
    "ExecuteTime": {
     "end_time": "2018-07-03T17:40:49.110925Z",
     "start_time": "2018-07-03T17:40:49.107012Z"
    }
   },
   "outputs": [
    {
     "data": {
      "text/plain": [
       "((10652430, 7), (10652430, 7), (21304860, 7))"
      ]
     },
     "execution_count": 66,
     "metadata": {},
     "output_type": "execute_result"
    }
   ],
   "source": [
    "df_in.shape, df_out.shape, full_transactions.shape"
   ]
  },
  {
   "cell_type": "markdown",
   "metadata": {},
   "source": [
    "#### Añadimos porcentaje de ocupación"
   ]
  },
  {
   "cell_type": "code",
   "execution_count": 67,
   "metadata": {},
   "outputs": [],
   "source": [
    "# COMANDO A REVISAR OPTIMIZACIÓN - LE HA COSTADO\n",
    "full_transactions['occupation'] = full_transactions.groupby(['element_key', 'timestamp']).timestamp_sign.transform(\n",
    "    lambda series: series.cumsum())"
   ]
  },
  {
   "cell_type": "code",
   "execution_count": 68,
   "metadata": {},
   "outputs": [],
   "source": [
    "full_transactions = full_transactions.reset_index(drop=True)"
   ]
  },
  {
   "cell_type": "code",
   "execution_count": 69,
   "metadata": {},
   "outputs": [],
   "source": [
    "full_transactions.drop_duplicates(subset=['element_key','timestamp'], keep='last', inplace=True)"
   ]
  },
  {
   "cell_type": "code",
   "execution_count": 70,
   "metadata": {},
   "outputs": [],
   "source": [
    "full_transactions['day_year'] = full_transactions.timestamp.dt.dayofyear"
   ]
  },
  {
   "cell_type": "code",
   "execution_count": 71,
   "metadata": {},
   "outputs": [],
   "source": [
    "full_transactions['occu_cum'] = full_transactions.groupby(['element_key','day_year']).occupation.agg('cumsum')"
   ]
  },
  {
   "cell_type": "code",
   "execution_count": 72,
   "metadata": {},
   "outputs": [],
   "source": [
    "full_transactions['occupation_perc'] = (full_transactions.occu_cum / full_transactions.parking_spaces * 100.0).map(\n",
    "    \"{0:.2f}\".format).astype(float)"
   ]
  },
  {
   "cell_type": "code",
   "execution_count": 73,
   "metadata": {},
   "outputs": [
    {
     "data": {
      "text/plain": [
       "204324"
      ]
     },
     "execution_count": 73,
     "metadata": {},
     "output_type": "execute_result"
    }
   ],
   "source": [
    "full_transactions.element_key.loc[full_transactions.occupation_perc > 100].count()"
   ]
  },
  {
   "cell_type": "code",
   "execution_count": 74,
   "metadata": {},
   "outputs": [
    {
     "data": {
      "text/plain": [
       "1174"
      ]
     },
     "execution_count": 74,
     "metadata": {},
     "output_type": "execute_result"
    }
   ],
   "source": [
    "full_transactions.element_key.loc[full_transactions.occupation_perc > 100].unique().size"
   ]
  },
  {
   "cell_type": "code",
   "execution_count": 75,
   "metadata": {},
   "outputs": [
    {
     "data": {
      "text/plain": [
       "(4124933, 11)"
      ]
     },
     "execution_count": 75,
     "metadata": {},
     "output_type": "execute_result"
    }
   ],
   "source": [
    "full_transactions.shape"
   ]
  },
  {
   "cell_type": "markdown",
   "metadata": {},
   "source": [
    "## Corrección de la capacidad de plazas disponibles"
   ]
  },
  {
   "cell_type": "code",
   "execution_count": 76,
   "metadata": {},
   "outputs": [],
   "source": [
    "new_park_spaces = pd.read_csv(os.path.join('./data/StreetParking.csv'))"
   ]
  },
  {
   "cell_type": "code",
   "execution_count": 77,
   "metadata": {},
   "outputs": [
    {
     "data": {
      "text/html": [
       "<div>\n",
       "<style scoped>\n",
       "    .dataframe tbody tr th:only-of-type {\n",
       "        vertical-align: middle;\n",
       "    }\n",
       "\n",
       "    .dataframe tbody tr th {\n",
       "        vertical-align: top;\n",
       "    }\n",
       "\n",
       "    .dataframe thead th {\n",
       "        text-align: right;\n",
       "    }\n",
       "</style>\n",
       "<table border=\"1\" class=\"dataframe\">\n",
       "  <thead>\n",
       "    <tr style=\"text-align: right;\">\n",
       "      <th></th>\n",
       "      <th>element_key</th>\n",
       "      <th>parking_category</th>\n",
       "      <th>total_nopark</th>\n",
       "      <th>total_zones</th>\n",
       "      <th>parking_spaces</th>\n",
       "      <th>total_spaces</th>\n",
       "    </tr>\n",
       "  </thead>\n",
       "  <tbody>\n",
       "    <tr>\n",
       "      <th>0</th>\n",
       "      <td>32018</td>\n",
       "      <td>Paid Parking</td>\n",
       "      <td>8</td>\n",
       "      <td>1</td>\n",
       "      <td>6</td>\n",
       "      <td>15</td>\n",
       "    </tr>\n",
       "    <tr>\n",
       "      <th>1</th>\n",
       "      <td>1042</td>\n",
       "      <td>No Parking Allowed</td>\n",
       "      <td>5</td>\n",
       "      <td>1</td>\n",
       "      <td>0</td>\n",
       "      <td>6</td>\n",
       "    </tr>\n",
       "    <tr>\n",
       "      <th>2</th>\n",
       "      <td>48129</td>\n",
       "      <td>Paid Parking</td>\n",
       "      <td>6</td>\n",
       "      <td>1</td>\n",
       "      <td>4</td>\n",
       "      <td>11</td>\n",
       "    </tr>\n",
       "    <tr>\n",
       "      <th>3</th>\n",
       "      <td>47962</td>\n",
       "      <td>Paid Parking</td>\n",
       "      <td>8</td>\n",
       "      <td>2</td>\n",
       "      <td>7</td>\n",
       "      <td>17</td>\n",
       "    </tr>\n",
       "    <tr>\n",
       "      <th>4</th>\n",
       "      <td>47966</td>\n",
       "      <td>Paid Parking</td>\n",
       "      <td>5</td>\n",
       "      <td>1</td>\n",
       "      <td>4</td>\n",
       "      <td>10</td>\n",
       "    </tr>\n",
       "  </tbody>\n",
       "</table>\n",
       "</div>"
      ],
      "text/plain": [
       "   element_key    parking_category  total_nopark  total_zones  parking_spaces  \\\n",
       "0        32018        Paid Parking             8            1               6   \n",
       "1         1042  No Parking Allowed             5            1               0   \n",
       "2        48129        Paid Parking             6            1               4   \n",
       "3        47962        Paid Parking             8            2               7   \n",
       "4        47966        Paid Parking             5            1               4   \n",
       "\n",
       "   total_spaces  \n",
       "0            15  \n",
       "1             6  \n",
       "2            11  \n",
       "3            17  \n",
       "4            10  "
      ]
     },
     "execution_count": 77,
     "metadata": {},
     "output_type": "execute_result"
    }
   ],
   "source": [
    "new_park_spaces.head()"
   ]
  },
  {
   "cell_type": "code",
   "execution_count": 78,
   "metadata": {},
   "outputs": [],
   "source": [
    "# Eliminamos los registros que no tienen información de la capacidad de plazas\n",
    "new_park_spaces = new_park_spaces.loc[new_park_spaces.total_spaces != 0]"
   ]
  },
  {
   "cell_type": "code",
   "execution_count": 79,
   "metadata": {},
   "outputs": [],
   "source": [
    "new_park_spaces = pd.merge(new_park_spaces, park_spaces, on='element_key', how='inner', validate='many_to_one')"
   ]
  },
  {
   "cell_type": "code",
   "execution_count": 80,
   "metadata": {},
   "outputs": [
    {
     "data": {
      "text/html": [
       "<div>\n",
       "<style scoped>\n",
       "    .dataframe tbody tr th:only-of-type {\n",
       "        vertical-align: middle;\n",
       "    }\n",
       "\n",
       "    .dataframe tbody tr th {\n",
       "        vertical-align: top;\n",
       "    }\n",
       "\n",
       "    .dataframe thead th {\n",
       "        text-align: right;\n",
       "    }\n",
       "</style>\n",
       "<table border=\"1\" class=\"dataframe\">\n",
       "  <thead>\n",
       "    <tr style=\"text-align: right;\">\n",
       "      <th></th>\n",
       "      <th>element_key</th>\n",
       "      <th>parking_category</th>\n",
       "      <th>total_nopark</th>\n",
       "      <th>total_zones</th>\n",
       "      <th>parking_spaces_x</th>\n",
       "      <th>total_spaces</th>\n",
       "      <th>paid_parking_area</th>\n",
       "      <th>parking_spaces_y</th>\n",
       "    </tr>\n",
       "  </thead>\n",
       "  <tbody>\n",
       "    <tr>\n",
       "      <th>0</th>\n",
       "      <td>32018</td>\n",
       "      <td>Paid Parking</td>\n",
       "      <td>8</td>\n",
       "      <td>1</td>\n",
       "      <td>6</td>\n",
       "      <td>15</td>\n",
       "      <td>Belltown</td>\n",
       "      <td>6.0</td>\n",
       "    </tr>\n",
       "    <tr>\n",
       "      <th>1</th>\n",
       "      <td>48129</td>\n",
       "      <td>Paid Parking</td>\n",
       "      <td>6</td>\n",
       "      <td>1</td>\n",
       "      <td>4</td>\n",
       "      <td>11</td>\n",
       "      <td>Pioneer Square</td>\n",
       "      <td>6.0</td>\n",
       "    </tr>\n",
       "    <tr>\n",
       "      <th>2</th>\n",
       "      <td>47962</td>\n",
       "      <td>Paid Parking</td>\n",
       "      <td>8</td>\n",
       "      <td>2</td>\n",
       "      <td>7</td>\n",
       "      <td>17</td>\n",
       "      <td>Commercial Core</td>\n",
       "      <td>8.0</td>\n",
       "    </tr>\n",
       "    <tr>\n",
       "      <th>3</th>\n",
       "      <td>47966</td>\n",
       "      <td>Paid Parking</td>\n",
       "      <td>5</td>\n",
       "      <td>1</td>\n",
       "      <td>4</td>\n",
       "      <td>10</td>\n",
       "      <td>Commercial Core</td>\n",
       "      <td>9.0</td>\n",
       "    </tr>\n",
       "    <tr>\n",
       "      <th>4</th>\n",
       "      <td>8617</td>\n",
       "      <td>Paid Parking</td>\n",
       "      <td>7</td>\n",
       "      <td>2</td>\n",
       "      <td>4</td>\n",
       "      <td>13</td>\n",
       "      <td>Denny Triangle</td>\n",
       "      <td>4.0</td>\n",
       "    </tr>\n",
       "  </tbody>\n",
       "</table>\n",
       "</div>"
      ],
      "text/plain": [
       "   element_key parking_category  total_nopark  total_zones  parking_spaces_x  \\\n",
       "0        32018     Paid Parking             8            1                 6   \n",
       "1        48129     Paid Parking             6            1                 4   \n",
       "2        47962     Paid Parking             8            2                 7   \n",
       "3        47966     Paid Parking             5            1                 4   \n",
       "4         8617     Paid Parking             7            2                 4   \n",
       "\n",
       "   total_spaces paid_parking_area  parking_spaces_y  \n",
       "0            15          Belltown               6.0  \n",
       "1            11    Pioneer Square               6.0  \n",
       "2            17   Commercial Core               8.0  \n",
       "3            10   Commercial Core               9.0  \n",
       "4            13    Denny Triangle               4.0  "
      ]
     },
     "execution_count": 80,
     "metadata": {},
     "output_type": "execute_result"
    }
   ],
   "source": [
    "new_park_spaces.head()"
   ]
  },
  {
   "cell_type": "code",
   "execution_count": 81,
   "metadata": {},
   "outputs": [
    {
     "data": {
      "text/plain": [
       "1055"
      ]
     },
     "execution_count": 81,
     "metadata": {},
     "output_type": "execute_result"
    }
   ],
   "source": [
    "new_park_spaces.element_key.loc[new_park_spaces.parking_spaces_x == new_park_spaces.parking_spaces_y].count()"
   ]
  },
  {
   "cell_type": "code",
   "execution_count": 82,
   "metadata": {},
   "outputs": [
    {
     "data": {
      "text/plain": [
       "(1694, 8)"
      ]
     },
     "execution_count": 82,
     "metadata": {},
     "output_type": "execute_result"
    }
   ],
   "source": [
    "new_park_spaces.shape"
   ]
  },
  {
   "cell_type": "code",
   "execution_count": 83,
   "metadata": {},
   "outputs": [],
   "source": [
    "new_park_spaces = new_park_spaces.drop(columns=['total_nopark','total_zones','parking_spaces_x','parking_spaces_y',\n",
    "                      'paid_parking_area'])"
   ]
  },
  {
   "cell_type": "code",
   "execution_count": 84,
   "metadata": {},
   "outputs": [
    {
     "data": {
      "text/html": [
       "<div>\n",
       "<style scoped>\n",
       "    .dataframe tbody tr th:only-of-type {\n",
       "        vertical-align: middle;\n",
       "    }\n",
       "\n",
       "    .dataframe tbody tr th {\n",
       "        vertical-align: top;\n",
       "    }\n",
       "\n",
       "    .dataframe thead th {\n",
       "        text-align: right;\n",
       "    }\n",
       "</style>\n",
       "<table border=\"1\" class=\"dataframe\">\n",
       "  <thead>\n",
       "    <tr style=\"text-align: right;\">\n",
       "      <th></th>\n",
       "      <th>element_key</th>\n",
       "      <th>parking_category</th>\n",
       "      <th>total_spaces</th>\n",
       "    </tr>\n",
       "  </thead>\n",
       "  <tbody>\n",
       "    <tr>\n",
       "      <th>0</th>\n",
       "      <td>32018</td>\n",
       "      <td>Paid Parking</td>\n",
       "      <td>15</td>\n",
       "    </tr>\n",
       "    <tr>\n",
       "      <th>1</th>\n",
       "      <td>48129</td>\n",
       "      <td>Paid Parking</td>\n",
       "      <td>11</td>\n",
       "    </tr>\n",
       "    <tr>\n",
       "      <th>2</th>\n",
       "      <td>47962</td>\n",
       "      <td>Paid Parking</td>\n",
       "      <td>17</td>\n",
       "    </tr>\n",
       "    <tr>\n",
       "      <th>3</th>\n",
       "      <td>47966</td>\n",
       "      <td>Paid Parking</td>\n",
       "      <td>10</td>\n",
       "    </tr>\n",
       "    <tr>\n",
       "      <th>4</th>\n",
       "      <td>8617</td>\n",
       "      <td>Paid Parking</td>\n",
       "      <td>13</td>\n",
       "    </tr>\n",
       "  </tbody>\n",
       "</table>\n",
       "</div>"
      ],
      "text/plain": [
       "   element_key parking_category  total_spaces\n",
       "0        32018     Paid Parking            15\n",
       "1        48129     Paid Parking            11\n",
       "2        47962     Paid Parking            17\n",
       "3        47966     Paid Parking            10\n",
       "4         8617     Paid Parking            13"
      ]
     },
     "execution_count": 84,
     "metadata": {},
     "output_type": "execute_result"
    }
   ],
   "source": [
    "new_park_spaces.head()"
   ]
  },
  {
   "cell_type": "code",
   "execution_count": 85,
   "metadata": {},
   "outputs": [],
   "source": [
    "full_transactions = full_transactions.drop(columns=['occupation_perc','timestamp_sign','occupation','parking_spaces'])\n",
    "full_transactions = pd.merge(full_transactions, new_park_spaces, on='element_key', how='inner', validate='many_to_one')\n",
    "full_transactions['occupation_perc'] = (full_transactions.occu_cum / full_transactions.total_spaces * 100.0).map(\n",
    "    \"{0:.2f}\".format).astype(float)"
   ]
  },
  {
   "cell_type": "code",
   "execution_count": 86,
   "metadata": {},
   "outputs": [
    {
     "data": {
      "text/plain": [
       "12691"
      ]
     },
     "execution_count": 86,
     "metadata": {},
     "output_type": "execute_result"
    }
   ],
   "source": [
    "full_transactions.element_key.loc[full_transactions.occupation_perc > 100].count()"
   ]
  },
  {
   "cell_type": "code",
   "execution_count": 87,
   "metadata": {},
   "outputs": [
    {
     "data": {
      "text/plain": [
       "194"
      ]
     },
     "execution_count": 87,
     "metadata": {},
     "output_type": "execute_result"
    }
   ],
   "source": [
    "full_transactions.element_key.loc[full_transactions.occupation_perc > 100].unique().size"
   ]
  },
  {
   "cell_type": "code",
   "execution_count": 88,
   "metadata": {},
   "outputs": [],
   "source": [
    "# Eliminamos los registros asociados a element_keys con ocupación > 100%\n",
    "ek_del = full_transactions.element_key.loc[full_transactions.occupation_perc > 100].unique()\n",
    "full_transactions = full_transactions.loc[~full_transactions.element_key.isin(ek_del)]"
   ]
  },
  {
   "cell_type": "code",
   "execution_count": 89,
   "metadata": {},
   "outputs": [
    {
     "data": {
      "text/plain": [
       "1249"
      ]
     },
     "execution_count": 89,
     "metadata": {},
     "output_type": "execute_result"
    }
   ],
   "source": [
    "full_transactions.element_key.unique().size"
   ]
  },
  {
   "cell_type": "code",
   "execution_count": 90,
   "metadata": {},
   "outputs": [
    {
     "data": {
      "text/plain": [
       "Paid Parking               0.933928\n",
       "Restricted Parking Zone    0.046733\n",
       "Carpool Parking            0.011140\n",
       "No Parking Allowed         0.008199\n",
       "Name: parking_category, dtype: float64"
      ]
     },
     "execution_count": 90,
     "metadata": {},
     "output_type": "execute_result"
    }
   ],
   "source": [
    "full_transactions.parking_category.value_counts()/full_transactions.shape[0]"
   ]
  },
  {
   "cell_type": "code",
   "execution_count": 91,
   "metadata": {},
   "outputs": [],
   "source": [
    "# Nos quedamos con la categoría mayoritaria Paid Parking\n",
    "full_transactions = full_transactions.loc[full_transactions.parking_category == 'Paid Parking']"
   ]
  },
  {
   "cell_type": "markdown",
   "metadata": {},
   "source": [
    "## Completamos la serie con datos meteorológicos"
   ]
  },
  {
   "cell_type": "code",
   "execution_count": 92,
   "metadata": {},
   "outputs": [],
   "source": [
    "meteo = pd.read_csv(os.path.join('./data/seattleWeather_1948-2017.csv'))\n",
    "meteo.columns = meteo.columns.map(lambda x: camelToSnake(x))\n",
    "meteo.date = pd.to_datetime(meteo.date, format=\"%Y-%m-%d\")\n",
    "\n",
    "meteo = meteo.loc[meteo['date'].dt.year == 2016]\n",
    "meteo['day_year'] = meteo.date.dt.dayofyear"
   ]
  },
  {
   "cell_type": "code",
   "execution_count": 93,
   "metadata": {},
   "outputs": [
    {
     "data": {
      "text/plain": [
       "(366, 6)"
      ]
     },
     "execution_count": 93,
     "metadata": {},
     "output_type": "execute_result"
    }
   ],
   "source": [
    "meteo.shape"
   ]
  },
  {
   "cell_type": "code",
   "execution_count": 94,
   "metadata": {},
   "outputs": [],
   "source": [
    "full_transactions_meteo = pd.merge(full_transactions, \n",
    "                                   meteo, on='day_year', how='inner', validate='many_to_one')"
   ]
  },
  {
   "cell_type": "code",
   "execution_count": 97,
   "metadata": {},
   "outputs": [],
   "source": [
    "full_transactions_meteo[['element_key','latitude','longitude','timestamp','paid_parking_area','day_year',\n",
    "                         'occupation_perc','prcp','tmax','tmin']].to_csv('./data/Serie_Total2016.csv', index=False)"
   ]
  },
  {
   "cell_type": "code",
   "execution_count": null,
   "metadata": {},
   "outputs": [],
   "source": []
  }
 ],
 "metadata": {
  "hide_input": false,
  "kernelspec": {
   "display_name": "Python 3",
   "language": "python",
   "name": "python3"
  },
  "language_info": {
   "codemirror_mode": {
    "name": "ipython",
    "version": 3
   },
   "file_extension": ".py",
   "mimetype": "text/x-python",
   "name": "python",
   "nbconvert_exporter": "python",
   "pygments_lexer": "ipython3",
   "version": "3.6.4"
  },
  "toc": {
   "colors": {
    "hover_highlight": "#DAA520",
    "navigate_num": "#000000",
    "navigate_text": "#333333",
    "running_highlight": "#FF0000",
    "selected_highlight": "#FFD700",
    "sidebar_border": "#EEEEEE",
    "wrapper_background": "#FFFFFF"
   },
   "moveMenuLeft": true,
   "nav_menu": {
    "height": "200px",
    "width": "254px"
   },
   "navigate_menu": true,
   "number_sections": true,
   "sideBar": true,
   "threshold": 4,
   "toc_cell": true,
   "toc_section_display": "block",
   "toc_window_display": false,
   "widenNotebook": false
  }
 },
 "nbformat": 4,
 "nbformat_minor": 2
}
