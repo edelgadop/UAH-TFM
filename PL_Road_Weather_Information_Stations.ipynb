{
 "cells": [
  {
   "cell_type": "markdown",
   "metadata": {},
   "source": [
    "# Descarga del fichero"
   ]
  },
  {
   "cell_type": "code",
   "execution_count": 1,
   "metadata": {},
   "outputs": [],
   "source": [
    "import numpy as np\n",
    "import pandas as pd\n",
    "import os\n",
    "import seaborn as sns\n",
    "% matplotlib inline"
   ]
  },
  {
   "cell_type": "code",
   "execution_count": 3,
   "metadata": {},
   "outputs": [],
   "source": [
    "import os\n",
    "import urllib.request\n",
    "\n",
    "def dl_data(url, output):\n",
    "    try:        \n",
    "        f = urllib.request.urlopen(url)\n",
    "        print (\"Downloading \" + url)\n",
    "\n",
    "        os.makedirs(os.path.dirname(output), exist_ok=True)\n",
    "        with open(output, \"wb\") as local_file:\n",
    "            local_file.write(f.read())\n",
    "\n",
    "    except URLError:\n",
    "        print (\"Error\", url)"
   ]
  },
  {
   "cell_type": "markdown",
   "metadata": {},
   "source": [
    "## Esto lo he comentado porque tarda mucho."
   ]
  },
  {
   "cell_type": "code",
   "execution_count": 2,
   "metadata": {},
   "outputs": [],
   "source": [
    "# ¡¡¡¡¡ COMENTADO PARA NO EJECUTAR SIN QUERER YA QUE TARDA MUCHO !!!!!\n",
    "\n",
    "#url = \"https://data.seattle.gov/api/views/egc4-d24i/rows.csv?accessType=DOWNLOAD&bom=true&format=true\"\n",
    "#output1 = './data/Road_Weather_Information_Stations.csv'\n",
    "#dl_data(url,output1)"
   ]
  },
  {
   "cell_type": "code",
   "execution_count": 25,
   "metadata": {},
   "outputs": [],
   "source": [
    "df = pd.read_csv(os.path.join('./data/Road_Weather_Information_Stations.csv'))"
   ]
  },
  {
   "cell_type": "code",
   "execution_count": 26,
   "metadata": {},
   "outputs": [
    {
     "data": {
      "text/html": [
       "<div>\n",
       "<style scoped>\n",
       "    .dataframe tbody tr th:only-of-type {\n",
       "        vertical-align: middle;\n",
       "    }\n",
       "\n",
       "    .dataframe tbody tr th {\n",
       "        vertical-align: top;\n",
       "    }\n",
       "\n",
       "    .dataframe thead th {\n",
       "        text-align: right;\n",
       "    }\n",
       "</style>\n",
       "<table border=\"1\" class=\"dataframe\">\n",
       "  <thead>\n",
       "    <tr style=\"text-align: right;\">\n",
       "      <th></th>\n",
       "      <th>StationLocation</th>\n",
       "      <th>DateTime</th>\n",
       "      <th>RoadSurfaceTemperature</th>\n",
       "      <th>AirTemperature</th>\n",
       "    </tr>\n",
       "  </thead>\n",
       "  <tbody>\n",
       "    <tr>\n",
       "      <th>0</th>\n",
       "      <td>(47.53918, -122.37658)</td>\n",
       "      <td>03/03/2014 12:42:00 PM</td>\n",
       "      <td>53.88</td>\n",
       "      <td>53.88</td>\n",
       "    </tr>\n",
       "    <tr>\n",
       "      <th>1</th>\n",
       "      <td>(47.53918, -122.37658)</td>\n",
       "      <td>03/03/2014 12:43:00 PM</td>\n",
       "      <td>54.05</td>\n",
       "      <td>54.05</td>\n",
       "    </tr>\n",
       "    <tr>\n",
       "      <th>2</th>\n",
       "      <td>(47.53918, -122.37658)</td>\n",
       "      <td>03/03/2014 12:44:00 PM</td>\n",
       "      <td>54.21</td>\n",
       "      <td>54.21</td>\n",
       "    </tr>\n",
       "    <tr>\n",
       "      <th>3</th>\n",
       "      <td>(47.53918, -122.37658)</td>\n",
       "      <td>03/03/2014 12:45:00 PM</td>\n",
       "      <td>54.38</td>\n",
       "      <td>54.38</td>\n",
       "    </tr>\n",
       "    <tr>\n",
       "      <th>4</th>\n",
       "      <td>(47.53918, -122.37658)</td>\n",
       "      <td>03/03/2014 12:46:00 PM</td>\n",
       "      <td>54.54</td>\n",
       "      <td>54.54</td>\n",
       "    </tr>\n",
       "  </tbody>\n",
       "</table>\n",
       "</div>"
      ],
      "text/plain": [
       "          StationLocation                DateTime  RoadSurfaceTemperature  \\\n",
       "0  (47.53918, -122.37658)  03/03/2014 12:42:00 PM                   53.88   \n",
       "1  (47.53918, -122.37658)  03/03/2014 12:43:00 PM                   54.05   \n",
       "2  (47.53918, -122.37658)  03/03/2014 12:44:00 PM                   54.21   \n",
       "3  (47.53918, -122.37658)  03/03/2014 12:45:00 PM                   54.38   \n",
       "4  (47.53918, -122.37658)  03/03/2014 12:46:00 PM                   54.54   \n",
       "\n",
       "   AirTemperature  \n",
       "0           53.88  \n",
       "1           54.05  \n",
       "2           54.21  \n",
       "3           54.38  \n",
       "4           54.54  "
      ]
     },
     "execution_count": 26,
     "metadata": {},
     "output_type": "execute_result"
    }
   ],
   "source": [
    "df = df.drop(columns=['StationName','RecordId'])\n",
    "df.head()"
   ]
  },
  {
   "cell_type": "code",
   "execution_count": 27,
   "metadata": {},
   "outputs": [],
   "source": [
    "df = df[df['DateTime'].str.contains(\"/2016 \")]"
   ]
  },
  {
   "cell_type": "code",
   "execution_count": 28,
   "metadata": {},
   "outputs": [
    {
     "data": {
      "text/html": [
       "<div>\n",
       "<style scoped>\n",
       "    .dataframe tbody tr th:only-of-type {\n",
       "        vertical-align: middle;\n",
       "    }\n",
       "\n",
       "    .dataframe tbody tr th {\n",
       "        vertical-align: top;\n",
       "    }\n",
       "\n",
       "    .dataframe thead th {\n",
       "        text-align: right;\n",
       "    }\n",
       "</style>\n",
       "<table border=\"1\" class=\"dataframe\">\n",
       "  <thead>\n",
       "    <tr style=\"text-align: right;\">\n",
       "      <th></th>\n",
       "      <th>StationLocation</th>\n",
       "      <th>DateTime</th>\n",
       "      <th>RoadSurfaceTemperature</th>\n",
       "      <th>AirTemperature</th>\n",
       "    </tr>\n",
       "  </thead>\n",
       "  <tbody>\n",
       "    <tr>\n",
       "      <th>11165355</th>\n",
       "      <td>(47.53918, -122.37658)</td>\n",
       "      <td>01/01/2016 12:00:00 AM</td>\n",
       "      <td>36.55</td>\n",
       "      <td>36.55</td>\n",
       "    </tr>\n",
       "    <tr>\n",
       "      <th>11165449</th>\n",
       "      <td>(47.598438, -122.335612)</td>\n",
       "      <td>01/01/2016 12:00:00 AM</td>\n",
       "      <td>34.20</td>\n",
       "      <td>38.05</td>\n",
       "    </tr>\n",
       "    <tr>\n",
       "      <th>11165568</th>\n",
       "      <td>(47.643174, -122.347278)</td>\n",
       "      <td>01/01/2016 12:00:00 AM</td>\n",
       "      <td>33.64</td>\n",
       "      <td>32.47</td>\n",
       "    </tr>\n",
       "    <tr>\n",
       "      <th>11165722</th>\n",
       "      <td>(47.66127, -122.301929)</td>\n",
       "      <td>01/01/2016 12:00:00 AM</td>\n",
       "      <td>30.93</td>\n",
       "      <td>30.63</td>\n",
       "    </tr>\n",
       "    <tr>\n",
       "      <th>11165737</th>\n",
       "      <td>(47.692098, -122.31765)</td>\n",
       "      <td>01/01/2016 12:00:00 AM</td>\n",
       "      <td>30.62</td>\n",
       "      <td>30.62</td>\n",
       "    </tr>\n",
       "  </tbody>\n",
       "</table>\n",
       "</div>"
      ],
      "text/plain": [
       "                   StationLocation                DateTime  \\\n",
       "11165355    (47.53918, -122.37658)  01/01/2016 12:00:00 AM   \n",
       "11165449  (47.598438, -122.335612)  01/01/2016 12:00:00 AM   \n",
       "11165568  (47.643174, -122.347278)  01/01/2016 12:00:00 AM   \n",
       "11165722   (47.66127, -122.301929)  01/01/2016 12:00:00 AM   \n",
       "11165737   (47.692098, -122.31765)  01/01/2016 12:00:00 AM   \n",
       "\n",
       "          RoadSurfaceTemperature  AirTemperature  \n",
       "11165355                   36.55           36.55  \n",
       "11165449                   34.20           38.05  \n",
       "11165568                   33.64           32.47  \n",
       "11165722                   30.93           30.63  \n",
       "11165737                   30.62           30.62  "
      ]
     },
     "execution_count": 28,
     "metadata": {},
     "output_type": "execute_result"
    }
   ],
   "source": [
    "df.head()"
   ]
  },
  {
   "cell_type": "code",
   "execution_count": 29,
   "metadata": {},
   "outputs": [
    {
     "data": {
      "text/plain": [
       "(8144988, 4)"
      ]
     },
     "execution_count": 29,
     "metadata": {},
     "output_type": "execute_result"
    }
   ],
   "source": [
    "df.shape"
   ]
  },
  {
   "cell_type": "code",
   "execution_count": 37,
   "metadata": {},
   "outputs": [],
   "source": [
    "condition = df['DateTime'].str.contains(\" 08:\") \\\n",
    "| df['DateTime'].str.contains(\" 09:\") \\\n",
    "| df['DateTime'].str.contains(\" 10:\") \\\n",
    "| df['DateTime'].str.contains(\" 11:\") \\\n",
    "| df['DateTime'].str.contains(\" 12:\") \\\n",
    "| df['DateTime'].str.contains(\" 13:\") \\\n",
    "| df['DateTime'].str.contains(\" 14:\") \\\n",
    "| df['DateTime'].str.contains(\" 15:\") \\\n",
    "| df['DateTime'].str.contains(\" 16:\") \\\n",
    "| df['DateTime'].str.contains(\" 17:\") \\\n",
    "| df['DateTime'].str.contains(\" 18:\") \\\n",
    "| df['DateTime'].str.contains(\" 19:\") \\\n",
    "| df['DateTime'].str.contains(\" 20:\")\n",
    "\n",
    "df= df[condition]"
   ]
  },
  {
   "cell_type": "code",
   "execution_count": 39,
   "metadata": {},
   "outputs": [],
   "source": [
    "df.to_csv(os.path.join('./data/Road_Weather_Information_Stations_2016_08AM_20PM.csv'))"
   ]
  },
  {
   "cell_type": "markdown",
   "metadata": {},
   "source": [
    "# Guardar 2016 de 08:00 a 20:00 FINAL"
   ]
  },
  {
   "cell_type": "code",
   "execution_count": 36,
   "metadata": {},
   "outputs": [],
   "source": [
    "df = pd.read_csv(os.path.join('./data/Road_Weather_Information_Stations_2016_08AM_20PM.csv'))"
   ]
  },
  {
   "cell_type": "code",
   "execution_count": 37,
   "metadata": {},
   "outputs": [
    {
     "data": {
      "text/html": [
       "<div>\n",
       "<style scoped>\n",
       "    .dataframe tbody tr th:only-of-type {\n",
       "        vertical-align: middle;\n",
       "    }\n",
       "\n",
       "    .dataframe tbody tr th {\n",
       "        vertical-align: top;\n",
       "    }\n",
       "\n",
       "    .dataframe thead th {\n",
       "        text-align: right;\n",
       "    }\n",
       "</style>\n",
       "<table border=\"1\" class=\"dataframe\">\n",
       "  <thead>\n",
       "    <tr style=\"text-align: right;\">\n",
       "      <th></th>\n",
       "      <th>Unnamed: 0</th>\n",
       "      <th>StationLocation</th>\n",
       "      <th>DateTime</th>\n",
       "      <th>RoadSurfaceTemperature</th>\n",
       "      <th>AirTemperature</th>\n",
       "    </tr>\n",
       "  </thead>\n",
       "  <tbody>\n",
       "    <tr>\n",
       "      <th>0</th>\n",
       "      <td>11165355</td>\n",
       "      <td>(47.53918, -122.37658)</td>\n",
       "      <td>01/01/2016 12:00:00 AM</td>\n",
       "      <td>36.55</td>\n",
       "      <td>36.55</td>\n",
       "    </tr>\n",
       "    <tr>\n",
       "      <th>1</th>\n",
       "      <td>11165449</td>\n",
       "      <td>(47.598438, -122.335612)</td>\n",
       "      <td>01/01/2016 12:00:00 AM</td>\n",
       "      <td>34.20</td>\n",
       "      <td>38.05</td>\n",
       "    </tr>\n",
       "    <tr>\n",
       "      <th>2</th>\n",
       "      <td>11165568</td>\n",
       "      <td>(47.643174, -122.347278)</td>\n",
       "      <td>01/01/2016 12:00:00 AM</td>\n",
       "      <td>33.64</td>\n",
       "      <td>32.47</td>\n",
       "    </tr>\n",
       "    <tr>\n",
       "      <th>3</th>\n",
       "      <td>11165722</td>\n",
       "      <td>(47.66127, -122.301929)</td>\n",
       "      <td>01/01/2016 12:00:00 AM</td>\n",
       "      <td>30.93</td>\n",
       "      <td>30.63</td>\n",
       "    </tr>\n",
       "    <tr>\n",
       "      <th>4</th>\n",
       "      <td>11165737</td>\n",
       "      <td>(47.692098, -122.31765)</td>\n",
       "      <td>01/01/2016 12:00:00 AM</td>\n",
       "      <td>30.62</td>\n",
       "      <td>30.62</td>\n",
       "    </tr>\n",
       "  </tbody>\n",
       "</table>\n",
       "</div>"
      ],
      "text/plain": [
       "   Unnamed: 0           StationLocation                DateTime  \\\n",
       "0    11165355    (47.53918, -122.37658)  01/01/2016 12:00:00 AM   \n",
       "1    11165449  (47.598438, -122.335612)  01/01/2016 12:00:00 AM   \n",
       "2    11165568  (47.643174, -122.347278)  01/01/2016 12:00:00 AM   \n",
       "3    11165722   (47.66127, -122.301929)  01/01/2016 12:00:00 AM   \n",
       "4    11165737   (47.692098, -122.31765)  01/01/2016 12:00:00 AM   \n",
       "\n",
       "   RoadSurfaceTemperature  AirTemperature  \n",
       "0                   36.55           36.55  \n",
       "1                   34.20           38.05  \n",
       "2                   33.64           32.47  \n",
       "3                   30.93           30.63  \n",
       "4                   30.62           30.62  "
      ]
     },
     "execution_count": 37,
     "metadata": {},
     "output_type": "execute_result"
    }
   ],
   "source": [
    "df.head()"
   ]
  },
  {
   "cell_type": "code",
   "execution_count": 38,
   "metadata": {},
   "outputs": [],
   "source": [
    "df = df.drop(columns=['Unnamed: 0'])"
   ]
  },
  {
   "cell_type": "code",
   "execution_count": 39,
   "metadata": {},
   "outputs": [
    {
     "data": {
      "text/html": [
       "<div>\n",
       "<style scoped>\n",
       "    .dataframe tbody tr th:only-of-type {\n",
       "        vertical-align: middle;\n",
       "    }\n",
       "\n",
       "    .dataframe tbody tr th {\n",
       "        vertical-align: top;\n",
       "    }\n",
       "\n",
       "    .dataframe thead th {\n",
       "        text-align: right;\n",
       "    }\n",
       "</style>\n",
       "<table border=\"1\" class=\"dataframe\">\n",
       "  <thead>\n",
       "    <tr style=\"text-align: right;\">\n",
       "      <th></th>\n",
       "      <th>StationLocation</th>\n",
       "      <th>DateTime</th>\n",
       "      <th>RoadSurfaceTemperature</th>\n",
       "      <th>AirTemperature</th>\n",
       "    </tr>\n",
       "  </thead>\n",
       "  <tbody>\n",
       "    <tr>\n",
       "      <th>0</th>\n",
       "      <td>(47.53918, -122.37658)</td>\n",
       "      <td>01/01/2016 12:00:00 AM</td>\n",
       "      <td>36.55</td>\n",
       "      <td>36.55</td>\n",
       "    </tr>\n",
       "    <tr>\n",
       "      <th>1</th>\n",
       "      <td>(47.598438, -122.335612)</td>\n",
       "      <td>01/01/2016 12:00:00 AM</td>\n",
       "      <td>34.20</td>\n",
       "      <td>38.05</td>\n",
       "    </tr>\n",
       "    <tr>\n",
       "      <th>2</th>\n",
       "      <td>(47.643174, -122.347278)</td>\n",
       "      <td>01/01/2016 12:00:00 AM</td>\n",
       "      <td>33.64</td>\n",
       "      <td>32.47</td>\n",
       "    </tr>\n",
       "    <tr>\n",
       "      <th>3</th>\n",
       "      <td>(47.66127, -122.301929)</td>\n",
       "      <td>01/01/2016 12:00:00 AM</td>\n",
       "      <td>30.93</td>\n",
       "      <td>30.63</td>\n",
       "    </tr>\n",
       "    <tr>\n",
       "      <th>4</th>\n",
       "      <td>(47.692098, -122.31765)</td>\n",
       "      <td>01/01/2016 12:00:00 AM</td>\n",
       "      <td>30.62</td>\n",
       "      <td>30.62</td>\n",
       "    </tr>\n",
       "  </tbody>\n",
       "</table>\n",
       "</div>"
      ],
      "text/plain": [
       "            StationLocation                DateTime  RoadSurfaceTemperature  \\\n",
       "0    (47.53918, -122.37658)  01/01/2016 12:00:00 AM                   36.55   \n",
       "1  (47.598438, -122.335612)  01/01/2016 12:00:00 AM                   34.20   \n",
       "2  (47.643174, -122.347278)  01/01/2016 12:00:00 AM                   33.64   \n",
       "3   (47.66127, -122.301929)  01/01/2016 12:00:00 AM                   30.93   \n",
       "4   (47.692098, -122.31765)  01/01/2016 12:00:00 AM                   30.62   \n",
       "\n",
       "   AirTemperature  \n",
       "0           36.55  \n",
       "1           38.05  \n",
       "2           32.47  \n",
       "3           30.63  \n",
       "4           30.62  "
      ]
     },
     "execution_count": 39,
     "metadata": {},
     "output_type": "execute_result"
    }
   ],
   "source": [
    "df.head()"
   ]
  },
  {
   "cell_type": "code",
   "execution_count": 40,
   "metadata": {},
   "outputs": [],
   "source": [
    "df1 = df[['StationLocation']]\n",
    "df2 = df[['DateTime','RoadSurfaceTemperature', 'AirTemperature']]"
   ]
  },
  {
   "cell_type": "code",
   "execution_count": 41,
   "metadata": {},
   "outputs": [
    {
     "data": {
      "text/html": [
       "<div>\n",
       "<style scoped>\n",
       "    .dataframe tbody tr th:only-of-type {\n",
       "        vertical-align: middle;\n",
       "    }\n",
       "\n",
       "    .dataframe tbody tr th {\n",
       "        vertical-align: top;\n",
       "    }\n",
       "\n",
       "    .dataframe thead th {\n",
       "        text-align: right;\n",
       "    }\n",
       "</style>\n",
       "<table border=\"1\" class=\"dataframe\">\n",
       "  <thead>\n",
       "    <tr style=\"text-align: right;\">\n",
       "      <th></th>\n",
       "      <th>latitude</th>\n",
       "      <th>longitude</th>\n",
       "    </tr>\n",
       "  </thead>\n",
       "  <tbody>\n",
       "    <tr>\n",
       "      <th>0</th>\n",
       "      <td>47.53918</td>\n",
       "      <td>-122.37658</td>\n",
       "    </tr>\n",
       "    <tr>\n",
       "      <th>1</th>\n",
       "      <td>47.598438</td>\n",
       "      <td>-122.335612</td>\n",
       "    </tr>\n",
       "    <tr>\n",
       "      <th>2</th>\n",
       "      <td>47.643174</td>\n",
       "      <td>-122.347278</td>\n",
       "    </tr>\n",
       "    <tr>\n",
       "      <th>3</th>\n",
       "      <td>47.66127</td>\n",
       "      <td>-122.301929</td>\n",
       "    </tr>\n",
       "    <tr>\n",
       "      <th>4</th>\n",
       "      <td>47.692098</td>\n",
       "      <td>-122.31765</td>\n",
       "    </tr>\n",
       "  </tbody>\n",
       "</table>\n",
       "</div>"
      ],
      "text/plain": [
       "    latitude    longitude\n",
       "0   47.53918   -122.37658\n",
       "1  47.598438  -122.335612\n",
       "2  47.643174  -122.347278\n",
       "3   47.66127  -122.301929\n",
       "4  47.692098   -122.31765"
      ]
     },
     "execution_count": 41,
     "metadata": {},
     "output_type": "execute_result"
    }
   ],
   "source": [
    "df1 = df1['StationLocation'].str.strip('()')   \\\n",
    "                   .str.split(', ', expand=True)   \\\n",
    "                   .rename(columns={0:'latitude', 1:'longitude'}) \n",
    "df1.head()"
   ]
  },
  {
   "cell_type": "code",
   "execution_count": 42,
   "metadata": {},
   "outputs": [
    {
     "data": {
      "text/html": [
       "<div>\n",
       "<style scoped>\n",
       "    .dataframe tbody tr th:only-of-type {\n",
       "        vertical-align: middle;\n",
       "    }\n",
       "\n",
       "    .dataframe tbody tr th {\n",
       "        vertical-align: top;\n",
       "    }\n",
       "\n",
       "    .dataframe thead th {\n",
       "        text-align: right;\n",
       "    }\n",
       "</style>\n",
       "<table border=\"1\" class=\"dataframe\">\n",
       "  <thead>\n",
       "    <tr style=\"text-align: right;\">\n",
       "      <th></th>\n",
       "      <th>latitude</th>\n",
       "      <th>longitude</th>\n",
       "      <th>DateTime</th>\n",
       "      <th>RoadSurfaceTemperature</th>\n",
       "      <th>AirTemperature</th>\n",
       "    </tr>\n",
       "  </thead>\n",
       "  <tbody>\n",
       "    <tr>\n",
       "      <th>0</th>\n",
       "      <td>47.53918</td>\n",
       "      <td>-122.37658</td>\n",
       "      <td>01/01/2016 12:00:00 AM</td>\n",
       "      <td>36.55</td>\n",
       "      <td>36.55</td>\n",
       "    </tr>\n",
       "    <tr>\n",
       "      <th>1</th>\n",
       "      <td>47.598438</td>\n",
       "      <td>-122.335612</td>\n",
       "      <td>01/01/2016 12:00:00 AM</td>\n",
       "      <td>34.20</td>\n",
       "      <td>38.05</td>\n",
       "    </tr>\n",
       "    <tr>\n",
       "      <th>2</th>\n",
       "      <td>47.643174</td>\n",
       "      <td>-122.347278</td>\n",
       "      <td>01/01/2016 12:00:00 AM</td>\n",
       "      <td>33.64</td>\n",
       "      <td>32.47</td>\n",
       "    </tr>\n",
       "    <tr>\n",
       "      <th>3</th>\n",
       "      <td>47.66127</td>\n",
       "      <td>-122.301929</td>\n",
       "      <td>01/01/2016 12:00:00 AM</td>\n",
       "      <td>30.93</td>\n",
       "      <td>30.63</td>\n",
       "    </tr>\n",
       "    <tr>\n",
       "      <th>4</th>\n",
       "      <td>47.692098</td>\n",
       "      <td>-122.31765</td>\n",
       "      <td>01/01/2016 12:00:00 AM</td>\n",
       "      <td>30.62</td>\n",
       "      <td>30.62</td>\n",
       "    </tr>\n",
       "  </tbody>\n",
       "</table>\n",
       "</div>"
      ],
      "text/plain": [
       "    latitude    longitude                DateTime  RoadSurfaceTemperature  \\\n",
       "0   47.53918   -122.37658  01/01/2016 12:00:00 AM                   36.55   \n",
       "1  47.598438  -122.335612  01/01/2016 12:00:00 AM                   34.20   \n",
       "2  47.643174  -122.347278  01/01/2016 12:00:00 AM                   33.64   \n",
       "3   47.66127  -122.301929  01/01/2016 12:00:00 AM                   30.93   \n",
       "4  47.692098   -122.31765  01/01/2016 12:00:00 AM                   30.62   \n",
       "\n",
       "   AirTemperature  \n",
       "0           36.55  \n",
       "1           38.05  \n",
       "2           32.47  \n",
       "3           30.63  \n",
       "4           30.62  "
      ]
     },
     "execution_count": 42,
     "metadata": {},
     "output_type": "execute_result"
    }
   ],
   "source": [
    "dfpois = pd.concat([df1, df2], axis=1)\n",
    "dfpois.head()"
   ]
  },
  {
   "cell_type": "code",
   "execution_count": 43,
   "metadata": {},
   "outputs": [
    {
     "data": {
      "text/html": [
       "<div>\n",
       "<style scoped>\n",
       "    .dataframe tbody tr th:only-of-type {\n",
       "        vertical-align: middle;\n",
       "    }\n",
       "\n",
       "    .dataframe tbody tr th {\n",
       "        vertical-align: top;\n",
       "    }\n",
       "\n",
       "    .dataframe thead th {\n",
       "        text-align: right;\n",
       "    }\n",
       "</style>\n",
       "<table border=\"1\" class=\"dataframe\">\n",
       "  <thead>\n",
       "    <tr style=\"text-align: right;\">\n",
       "      <th></th>\n",
       "      <th>latitude</th>\n",
       "      <th>longitude</th>\n",
       "      <th>DateTime</th>\n",
       "      <th>RoadSurfaceTemperature</th>\n",
       "      <th>AirTemperature</th>\n",
       "    </tr>\n",
       "  </thead>\n",
       "  <tbody>\n",
       "    <tr>\n",
       "      <th>0</th>\n",
       "      <td>47.53918</td>\n",
       "      <td>-122.37658</td>\n",
       "      <td>01/01/2016 12:00:00 AM</td>\n",
       "      <td>2.527778</td>\n",
       "      <td>2.527778</td>\n",
       "    </tr>\n",
       "    <tr>\n",
       "      <th>1</th>\n",
       "      <td>47.598438</td>\n",
       "      <td>-122.335612</td>\n",
       "      <td>01/01/2016 12:00:00 AM</td>\n",
       "      <td>1.222222</td>\n",
       "      <td>3.361111</td>\n",
       "    </tr>\n",
       "    <tr>\n",
       "      <th>2</th>\n",
       "      <td>47.643174</td>\n",
       "      <td>-122.347278</td>\n",
       "      <td>01/01/2016 12:00:00 AM</td>\n",
       "      <td>0.911111</td>\n",
       "      <td>0.261111</td>\n",
       "    </tr>\n",
       "    <tr>\n",
       "      <th>3</th>\n",
       "      <td>47.66127</td>\n",
       "      <td>-122.301929</td>\n",
       "      <td>01/01/2016 12:00:00 AM</td>\n",
       "      <td>-0.594444</td>\n",
       "      <td>-0.761111</td>\n",
       "    </tr>\n",
       "    <tr>\n",
       "      <th>4</th>\n",
       "      <td>47.692098</td>\n",
       "      <td>-122.31765</td>\n",
       "      <td>01/01/2016 12:00:00 AM</td>\n",
       "      <td>-0.766667</td>\n",
       "      <td>-0.766667</td>\n",
       "    </tr>\n",
       "  </tbody>\n",
       "</table>\n",
       "</div>"
      ],
      "text/plain": [
       "    latitude    longitude                DateTime  RoadSurfaceTemperature  \\\n",
       "0   47.53918   -122.37658  01/01/2016 12:00:00 AM                2.527778   \n",
       "1  47.598438  -122.335612  01/01/2016 12:00:00 AM                1.222222   \n",
       "2  47.643174  -122.347278  01/01/2016 12:00:00 AM                0.911111   \n",
       "3   47.66127  -122.301929  01/01/2016 12:00:00 AM               -0.594444   \n",
       "4  47.692098   -122.31765  01/01/2016 12:00:00 AM               -0.766667   \n",
       "\n",
       "   AirTemperature  \n",
       "0        2.527778  \n",
       "1        3.361111  \n",
       "2        0.261111  \n",
       "3       -0.761111  \n",
       "4       -0.766667  "
      ]
     },
     "execution_count": 43,
     "metadata": {},
     "output_type": "execute_result"
    }
   ],
   "source": [
    "#(Fahrenheit - 32) * 5.0/9.0\n",
    "\n",
    "dfpois.RoadSurfaceTemperature = (dfpois.RoadSurfaceTemperature - 32) * 5.0/9.0\n",
    "dfpois.AirTemperature = (dfpois.AirTemperature - 32) * 5.0/9.0\n",
    "\n",
    "dfpois.head()"
   ]
  },
  {
   "cell_type": "code",
   "execution_count": null,
   "metadata": {},
   "outputs": [],
   "source": [
    "dfpois.DateTime = pd.to_datetime(dfpois.DateTime)"
   ]
  },
  {
   "cell_type": "code",
   "execution_count": null,
   "metadata": {},
   "outputs": [],
   "source": [
    "dfpois.head()"
   ]
  },
  {
   "cell_type": "code",
   "execution_count": null,
   "metadata": {},
   "outputs": [],
   "source": [
    "dfpois.to_csv(os.path.join('./data/Road_Weather_Information_Stations_2016_08AM_20PM_FINAL.csv'))"
   ]
  },
  {
   "cell_type": "code",
   "execution_count": null,
   "metadata": {},
   "outputs": [],
   "source": []
  }
 ],
 "metadata": {
  "kernelspec": {
   "display_name": "Python 3",
   "language": "python",
   "name": "python3"
  },
  "language_info": {
   "codemirror_mode": {
    "name": "ipython",
    "version": 3
   },
   "file_extension": ".py",
   "mimetype": "text/x-python",
   "name": "python",
   "nbconvert_exporter": "python",
   "pygments_lexer": "ipython3",
   "version": "3.6.3"
  }
 },
 "nbformat": 4,
 "nbformat_minor": 2
}
