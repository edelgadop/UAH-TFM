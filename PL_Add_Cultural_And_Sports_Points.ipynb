{
 "cells": [
  {
   "cell_type": "code",
   "execution_count": 1,
   "metadata": {},
   "outputs": [],
   "source": [
    "import numpy as np\n",
    "import pandas as pd\n",
    "import os\n",
    "import seaborn as sns\n",
    "% matplotlib inline"
   ]
  },
  {
   "cell_type": "code",
   "execution_count": 2,
   "metadata": {},
   "outputs": [],
   "source": [
    "#cargo ficheros de ejecuciones anteriores\n",
    "df = pd.read_csv(os.path.join('./data/Serie_Total2016.csv'))\n",
    "coord = pd.read_csv(os.path.join('./data/Coord_EK.csv'))"
   ]
  },
  {
   "cell_type": "code",
   "execution_count": 3,
   "metadata": {},
   "outputs": [],
   "source": [
    "#Eva: descarga de ficheros\n",
    "import os\n",
    "import urllib.request\n",
    "\n",
    "def dl_data(url, output):\n",
    "    try:        \n",
    "        f = urllib.request.urlopen(url)\n",
    "        print (\"Downloading \" + url)\n",
    "\n",
    "        os.makedirs(os.path.dirname(output), exist_ok=True)\n",
    "        with open(output, \"wb\") as local_file:\n",
    "            local_file.write(f.read())\n",
    "\n",
    "    except URLError:\n",
    "        print (\"Error\", url)"
   ]
  },
  {
   "cell_type": "markdown",
   "metadata": {},
   "source": [
    "## Puntos culturales"
   ]
  },
  {
   "cell_type": "code",
   "execution_count": 4,
   "metadata": {},
   "outputs": [
    {
     "name": "stdout",
     "output_type": "stream",
     "text": [
      "Downloading https://data.seattle.gov/api/views/vsxr-aydq/rows.csv?accessType=DOWNLOAD\n"
     ]
    }
   ],
   "source": [
    "#descarga de lugares culturales de Seattle\n",
    "url = \"https://data.seattle.gov/api/views/vsxr-aydq/rows.csv?accessType=DOWNLOAD\"\n",
    "output1 = './data/Seattle_Cultural_Space_Inventory.csv'\n",
    "dl_data(url,output1)"
   ]
  },
  {
   "cell_type": "code",
   "execution_count": 5,
   "metadata": {},
   "outputs": [
    {
     "data": {
      "text/html": [
       "<div>\n",
       "<style scoped>\n",
       "    .dataframe tbody tr th:only-of-type {\n",
       "        vertical-align: middle;\n",
       "    }\n",
       "\n",
       "    .dataframe tbody tr th {\n",
       "        vertical-align: top;\n",
       "    }\n",
       "\n",
       "    .dataframe thead th {\n",
       "        text-align: right;\n",
       "    }\n",
       "</style>\n",
       "<table border=\"1\" class=\"dataframe\">\n",
       "  <thead>\n",
       "    <tr style=\"text-align: right;\">\n",
       "      <th></th>\n",
       "      <th>Location</th>\n",
       "    </tr>\n",
       "  </thead>\n",
       "  <tbody>\n",
       "    <tr>\n",
       "      <th>0</th>\n",
       "      <td>(47.658562, -122.313115)</td>\n",
       "    </tr>\n",
       "    <tr>\n",
       "      <th>1</th>\n",
       "      <td>(47.601458, -122.330209)</td>\n",
       "    </tr>\n",
       "    <tr>\n",
       "      <th>2</th>\n",
       "      <td>(47.556461, -122.268508)</td>\n",
       "    </tr>\n",
       "    <tr>\n",
       "      <th>3</th>\n",
       "      <td>(47.551722, -122.278061)</td>\n",
       "    </tr>\n",
       "    <tr>\n",
       "      <th>4</th>\n",
       "      <td>(47.556793, -122.283927)</td>\n",
       "    </tr>\n",
       "  </tbody>\n",
       "</table>\n",
       "</div>"
      ],
      "text/plain": [
       "                   Location\n",
       "0  (47.658562, -122.313115)\n",
       "1  (47.601458, -122.330209)\n",
       "2  (47.556461, -122.268508)\n",
       "3  (47.551722, -122.278061)\n",
       "4  (47.556793, -122.283927)"
      ]
     },
     "execution_count": 5,
     "metadata": {},
     "output_type": "execute_result"
    }
   ],
   "source": [
    "# cargo puntos culturales de Seattle\n",
    "dfpois = pd.read_csv(os.path.join('./data/Seattle_Cultural_Space_Inventory.csv'))\n",
    "# me quedo con la localización\n",
    "dfpois = dfpois[['Location']]\n",
    "dfpois.head()"
   ]
  },
  {
   "cell_type": "code",
   "execution_count": 6,
   "metadata": {},
   "outputs": [
    {
     "data": {
      "text/html": [
       "<div>\n",
       "<style scoped>\n",
       "    .dataframe tbody tr th:only-of-type {\n",
       "        vertical-align: middle;\n",
       "    }\n",
       "\n",
       "    .dataframe tbody tr th {\n",
       "        vertical-align: top;\n",
       "    }\n",
       "\n",
       "    .dataframe thead th {\n",
       "        text-align: right;\n",
       "    }\n",
       "</style>\n",
       "<table border=\"1\" class=\"dataframe\">\n",
       "  <thead>\n",
       "    <tr style=\"text-align: right;\">\n",
       "      <th></th>\n",
       "      <th>latitude</th>\n",
       "      <th>longitude</th>\n",
       "    </tr>\n",
       "  </thead>\n",
       "  <tbody>\n",
       "    <tr>\n",
       "      <th>0</th>\n",
       "      <td>47.658562</td>\n",
       "      <td>-122.313115</td>\n",
       "    </tr>\n",
       "    <tr>\n",
       "      <th>1</th>\n",
       "      <td>47.601458</td>\n",
       "      <td>-122.330209</td>\n",
       "    </tr>\n",
       "    <tr>\n",
       "      <th>2</th>\n",
       "      <td>47.556461</td>\n",
       "      <td>-122.268508</td>\n",
       "    </tr>\n",
       "    <tr>\n",
       "      <th>3</th>\n",
       "      <td>47.551722</td>\n",
       "      <td>-122.278061</td>\n",
       "    </tr>\n",
       "    <tr>\n",
       "      <th>4</th>\n",
       "      <td>47.556793</td>\n",
       "      <td>-122.283927</td>\n",
       "    </tr>\n",
       "  </tbody>\n",
       "</table>\n",
       "</div>"
      ],
      "text/plain": [
       "    latitude    longitude\n",
       "0  47.658562  -122.313115\n",
       "1  47.601458  -122.330209\n",
       "2  47.556461  -122.268508\n",
       "3  47.551722  -122.278061\n",
       "4  47.556793  -122.283927"
      ]
     },
     "execution_count": 6,
     "metadata": {},
     "output_type": "execute_result"
    }
   ],
   "source": [
    "# separo localización en coordenadas\n",
    "dfpois = dfpois['Location'].str.strip('()')   \\\n",
    "                   .str.split(', ', expand=True)   \\\n",
    "                   .rename(columns={0:'latitude', 1:'longitude'}) \n",
    "dfpois.head()"
   ]
  },
  {
   "cell_type": "code",
   "execution_count": 7,
   "metadata": {},
   "outputs": [],
   "source": [
    "# esta función es para calcular la distancia entre dis puntos pero no la EUCLIDEA sino teniendo en cuenta la curvatura de la\n",
    "# tierra.\n",
    "from math import radians, cos, sin, asin, sqrt, acos\n",
    "\n",
    "def haversine(lon1, lat1, lon2, lat2):\n",
    "    # convert decimal degrees to radians \n",
    "    lon1, lat1, lon2, lat2 = map(radians, [lon1, lat1, lon2, lat2])\n",
    "    # haversine formula \n",
    "    dlon = lon2 - lon1 \n",
    "    dlat = lat2 - lat1 \n",
    "    a = sin(dlat/2)**2 + cos(lat1) * cos(lat2) * sin(dlon/2)**2\n",
    "    c = 2 * asin(sqrt(a)) \n",
    "    r = 6373 # Radius of earth kilometers\n",
    "    return c * r"
   ]
  },
  {
   "cell_type": "code",
   "execution_count": 8,
   "metadata": {},
   "outputs": [],
   "source": [
    "# voy a crear una lista de element_key con algun punto cercano (<=300 metros)\n",
    "# una vez que un element_key tiene un punto cercano ya no miro si tiene otros (break)\n",
    "listad = []\n",
    "for index2, row2 in coord.iterrows():\n",
    "    ek = row2['element_key']\n",
    "    lat2 = pd.to_numeric(row2['latitude'])\n",
    "    lon2 = pd.to_numeric(row2['longitude'])\n",
    "    for index, row in dfpois.iterrows():\n",
    "        lat1 = pd.to_numeric(row['latitude'])\n",
    "        lon1 = pd.to_numeric(row['longitude'])\n",
    "        dist = haversine(lon1, lat1, lon2, lat2)\n",
    "        if dist <= 0.3:\n",
    "            listad.append([ek,1])\n",
    "            break"
   ]
  },
  {
   "cell_type": "code",
   "execution_count": 9,
   "metadata": {},
   "outputs": [
    {
     "data": {
      "text/html": [
       "<div>\n",
       "<style scoped>\n",
       "    .dataframe tbody tr th:only-of-type {\n",
       "        vertical-align: middle;\n",
       "    }\n",
       "\n",
       "    .dataframe tbody tr th {\n",
       "        vertical-align: top;\n",
       "    }\n",
       "\n",
       "    .dataframe thead th {\n",
       "        text-align: right;\n",
       "    }\n",
       "</style>\n",
       "<table border=\"1\" class=\"dataframe\">\n",
       "  <thead>\n",
       "    <tr style=\"text-align: right;\">\n",
       "      <th></th>\n",
       "      <th>element_key</th>\n",
       "      <th>cult_poi</th>\n",
       "    </tr>\n",
       "  </thead>\n",
       "  <tbody>\n",
       "    <tr>\n",
       "      <th>0</th>\n",
       "      <td>1001</td>\n",
       "      <td>1</td>\n",
       "    </tr>\n",
       "    <tr>\n",
       "      <th>1</th>\n",
       "      <td>1002</td>\n",
       "      <td>1</td>\n",
       "    </tr>\n",
       "    <tr>\n",
       "      <th>2</th>\n",
       "      <td>1005</td>\n",
       "      <td>1</td>\n",
       "    </tr>\n",
       "    <tr>\n",
       "      <th>3</th>\n",
       "      <td>1006</td>\n",
       "      <td>1</td>\n",
       "    </tr>\n",
       "    <tr>\n",
       "      <th>4</th>\n",
       "      <td>1009</td>\n",
       "      <td>1</td>\n",
       "    </tr>\n",
       "  </tbody>\n",
       "</table>\n",
       "</div>"
      ],
      "text/plain": [
       "   element_key  cult_poi\n",
       "0         1001         1\n",
       "1         1002         1\n",
       "2         1005         1\n",
       "3         1006         1\n",
       "4         1009         1"
      ]
     },
     "execution_count": 9,
     "metadata": {},
     "output_type": "execute_result"
    }
   ],
   "source": [
    "# creo in dataframe temporal con la lista anterior\n",
    "pdx = pd.DataFrame(listad, columns = ['element_key','cult_poi'])\n",
    "pdx.element_key = pdx.element_key.astype(int)\n",
    "pdx.cult_poi = pdx.cult_poi.astype(int)\n",
    "pdx.head()\n"
   ]
  },
  {
   "cell_type": "code",
   "execution_count": 10,
   "metadata": {},
   "outputs": [
    {
     "data": {
      "text/html": [
       "<div>\n",
       "<style scoped>\n",
       "    .dataframe tbody tr th:only-of-type {\n",
       "        vertical-align: middle;\n",
       "    }\n",
       "\n",
       "    .dataframe tbody tr th {\n",
       "        vertical-align: top;\n",
       "    }\n",
       "\n",
       "    .dataframe thead th {\n",
       "        text-align: right;\n",
       "    }\n",
       "</style>\n",
       "<table border=\"1\" class=\"dataframe\">\n",
       "  <thead>\n",
       "    <tr style=\"text-align: right;\">\n",
       "      <th></th>\n",
       "      <th>element_key</th>\n",
       "      <th>cult_poi</th>\n",
       "    </tr>\n",
       "  </thead>\n",
       "  <tbody>\n",
       "    <tr>\n",
       "      <th>0</th>\n",
       "      <td>1001</td>\n",
       "      <td>1</td>\n",
       "    </tr>\n",
       "    <tr>\n",
       "      <th>1</th>\n",
       "      <td>1002</td>\n",
       "      <td>1</td>\n",
       "    </tr>\n",
       "    <tr>\n",
       "      <th>2</th>\n",
       "      <td>1005</td>\n",
       "      <td>1</td>\n",
       "    </tr>\n",
       "    <tr>\n",
       "      <th>3</th>\n",
       "      <td>1006</td>\n",
       "      <td>1</td>\n",
       "    </tr>\n",
       "    <tr>\n",
       "      <th>4</th>\n",
       "      <td>1009</td>\n",
       "      <td>1</td>\n",
       "    </tr>\n",
       "  </tbody>\n",
       "</table>\n",
       "</div>"
      ],
      "text/plain": [
       "   element_key  cult_poi\n",
       "0         1001         1\n",
       "1         1002         1\n",
       "2         1005         1\n",
       "3         1006         1\n",
       "4         1009         1"
      ]
     },
     "execution_count": 10,
     "metadata": {},
     "output_type": "execute_result"
    }
   ],
   "source": [
    "pdx.head()"
   ]
  },
  {
   "cell_type": "code",
   "execution_count": 11,
   "metadata": {},
   "outputs": [],
   "source": [
    "# al final hago un merge con el dataset de transacciones\n",
    "df_final = pd.merge(df, pdx, how='left', on='element_key')"
   ]
  },
  {
   "cell_type": "code",
   "execution_count": 12,
   "metadata": {},
   "outputs": [
    {
     "data": {
      "text/html": [
       "<div>\n",
       "<style scoped>\n",
       "    .dataframe tbody tr th:only-of-type {\n",
       "        vertical-align: middle;\n",
       "    }\n",
       "\n",
       "    .dataframe tbody tr th {\n",
       "        vertical-align: top;\n",
       "    }\n",
       "\n",
       "    .dataframe thead th {\n",
       "        text-align: right;\n",
       "    }\n",
       "</style>\n",
       "<table border=\"1\" class=\"dataframe\">\n",
       "  <thead>\n",
       "    <tr style=\"text-align: right;\">\n",
       "      <th></th>\n",
       "      <th>element_key</th>\n",
       "      <th>latitude</th>\n",
       "      <th>longitude</th>\n",
       "      <th>timestamp</th>\n",
       "      <th>occupation_perc</th>\n",
       "      <th>prcp</th>\n",
       "      <th>tmax</th>\n",
       "      <th>tmin</th>\n",
       "      <th>cult_poi</th>\n",
       "    </tr>\n",
       "  </thead>\n",
       "  <tbody>\n",
       "    <tr>\n",
       "      <th>0</th>\n",
       "      <td>35693</td>\n",
       "      <td>47.619158</td>\n",
       "      <td>-122.346457</td>\n",
       "      <td>2016-01-02 00:00:00</td>\n",
       "      <td>28.57</td>\n",
       "      <td>0.0</td>\n",
       "      <td>42</td>\n",
       "      <td>25</td>\n",
       "      <td>1</td>\n",
       "    </tr>\n",
       "    <tr>\n",
       "      <th>1</th>\n",
       "      <td>53549</td>\n",
       "      <td>47.628175</td>\n",
       "      <td>-122.341132</td>\n",
       "      <td>2016-01-02 00:00:00</td>\n",
       "      <td>3.12</td>\n",
       "      <td>0.0</td>\n",
       "      <td>42</td>\n",
       "      <td>25</td>\n",
       "      <td>0</td>\n",
       "    </tr>\n",
       "    <tr>\n",
       "      <th>2</th>\n",
       "      <td>11881</td>\n",
       "      <td>47.619156</td>\n",
       "      <td>-122.333107</td>\n",
       "      <td>2016-01-02 02:00:00</td>\n",
       "      <td>10.00</td>\n",
       "      <td>0.0</td>\n",
       "      <td>42</td>\n",
       "      <td>25</td>\n",
       "      <td>1</td>\n",
       "    </tr>\n",
       "    <tr>\n",
       "      <th>3</th>\n",
       "      <td>9393</td>\n",
       "      <td>47.621441</td>\n",
       "      <td>-122.335970</td>\n",
       "      <td>2016-01-02 03:00:00</td>\n",
       "      <td>20.00</td>\n",
       "      <td>0.0</td>\n",
       "      <td>42</td>\n",
       "      <td>25</td>\n",
       "      <td>1</td>\n",
       "    </tr>\n",
       "    <tr>\n",
       "      <th>4</th>\n",
       "      <td>11133</td>\n",
       "      <td>47.619815</td>\n",
       "      <td>-122.348131</td>\n",
       "      <td>2016-01-02 04:00:00</td>\n",
       "      <td>20.00</td>\n",
       "      <td>0.0</td>\n",
       "      <td>42</td>\n",
       "      <td>25</td>\n",
       "      <td>1</td>\n",
       "    </tr>\n",
       "  </tbody>\n",
       "</table>\n",
       "</div>"
      ],
      "text/plain": [
       "   element_key   latitude   longitude            timestamp  occupation_perc  \\\n",
       "0        35693  47.619158 -122.346457  2016-01-02 00:00:00            28.57   \n",
       "1        53549  47.628175 -122.341132  2016-01-02 00:00:00             3.12   \n",
       "2        11881  47.619156 -122.333107  2016-01-02 02:00:00            10.00   \n",
       "3         9393  47.621441 -122.335970  2016-01-02 03:00:00            20.00   \n",
       "4        11133  47.619815 -122.348131  2016-01-02 04:00:00            20.00   \n",
       "\n",
       "   prcp  tmax  tmin  cult_poi  \n",
       "0   0.0    42    25         1  \n",
       "1   0.0    42    25         0  \n",
       "2   0.0    42    25         1  \n",
       "3   0.0    42    25         1  \n",
       "4   0.0    42    25         1  "
      ]
     },
     "execution_count": 12,
     "metadata": {},
     "output_type": "execute_result"
    }
   ],
   "source": [
    "# los que no tienen poi los marco a 0\n",
    "df_final.fillna(0, inplace=True)\n",
    "df_final.cult_poi = df_final.cult_poi.astype(int)\n",
    "df_final.head()"
   ]
  },
  {
   "cell_type": "code",
   "execution_count": 13,
   "metadata": {},
   "outputs": [
    {
     "data": {
      "text/html": [
       "<div>\n",
       "<style scoped>\n",
       "    .dataframe tbody tr th:only-of-type {\n",
       "        vertical-align: middle;\n",
       "    }\n",
       "\n",
       "    .dataframe tbody tr th {\n",
       "        vertical-align: top;\n",
       "    }\n",
       "\n",
       "    .dataframe thead th {\n",
       "        text-align: right;\n",
       "    }\n",
       "</style>\n",
       "<table border=\"1\" class=\"dataframe\">\n",
       "  <thead>\n",
       "    <tr style=\"text-align: right;\">\n",
       "      <th></th>\n",
       "      <th>element_key</th>\n",
       "      <th>latitude</th>\n",
       "      <th>longitude</th>\n",
       "      <th>timestamp</th>\n",
       "      <th>occupation_perc</th>\n",
       "      <th>prcp</th>\n",
       "      <th>tmax</th>\n",
       "      <th>tmin</th>\n",
       "      <th>cult_poi</th>\n",
       "    </tr>\n",
       "  </thead>\n",
       "  <tbody>\n",
       "    <tr>\n",
       "      <th>0</th>\n",
       "      <td>35693</td>\n",
       "      <td>47.619158</td>\n",
       "      <td>-122.346457</td>\n",
       "      <td>2016-01-02 00:00:00</td>\n",
       "      <td>28.57</td>\n",
       "      <td>0.0</td>\n",
       "      <td>42</td>\n",
       "      <td>25</td>\n",
       "      <td>1</td>\n",
       "    </tr>\n",
       "    <tr>\n",
       "      <th>1</th>\n",
       "      <td>53549</td>\n",
       "      <td>47.628175</td>\n",
       "      <td>-122.341132</td>\n",
       "      <td>2016-01-02 00:00:00</td>\n",
       "      <td>3.12</td>\n",
       "      <td>0.0</td>\n",
       "      <td>42</td>\n",
       "      <td>25</td>\n",
       "      <td>0</td>\n",
       "    </tr>\n",
       "    <tr>\n",
       "      <th>2</th>\n",
       "      <td>11881</td>\n",
       "      <td>47.619156</td>\n",
       "      <td>-122.333107</td>\n",
       "      <td>2016-01-02 02:00:00</td>\n",
       "      <td>10.00</td>\n",
       "      <td>0.0</td>\n",
       "      <td>42</td>\n",
       "      <td>25</td>\n",
       "      <td>1</td>\n",
       "    </tr>\n",
       "    <tr>\n",
       "      <th>3</th>\n",
       "      <td>9393</td>\n",
       "      <td>47.621441</td>\n",
       "      <td>-122.335970</td>\n",
       "      <td>2016-01-02 03:00:00</td>\n",
       "      <td>20.00</td>\n",
       "      <td>0.0</td>\n",
       "      <td>42</td>\n",
       "      <td>25</td>\n",
       "      <td>1</td>\n",
       "    </tr>\n",
       "    <tr>\n",
       "      <th>4</th>\n",
       "      <td>11133</td>\n",
       "      <td>47.619815</td>\n",
       "      <td>-122.348131</td>\n",
       "      <td>2016-01-02 04:00:00</td>\n",
       "      <td>20.00</td>\n",
       "      <td>0.0</td>\n",
       "      <td>42</td>\n",
       "      <td>25</td>\n",
       "      <td>1</td>\n",
       "    </tr>\n",
       "  </tbody>\n",
       "</table>\n",
       "</div>"
      ],
      "text/plain": [
       "   element_key   latitude   longitude            timestamp  occupation_perc  \\\n",
       "0        35693  47.619158 -122.346457  2016-01-02 00:00:00            28.57   \n",
       "1        53549  47.628175 -122.341132  2016-01-02 00:00:00             3.12   \n",
       "2        11881  47.619156 -122.333107  2016-01-02 02:00:00            10.00   \n",
       "3         9393  47.621441 -122.335970  2016-01-02 03:00:00            20.00   \n",
       "4        11133  47.619815 -122.348131  2016-01-02 04:00:00            20.00   \n",
       "\n",
       "   prcp  tmax  tmin  cult_poi  \n",
       "0   0.0    42    25         1  \n",
       "1   0.0    42    25         0  \n",
       "2   0.0    42    25         1  \n",
       "3   0.0    42    25         1  \n",
       "4   0.0    42    25         1  "
      ]
     },
     "execution_count": 13,
     "metadata": {},
     "output_type": "execute_result"
    }
   ],
   "source": [
    "df_final.head()"
   ]
  },
  {
   "cell_type": "code",
   "execution_count": 14,
   "metadata": {},
   "outputs": [],
   "source": [
    "df_final.to_csv('./data/Serie_Total2016_cult_pois.csv')"
   ]
  },
  {
   "cell_type": "markdown",
   "metadata": {},
   "source": [
    "## Baseball"
   ]
  },
  {
   "cell_type": "code",
   "execution_count": 17,
   "metadata": {},
   "outputs": [],
   "source": [
    "# instalar este paquete\n",
    "# conda install -c scitools/label/archive shapely\n",
    "from shapely.geometry import Point\n",
    "from shapely.geometry.multipolygon import MultiPolygon\n",
    "from shapely import wkt\n",
    "from shapely.wkt import loads"
   ]
  },
  {
   "cell_type": "code",
   "execution_count": 18,
   "metadata": {},
   "outputs": [
    {
     "name": "stdout",
     "output_type": "stream",
     "text": [
      "Downloading https://data.seattle.gov/api/views/6v75-vrvs/rows.csv?accessType=DOWNLOAD\n"
     ]
    }
   ],
   "source": [
    "url = \"https://data.seattle.gov/api/views/6v75-vrvs/rows.csv?accessType=DOWNLOAD\"\n",
    "output1 = './data/Baseball_Field.csv'\n",
    "dl_data(url,output1)"
   ]
  },
  {
   "cell_type": "code",
   "execution_count": 19,
   "metadata": {},
   "outputs": [],
   "source": [
    "dfpois = pd.read_csv(os.path.join('./data/Baseball_Field.csv'))"
   ]
  },
  {
   "cell_type": "code",
   "execution_count": 20,
   "metadata": {},
   "outputs": [
    {
     "data": {
      "text/html": [
       "<div>\n",
       "<style scoped>\n",
       "    .dataframe tbody tr th:only-of-type {\n",
       "        vertical-align: middle;\n",
       "    }\n",
       "\n",
       "    .dataframe tbody tr th {\n",
       "        vertical-align: top;\n",
       "    }\n",
       "\n",
       "    .dataframe thead th {\n",
       "        text-align: right;\n",
       "    }\n",
       "</style>\n",
       "<table border=\"1\" class=\"dataframe\">\n",
       "  <thead>\n",
       "    <tr style=\"text-align: right;\">\n",
       "      <th></th>\n",
       "      <th>the_geom</th>\n",
       "    </tr>\n",
       "  </thead>\n",
       "  <tbody>\n",
       "    <tr>\n",
       "      <th>0</th>\n",
       "      <td>MULTIPOLYGON (((-122.27259129399673 47.5260192...</td>\n",
       "    </tr>\n",
       "    <tr>\n",
       "      <th>1</th>\n",
       "      <td>MULTIPOLYGON (((-122.3019285062559 47.66868012...</td>\n",
       "    </tr>\n",
       "    <tr>\n",
       "      <th>2</th>\n",
       "      <td>MULTIPOLYGON (((-122.31492060232524 47.5861955...</td>\n",
       "    </tr>\n",
       "    <tr>\n",
       "      <th>3</th>\n",
       "      <td>MULTIPOLYGON (((-122.34217620405622 47.6687435...</td>\n",
       "    </tr>\n",
       "    <tr>\n",
       "      <th>4</th>\n",
       "      <td>MULTIPOLYGON (((-122.32555601354544 47.7200755...</td>\n",
       "    </tr>\n",
       "  </tbody>\n",
       "</table>\n",
       "</div>"
      ],
      "text/plain": [
       "                                            the_geom\n",
       "0  MULTIPOLYGON (((-122.27259129399673 47.5260192...\n",
       "1  MULTIPOLYGON (((-122.3019285062559 47.66868012...\n",
       "2  MULTIPOLYGON (((-122.31492060232524 47.5861955...\n",
       "3  MULTIPOLYGON (((-122.34217620405622 47.6687435...\n",
       "4  MULTIPOLYGON (((-122.32555601354544 47.7200755..."
      ]
     },
     "execution_count": 20,
     "metadata": {},
     "output_type": "execute_result"
    }
   ],
   "source": [
    "dfpois = dfpois[['the_geom']]\n",
    "dfpois.head()"
   ]
  },
  {
   "cell_type": "code",
   "execution_count": 21,
   "metadata": {},
   "outputs": [],
   "source": [
    "# la estructura MULTIPOLYGON consta de varios poligonos y estos de puntos\n",
    "# por cada element_key voy a buscar si al menos tiene un punto de un poligono cercano\n",
    "# para que no dure mucho la ejecución tomo el primer POINT del POLYGON\n",
    "\n",
    "listad = []\n",
    "for index2, row2 in coord.iterrows():\n",
    "    ek = row2['element_key']\n",
    "    lat2 = pd.to_numeric(row2['latitude'])\n",
    "    lon2 = pd.to_numeric(row2['longitude'])\n",
    "    for index, row in dfpois.iterrows():\n",
    "        multi = loads(row['the_geom'])\n",
    "        polygons = list(multi)\n",
    "        for p in polygons:\n",
    "            puntos = p.exterior.coords\n",
    "            p = puntos[0]\n",
    "            lat1 = pd.to_numeric(p[1])\n",
    "            lon1 = pd.to_numeric(p[0])\n",
    "            dist = haversine(lon1, lat1, lon2, lat2)\n",
    "            if dist <= 0.3:\n",
    "                listad.append([ek,1])\n",
    "                break"
   ]
  },
  {
   "cell_type": "code",
   "execution_count": 22,
   "metadata": {},
   "outputs": [
    {
     "data": {
      "text/html": [
       "<div>\n",
       "<style scoped>\n",
       "    .dataframe tbody tr th:only-of-type {\n",
       "        vertical-align: middle;\n",
       "    }\n",
       "\n",
       "    .dataframe tbody tr th {\n",
       "        vertical-align: top;\n",
       "    }\n",
       "\n",
       "    .dataframe thead th {\n",
       "        text-align: right;\n",
       "    }\n",
       "</style>\n",
       "<table border=\"1\" class=\"dataframe\">\n",
       "  <thead>\n",
       "    <tr style=\"text-align: right;\">\n",
       "      <th></th>\n",
       "      <th>element_key</th>\n",
       "      <th>baseball_poi</th>\n",
       "    </tr>\n",
       "  </thead>\n",
       "  <tbody>\n",
       "    <tr>\n",
       "      <th>0</th>\n",
       "      <td>1233</td>\n",
       "      <td>1</td>\n",
       "    </tr>\n",
       "    <tr>\n",
       "      <th>1</th>\n",
       "      <td>1233</td>\n",
       "      <td>1</td>\n",
       "    </tr>\n",
       "    <tr>\n",
       "      <th>2</th>\n",
       "      <td>1234</td>\n",
       "      <td>1</td>\n",
       "    </tr>\n",
       "    <tr>\n",
       "      <th>3</th>\n",
       "      <td>1234</td>\n",
       "      <td>1</td>\n",
       "    </tr>\n",
       "    <tr>\n",
       "      <th>4</th>\n",
       "      <td>1433</td>\n",
       "      <td>1</td>\n",
       "    </tr>\n",
       "  </tbody>\n",
       "</table>\n",
       "</div>"
      ],
      "text/plain": [
       "   element_key  baseball_poi\n",
       "0         1233             1\n",
       "1         1233             1\n",
       "2         1234             1\n",
       "3         1234             1\n",
       "4         1433             1"
      ]
     },
     "execution_count": 22,
     "metadata": {},
     "output_type": "execute_result"
    }
   ],
   "source": [
    "# creo in dataframe temporal con la lista anterior\n",
    "pdx = pd.DataFrame(listad, columns = ['element_key','baseball_poi'])\n",
    "pdx.element_key = pdx.element_key.astype(int)\n",
    "pdx.baseball_poi = pdx.baseball_poi.astype(int)\n",
    "pdx.head()"
   ]
  },
  {
   "cell_type": "code",
   "execution_count": 23,
   "metadata": {},
   "outputs": [],
   "source": [
    "pdx.drop_duplicates(subset=['element_key'], keep='last', inplace=True)"
   ]
  },
  {
   "cell_type": "code",
   "execution_count": 24,
   "metadata": {},
   "outputs": [
    {
     "data": {
      "text/plain": [
       "((4305622, 8), (86, 2))"
      ]
     },
     "execution_count": 24,
     "metadata": {},
     "output_type": "execute_result"
    }
   ],
   "source": [
    "df.shape, pdx.shape"
   ]
  },
  {
   "cell_type": "code",
   "execution_count": 25,
   "metadata": {},
   "outputs": [],
   "source": [
    "df_final = pd.merge(df_final, pdx, on='element_key', how='left')"
   ]
  },
  {
   "cell_type": "code",
   "execution_count": 26,
   "metadata": {
    "scrolled": true
   },
   "outputs": [
    {
     "data": {
      "text/html": [
       "<div>\n",
       "<style scoped>\n",
       "    .dataframe tbody tr th:only-of-type {\n",
       "        vertical-align: middle;\n",
       "    }\n",
       "\n",
       "    .dataframe tbody tr th {\n",
       "        vertical-align: top;\n",
       "    }\n",
       "\n",
       "    .dataframe thead th {\n",
       "        text-align: right;\n",
       "    }\n",
       "</style>\n",
       "<table border=\"1\" class=\"dataframe\">\n",
       "  <thead>\n",
       "    <tr style=\"text-align: right;\">\n",
       "      <th></th>\n",
       "      <th>element_key</th>\n",
       "      <th>latitude</th>\n",
       "      <th>longitude</th>\n",
       "      <th>timestamp</th>\n",
       "      <th>occupation_perc</th>\n",
       "      <th>prcp</th>\n",
       "      <th>tmax</th>\n",
       "      <th>tmin</th>\n",
       "      <th>cult_poi</th>\n",
       "      <th>baseball_poi</th>\n",
       "    </tr>\n",
       "  </thead>\n",
       "  <tbody>\n",
       "    <tr>\n",
       "      <th>0</th>\n",
       "      <td>35693</td>\n",
       "      <td>47.619158</td>\n",
       "      <td>-122.346457</td>\n",
       "      <td>2016-01-02 00:00:00</td>\n",
       "      <td>28.57</td>\n",
       "      <td>0.0</td>\n",
       "      <td>42</td>\n",
       "      <td>25</td>\n",
       "      <td>1</td>\n",
       "      <td>0</td>\n",
       "    </tr>\n",
       "    <tr>\n",
       "      <th>1</th>\n",
       "      <td>53549</td>\n",
       "      <td>47.628175</td>\n",
       "      <td>-122.341132</td>\n",
       "      <td>2016-01-02 00:00:00</td>\n",
       "      <td>3.12</td>\n",
       "      <td>0.0</td>\n",
       "      <td>42</td>\n",
       "      <td>25</td>\n",
       "      <td>0</td>\n",
       "      <td>0</td>\n",
       "    </tr>\n",
       "    <tr>\n",
       "      <th>2</th>\n",
       "      <td>11881</td>\n",
       "      <td>47.619156</td>\n",
       "      <td>-122.333107</td>\n",
       "      <td>2016-01-02 02:00:00</td>\n",
       "      <td>10.00</td>\n",
       "      <td>0.0</td>\n",
       "      <td>42</td>\n",
       "      <td>25</td>\n",
       "      <td>1</td>\n",
       "      <td>0</td>\n",
       "    </tr>\n",
       "    <tr>\n",
       "      <th>3</th>\n",
       "      <td>9393</td>\n",
       "      <td>47.621441</td>\n",
       "      <td>-122.335970</td>\n",
       "      <td>2016-01-02 03:00:00</td>\n",
       "      <td>20.00</td>\n",
       "      <td>0.0</td>\n",
       "      <td>42</td>\n",
       "      <td>25</td>\n",
       "      <td>1</td>\n",
       "      <td>0</td>\n",
       "    </tr>\n",
       "    <tr>\n",
       "      <th>4</th>\n",
       "      <td>11133</td>\n",
       "      <td>47.619815</td>\n",
       "      <td>-122.348131</td>\n",
       "      <td>2016-01-02 04:00:00</td>\n",
       "      <td>20.00</td>\n",
       "      <td>0.0</td>\n",
       "      <td>42</td>\n",
       "      <td>25</td>\n",
       "      <td>1</td>\n",
       "      <td>0</td>\n",
       "    </tr>\n",
       "  </tbody>\n",
       "</table>\n",
       "</div>"
      ],
      "text/plain": [
       "   element_key   latitude   longitude            timestamp  occupation_perc  \\\n",
       "0        35693  47.619158 -122.346457  2016-01-02 00:00:00            28.57   \n",
       "1        53549  47.628175 -122.341132  2016-01-02 00:00:00             3.12   \n",
       "2        11881  47.619156 -122.333107  2016-01-02 02:00:00            10.00   \n",
       "3         9393  47.621441 -122.335970  2016-01-02 03:00:00            20.00   \n",
       "4        11133  47.619815 -122.348131  2016-01-02 04:00:00            20.00   \n",
       "\n",
       "   prcp  tmax  tmin  cult_poi  baseball_poi  \n",
       "0   0.0    42    25         1             0  \n",
       "1   0.0    42    25         0             0  \n",
       "2   0.0    42    25         1             0  \n",
       "3   0.0    42    25         1             0  \n",
       "4   0.0    42    25         1             0  "
      ]
     },
     "execution_count": 26,
     "metadata": {},
     "output_type": "execute_result"
    }
   ],
   "source": [
    "# los que no tienen poi los marco a 0\n",
    "df_final.fillna(0, inplace=True)\n",
    "df_final.baseball_poi = df_final.baseball_poi.astype(int)\n",
    "df_final.head()"
   ]
  },
  {
   "cell_type": "code",
   "execution_count": 27,
   "metadata": {},
   "outputs": [],
   "source": [
    "df_final.to_csv('./data/Serie_Total2016_cult_sport_1.csv')"
   ]
  },
  {
   "cell_type": "markdown",
   "metadata": {},
   "source": [
    "## Tenis"
   ]
  },
  {
   "cell_type": "code",
   "execution_count": 28,
   "metadata": {},
   "outputs": [],
   "source": [
    "# Repito lo mismo para tenis"
   ]
  },
  {
   "cell_type": "code",
   "execution_count": 29,
   "metadata": {},
   "outputs": [
    {
     "name": "stdout",
     "output_type": "stream",
     "text": [
      "Downloading https://data.seattle.gov/api/views/agb7-rh9h/rows.csv?accessType=DOWNLOAD\n"
     ]
    }
   ],
   "source": [
    "url = \"https://data.seattle.gov/api/views/agb7-rh9h/rows.csv?accessType=DOWNLOAD\"\n",
    "output1 = './data/Tennis_Court_Outline.csv'\n",
    "dl_data(url,output1)"
   ]
  },
  {
   "cell_type": "code",
   "execution_count": 30,
   "metadata": {},
   "outputs": [],
   "source": [
    "dfpois = pd.read_csv(os.path.join('./data/Tennis_Court_Outline.csv'))"
   ]
  },
  {
   "cell_type": "code",
   "execution_count": 31,
   "metadata": {},
   "outputs": [
    {
     "data": {
      "text/html": [
       "<div>\n",
       "<style scoped>\n",
       "    .dataframe tbody tr th:only-of-type {\n",
       "        vertical-align: middle;\n",
       "    }\n",
       "\n",
       "    .dataframe tbody tr th {\n",
       "        vertical-align: top;\n",
       "    }\n",
       "\n",
       "    .dataframe thead th {\n",
       "        text-align: right;\n",
       "    }\n",
       "</style>\n",
       "<table border=\"1\" class=\"dataframe\">\n",
       "  <thead>\n",
       "    <tr style=\"text-align: right;\">\n",
       "      <th></th>\n",
       "      <th>the_geom</th>\n",
       "    </tr>\n",
       "  </thead>\n",
       "  <tbody>\n",
       "    <tr>\n",
       "      <th>0</th>\n",
       "      <td>MULTIPOLYGON (((-122.35547328361099 47.6311029...</td>\n",
       "    </tr>\n",
       "    <tr>\n",
       "      <th>1</th>\n",
       "      <td>MULTIPOLYGON (((-122.35529321983168 47.6315188...</td>\n",
       "    </tr>\n",
       "    <tr>\n",
       "      <th>2</th>\n",
       "      <td>MULTIPOLYGON (((-122.30451313039816 47.6764982...</td>\n",
       "    </tr>\n",
       "    <tr>\n",
       "      <th>3</th>\n",
       "      <td>MULTIPOLYGON (((-122.34329665395495 47.6695318...</td>\n",
       "    </tr>\n",
       "    <tr>\n",
       "      <th>4</th>\n",
       "      <td>MULTIPOLYGON (((-122.34330219360075 47.6688704...</td>\n",
       "    </tr>\n",
       "  </tbody>\n",
       "</table>\n",
       "</div>"
      ],
      "text/plain": [
       "                                            the_geom\n",
       "0  MULTIPOLYGON (((-122.35547328361099 47.6311029...\n",
       "1  MULTIPOLYGON (((-122.35529321983168 47.6315188...\n",
       "2  MULTIPOLYGON (((-122.30451313039816 47.6764982...\n",
       "3  MULTIPOLYGON (((-122.34329665395495 47.6695318...\n",
       "4  MULTIPOLYGON (((-122.34330219360075 47.6688704..."
      ]
     },
     "execution_count": 31,
     "metadata": {},
     "output_type": "execute_result"
    }
   ],
   "source": [
    "dfpois = dfpois[['the_geom']]\n",
    "dfpois.head()"
   ]
  },
  {
   "cell_type": "code",
   "execution_count": 32,
   "metadata": {},
   "outputs": [],
   "source": [
    "listad = []\n",
    "for index2, row2 in coord.iterrows():\n",
    "    ek = row2['element_key']\n",
    "    lat2 = pd.to_numeric(row2['latitude'])\n",
    "    lon2 = pd.to_numeric(row2['longitude'])\n",
    "    for index, row in dfpois.iterrows():\n",
    "        multi = loads(row['the_geom'])\n",
    "        polygons = list(multi)\n",
    "        for p in polygons:\n",
    "            puntos = p.exterior.coords\n",
    "            p = puntos[0]\n",
    "            lat1 = pd.to_numeric(p[1])\n",
    "            lon1 = pd.to_numeric(p[0])\n",
    "            dist = haversine(lon1, lat1, lon2, lat2)\n",
    "            if dist <= 0.3:\n",
    "                listad.append([ek,1])\n",
    "                break"
   ]
  },
  {
   "cell_type": "code",
   "execution_count": 33,
   "metadata": {},
   "outputs": [
    {
     "data": {
      "text/html": [
       "<div>\n",
       "<style scoped>\n",
       "    .dataframe tbody tr th:only-of-type {\n",
       "        vertical-align: middle;\n",
       "    }\n",
       "\n",
       "    .dataframe tbody tr th {\n",
       "        vertical-align: top;\n",
       "    }\n",
       "\n",
       "    .dataframe thead th {\n",
       "        text-align: right;\n",
       "    }\n",
       "</style>\n",
       "<table border=\"1\" class=\"dataframe\">\n",
       "  <thead>\n",
       "    <tr style=\"text-align: right;\">\n",
       "      <th></th>\n",
       "      <th>element_key</th>\n",
       "      <th>tennis_poi</th>\n",
       "    </tr>\n",
       "  </thead>\n",
       "  <tbody>\n",
       "    <tr>\n",
       "      <th>0</th>\n",
       "      <td>1233</td>\n",
       "      <td>1</td>\n",
       "    </tr>\n",
       "    <tr>\n",
       "      <th>1</th>\n",
       "      <td>1234</td>\n",
       "      <td>1</td>\n",
       "    </tr>\n",
       "    <tr>\n",
       "      <th>2</th>\n",
       "      <td>1433</td>\n",
       "      <td>1</td>\n",
       "    </tr>\n",
       "    <tr>\n",
       "      <th>3</th>\n",
       "      <td>1433</td>\n",
       "      <td>1</td>\n",
       "    </tr>\n",
       "    <tr>\n",
       "      <th>4</th>\n",
       "      <td>1589</td>\n",
       "      <td>1</td>\n",
       "    </tr>\n",
       "  </tbody>\n",
       "</table>\n",
       "</div>"
      ],
      "text/plain": [
       "   element_key  tennis_poi\n",
       "0         1233           1\n",
       "1         1234           1\n",
       "2         1433           1\n",
       "3         1433           1\n",
       "4         1589           1"
      ]
     },
     "execution_count": 33,
     "metadata": {},
     "output_type": "execute_result"
    }
   ],
   "source": [
    "# creo in dataframe temporal con la lista anterior\n",
    "pdx = pd.DataFrame(listad, columns = ['element_key','tennis_poi'])\n",
    "pdx.element_key = pdx.element_key.astype(int)\n",
    "pdx.tennis_poi = pdx.tennis_poi.astype(int)\n",
    "pdx.head()"
   ]
  },
  {
   "cell_type": "code",
   "execution_count": 34,
   "metadata": {},
   "outputs": [],
   "source": [
    "df_final = pd.merge(df_final, pdx, on='element_key', how='left')"
   ]
  },
  {
   "cell_type": "code",
   "execution_count": 35,
   "metadata": {
    "scrolled": true
   },
   "outputs": [
    {
     "data": {
      "text/html": [
       "<div>\n",
       "<style scoped>\n",
       "    .dataframe tbody tr th:only-of-type {\n",
       "        vertical-align: middle;\n",
       "    }\n",
       "\n",
       "    .dataframe tbody tr th {\n",
       "        vertical-align: top;\n",
       "    }\n",
       "\n",
       "    .dataframe thead th {\n",
       "        text-align: right;\n",
       "    }\n",
       "</style>\n",
       "<table border=\"1\" class=\"dataframe\">\n",
       "  <thead>\n",
       "    <tr style=\"text-align: right;\">\n",
       "      <th></th>\n",
       "      <th>element_key</th>\n",
       "      <th>latitude</th>\n",
       "      <th>longitude</th>\n",
       "      <th>timestamp</th>\n",
       "      <th>occupation_perc</th>\n",
       "      <th>prcp</th>\n",
       "      <th>tmax</th>\n",
       "      <th>tmin</th>\n",
       "      <th>cult_poi</th>\n",
       "      <th>baseball_poi</th>\n",
       "      <th>tennis_poi</th>\n",
       "    </tr>\n",
       "  </thead>\n",
       "  <tbody>\n",
       "    <tr>\n",
       "      <th>0</th>\n",
       "      <td>35693</td>\n",
       "      <td>47.619158</td>\n",
       "      <td>-122.346457</td>\n",
       "      <td>2016-01-02 00:00:00</td>\n",
       "      <td>28.57</td>\n",
       "      <td>0.0</td>\n",
       "      <td>42</td>\n",
       "      <td>25</td>\n",
       "      <td>1</td>\n",
       "      <td>0</td>\n",
       "      <td>0</td>\n",
       "    </tr>\n",
       "    <tr>\n",
       "      <th>1</th>\n",
       "      <td>53549</td>\n",
       "      <td>47.628175</td>\n",
       "      <td>-122.341132</td>\n",
       "      <td>2016-01-02 00:00:00</td>\n",
       "      <td>3.12</td>\n",
       "      <td>0.0</td>\n",
       "      <td>42</td>\n",
       "      <td>25</td>\n",
       "      <td>0</td>\n",
       "      <td>0</td>\n",
       "      <td>0</td>\n",
       "    </tr>\n",
       "    <tr>\n",
       "      <th>2</th>\n",
       "      <td>11881</td>\n",
       "      <td>47.619156</td>\n",
       "      <td>-122.333107</td>\n",
       "      <td>2016-01-02 02:00:00</td>\n",
       "      <td>10.00</td>\n",
       "      <td>0.0</td>\n",
       "      <td>42</td>\n",
       "      <td>25</td>\n",
       "      <td>1</td>\n",
       "      <td>0</td>\n",
       "      <td>0</td>\n",
       "    </tr>\n",
       "    <tr>\n",
       "      <th>3</th>\n",
       "      <td>9393</td>\n",
       "      <td>47.621441</td>\n",
       "      <td>-122.335970</td>\n",
       "      <td>2016-01-02 03:00:00</td>\n",
       "      <td>20.00</td>\n",
       "      <td>0.0</td>\n",
       "      <td>42</td>\n",
       "      <td>25</td>\n",
       "      <td>1</td>\n",
       "      <td>0</td>\n",
       "      <td>0</td>\n",
       "    </tr>\n",
       "    <tr>\n",
       "      <th>4</th>\n",
       "      <td>11133</td>\n",
       "      <td>47.619815</td>\n",
       "      <td>-122.348131</td>\n",
       "      <td>2016-01-02 04:00:00</td>\n",
       "      <td>20.00</td>\n",
       "      <td>0.0</td>\n",
       "      <td>42</td>\n",
       "      <td>25</td>\n",
       "      <td>1</td>\n",
       "      <td>0</td>\n",
       "      <td>0</td>\n",
       "    </tr>\n",
       "  </tbody>\n",
       "</table>\n",
       "</div>"
      ],
      "text/plain": [
       "   element_key   latitude   longitude            timestamp  occupation_perc  \\\n",
       "0        35693  47.619158 -122.346457  2016-01-02 00:00:00            28.57   \n",
       "1        53549  47.628175 -122.341132  2016-01-02 00:00:00             3.12   \n",
       "2        11881  47.619156 -122.333107  2016-01-02 02:00:00            10.00   \n",
       "3         9393  47.621441 -122.335970  2016-01-02 03:00:00            20.00   \n",
       "4        11133  47.619815 -122.348131  2016-01-02 04:00:00            20.00   \n",
       "\n",
       "   prcp  tmax  tmin  cult_poi  baseball_poi  tennis_poi  \n",
       "0   0.0    42    25         1             0           0  \n",
       "1   0.0    42    25         0             0           0  \n",
       "2   0.0    42    25         1             0           0  \n",
       "3   0.0    42    25         1             0           0  \n",
       "4   0.0    42    25         1             0           0  "
      ]
     },
     "execution_count": 35,
     "metadata": {},
     "output_type": "execute_result"
    }
   ],
   "source": [
    "# los que no tienen poi los marco a 0\n",
    "df_final.fillna(0, inplace=True)\n",
    "df_final.tennis_poi = df_final.tennis_poi.astype(int)\n",
    "df_final.head()"
   ]
  },
  {
   "cell_type": "code",
   "execution_count": 36,
   "metadata": {},
   "outputs": [],
   "source": [
    "df_final.to_csv('./data/Serie_Total2016_cult_sport_2.csv')"
   ]
  },
  {
   "cell_type": "code",
   "execution_count": null,
   "metadata": {},
   "outputs": [],
   "source": []
  }
 ],
 "metadata": {
  "kernelspec": {
   "display_name": "Python 3",
   "language": "python",
   "name": "python3"
  },
  "language_info": {
   "codemirror_mode": {
    "name": "ipython",
    "version": 3
   },
   "file_extension": ".py",
   "mimetype": "text/x-python",
   "name": "python",
   "nbconvert_exporter": "python",
   "pygments_lexer": "ipython3",
   "version": "3.6.3"
  }
 },
 "nbformat": 4,
 "nbformat_minor": 2
}
