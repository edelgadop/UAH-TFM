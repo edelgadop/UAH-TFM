{
 "cells": [
  {
   "cell_type": "markdown",
   "metadata": {},
   "source": [
    "# Análisis de ejemplo de spTimer"
   ]
  },
  {
   "cell_type": "markdown",
   "metadata": {},
   "source": [
    "### Modelos espacio-temporales\n",
    "spTimer es una librería para análisis de experimentos que tienen una estructura espacio-temporal. Antes de empezar con spTimer, se describe muy brevemente cómo se modelan eventos espacio-temporales. \n",
    "\n",
    "De forma sencilla, un modelo espacio-temporal es aquel en el que se han recogido datos de forma espacial (coordenadas) y a intervalos regulares (temporal). Por ejemplo, en nuestro caso de los parquímetros, suponiendo la serie agregada, tendremos datos de ocupación ligados a una coordenada geogáfica a intervalos regulares de tiempo. Entonces, la labor del modelo es más complicada que en otros tipos: debe encontrar correlaciones espaciales y correlaciones temporales. \n",
    "\n",
    "### spTimer\n",
    "\n",
    "spTimer es una librería que construye modelos espacio-temporales basándose en modelos gaussianos bayesianos. Presenta tres modelos a partir de los cuales se realizan las predicciones:\n",
    "\n",
    "* Bayesian Gaussian Process (GP)\n",
    "* Bayesian Auto-Regressive Process (AR)\n",
    "* Bayesian Gaussian Predictive Processes (GPP) based AR Model\n",
    "\n",
    "Aunque son modelos complicados, es muy importante conocer cuáles son los parámetros que se van a ajustar y cuáles son sus características.\n",
    "\n",
    "#### Características y parámetros de los modelos de spTimer\n",
    "\n",
    "* Constan de una parte lineal, parecida a una regresión. Estas componentes se suelen llamar **'covariates'** en la literatura, y suelen denotarse por $\\bf{X_{lt}}$. Cada una de esas componentes tiene asociado un parámetro, formándse así un vector de parámetros *regresivos*, $\\bf{\\beta}$. \n",
    "* Aparecen dos **componentes de error** diferentes: 'nugget error', que se asocia con el término de error puro($\\epsilon$), y errores aleatorios espacio-temporales ($\\eta$). Matemáticamente, cada una de estas componentes se modela con una varianza ($\\sigma_\\epsilon^2$ y $\\sigma_\\eta^2$).\n",
    "* Hay dos parámetros más: $\\phi$, que controla el ratio con el que la correlación entre dos coordenadas decae conforme aumenta la distancia entre ellas, y $\\nu$, que es el orden de la función de Bessel de segunda especie que se utiliza para calcular la correlación espacial. \n",
    "* Son **bayesianos**, en el sentido de que parten de una distribución conocida (distribución *a priori* o *prior*) de los parámetros y calculan a partir de ella una distribución final (*a posteriori*, $\\pi(.|z)$).\n",
    "\n",
    "En resumen, con cada uno de los tres modelos de spTimer, lo que se trata es de buscar los coeficientes:\n",
    "* $\\beta = (\\beta_0, \\beta_1, \\cdots, \\beta_p)^T$\n",
    "* $\\sigma_\\epsilon^2$\n",
    "* $\\sigma_\\eta^2$\n",
    "* $\\phi$\n",
    "* $\\nu$\n",
    "\n",
    "tales que la aproximación es buena. La bondad de la aproximación se mide con el **PMCC** (Predictive Model Choice Criteria), que es un dato proporcionado por las funciones de la librería."
   ]
  },
  {
   "cell_type": "code",
   "execution_count": 8,
   "metadata": {},
   "outputs": [
    {
     "data": {
      "text/html": [
       "<ol class=list-inline>\n",
       "\t<li>'spTimer'</li>\n",
       "\t<li>'RevoUtils'</li>\n",
       "\t<li>'stats'</li>\n",
       "\t<li>'graphics'</li>\n",
       "\t<li>'grDevices'</li>\n",
       "\t<li>'utils'</li>\n",
       "\t<li>'datasets'</li>\n",
       "\t<li>'RevoUtilsMath'</li>\n",
       "\t<li>'methods'</li>\n",
       "\t<li>'base'</li>\n",
       "</ol>\n"
      ],
      "text/latex": [
       "\\begin{enumerate*}\n",
       "\\item 'spTimer'\n",
       "\\item 'RevoUtils'\n",
       "\\item 'stats'\n",
       "\\item 'graphics'\n",
       "\\item 'grDevices'\n",
       "\\item 'utils'\n",
       "\\item 'datasets'\n",
       "\\item 'RevoUtilsMath'\n",
       "\\item 'methods'\n",
       "\\item 'base'\n",
       "\\end{enumerate*}\n"
      ],
      "text/markdown": [
       "1. 'spTimer'\n",
       "2. 'RevoUtils'\n",
       "3. 'stats'\n",
       "4. 'graphics'\n",
       "5. 'grDevices'\n",
       "6. 'utils'\n",
       "7. 'datasets'\n",
       "8. 'RevoUtilsMath'\n",
       "9. 'methods'\n",
       "10. 'base'\n",
       "\n",
       "\n"
      ],
      "text/plain": [
       " [1] \"spTimer\"       \"RevoUtils\"     \"stats\"         \"graphics\"     \n",
       " [5] \"grDevices\"     \"utils\"         \"datasets\"      \"RevoUtilsMath\"\n",
       " [9] \"methods\"       \"base\"         "
      ]
     },
     "metadata": {},
     "output_type": "display_data"
    }
   ],
   "source": [
    "# Instalación y carga de spTimer\n",
    "if (!require(spTimer)){\n",
    "    install.packages(\"spTimer\")\n",
    "    library(spTimer)\n",
    "} \n",
    "# Verificación carga spTimer\n",
    "(.packages())"
   ]
  },
  {
   "cell_type": "markdown",
   "metadata": {},
   "source": [
    "## 1. Descripción del dataset\n",
    "Para estudiar una serie espacio temporal, necesitamos, al menos, varias coordenadas geográficas (2 en este caso: latitud y longitud) y una o varias escalas temporales. Un modelo con 2 escalas temporales, por ejemplo, sería: (año, semana). \n",
    "\n",
    "Para realizar un estudio previo, este notebook utiliza el dataset de taxis de Nueva York (NYdata) que se encuentra dentro de la librería spTimer.\n",
    "\n",
    "A continuación se cargan y visualizan los datos:"
   ]
  },
  {
   "cell_type": "code",
   "execution_count": 9,
   "metadata": {},
   "outputs": [
    {
     "data": {
      "text/html": [
       "<table>\n",
       "<thead><tr><th scope=col>s.index</th><th scope=col>Longitude</th><th scope=col>Latitude</th><th scope=col>Year</th><th scope=col>Month</th><th scope=col>Day</th><th scope=col>o8hrmax</th><th scope=col>cMAXTMP</th><th scope=col>WDSP</th><th scope=col>RH</th></tr></thead>\n",
       "<tbody>\n",
       "\t<tr><td>1       </td><td>-73.757 </td><td>42.681  </td><td>2006    </td><td>7       </td><td>1       </td><td>53.88   </td><td>27.85772</td><td>5.459953</td><td>2.766221</td></tr>\n",
       "\t<tr><td>1       </td><td>-73.757 </td><td>42.681  </td><td>2006    </td><td>7       </td><td>2       </td><td>57.13   </td><td>30.11563</td><td>8.211767</td><td>3.197750</td></tr>\n",
       "\t<tr><td>1       </td><td>-73.757 </td><td>42.681  </td><td>2006    </td><td>7       </td><td>3       </td><td>72.00   </td><td>30.00001</td><td>4.459581</td><td>3.225186</td></tr>\n",
       "\t<tr><td>1       </td><td>-73.757 </td><td>42.681  </td><td>2006    </td><td>7       </td><td>4       </td><td>36.63   </td><td>27.89656</td><td>3.692225</td><td>4.362334</td></tr>\n",
       "\t<tr><td>1       </td><td>-73.757 </td><td>42.681  </td><td>2006    </td><td>7       </td><td>5       </td><td>42.63   </td><td>25.65698</td><td>4.374314</td><td>3.950320</td></tr>\n",
       "\t<tr><td>1       </td><td>-73.757 </td><td>42.681  </td><td>2006    </td><td>7       </td><td>6       </td><td>30.88   </td><td>24.61968</td><td>4.178086</td><td>3.420533</td></tr>\n",
       "</tbody>\n",
       "</table>\n"
      ],
      "text/latex": [
       "\\begin{tabular}{r|llllllllll}\n",
       " s.index & Longitude & Latitude & Year & Month & Day & o8hrmax & cMAXTMP & WDSP & RH\\\\\n",
       "\\hline\n",
       "\t 1        & -73.757  & 42.681   & 2006     & 7        & 1        & 53.88    & 27.85772 & 5.459953 & 2.766221\\\\\n",
       "\t 1        & -73.757  & 42.681   & 2006     & 7        & 2        & 57.13    & 30.11563 & 8.211767 & 3.197750\\\\\n",
       "\t 1        & -73.757  & 42.681   & 2006     & 7        & 3        & 72.00    & 30.00001 & 4.459581 & 3.225186\\\\\n",
       "\t 1        & -73.757  & 42.681   & 2006     & 7        & 4        & 36.63    & 27.89656 & 3.692225 & 4.362334\\\\\n",
       "\t 1        & -73.757  & 42.681   & 2006     & 7        & 5        & 42.63    & 25.65698 & 4.374314 & 3.950320\\\\\n",
       "\t 1        & -73.757  & 42.681   & 2006     & 7        & 6        & 30.88    & 24.61968 & 4.178086 & 3.420533\\\\\n",
       "\\end{tabular}\n"
      ],
      "text/markdown": [
       "\n",
       "s.index | Longitude | Latitude | Year | Month | Day | o8hrmax | cMAXTMP | WDSP | RH | \n",
       "|---|---|---|---|---|---|\n",
       "| 1        | -73.757  | 42.681   | 2006     | 7        | 1        | 53.88    | 27.85772 | 5.459953 | 2.766221 | \n",
       "| 1        | -73.757  | 42.681   | 2006     | 7        | 2        | 57.13    | 30.11563 | 8.211767 | 3.197750 | \n",
       "| 1        | -73.757  | 42.681   | 2006     | 7        | 3        | 72.00    | 30.00001 | 4.459581 | 3.225186 | \n",
       "| 1        | -73.757  | 42.681   | 2006     | 7        | 4        | 36.63    | 27.89656 | 3.692225 | 4.362334 | \n",
       "| 1        | -73.757  | 42.681   | 2006     | 7        | 5        | 42.63    | 25.65698 | 4.374314 | 3.950320 | \n",
       "| 1        | -73.757  | 42.681   | 2006     | 7        | 6        | 30.88    | 24.61968 | 4.178086 | 3.420533 | \n",
       "\n",
       "\n"
      ],
      "text/plain": [
       "  s.index Longitude Latitude Year Month Day o8hrmax cMAXTMP  WDSP     RH      \n",
       "1 1       -73.757   42.681   2006 7     1   53.88   27.85772 5.459953 2.766221\n",
       "2 1       -73.757   42.681   2006 7     2   57.13   30.11563 8.211767 3.197750\n",
       "3 1       -73.757   42.681   2006 7     3   72.00   30.00001 4.459581 3.225186\n",
       "4 1       -73.757   42.681   2006 7     4   36.63   27.89656 3.692225 4.362334\n",
       "5 1       -73.757   42.681   2006 7     5   42.63   25.65698 4.374314 3.950320\n",
       "6 1       -73.757   42.681   2006 7     6   30.88   24.61968 4.178086 3.420533"
      ]
     },
     "metadata": {},
     "output_type": "display_data"
    }
   ],
   "source": [
    "df <- NYdata\n",
    "head(df)"
   ]
  },
  {
   "cell_type": "markdown",
   "metadata": {},
   "source": [
    "Además de las columnas principales (geográficas y temporales), el dataset presenta otras columnas de interés para la predicción. Por orden, son:  concentración de ozono, temperatura máxima, velocidad del viento y humedad relativa. \n",
    "\n",
    "Como conclusión, un dataset para este tipo de problemas debe tener:\n",
    "* Una o varias columnas geográficas. Normalmente se suelen 2: latitud y longitud, aunque podrían ser otras.\n",
    "* Una o varias columnas temporales. Se pueden definir varios niveles dentro de esta variable, para hacer referencia a modelos estacionales:\n",
    "    * Año\n",
    "    * Semana\n",
    "    * Día\n",
    "    * Hora\n",
    "    \n",
    "Estos dos bloques serían los principales. A ellos, se añaden columnas que representen una característica o propiedad del fenómeno a representar, que ocurra en unas coordeandas geográficas determiandas y en un tiempo determinado. Estas columnas son las que deben agregarse en función de la granularidad que se defina, principalmente, en las columnas temporales. \n",
    "\n",
    "Finalmente, se hace la predicción sobre una de estas columnas agregadas que hemos añadido. "
   ]
  },
  {
   "cell_type": "markdown",
   "metadata": {},
   "source": [
    "## 2. Fitting\n",
    "\n"
   ]
  },
  {
   "cell_type": "markdown",
   "metadata": {},
   "source": [
    "Para realizar el fitting, spTimer muestrea el dataframe con **muestreo de Gibbs** (muestreo utilizado para obtener muestras aleatorias de una distribución conjunta de dos o más variables aleatorias). Después, hace el fitting según los parámetros que le indiquemos. De entre todos los parámetros que hay, los más interesantes para empezar a arrancar el modelo son:\n",
    "\n",
    "1. Cuál es la **parte regresiva** del modelo (parámetros $\\beta$). Se hace a través de un elemento 'fórmula' de R. \n",
    "1. Los **datos de origen**, con todas las columnas (data=)\n",
    "1. **Tipo de modelo**: GP, AR o GPP. Es importante destacar que el GPP requiere hacer operaciones adicionales con los datos. GP y AR son más directos. La diferencia entre GP y AR es que, si bien ambos parten de modelos gaussianos, AR incorpora un término de autorregresión ($\\rho$), que GP no tiene. \n",
    "1. **Coordenadas geográficas**\n",
    "1. **Coordenadas temporales**\n",
    "\n",
    "Después, se puede añadir complejidad al modelo, con el resto de opciones. Por ejemplo, se pueden definir los **priors** de los parámetros.\n",
    "\n",
    "Por ejemplo, con el dataset de NY:\n"
   ]
  },
  {
   "cell_type": "code",
   "execution_count": 10,
   "metadata": {},
   "outputs": [
    {
     "name": "stdout",
     "output_type": "stream",
     "text": [
      "\n",
      " Output: GP models \n",
      "---------------------------------------------------------------\n",
      " Sampled: 5000 of 5000, 100.00%.\n",
      " Batch Acceptance Rate (phi): 30.25%\n",
      " Checking Parameters: \n",
      "   phi: 0.0123, sig2eps: 2.4228, sig2eta: 103.1568\n",
      "   beta[1]: -17.1807   beta[2]: 2.5892   beta[3]: 1.6207   beta[4]: -3.0163\n",
      "---------------------------------------------------------------\n",
      "## \n",
      "# nBurn =  1000 , Iterations =  5000 . \n",
      "# Overall Acceptance Rate (phi) =  30.24 % \n",
      "## \n",
      "##\n",
      "# Elapsed time: 13.07 Sec.\n",
      "##\n",
      "\n",
      "# Model: GP \n",
      "-----------------------------------------------------\n",
      "Model: GP\n",
      "Call: o8hrmax ~ cMAXTMP + WDSP + RH\n",
      "Iterations: 5000\n",
      "nBurn: 1000\n",
      "Acceptance rate for phi (%): 30.24\n",
      "-----------------------------------------------------\n",
      "        Goodness.of.fit  Penalty     PMCC\n",
      "values:        47087.77 175941.5 223029.3\n",
      "-----------------------------------------------------\n",
      "Computation time: 13.07  - Sec.\n",
      "-----------------------------------------------------\n",
      "Parameters:\n",
      "                Mean   Median      SD  Low2.5p  Up97.5p\n",
      "(Intercept) -17.1317 -17.2578  7.3233 -31.2710  -2.2458\n",
      "cMAXTMP       2.3078   2.3224  0.2227   1.8378   2.6927\n",
      "WDSP          1.6141   1.6149  0.3204   0.9858   2.2493\n",
      "RH           -1.3637  -1.4332  0.9063  -2.9328   0.6781\n",
      "sig2eps       2.3770   2.2671  0.7903   1.1392   4.1307\n",
      "sig2eta     124.1346 114.6532 35.6545  89.0431 216.2409\n",
      "phi           0.0122   0.0126  0.0026   0.0059   0.0166\n",
      "-----------------------------------------------------\n"
     ]
    }
   ],
   "source": [
    "# Coordenadas temporales\n",
    "time.data <- spT.time(t.series=60,segment=1)\n",
    "\n",
    "# Distribuciones a priori de los parámetros \n",
    "priors <- spT.priors(model=\"GP\",inv.var.prior=Gamm(2,1),beta.prior=Norm(0,10^4))\n",
    "\n",
    "# Valores iniciales de los parámetros del modelo\n",
    "initials <- spT.initials(model=\"GP\", sig2eps=0.01,sig2eta=0.5, beta=NULL, phi=0.001)\n",
    "\n",
    "# Decaimiento espacial\n",
    "spatial.decay <- spT.decay(distribution=Gamm(2,1), tuning=0.08)\n",
    "\n",
    "model <- spT.Gibbs(formula=o8hrmax~cMAXTMP+WDSP+RH, \n",
    "                   data=df, model='GP', \n",
    "                   coords=~Longitude+Latitude, \n",
    "                   #time.data=time.data,\n",
    "                   priors=priors,\n",
    "                   initials=initials,\n",
    "                   spatial.decay=spatial.decay)\n",
    "summary(model)"
   ]
  },
  {
   "cell_type": "code",
   "execution_count": 11,
   "metadata": {},
   "outputs": [
    {
     "data": {
      "text/html": [
       "<table>\n",
       "<thead><tr><th></th><th scope=col>2.5%</th><th scope=col>97.5%</th></tr></thead>\n",
       "<tbody>\n",
       "\t<tr><th scope=row>(Intercept)</th><td>-31.222004621</td><td> -2.24523675 </td></tr>\n",
       "\t<tr><th scope=row>cMAXTMP</th><td>  1.838605798</td><td>  2.69272823 </td></tr>\n",
       "\t<tr><th scope=row>WDSP</th><td>  0.986045747</td><td>  2.24936947 </td></tr>\n",
       "\t<tr><th scope=row>RH</th><td> -2.926400343</td><td>  0.67827472 </td></tr>\n",
       "\t<tr><th scope=row>sig2eps</th><td>  1.139339892</td><td>  4.13067090 </td></tr>\n",
       "\t<tr><th scope=row>sig2eta</th><td> 89.054032877</td><td>216.26630080 </td></tr>\n",
       "\t<tr><th scope=row>phi</th><td>  0.005893714</td><td>  0.01656735 </td></tr>\n",
       "</tbody>\n",
       "</table>\n"
      ],
      "text/latex": [
       "\\begin{tabular}{r|ll}\n",
       "  & 2.5\\% & 97.5\\%\\\\\n",
       "\\hline\n",
       "\t(Intercept) & -31.222004621 &  -2.24523675 \\\\\n",
       "\tcMAXTMP &   1.838605798 &   2.69272823 \\\\\n",
       "\tWDSP &   0.986045747 &   2.24936947 \\\\\n",
       "\tRH &  -2.926400343 &   0.67827472 \\\\\n",
       "\tsig2eps &   1.139339892 &   4.13067090 \\\\\n",
       "\tsig2eta &  89.054032877 & 216.26630080 \\\\\n",
       "\tphi &   0.005893714 &   0.01656735 \\\\\n",
       "\\end{tabular}\n"
      ],
      "text/markdown": [
       "\n",
       "| <!--/--> | 2.5% | 97.5% | \n",
       "|---|---|---|---|---|---|---|\n",
       "| (Intercept) | -31.222004621 |  -2.24523675  | \n",
       "| cMAXTMP |   1.838605798 |   2.69272823  | \n",
       "| WDSP |   0.986045747 |   2.24936947  | \n",
       "| RH |  -2.926400343 |   0.67827472  | \n",
       "| sig2eps |   1.139339892 |   4.13067090  | \n",
       "| sig2eta |  89.054032877 | 216.26630080  | \n",
       "| phi |   0.005893714 |   0.01656735  | \n",
       "\n",
       "\n"
      ],
      "text/plain": [
       "            2.5%          97.5%       \n",
       "(Intercept) -31.222004621  -2.24523675\n",
       "cMAXTMP       1.838605798   2.69272823\n",
       "WDSP          0.986045747   2.24936947\n",
       "RH           -2.926400343   0.67827472\n",
       "sig2eps       1.139339892   4.13067090\n",
       "sig2eta      89.054032877 216.26630080\n",
       "phi           0.005893714   0.01656735"
      ]
     },
     "metadata": {},
     "output_type": "display_data"
    }
   ],
   "source": [
    "confint(model)"
   ]
  },
  {
   "cell_type": "code",
   "execution_count": 12,
   "metadata": {},
   "outputs": [
    {
     "data": {
      "text/html": [
       "<table>\n",
       "<thead><tr><th></th><th scope=col>Goodness.of.fit</th><th scope=col>Penalty</th><th scope=col>PMCC</th></tr></thead>\n",
       "<tbody>\n",
       "\t<tr><th scope=row>values:</th><td>47087.77</td><td>175941.5</td><td>223029.3</td></tr>\n",
       "</tbody>\n",
       "</table>\n"
      ],
      "text/latex": [
       "\\begin{tabular}{r|lll}\n",
       "  & Goodness.of.fit & Penalty & PMCC\\\\\n",
       "\\hline\n",
       "\tvalues: & 47087.77 & 175941.5 & 223029.3\\\\\n",
       "\\end{tabular}\n"
      ],
      "text/markdown": [
       "\n",
       "| <!--/--> | Goodness.of.fit | Penalty | PMCC | \n",
       "|---|\n",
       "| values: | 47087.77 | 175941.5 | 223029.3 | \n",
       "\n",
       "\n"
      ],
      "text/plain": [
       "        Goodness.of.fit Penalty  PMCC    \n",
       "values: 47087.77        175941.5 223029.3"
      ]
     },
     "metadata": {},
     "output_type": "display_data"
    }
   ],
   "source": [
    "model$PMCC"
   ]
  },
  {
   "cell_type": "markdown",
   "metadata": {},
   "source": [
    "## 3. Predicciones"
   ]
  },
  {
   "cell_type": "markdown",
   "metadata": {},
   "source": [
    "Para este apartado, voy a utilizar un código completo de ejemplo del manual de spTimer. Con él, se ilustra cómo realizar una predicción sobre una localización concreta en una hora determinada.\n",
    "\n",
    "Lo bueno de este ejemplo es que hace una validación cruzada, con muchas métricas, que explican cómo hacer comparaciones entre modelos. \n"
   ]
  },
  {
   "cell_type": "code",
   "execution_count": 13,
   "metadata": {},
   "outputs": [],
   "source": [
    "data(NYdata)\n",
    "\n",
    "s<-c(8,11,12,14,18,21,24,28)\n",
    "\n",
    "DataFit<-spT.subset(data=NYdata, var.name=c(\"s.index\"), s=s, reverse=TRUE)\n",
    "DataFit<-subset(DataFit, with(DataFit, !(Day %in% c(30, 31) & Month == 8)))\n",
    "\n",
    "DataValPred<-spT.subset(data=NYdata, var.name=c(\"s.index\"), s=c(8,11,12,14,18,21,24,28))\n",
    "DataValPred<-subset(DataValPred, with(DataValPred, !(Day %in% c(30, 31) & Month == 8)))"
   ]
  },
  {
   "cell_type": "code",
   "execution_count": 14,
   "metadata": {},
   "outputs": [
    {
     "data": {
      "text/html": [
       "<table>\n",
       "<thead><tr><th scope=col>s.index</th><th scope=col>Longitude</th><th scope=col>Latitude</th><th scope=col>Year</th><th scope=col>Month</th><th scope=col>Day</th><th scope=col>o8hrmax</th><th scope=col>cMAXTMP</th><th scope=col>WDSP</th><th scope=col>RH</th></tr></thead>\n",
       "<tbody>\n",
       "\t<tr><td>1       </td><td>-73.757 </td><td>42.681  </td><td>2006    </td><td>7       </td><td>1       </td><td>53.88   </td><td>27.85772</td><td>5.459953</td><td>2.766221</td></tr>\n",
       "\t<tr><td>1       </td><td>-73.757 </td><td>42.681  </td><td>2006    </td><td>7       </td><td>2       </td><td>57.13   </td><td>30.11563</td><td>8.211767</td><td>3.197750</td></tr>\n",
       "\t<tr><td>1       </td><td>-73.757 </td><td>42.681  </td><td>2006    </td><td>7       </td><td>3       </td><td>72.00   </td><td>30.00001</td><td>4.459581</td><td>3.225186</td></tr>\n",
       "\t<tr><td>1       </td><td>-73.757 </td><td>42.681  </td><td>2006    </td><td>7       </td><td>4       </td><td>36.63   </td><td>27.89656</td><td>3.692225</td><td>4.362334</td></tr>\n",
       "\t<tr><td>1       </td><td>-73.757 </td><td>42.681  </td><td>2006    </td><td>7       </td><td>5       </td><td>42.63   </td><td>25.65698</td><td>4.374314</td><td>3.950320</td></tr>\n",
       "\t<tr><td>1       </td><td>-73.757 </td><td>42.681  </td><td>2006    </td><td>7       </td><td>6       </td><td>30.88   </td><td>24.61968</td><td>4.178086</td><td>3.420533</td></tr>\n",
       "</tbody>\n",
       "</table>\n"
      ],
      "text/latex": [
       "\\begin{tabular}{r|llllllllll}\n",
       " s.index & Longitude & Latitude & Year & Month & Day & o8hrmax & cMAXTMP & WDSP & RH\\\\\n",
       "\\hline\n",
       "\t 1        & -73.757  & 42.681   & 2006     & 7        & 1        & 53.88    & 27.85772 & 5.459953 & 2.766221\\\\\n",
       "\t 1        & -73.757  & 42.681   & 2006     & 7        & 2        & 57.13    & 30.11563 & 8.211767 & 3.197750\\\\\n",
       "\t 1        & -73.757  & 42.681   & 2006     & 7        & 3        & 72.00    & 30.00001 & 4.459581 & 3.225186\\\\\n",
       "\t 1        & -73.757  & 42.681   & 2006     & 7        & 4        & 36.63    & 27.89656 & 3.692225 & 4.362334\\\\\n",
       "\t 1        & -73.757  & 42.681   & 2006     & 7        & 5        & 42.63    & 25.65698 & 4.374314 & 3.950320\\\\\n",
       "\t 1        & -73.757  & 42.681   & 2006     & 7        & 6        & 30.88    & 24.61968 & 4.178086 & 3.420533\\\\\n",
       "\\end{tabular}\n"
      ],
      "text/markdown": [
       "\n",
       "s.index | Longitude | Latitude | Year | Month | Day | o8hrmax | cMAXTMP | WDSP | RH | \n",
       "|---|---|---|---|---|---|\n",
       "| 1        | -73.757  | 42.681   | 2006     | 7        | 1        | 53.88    | 27.85772 | 5.459953 | 2.766221 | \n",
       "| 1        | -73.757  | 42.681   | 2006     | 7        | 2        | 57.13    | 30.11563 | 8.211767 | 3.197750 | \n",
       "| 1        | -73.757  | 42.681   | 2006     | 7        | 3        | 72.00    | 30.00001 | 4.459581 | 3.225186 | \n",
       "| 1        | -73.757  | 42.681   | 2006     | 7        | 4        | 36.63    | 27.89656 | 3.692225 | 4.362334 | \n",
       "| 1        | -73.757  | 42.681   | 2006     | 7        | 5        | 42.63    | 25.65698 | 4.374314 | 3.950320 | \n",
       "| 1        | -73.757  | 42.681   | 2006     | 7        | 6        | 30.88    | 24.61968 | 4.178086 | 3.420533 | \n",
       "\n",
       "\n"
      ],
      "text/plain": [
       "  s.index Longitude Latitude Year Month Day o8hrmax cMAXTMP  WDSP     RH      \n",
       "1 1       -73.757   42.681   2006 7     1   53.88   27.85772 5.459953 2.766221\n",
       "2 1       -73.757   42.681   2006 7     2   57.13   30.11563 8.211767 3.197750\n",
       "3 1       -73.757   42.681   2006 7     3   72.00   30.00001 4.459581 3.225186\n",
       "4 1       -73.757   42.681   2006 7     4   36.63   27.89656 3.692225 4.362334\n",
       "5 1       -73.757   42.681   2006 7     5   42.63   25.65698 4.374314 3.950320\n",
       "6 1       -73.757   42.681   2006 7     6   30.88   24.61968 4.178086 3.420533"
      ]
     },
     "metadata": {},
     "output_type": "display_data"
    }
   ],
   "source": [
    "head(DataFit)"
   ]
  },
  {
   "cell_type": "code",
   "execution_count": 15,
   "metadata": {},
   "outputs": [
    {
     "data": {
      "text/html": [
       "<table>\n",
       "<thead><tr><th></th><th scope=col>s.index</th><th scope=col>Longitude</th><th scope=col>Latitude</th><th scope=col>Year</th><th scope=col>Month</th><th scope=col>Day</th><th scope=col>o8hrmax</th><th scope=col>cMAXTMP</th><th scope=col>WDSP</th><th scope=col>RH</th></tr></thead>\n",
       "<tbody>\n",
       "\t<tr><th scope=row>435</th><td>8       </td><td>-73.859 </td><td>44.393  </td><td>2006    </td><td>7       </td><td>1       </td><td>59.00   </td><td>25.94042</td><td>5.945552</td><td>3.162660</td></tr>\n",
       "\t<tr><th scope=row>436</th><td>8       </td><td>-73.859 </td><td>44.393  </td><td>2006    </td><td>7       </td><td>2       </td><td>59.13   </td><td>29.20228</td><td>8.557723</td><td>3.218115</td></tr>\n",
       "\t<tr><th scope=row>437</th><td>8       </td><td>-73.859 </td><td>44.393  </td><td>2006    </td><td>7       </td><td>3       </td><td>52.25   </td><td>27.74775</td><td>4.791014</td><td>2.888200</td></tr>\n",
       "\t<tr><th scope=row>438</th><td>8       </td><td>-73.859 </td><td>44.393  </td><td>2006    </td><td>7       </td><td>4       </td><td>50.25   </td><td>26.66863</td><td>4.468024</td><td>4.282619</td></tr>\n",
       "\t<tr><th scope=row>439</th><td>8       </td><td>-73.859 </td><td>44.393  </td><td>2006    </td><td>7       </td><td>5       </td><td>35.63   </td><td>24.82223</td><td>5.413934</td><td>3.815903</td></tr>\n",
       "\t<tr><th scope=row>440</th><td>8       </td><td>-73.859 </td><td>44.393  </td><td>2006    </td><td>7       </td><td>6       </td><td>25.88   </td><td>23.20626</td><td>3.815445</td><td>3.584016</td></tr>\n",
       "</tbody>\n",
       "</table>\n"
      ],
      "text/latex": [
       "\\begin{tabular}{r|llllllllll}\n",
       "  & s.index & Longitude & Latitude & Year & Month & Day & o8hrmax & cMAXTMP & WDSP & RH\\\\\n",
       "\\hline\n",
       "\t435 & 8        & -73.859  & 44.393   & 2006     & 7        & 1        & 59.00    & 25.94042 & 5.945552 & 3.162660\\\\\n",
       "\t436 & 8        & -73.859  & 44.393   & 2006     & 7        & 2        & 59.13    & 29.20228 & 8.557723 & 3.218115\\\\\n",
       "\t437 & 8        & -73.859  & 44.393   & 2006     & 7        & 3        & 52.25    & 27.74775 & 4.791014 & 2.888200\\\\\n",
       "\t438 & 8        & -73.859  & 44.393   & 2006     & 7        & 4        & 50.25    & 26.66863 & 4.468024 & 4.282619\\\\\n",
       "\t439 & 8        & -73.859  & 44.393   & 2006     & 7        & 5        & 35.63    & 24.82223 & 5.413934 & 3.815903\\\\\n",
       "\t440 & 8        & -73.859  & 44.393   & 2006     & 7        & 6        & 25.88    & 23.20626 & 3.815445 & 3.584016\\\\\n",
       "\\end{tabular}\n"
      ],
      "text/markdown": [
       "\n",
       "| <!--/--> | s.index | Longitude | Latitude | Year | Month | Day | o8hrmax | cMAXTMP | WDSP | RH | \n",
       "|---|---|---|---|---|---|\n",
       "| 435 | 8        | -73.859  | 44.393   | 2006     | 7        | 1        | 59.00    | 25.94042 | 5.945552 | 3.162660 | \n",
       "| 436 | 8        | -73.859  | 44.393   | 2006     | 7        | 2        | 59.13    | 29.20228 | 8.557723 | 3.218115 | \n",
       "| 437 | 8        | -73.859  | 44.393   | 2006     | 7        | 3        | 52.25    | 27.74775 | 4.791014 | 2.888200 | \n",
       "| 438 | 8        | -73.859  | 44.393   | 2006     | 7        | 4        | 50.25    | 26.66863 | 4.468024 | 4.282619 | \n",
       "| 439 | 8        | -73.859  | 44.393   | 2006     | 7        | 5        | 35.63    | 24.82223 | 5.413934 | 3.815903 | \n",
       "| 440 | 8        | -73.859  | 44.393   | 2006     | 7        | 6        | 25.88    | 23.20626 | 3.815445 | 3.584016 | \n",
       "\n",
       "\n"
      ],
      "text/plain": [
       "    s.index Longitude Latitude Year Month Day o8hrmax cMAXTMP  WDSP    \n",
       "435 8       -73.859   44.393   2006 7     1   59.00   25.94042 5.945552\n",
       "436 8       -73.859   44.393   2006 7     2   59.13   29.20228 8.557723\n",
       "437 8       -73.859   44.393   2006 7     3   52.25   27.74775 4.791014\n",
       "438 8       -73.859   44.393   2006 7     4   50.25   26.66863 4.468024\n",
       "439 8       -73.859   44.393   2006 7     5   35.63   24.82223 5.413934\n",
       "440 8       -73.859   44.393   2006 7     6   25.88   23.20626 3.815445\n",
       "    RH      \n",
       "435 3.162660\n",
       "436 3.218115\n",
       "437 2.888200\n",
       "438 4.282619\n",
       "439 3.815903\n",
       "440 3.584016"
      ]
     },
     "metadata": {},
     "output_type": "display_data"
    }
   ],
   "source": [
    "head(DataValPred)"
   ]
  },
  {
   "cell_type": "code",
   "execution_count": 17,
   "metadata": {},
   "outputs": [
    {
     "name": "stdout",
     "output_type": "stream",
     "text": [
      "\n",
      " Output: AR models \n",
      "---------------------------------------------------------------\n",
      " Sampled: 5000 of 5000, 100.00%.\n",
      " Batch Acceptance Rate (phi): 0.00%\n",
      " Checking Parameters: \n",
      "   phi: 0.0051, rho: 0.4099, sig2eps: 0.0134, sig2eta: 0.7287\n",
      "   beta[1]: 2.2754   beta[2]: 0.0724   beta[3]: 0.0138   beta[4]: -0.0249\n",
      "---------------------------------------------------------------\n",
      "## \n",
      "# nBurn =  1000 , Iterations =  5000 . \n",
      "# Overall Acceptance Rate (phi) =  0 % \n",
      "## \n",
      "##\n",
      "# Elapsed time: 8.35 Sec.\n",
      "##\n",
      "\n",
      "# Model: AR \n",
      "-----------------------------------------------------\n",
      "Model: AR\n",
      "Call: o8hrmax ~ cMAXTMP + WDSP + RH\n",
      "Iterations: 5000\n",
      "nBurn: 1000\n",
      "Acceptance rate for phi (%): 0\n",
      "-----------------------------------------------------\n",
      "        Goodness.of.fit Penalty   PMCC\n",
      "values:          311.15  451.48 762.63\n",
      "-----------------------------------------------------\n",
      "Computation time: 8.35  - Sec.\n",
      "\n",
      " Prediction: AR models \n",
      "#\n",
      "# Tolerance Limit (unit): 2\n",
      "# Location distances are alright \n",
      "#\n",
      "-------------------------------------------------\n",
      "  Sampled: 400 of 4000, 10.00%\n",
      "-------------------------------------------------\n",
      "-------------------------------------------------\n",
      "  Sampled: 800 of 4000, 20.00%\n",
      "-------------------------------------------------\n",
      "-------------------------------------------------\n",
      "  Sampled: 1200 of 4000, 30.00%\n",
      "-------------------------------------------------\n",
      "-------------------------------------------------\n",
      "  Sampled: 1600 of 4000, 40.00%\n",
      "-------------------------------------------------\n",
      "-------------------------------------------------\n",
      "  Sampled: 2000 of 4000, 50.00%\n",
      "-------------------------------------------------\n",
      "-------------------------------------------------\n",
      "  Sampled: 2400 of 4000, 60.00%\n",
      "-------------------------------------------------\n",
      "-------------------------------------------------\n",
      "  Sampled: 2800 of 4000, 70.00%\n",
      "-------------------------------------------------\n",
      "-------------------------------------------------\n",
      "  Sampled: 3200 of 4000, 80.00%\n",
      "-------------------------------------------------\n",
      "-------------------------------------------------\n",
      "  Sampled: 3600 of 4000, 90.00%\n",
      "-------------------------------------------------\n",
      "-------------------------------------------------\n",
      "  Sampled: 4000 of 4000, 100.00%\n",
      "-------------------------------------------------\n",
      "## \n",
      "# Predicted samples and summary statistics are given.\n",
      "# nBurn =  1000 . Iterations =  5000 . \n",
      "## \n",
      "##\n",
      "# Elapsed time: 4.5 Sec.\n",
      "##\n",
      "--------------------------------------\n",
      "Spatial prediction with Model: AR \n",
      "Covariance function: exponential \n",
      "Distance method: geodetic:km \n",
      "Computation time:  4.5  - Sec. \n",
      "--------------------------------------\n"
     ]
    },
    {
     "data": {
      "text/html": [
       "<ol class=list-inline>\n",
       "\t<li>'pred.samples'</li>\n",
       "\t<li>'pred.coords'</li>\n",
       "\t<li>'distance.method'</li>\n",
       "\t<li>'Distance.matrix.pred'</li>\n",
       "\t<li>'cov.fnc'</li>\n",
       "\t<li>'predN'</li>\n",
       "\t<li>'Mean'</li>\n",
       "\t<li>'Median'</li>\n",
       "\t<li>'SD'</li>\n",
       "\t<li>'Low'</li>\n",
       "\t<li>'Up'</li>\n",
       "\t<li>'computation.time'</li>\n",
       "\t<li>'model'</li>\n",
       "\t<li>'type'</li>\n",
       "</ol>\n"
      ],
      "text/latex": [
       "\\begin{enumerate*}\n",
       "\\item 'pred.samples'\n",
       "\\item 'pred.coords'\n",
       "\\item 'distance.method'\n",
       "\\item 'Distance.matrix.pred'\n",
       "\\item 'cov.fnc'\n",
       "\\item 'predN'\n",
       "\\item 'Mean'\n",
       "\\item 'Median'\n",
       "\\item 'SD'\n",
       "\\item 'Low'\n",
       "\\item 'Up'\n",
       "\\item 'computation.time'\n",
       "\\item 'model'\n",
       "\\item 'type'\n",
       "\\end{enumerate*}\n"
      ],
      "text/markdown": [
       "1. 'pred.samples'\n",
       "2. 'pred.coords'\n",
       "3. 'distance.method'\n",
       "4. 'Distance.matrix.pred'\n",
       "5. 'cov.fnc'\n",
       "6. 'predN'\n",
       "7. 'Mean'\n",
       "8. 'Median'\n",
       "9. 'SD'\n",
       "10. 'Low'\n",
       "11. 'Up'\n",
       "12. 'computation.time'\n",
       "13. 'model'\n",
       "14. 'type'\n",
       "\n",
       "\n"
      ],
      "text/plain": [
       " [1] \"pred.samples\"         \"pred.coords\"          \"distance.method\"     \n",
       " [4] \"Distance.matrix.pred\" \"cov.fnc\"              \"predN\"               \n",
       " [7] \"Mean\"                 \"Median\"               \"SD\"                  \n",
       "[10] \"Low\"                  \"Up\"                   \"computation.time\"    \n",
       "[13] \"model\"                \"type\"                "
      ]
     },
     "metadata": {},
     "output_type": "display_data"
    },
    {
     "name": "stdout",
     "output_type": "stream",
     "text": [
      "##\n",
      " Mean Squared Error (MSE) \n",
      " Root Mean Squared Error (RMSE) \n",
      " Mean Absolute Error (MAE) \n",
      " Mean Absolute Percentage Error (MAPE) \n",
      " Bias (BIAS) \n",
      " Relative Bias (rBIAS) \n",
      " Relative Mean Separation (rMSEP)\n",
      "##\n"
     ]
    },
    {
     "data": {
      "text/html": [
       "<dl class=dl-horizontal>\n",
       "\t<dt>MSE</dt>\n",
       "\t\t<dd>48.8689</dd>\n",
       "\t<dt>RMSE</dt>\n",
       "\t\t<dd>6.9906</dd>\n",
       "\t<dt>MAE</dt>\n",
       "\t\t<dd>5.4625</dd>\n",
       "\t<dt>MAPE</dt>\n",
       "\t\t<dd>12.9156</dd>\n",
       "\t<dt>BIAS</dt>\n",
       "\t\t<dd>1.291</dd>\n",
       "\t<dt>rBIAS</dt>\n",
       "\t\t<dd>0.0276</dd>\n",
       "\t<dt>rMSEP</dt>\n",
       "\t\t<dd>0.2937</dd>\n",
       "</dl>\n"
      ],
      "text/latex": [
       "\\begin{description*}\n",
       "\\item[MSE] 48.8689\n",
       "\\item[RMSE] 6.9906\n",
       "\\item[MAE] 5.4625\n",
       "\\item[MAPE] 12.9156\n",
       "\\item[BIAS] 1.291\n",
       "\\item[rBIAS] 0.0276\n",
       "\\item[rMSEP] 0.2937\n",
       "\\end{description*}\n"
      ],
      "text/markdown": [
       "MSE\n",
       ":   48.8689RMSE\n",
       ":   6.9906MAE\n",
       ":   5.4625MAPE\n",
       ":   12.9156BIAS\n",
       ":   1.291rBIAS\n",
       ":   0.0276rMSEP\n",
       ":   0.2937\n",
       "\n"
      ],
      "text/plain": [
       "    MSE    RMSE     MAE    MAPE    BIAS   rBIAS   rMSEP \n",
       "48.8689  6.9906  5.4625 12.9156  1.2910  0.0276  0.2937 "
      ]
     },
     "metadata": {},
     "output_type": "display_data"
    }
   ],
   "source": [
    "set.seed(11)\n",
    "post.gp <- spT.Gibbs(formula=o8hrmax ~cMAXTMP+WDSP+RH,\n",
    "                     data=DataFit, \n",
    "                     model=\"AR\", \n",
    "                     coords=~Longitude+Latitude,\n",
    "                     scale.transform=\"SQRT\")\n",
    "print(post.gp)\n",
    "pred.coords<-as.matrix(unique(cbind(DataValPred[,2:3])))\n",
    "\n",
    "set.seed(11)\n",
    "pred.gp <- predict(post.gp, newdata=DataValPred, newcoords=pred.coords)\n",
    "print(pred.gp)\n",
    "names(pred.gp)\n",
    "spT.validation(DataValPred$o8hrmax,c(pred.gp$Mean))"
   ]
  },
  {
   "cell_type": "code",
   "execution_count": null,
   "metadata": {},
   "outputs": [],
   "source": []
  }
 ],
 "metadata": {
  "kernelspec": {
   "display_name": "R",
   "language": "R",
   "name": "ir"
  },
  "language_info": {
   "codemirror_mode": "r",
   "file_extension": ".r",
   "mimetype": "text/x-r-source",
   "name": "R",
   "pygments_lexer": "r",
   "version": "3.4.3"
  }
 },
 "nbformat": 4,
 "nbformat_minor": 2
}
