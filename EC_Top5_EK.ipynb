{
 "cells": [
  {
   "cell_type": "code",
   "execution_count": 1,
   "metadata": {},
   "outputs": [],
   "source": [
    "import pandas as pd\n",
    "import numpy as np\n",
    "import matplotlib.pyplot as plt\n",
    "import seaborn as sns\n",
    "%matplotlib inline"
   ]
  },
  {
   "cell_type": "code",
   "execution_count": 2,
   "metadata": {},
   "outputs": [
    {
     "data": {
      "text/html": [
       "<div>\n",
       "<style scoped>\n",
       "    .dataframe tbody tr th:only-of-type {\n",
       "        vertical-align: middle;\n",
       "    }\n",
       "\n",
       "    .dataframe tbody tr th {\n",
       "        vertical-align: top;\n",
       "    }\n",
       "\n",
       "    .dataframe thead th {\n",
       "        text-align: right;\n",
       "    }\n",
       "</style>\n",
       "<table border=\"1\" class=\"dataframe\">\n",
       "  <thead>\n",
       "    <tr style=\"text-align: right;\">\n",
       "      <th></th>\n",
       "      <th>element_key</th>\n",
       "      <th>latitude</th>\n",
       "      <th>longitude</th>\n",
       "      <th>timestamp</th>\n",
       "      <th>paid_parking_area</th>\n",
       "      <th>day_year</th>\n",
       "      <th>occupation_perc</th>\n",
       "      <th>prcp</th>\n",
       "      <th>tmax</th>\n",
       "      <th>tmin</th>\n",
       "    </tr>\n",
       "  </thead>\n",
       "  <tbody>\n",
       "    <tr>\n",
       "      <th>0</th>\n",
       "      <td>75865</td>\n",
       "      <td>47.598052</td>\n",
       "      <td>-122.326466</td>\n",
       "      <td>2016-01-02 08:00:00</td>\n",
       "      <td>Chinatown/ID</td>\n",
       "      <td>2</td>\n",
       "      <td>11.76</td>\n",
       "      <td>0.0</td>\n",
       "      <td>42</td>\n",
       "      <td>25</td>\n",
       "    </tr>\n",
       "    <tr>\n",
       "      <th>1</th>\n",
       "      <td>75865</td>\n",
       "      <td>47.598052</td>\n",
       "      <td>-122.326466</td>\n",
       "      <td>2016-01-02 09:00:00</td>\n",
       "      <td>Chinatown/ID</td>\n",
       "      <td>2</td>\n",
       "      <td>11.76</td>\n",
       "      <td>0.0</td>\n",
       "      <td>42</td>\n",
       "      <td>25</td>\n",
       "    </tr>\n",
       "    <tr>\n",
       "      <th>2</th>\n",
       "      <td>75865</td>\n",
       "      <td>47.598052</td>\n",
       "      <td>-122.326466</td>\n",
       "      <td>2016-01-02 10:00:00</td>\n",
       "      <td>Chinatown/ID</td>\n",
       "      <td>2</td>\n",
       "      <td>11.76</td>\n",
       "      <td>0.0</td>\n",
       "      <td>42</td>\n",
       "      <td>25</td>\n",
       "    </tr>\n",
       "    <tr>\n",
       "      <th>3</th>\n",
       "      <td>75865</td>\n",
       "      <td>47.598052</td>\n",
       "      <td>-122.326466</td>\n",
       "      <td>2016-01-02 11:00:00</td>\n",
       "      <td>Chinatown/ID</td>\n",
       "      <td>2</td>\n",
       "      <td>29.41</td>\n",
       "      <td>0.0</td>\n",
       "      <td>42</td>\n",
       "      <td>25</td>\n",
       "    </tr>\n",
       "    <tr>\n",
       "      <th>4</th>\n",
       "      <td>75865</td>\n",
       "      <td>47.598052</td>\n",
       "      <td>-122.326466</td>\n",
       "      <td>2016-01-02 12:00:00</td>\n",
       "      <td>Chinatown/ID</td>\n",
       "      <td>2</td>\n",
       "      <td>52.94</td>\n",
       "      <td>0.0</td>\n",
       "      <td>42</td>\n",
       "      <td>25</td>\n",
       "    </tr>\n",
       "    <tr>\n",
       "      <th>5</th>\n",
       "      <td>75865</td>\n",
       "      <td>47.598052</td>\n",
       "      <td>-122.326466</td>\n",
       "      <td>2016-01-02 13:00:00</td>\n",
       "      <td>Chinatown/ID</td>\n",
       "      <td>2</td>\n",
       "      <td>47.06</td>\n",
       "      <td>0.0</td>\n",
       "      <td>42</td>\n",
       "      <td>25</td>\n",
       "    </tr>\n",
       "    <tr>\n",
       "      <th>6</th>\n",
       "      <td>75865</td>\n",
       "      <td>47.598052</td>\n",
       "      <td>-122.326466</td>\n",
       "      <td>2016-01-02 14:00:00</td>\n",
       "      <td>Chinatown/ID</td>\n",
       "      <td>2</td>\n",
       "      <td>29.41</td>\n",
       "      <td>0.0</td>\n",
       "      <td>42</td>\n",
       "      <td>25</td>\n",
       "    </tr>\n",
       "    <tr>\n",
       "      <th>7</th>\n",
       "      <td>75865</td>\n",
       "      <td>47.598052</td>\n",
       "      <td>-122.326466</td>\n",
       "      <td>2016-01-02 15:00:00</td>\n",
       "      <td>Chinatown/ID</td>\n",
       "      <td>2</td>\n",
       "      <td>29.41</td>\n",
       "      <td>0.0</td>\n",
       "      <td>42</td>\n",
       "      <td>25</td>\n",
       "    </tr>\n",
       "    <tr>\n",
       "      <th>8</th>\n",
       "      <td>75865</td>\n",
       "      <td>47.598052</td>\n",
       "      <td>-122.326466</td>\n",
       "      <td>2016-01-02 16:00:00</td>\n",
       "      <td>Chinatown/ID</td>\n",
       "      <td>2</td>\n",
       "      <td>41.18</td>\n",
       "      <td>0.0</td>\n",
       "      <td>42</td>\n",
       "      <td>25</td>\n",
       "    </tr>\n",
       "    <tr>\n",
       "      <th>9</th>\n",
       "      <td>75865</td>\n",
       "      <td>47.598052</td>\n",
       "      <td>-122.326466</td>\n",
       "      <td>2016-01-02 17:00:00</td>\n",
       "      <td>Chinatown/ID</td>\n",
       "      <td>2</td>\n",
       "      <td>41.18</td>\n",
       "      <td>0.0</td>\n",
       "      <td>42</td>\n",
       "      <td>25</td>\n",
       "    </tr>\n",
       "  </tbody>\n",
       "</table>\n",
       "</div>"
      ],
      "text/plain": [
       "   element_key   latitude   longitude           timestamp paid_parking_area  \\\n",
       "0        75865  47.598052 -122.326466 2016-01-02 08:00:00      Chinatown/ID   \n",
       "1        75865  47.598052 -122.326466 2016-01-02 09:00:00      Chinatown/ID   \n",
       "2        75865  47.598052 -122.326466 2016-01-02 10:00:00      Chinatown/ID   \n",
       "3        75865  47.598052 -122.326466 2016-01-02 11:00:00      Chinatown/ID   \n",
       "4        75865  47.598052 -122.326466 2016-01-02 12:00:00      Chinatown/ID   \n",
       "5        75865  47.598052 -122.326466 2016-01-02 13:00:00      Chinatown/ID   \n",
       "6        75865  47.598052 -122.326466 2016-01-02 14:00:00      Chinatown/ID   \n",
       "7        75865  47.598052 -122.326466 2016-01-02 15:00:00      Chinatown/ID   \n",
       "8        75865  47.598052 -122.326466 2016-01-02 16:00:00      Chinatown/ID   \n",
       "9        75865  47.598052 -122.326466 2016-01-02 17:00:00      Chinatown/ID   \n",
       "\n",
       "   day_year  occupation_perc  prcp  tmax  tmin  \n",
       "0         2            11.76   0.0    42    25  \n",
       "1         2            11.76   0.0    42    25  \n",
       "2         2            11.76   0.0    42    25  \n",
       "3         2            29.41   0.0    42    25  \n",
       "4         2            52.94   0.0    42    25  \n",
       "5         2            47.06   0.0    42    25  \n",
       "6         2            29.41   0.0    42    25  \n",
       "7         2            29.41   0.0    42    25  \n",
       "8         2            41.18   0.0    42    25  \n",
       "9         2            41.18   0.0    42    25  "
      ]
     },
     "execution_count": 2,
     "metadata": {},
     "output_type": "execute_result"
    }
   ],
   "source": [
    "df = pd.read_csv('./data/Serie_Total2016.csv')\n",
    "df.timestamp = pd.to_datetime(df.timestamp)\n",
    "df = df.loc[df.timestamp.dt.hour < 20]\n",
    "df.head(10)"
   ]
  },
  {
   "cell_type": "code",
   "execution_count": 3,
   "metadata": {},
   "outputs": [],
   "source": [
    "top100_list = [1234, 35845, 35850, 13213, 54737, 35846, 31850, 31849, 63125, 9474, \n",
    "               35682, 81210, 32266, 24413, 56654, 30698, 54733, 76961, 18622, 69446,\n",
    "               69489, 9141, 35681, 85385, 46410, 54730, 24041, 24270, 87257, 13549,\n",
    "               46254, 13793, 9510, 1021, 1046, 41030, 46409, 69445, 24405, 13214,\n",
    "               49654, 58514, 34214, 12289, 31493, 70866, 63126, 16942, 76962, 37134,\n",
    "               81209, 74025, 85381, 28949, 79741, 14677, 35849, 81297, 69098, 24557,\n",
    "               88773, 1018, 75865, 74029, 32265, 9461, 58513, 37177, 59958, 51485,\n",
    "               9473, 1433, 75169, 12765, 88634, 81117, 24038, 2926, 34938, 25714,\n",
    "               7261, 11118, 86449, 1045, 11878, 52525, 8001, 70746, 81421, 24037,\n",
    "               81194, 62458, 24042, 24265, 1037, 94602, 65817, 59962, 25710, 24266]\n",
    "df_top100 = df.loc[df.element_key.isin(top100_list)].sort_values(['element_key','timestamp'])"
   ]
  },
  {
   "cell_type": "code",
   "execution_count": 4,
   "metadata": {},
   "outputs": [
    {
     "data": {
      "text/plain": [
       "14"
      ]
     },
     "execution_count": 4,
     "metadata": {},
     "output_type": "execute_result"
    }
   ],
   "source": [
    "df_top100.paid_parking_area.unique().size\n",
    "# El top 100 de parquímetros con mayor número de transacciones están distribuidos en 14 del total de 18 distritos"
   ]
  },
  {
   "cell_type": "code",
   "execution_count": 5,
   "metadata": {},
   "outputs": [
    {
     "data": {
      "text/plain": [
       "timestamp\n",
       "8      9038\n",
       "9      9763\n",
       "10     9985\n",
       "11    10054\n",
       "12    10066\n",
       "13    10066\n",
       "14    10064\n",
       "15    10025\n",
       "16     9819\n",
       "17     9726\n",
       "18     9789\n",
       "19     8522\n",
       "Name: day_year, dtype: int64"
      ]
     },
     "execution_count": 5,
     "metadata": {},
     "output_type": "execute_result"
    }
   ],
   "source": [
    "df_top100.loc[df_top100.timestamp.dt.month <= 4].groupby(df_top100.timestamp.dt.hour).day_year.count()"
   ]
  },
  {
   "cell_type": "code",
   "execution_count": 6,
   "metadata": {},
   "outputs": [],
   "source": [
    "import holidays\n",
    "\n",
    "hol = holidays.US(state='WA', years=[2016]).items()\n",
    "hol_days = []\n",
    "for dat, name in sorted(hol):\n",
    "    hol_days.append(dat.timetuple().tm_yday)"
   ]
  },
  {
   "cell_type": "code",
   "execution_count": 7,
   "metadata": {},
   "outputs": [],
   "source": [
    "sundays = [3]\n",
    "for i in range(1,52):\n",
    "    sundays.append(i*7+3)"
   ]
  },
  {
   "cell_type": "code",
   "execution_count": 8,
   "metadata": {},
   "outputs": [
    {
     "data": {
      "text/plain": [
       "[]"
      ]
     },
     "execution_count": 8,
     "metadata": {},
     "output_type": "execute_result"
    }
   ],
   "source": [
    "df_top100_days = sorted(df_top100.timestamp.dt.dayofyear.unique())\n",
    "df_top100_days_sh = list(set().union(sundays, hol_days, df_top100_days))\n",
    "list(set(list(range(1,367))) ^ set(df_top100_days_sh))"
   ]
  },
  {
   "cell_type": "markdown",
   "metadata": {},
   "source": [
    "### EK = 1234"
   ]
  },
  {
   "cell_type": "code",
   "execution_count": 9,
   "metadata": {},
   "outputs": [
    {
     "data": {
      "text/plain": [
       "101"
      ]
     },
     "execution_count": 9,
     "metadata": {},
     "output_type": "execute_result"
    }
   ],
   "source": [
    "ek1234 = df_top100.loc[(df_top100.element_key == 1234) & (df_top100.timestamp.dt.month <= 4)]\n",
    "ek1234.day_year.unique().size"
   ]
  },
  {
   "cell_type": "code",
   "execution_count": 10,
   "metadata": {},
   "outputs": [
    {
     "data": {
      "text/html": [
       "<div>\n",
       "<style scoped>\n",
       "    .dataframe tbody tr th:only-of-type {\n",
       "        vertical-align: middle;\n",
       "    }\n",
       "\n",
       "    .dataframe tbody tr th {\n",
       "        vertical-align: top;\n",
       "    }\n",
       "\n",
       "    .dataframe thead th {\n",
       "        text-align: right;\n",
       "    }\n",
       "</style>\n",
       "<table border=\"1\" class=\"dataframe\">\n",
       "  <thead>\n",
       "    <tr style=\"text-align: right;\">\n",
       "      <th></th>\n",
       "      <th>element_key</th>\n",
       "      <th>latitude</th>\n",
       "      <th>longitude</th>\n",
       "      <th>timestamp</th>\n",
       "      <th>paid_parking_area</th>\n",
       "      <th>day_year</th>\n",
       "      <th>occupation_perc</th>\n",
       "      <th>prcp</th>\n",
       "      <th>tmax</th>\n",
       "      <th>tmin</th>\n",
       "    </tr>\n",
       "  </thead>\n",
       "  <tbody>\n",
       "    <tr>\n",
       "      <th>5671</th>\n",
       "      <td>1234</td>\n",
       "      <td>47.61471</td>\n",
       "      <td>-122.319331</td>\n",
       "      <td>2016-01-02 08:00:00</td>\n",
       "      <td>Pike-Pine</td>\n",
       "      <td>2</td>\n",
       "      <td>11.43</td>\n",
       "      <td>0.0</td>\n",
       "      <td>42</td>\n",
       "      <td>25</td>\n",
       "    </tr>\n",
       "    <tr>\n",
       "      <th>5672</th>\n",
       "      <td>1234</td>\n",
       "      <td>47.61471</td>\n",
       "      <td>-122.319331</td>\n",
       "      <td>2016-01-02 09:00:00</td>\n",
       "      <td>Pike-Pine</td>\n",
       "      <td>2</td>\n",
       "      <td>54.29</td>\n",
       "      <td>0.0</td>\n",
       "      <td>42</td>\n",
       "      <td>25</td>\n",
       "    </tr>\n",
       "    <tr>\n",
       "      <th>5673</th>\n",
       "      <td>1234</td>\n",
       "      <td>47.61471</td>\n",
       "      <td>-122.319331</td>\n",
       "      <td>2016-01-02 10:00:00</td>\n",
       "      <td>Pike-Pine</td>\n",
       "      <td>2</td>\n",
       "      <td>54.29</td>\n",
       "      <td>0.0</td>\n",
       "      <td>42</td>\n",
       "      <td>25</td>\n",
       "    </tr>\n",
       "  </tbody>\n",
       "</table>\n",
       "</div>"
      ],
      "text/plain": [
       "      element_key  latitude   longitude           timestamp paid_parking_area  \\\n",
       "5671         1234  47.61471 -122.319331 2016-01-02 08:00:00         Pike-Pine   \n",
       "5672         1234  47.61471 -122.319331 2016-01-02 09:00:00         Pike-Pine   \n",
       "5673         1234  47.61471 -122.319331 2016-01-02 10:00:00         Pike-Pine   \n",
       "\n",
       "      day_year  occupation_perc  prcp  tmax  tmin  \n",
       "5671         2            11.43   0.0    42    25  \n",
       "5672         2            54.29   0.0    42    25  \n",
       "5673         2            54.29   0.0    42    25  "
      ]
     },
     "execution_count": 10,
     "metadata": {},
     "output_type": "execute_result"
    }
   ],
   "source": [
    "ek1234.head(3)"
   ]
  },
  {
   "cell_type": "code",
   "execution_count": 11,
   "metadata": {},
   "outputs": [
    {
     "data": {
      "text/plain": [
       "timestamp\n",
       "8     101\n",
       "9     101\n",
       "10    101\n",
       "11    101\n",
       "12    101\n",
       "13    101\n",
       "14    101\n",
       "15    101\n",
       "16    101\n",
       "17    101\n",
       "18    101\n",
       "19    101\n",
       "Name: day_year, dtype: int64"
      ]
     },
     "execution_count": 11,
     "metadata": {},
     "output_type": "execute_result"
    }
   ],
   "source": [
    "ek1234.loc[ek1234.timestamp.dt.month <= 4].groupby(ek1234.timestamp.dt.hour).day_year.count()"
   ]
  },
  {
   "cell_type": "code",
   "execution_count": 12,
   "metadata": {},
   "outputs": [],
   "source": [
    "ek1234.to_csv('./data/EK1234_1Q16.csv')"
   ]
  },
  {
   "cell_type": "markdown",
   "metadata": {},
   "source": [
    "### EK = 35845"
   ]
  },
  {
   "cell_type": "code",
   "execution_count": 13,
   "metadata": {},
   "outputs": [
    {
     "data": {
      "text/plain": [
       "101"
      ]
     },
     "execution_count": 13,
     "metadata": {},
     "output_type": "execute_result"
    }
   ],
   "source": [
    "ek35845 = df_top100.loc[(df_top100.element_key == 35845) & (df_top100.timestamp.dt.month <= 4)]\n",
    "ek35845.day_year.unique().size"
   ]
  },
  {
   "cell_type": "code",
   "execution_count": 14,
   "metadata": {},
   "outputs": [
    {
     "data": {
      "text/html": [
       "<div>\n",
       "<style scoped>\n",
       "    .dataframe tbody tr th:only-of-type {\n",
       "        vertical-align: middle;\n",
       "    }\n",
       "\n",
       "    .dataframe tbody tr th {\n",
       "        vertical-align: top;\n",
       "    }\n",
       "\n",
       "    .dataframe thead th {\n",
       "        text-align: right;\n",
       "    }\n",
       "</style>\n",
       "<table border=\"1\" class=\"dataframe\">\n",
       "  <thead>\n",
       "    <tr style=\"text-align: right;\">\n",
       "      <th></th>\n",
       "      <th>element_key</th>\n",
       "      <th>latitude</th>\n",
       "      <th>longitude</th>\n",
       "      <th>timestamp</th>\n",
       "      <th>paid_parking_area</th>\n",
       "      <th>day_year</th>\n",
       "      <th>occupation_perc</th>\n",
       "      <th>prcp</th>\n",
       "      <th>tmax</th>\n",
       "      <th>tmin</th>\n",
       "    </tr>\n",
       "  </thead>\n",
       "  <tbody>\n",
       "    <tr>\n",
       "      <th>7635</th>\n",
       "      <td>35845</td>\n",
       "      <td>47.662283</td>\n",
       "      <td>-122.313216</td>\n",
       "      <td>2016-01-02 09:00:00</td>\n",
       "      <td>University District</td>\n",
       "      <td>2</td>\n",
       "      <td>13.33</td>\n",
       "      <td>0.0</td>\n",
       "      <td>42</td>\n",
       "      <td>25</td>\n",
       "    </tr>\n",
       "    <tr>\n",
       "      <th>7636</th>\n",
       "      <td>35845</td>\n",
       "      <td>47.662283</td>\n",
       "      <td>-122.313216</td>\n",
       "      <td>2016-01-02 10:00:00</td>\n",
       "      <td>University District</td>\n",
       "      <td>2</td>\n",
       "      <td>23.33</td>\n",
       "      <td>0.0</td>\n",
       "      <td>42</td>\n",
       "      <td>25</td>\n",
       "    </tr>\n",
       "    <tr>\n",
       "      <th>7637</th>\n",
       "      <td>35845</td>\n",
       "      <td>47.662283</td>\n",
       "      <td>-122.313216</td>\n",
       "      <td>2016-01-02 11:00:00</td>\n",
       "      <td>University District</td>\n",
       "      <td>2</td>\n",
       "      <td>46.67</td>\n",
       "      <td>0.0</td>\n",
       "      <td>42</td>\n",
       "      <td>25</td>\n",
       "    </tr>\n",
       "  </tbody>\n",
       "</table>\n",
       "</div>"
      ],
      "text/plain": [
       "      element_key   latitude   longitude           timestamp  \\\n",
       "7635        35845  47.662283 -122.313216 2016-01-02 09:00:00   \n",
       "7636        35845  47.662283 -122.313216 2016-01-02 10:00:00   \n",
       "7637        35845  47.662283 -122.313216 2016-01-02 11:00:00   \n",
       "\n",
       "        paid_parking_area  day_year  occupation_perc  prcp  tmax  tmin  \n",
       "7635  University District         2            13.33   0.0    42    25  \n",
       "7636  University District         2            23.33   0.0    42    25  \n",
       "7637  University District         2            46.67   0.0    42    25  "
      ]
     },
     "execution_count": 14,
     "metadata": {},
     "output_type": "execute_result"
    }
   ],
   "source": [
    "ek35845.head(3)"
   ]
  },
  {
   "cell_type": "code",
   "execution_count": 15,
   "metadata": {},
   "outputs": [
    {
     "data": {
      "text/plain": [
       "timestamp\n",
       "8      99\n",
       "9     101\n",
       "10    101\n",
       "11    101\n",
       "12    101\n",
       "13    101\n",
       "14    101\n",
       "15    101\n",
       "16    101\n",
       "17    101\n",
       "18    101\n",
       "19    101\n",
       "Name: day_year, dtype: int64"
      ]
     },
     "execution_count": 15,
     "metadata": {},
     "output_type": "execute_result"
    }
   ],
   "source": [
    "ek35845.loc[ek35845.timestamp.dt.month <= 4].groupby(ek35845.timestamp.dt.hour).day_year.count()"
   ]
  },
  {
   "cell_type": "code",
   "execution_count": 16,
   "metadata": {},
   "outputs": [
    {
     "name": "stdout",
     "output_type": "stream",
     "text": [
      "[2, 51]\n"
     ]
    }
   ],
   "source": [
    "ek35845_8h = ek35845.loc[(ek35845.timestamp.dt.hour == 8) & (ek35845.timestamp.dt.month <= 6)].day_year.unique()\n",
    "ek35845_19h = ek35845.loc[(ek35845.timestamp.dt.hour == 19) & (ek35845.timestamp.dt.month <= 6)].day_year.unique()\n",
    "faltan = list(set(ek35845_8h) ^ set(ek35845_19h))  \n",
    "print(faltan)"
   ]
  },
  {
   "cell_type": "code",
   "execution_count": 17,
   "metadata": {},
   "outputs": [
    {
     "name": "stderr",
     "output_type": "stream",
     "text": [
      "/anaconda3/lib/python3.6/site-packages/pandas/core/indexing.py:543: SettingWithCopyWarning: \n",
      "A value is trying to be set on a copy of a slice from a DataFrame.\n",
      "Try using .loc[row_indexer,col_indexer] = value instead\n",
      "\n",
      "See the caveats in the documentation: http://pandas.pydata.org/pandas-docs/stable/indexing.html#indexing-view-versus-copy\n",
      "  self.obj[item] = s\n"
     ]
    }
   ],
   "source": [
    "for day in faltan:\n",
    "    day_nextweek = day + 7\n",
    "    if day_nextweek in hol_days:\n",
    "        day_nextweek += 7\n",
    "    new_row = ek35845.loc[(ek35845.day_year == day_nextweek) & (ek35845.timestamp.dt.hour == 8)]\n",
    "    new_row.loc[:,'day_year'] = day\n",
    "    ek35845 = ek35845.append(new_row, ignore_index = True).sort_values(['element_key','timestamp'])"
   ]
  },
  {
   "cell_type": "code",
   "execution_count": 18,
   "metadata": {},
   "outputs": [],
   "source": [
    "ek35845.to_csv('./data/EK35845_1Q16.csv')"
   ]
  },
  {
   "cell_type": "markdown",
   "metadata": {},
   "source": [
    "### EK = 35850"
   ]
  },
  {
   "cell_type": "code",
   "execution_count": 19,
   "metadata": {},
   "outputs": [
    {
     "data": {
      "text/plain": [
       "101"
      ]
     },
     "execution_count": 19,
     "metadata": {},
     "output_type": "execute_result"
    }
   ],
   "source": [
    "ek35850 = df_top100.loc[(df_top100.element_key == 35850) & (df_top100.timestamp.dt.month <= 4)]\n",
    "ek35850.day_year.unique().size"
   ]
  },
  {
   "cell_type": "code",
   "execution_count": 20,
   "metadata": {},
   "outputs": [
    {
     "data": {
      "text/html": [
       "<div>\n",
       "<style scoped>\n",
       "    .dataframe tbody tr th:only-of-type {\n",
       "        vertical-align: middle;\n",
       "    }\n",
       "\n",
       "    .dataframe tbody tr th {\n",
       "        vertical-align: top;\n",
       "    }\n",
       "\n",
       "    .dataframe thead th {\n",
       "        text-align: right;\n",
       "    }\n",
       "</style>\n",
       "<table border=\"1\" class=\"dataframe\">\n",
       "  <thead>\n",
       "    <tr style=\"text-align: right;\">\n",
       "      <th></th>\n",
       "      <th>element_key</th>\n",
       "      <th>latitude</th>\n",
       "      <th>longitude</th>\n",
       "      <th>timestamp</th>\n",
       "      <th>paid_parking_area</th>\n",
       "      <th>day_year</th>\n",
       "      <th>occupation_perc</th>\n",
       "      <th>prcp</th>\n",
       "      <th>tmax</th>\n",
       "      <th>tmin</th>\n",
       "    </tr>\n",
       "  </thead>\n",
       "  <tbody>\n",
       "    <tr>\n",
       "      <th>4310</th>\n",
       "      <td>35850</td>\n",
       "      <td>47.663992</td>\n",
       "      <td>-122.312985</td>\n",
       "      <td>2016-01-02 08:00:00</td>\n",
       "      <td>University District</td>\n",
       "      <td>2</td>\n",
       "      <td>11.90</td>\n",
       "      <td>0.0</td>\n",
       "      <td>42</td>\n",
       "      <td>25</td>\n",
       "    </tr>\n",
       "    <tr>\n",
       "      <th>4311</th>\n",
       "      <td>35850</td>\n",
       "      <td>47.663992</td>\n",
       "      <td>-122.312985</td>\n",
       "      <td>2016-01-02 09:00:00</td>\n",
       "      <td>University District</td>\n",
       "      <td>2</td>\n",
       "      <td>33.33</td>\n",
       "      <td>0.0</td>\n",
       "      <td>42</td>\n",
       "      <td>25</td>\n",
       "    </tr>\n",
       "    <tr>\n",
       "      <th>4312</th>\n",
       "      <td>35850</td>\n",
       "      <td>47.663992</td>\n",
       "      <td>-122.312985</td>\n",
       "      <td>2016-01-02 10:00:00</td>\n",
       "      <td>University District</td>\n",
       "      <td>2</td>\n",
       "      <td>42.86</td>\n",
       "      <td>0.0</td>\n",
       "      <td>42</td>\n",
       "      <td>25</td>\n",
       "    </tr>\n",
       "  </tbody>\n",
       "</table>\n",
       "</div>"
      ],
      "text/plain": [
       "      element_key   latitude   longitude           timestamp  \\\n",
       "4310        35850  47.663992 -122.312985 2016-01-02 08:00:00   \n",
       "4311        35850  47.663992 -122.312985 2016-01-02 09:00:00   \n",
       "4312        35850  47.663992 -122.312985 2016-01-02 10:00:00   \n",
       "\n",
       "        paid_parking_area  day_year  occupation_perc  prcp  tmax  tmin  \n",
       "4310  University District         2            11.90   0.0    42    25  \n",
       "4311  University District         2            33.33   0.0    42    25  \n",
       "4312  University District         2            42.86   0.0    42    25  "
      ]
     },
     "execution_count": 20,
     "metadata": {},
     "output_type": "execute_result"
    }
   ],
   "source": [
    "ek35850.head(3)"
   ]
  },
  {
   "cell_type": "code",
   "execution_count": 21,
   "metadata": {},
   "outputs": [
    {
     "data": {
      "text/plain": [
       "timestamp\n",
       "8     100\n",
       "9     101\n",
       "10    101\n",
       "11    101\n",
       "12    101\n",
       "13    101\n",
       "14    101\n",
       "15    101\n",
       "16    101\n",
       "17    101\n",
       "18    101\n",
       "19    101\n",
       "Name: day_year, dtype: int64"
      ]
     },
     "execution_count": 21,
     "metadata": {},
     "output_type": "execute_result"
    }
   ],
   "source": [
    "ek35850.loc[ek35850.timestamp.dt.month <= 4].groupby(ek35850.timestamp.dt.hour).day_year.count()"
   ]
  },
  {
   "cell_type": "code",
   "execution_count": 22,
   "metadata": {},
   "outputs": [
    {
     "name": "stdout",
     "output_type": "stream",
     "text": [
      "[34]\n"
     ]
    }
   ],
   "source": [
    "ek35850_8h = ek35850.loc[(ek35850.timestamp.dt.hour == 8) & (ek35850.timestamp.dt.month <= 4)].day_year.unique()\n",
    "ek35850_19h = ek35850.loc[(ek35850.timestamp.dt.hour == 19) & (ek35850.timestamp.dt.month <= 4)].day_year.unique()\n",
    "faltan = list(set(ek35850_8h) ^ set(ek35850_19h))  \n",
    "print(faltan)"
   ]
  },
  {
   "cell_type": "code",
   "execution_count": 23,
   "metadata": {},
   "outputs": [
    {
     "name": "stderr",
     "output_type": "stream",
     "text": [
      "/anaconda3/lib/python3.6/site-packages/pandas/core/indexing.py:543: SettingWithCopyWarning: \n",
      "A value is trying to be set on a copy of a slice from a DataFrame.\n",
      "Try using .loc[row_indexer,col_indexer] = value instead\n",
      "\n",
      "See the caveats in the documentation: http://pandas.pydata.org/pandas-docs/stable/indexing.html#indexing-view-versus-copy\n",
      "  self.obj[item] = s\n"
     ]
    }
   ],
   "source": [
    "for day in faltan:\n",
    "    day_nextweek = day + 7\n",
    "    if day_nextweek in hol_days:\n",
    "        day_nextweek += 7\n",
    "    new_row = ek35850.loc[(ek35850.day_year == day_nextweek) & (ek35850.timestamp.dt.hour == 8)]\n",
    "    new_row.loc[:,'day_year'] = day\n",
    "    ek35850 = ek35850.append(new_row, ignore_index = True).sort_values(['element_key','timestamp'])"
   ]
  },
  {
   "cell_type": "code",
   "execution_count": 24,
   "metadata": {},
   "outputs": [],
   "source": [
    "ek35850.to_csv('./data/EK35850_1Q16.csv')"
   ]
  },
  {
   "cell_type": "markdown",
   "metadata": {},
   "source": [
    "### EK = 13213"
   ]
  },
  {
   "cell_type": "code",
   "execution_count": 25,
   "metadata": {},
   "outputs": [
    {
     "data": {
      "text/plain": [
       "101"
      ]
     },
     "execution_count": 25,
     "metadata": {},
     "output_type": "execute_result"
    }
   ],
   "source": [
    "ek13213 = df_top100.loc[(df_top100.element_key == 13213) & (df_top100.timestamp.dt.month <= 4)]\n",
    "ek13213.day_year.unique().size"
   ]
  },
  {
   "cell_type": "code",
   "execution_count": 26,
   "metadata": {},
   "outputs": [
    {
     "data": {
      "text/html": [
       "<div>\n",
       "<style scoped>\n",
       "    .dataframe tbody tr th:only-of-type {\n",
       "        vertical-align: middle;\n",
       "    }\n",
       "\n",
       "    .dataframe tbody tr th {\n",
       "        vertical-align: top;\n",
       "    }\n",
       "\n",
       "    .dataframe thead th {\n",
       "        text-align: right;\n",
       "    }\n",
       "</style>\n",
       "<table border=\"1\" class=\"dataframe\">\n",
       "  <thead>\n",
       "    <tr style=\"text-align: right;\">\n",
       "      <th></th>\n",
       "      <th>element_key</th>\n",
       "      <th>latitude</th>\n",
       "      <th>longitude</th>\n",
       "      <th>timestamp</th>\n",
       "      <th>paid_parking_area</th>\n",
       "      <th>day_year</th>\n",
       "      <th>occupation_perc</th>\n",
       "      <th>prcp</th>\n",
       "      <th>tmax</th>\n",
       "      <th>tmin</th>\n",
       "    </tr>\n",
       "  </thead>\n",
       "  <tbody>\n",
       "    <tr>\n",
       "      <th>2832</th>\n",
       "      <td>13213</td>\n",
       "      <td>47.659092</td>\n",
       "      <td>-122.313296</td>\n",
       "      <td>2016-01-02 08:00:00</td>\n",
       "      <td>University District</td>\n",
       "      <td>2</td>\n",
       "      <td>10.71</td>\n",
       "      <td>0.0</td>\n",
       "      <td>42</td>\n",
       "      <td>25</td>\n",
       "    </tr>\n",
       "    <tr>\n",
       "      <th>2833</th>\n",
       "      <td>13213</td>\n",
       "      <td>47.659092</td>\n",
       "      <td>-122.313296</td>\n",
       "      <td>2016-01-02 09:00:00</td>\n",
       "      <td>University District</td>\n",
       "      <td>2</td>\n",
       "      <td>14.29</td>\n",
       "      <td>0.0</td>\n",
       "      <td>42</td>\n",
       "      <td>25</td>\n",
       "    </tr>\n",
       "    <tr>\n",
       "      <th>2834</th>\n",
       "      <td>13213</td>\n",
       "      <td>47.659092</td>\n",
       "      <td>-122.313296</td>\n",
       "      <td>2016-01-02 10:00:00</td>\n",
       "      <td>University District</td>\n",
       "      <td>2</td>\n",
       "      <td>10.71</td>\n",
       "      <td>0.0</td>\n",
       "      <td>42</td>\n",
       "      <td>25</td>\n",
       "    </tr>\n",
       "  </tbody>\n",
       "</table>\n",
       "</div>"
      ],
      "text/plain": [
       "      element_key   latitude   longitude           timestamp  \\\n",
       "2832        13213  47.659092 -122.313296 2016-01-02 08:00:00   \n",
       "2833        13213  47.659092 -122.313296 2016-01-02 09:00:00   \n",
       "2834        13213  47.659092 -122.313296 2016-01-02 10:00:00   \n",
       "\n",
       "        paid_parking_area  day_year  occupation_perc  prcp  tmax  tmin  \n",
       "2832  University District         2            10.71   0.0    42    25  \n",
       "2833  University District         2            14.29   0.0    42    25  \n",
       "2834  University District         2            10.71   0.0    42    25  "
      ]
     },
     "execution_count": 26,
     "metadata": {},
     "output_type": "execute_result"
    }
   ],
   "source": [
    "ek13213.head(3)"
   ]
  },
  {
   "cell_type": "code",
   "execution_count": 27,
   "metadata": {},
   "outputs": [
    {
     "data": {
      "text/plain": [
       "timestamp\n",
       "8     100\n",
       "9     101\n",
       "10    101\n",
       "11    101\n",
       "12    101\n",
       "13    101\n",
       "14    101\n",
       "15    101\n",
       "16    101\n",
       "17    101\n",
       "18    101\n",
       "19    101\n",
       "Name: day_year, dtype: int64"
      ]
     },
     "execution_count": 27,
     "metadata": {},
     "output_type": "execute_result"
    }
   ],
   "source": [
    "ek13213.loc[ek13213.timestamp.dt.month <= 4].groupby(ek13213.timestamp.dt.hour).day_year.count()"
   ]
  },
  {
   "cell_type": "code",
   "execution_count": 28,
   "metadata": {},
   "outputs": [
    {
     "name": "stderr",
     "output_type": "stream",
     "text": [
      "/anaconda3/lib/python3.6/site-packages/pandas/core/indexing.py:543: SettingWithCopyWarning: \n",
      "A value is trying to be set on a copy of a slice from a DataFrame.\n",
      "Try using .loc[row_indexer,col_indexer] = value instead\n",
      "\n",
      "See the caveats in the documentation: http://pandas.pydata.org/pandas-docs/stable/indexing.html#indexing-view-versus-copy\n",
      "  self.obj[item] = s\n"
     ]
    }
   ],
   "source": [
    "ek13213_8h = ek13213.loc[(ek13213.timestamp.dt.hour == 8) & (ek13213.timestamp.dt.month <= 4)].day_year.unique()\n",
    "ek13213_19h = ek13213.loc[(ek13213.timestamp.dt.hour == 19) & (ek13213.timestamp.dt.month <= 4)].day_year.unique()\n",
    "faltan = list(set(ek13213_8h) ^ set(ek13213_19h))  \n",
    "for day in faltan:\n",
    "    day_nextweek = day + 7\n",
    "    if day_nextweek in hol_days:\n",
    "        day_nextweek += 7\n",
    "    new_row = ek13213.loc[(ek13213.day_year == day_nextweek) & (ek13213.timestamp.dt.hour == 8)]\n",
    "    new_row.loc[:,'day_year'] = day\n",
    "    ek13213 = ek13213.append(new_row, ignore_index = True).sort_values(['element_key','timestamp'])"
   ]
  },
  {
   "cell_type": "code",
   "execution_count": 29,
   "metadata": {},
   "outputs": [],
   "source": [
    "ek13213.to_csv('./data/EK13213_1Q16.csv')"
   ]
  },
  {
   "cell_type": "markdown",
   "metadata": {},
   "source": [
    "### EK = 54737"
   ]
  },
  {
   "cell_type": "code",
   "execution_count": 30,
   "metadata": {},
   "outputs": [
    {
     "data": {
      "text/plain": [
       "101"
      ]
     },
     "execution_count": 30,
     "metadata": {},
     "output_type": "execute_result"
    }
   ],
   "source": [
    "ek54737 = df_top100.loc[(df_top100.element_key == 54737) & (df_top100.timestamp.dt.month <= 4)]\n",
    "ek54737.day_year.unique().size"
   ]
  },
  {
   "cell_type": "code",
   "execution_count": 31,
   "metadata": {},
   "outputs": [
    {
     "data": {
      "text/html": [
       "<div>\n",
       "<style scoped>\n",
       "    .dataframe tbody tr th:only-of-type {\n",
       "        vertical-align: middle;\n",
       "    }\n",
       "\n",
       "    .dataframe tbody tr th {\n",
       "        vertical-align: top;\n",
       "    }\n",
       "\n",
       "    .dataframe thead th {\n",
       "        text-align: right;\n",
       "    }\n",
       "</style>\n",
       "<table border=\"1\" class=\"dataframe\">\n",
       "  <thead>\n",
       "    <tr style=\"text-align: right;\">\n",
       "      <th></th>\n",
       "      <th>element_key</th>\n",
       "      <th>latitude</th>\n",
       "      <th>longitude</th>\n",
       "      <th>timestamp</th>\n",
       "      <th>paid_parking_area</th>\n",
       "      <th>day_year</th>\n",
       "      <th>occupation_perc</th>\n",
       "      <th>prcp</th>\n",
       "      <th>tmax</th>\n",
       "      <th>tmin</th>\n",
       "    </tr>\n",
       "  </thead>\n",
       "  <tbody>\n",
       "    <tr>\n",
       "      <th>5787</th>\n",
       "      <td>54737</td>\n",
       "      <td>47.623721</td>\n",
       "      <td>-122.321059</td>\n",
       "      <td>2016-01-02 08:00:00</td>\n",
       "      <td>Capitol Hill</td>\n",
       "      <td>2</td>\n",
       "      <td>7.69</td>\n",
       "      <td>0.0</td>\n",
       "      <td>42</td>\n",
       "      <td>25</td>\n",
       "    </tr>\n",
       "    <tr>\n",
       "      <th>5788</th>\n",
       "      <td>54737</td>\n",
       "      <td>47.623721</td>\n",
       "      <td>-122.321059</td>\n",
       "      <td>2016-01-02 09:00:00</td>\n",
       "      <td>Capitol Hill</td>\n",
       "      <td>2</td>\n",
       "      <td>26.92</td>\n",
       "      <td>0.0</td>\n",
       "      <td>42</td>\n",
       "      <td>25</td>\n",
       "    </tr>\n",
       "    <tr>\n",
       "      <th>5789</th>\n",
       "      <td>54737</td>\n",
       "      <td>47.623721</td>\n",
       "      <td>-122.321059</td>\n",
       "      <td>2016-01-02 10:00:00</td>\n",
       "      <td>Capitol Hill</td>\n",
       "      <td>2</td>\n",
       "      <td>34.62</td>\n",
       "      <td>0.0</td>\n",
       "      <td>42</td>\n",
       "      <td>25</td>\n",
       "    </tr>\n",
       "  </tbody>\n",
       "</table>\n",
       "</div>"
      ],
      "text/plain": [
       "      element_key   latitude   longitude           timestamp  \\\n",
       "5787        54737  47.623721 -122.321059 2016-01-02 08:00:00   \n",
       "5788        54737  47.623721 -122.321059 2016-01-02 09:00:00   \n",
       "5789        54737  47.623721 -122.321059 2016-01-02 10:00:00   \n",
       "\n",
       "     paid_parking_area  day_year  occupation_perc  prcp  tmax  tmin  \n",
       "5787      Capitol Hill         2             7.69   0.0    42    25  \n",
       "5788      Capitol Hill         2            26.92   0.0    42    25  \n",
       "5789      Capitol Hill         2            34.62   0.0    42    25  "
      ]
     },
     "execution_count": 31,
     "metadata": {},
     "output_type": "execute_result"
    }
   ],
   "source": [
    "ek54737.head(3)"
   ]
  },
  {
   "cell_type": "code",
   "execution_count": 32,
   "metadata": {},
   "outputs": [
    {
     "data": {
      "text/plain": [
       "timestamp\n",
       "8     101\n",
       "9     101\n",
       "10    101\n",
       "11    101\n",
       "12    101\n",
       "13    101\n",
       "14    101\n",
       "15    101\n",
       "16    101\n",
       "17    101\n",
       "18    101\n",
       "19    101\n",
       "Name: day_year, dtype: int64"
      ]
     },
     "execution_count": 32,
     "metadata": {},
     "output_type": "execute_result"
    }
   ],
   "source": [
    "ek54737.loc[ek54737.timestamp.dt.month <= 4].groupby(ek54737.timestamp.dt.hour).day_year.count()"
   ]
  },
  {
   "cell_type": "code",
   "execution_count": 33,
   "metadata": {},
   "outputs": [],
   "source": [
    "ek54737.to_csv('./data/EK54737_1Q16.csv')"
   ]
  },
  {
   "cell_type": "markdown",
   "metadata": {},
   "source": [
    "### TOP5 fusión"
   ]
  },
  {
   "cell_type": "code",
   "execution_count": 34,
   "metadata": {},
   "outputs": [],
   "source": [
    "ek_top5 = pd.concat([ek1234,ek35845,ek35850,ek13213,ek54737])"
   ]
  },
  {
   "cell_type": "code",
   "execution_count": 35,
   "metadata": {},
   "outputs": [],
   "source": [
    "ek_top5.to_csv('./data/EK_top5_1Q16.csv')"
   ]
  },
  {
   "cell_type": "code",
   "execution_count": 36,
   "metadata": {},
   "outputs": [
    {
     "data": {
      "text/plain": [
       "(6060, 10)"
      ]
     },
     "execution_count": 36,
     "metadata": {},
     "output_type": "execute_result"
    }
   ],
   "source": [
    "ek_top5.shape"
   ]
  }
 ],
 "metadata": {
  "kernelspec": {
   "display_name": "Python 3",
   "language": "python",
   "name": "python3"
  },
  "language_info": {
   "codemirror_mode": {
    "name": "ipython",
    "version": 3
   },
   "file_extension": ".py",
   "mimetype": "text/x-python",
   "name": "python",
   "nbconvert_exporter": "python",
   "pygments_lexer": "ipython3",
   "version": "3.6.5"
  }
 },
 "nbformat": 4,
 "nbformat_minor": 2
}
