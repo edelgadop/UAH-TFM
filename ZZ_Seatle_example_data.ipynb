{
 "cells": [
  {
   "cell_type": "markdown",
   "metadata": {
    "toc": "true"
   },
   "source": [
    "# Table of Contents\n",
    " <p><div class=\"lev1 toc-item\"><a href=\"#Ejemplo-de-dataset-de-ocupación-por-parquímetro-geolocalizado\" data-toc-modified-id=\"Ejemplo-de-dataset-de-ocupación-por-parquímetro-geolocalizado-1\"><span class=\"toc-item-num\">1&nbsp;&nbsp;</span>Ejemplo de dataset de ocupación por parquímetro geolocalizado</a></div><div class=\"lev2 toc-item\"><a href=\"#Cargamos-transacciones\" data-toc-modified-id=\"Cargamos-transacciones-11\"><span class=\"toc-item-num\">1.1&nbsp;&nbsp;</span>Cargamos transacciones</a></div><div class=\"lev3 toc-item\"><a href=\"#Breve-EDA\" data-toc-modified-id=\"Breve-EDA-111\"><span class=\"toc-item-num\">1.1.1&nbsp;&nbsp;</span>Breve EDA</a></div><div class=\"lev2 toc-item\"><a href=\"#Cargamos-datos-de-ubicación\" data-toc-modified-id=\"Cargamos-datos-de-ubicación-12\"><span class=\"toc-item-num\">1.2&nbsp;&nbsp;</span>Cargamos datos de ubicación</a></div><div class=\"lev2 toc-item\"><a href=\"#Relacionamos-los-datos-seleccionando-aquellos-parquímetros-ubicados\" data-toc-modified-id=\"Relacionamos-los-datos-seleccionando-aquellos-parquímetros-ubicados-13\"><span class=\"toc-item-num\">1.3&nbsp;&nbsp;</span>Relacionamos los datos seleccionando aquellos parquímetros ubicados</a></div><div class=\"lev2 toc-item\"><a href=\"#Gráfica-de-ubicaciones\" data-toc-modified-id=\"Gráfica-de-ubicaciones-14\"><span class=\"toc-item-num\">1.4&nbsp;&nbsp;</span>Gráfica de ubicaciones</a></div><div class=\"lev2 toc-item\"><a href=\"#Generamos-las-series-timestamps-por-parquímetro\" data-toc-modified-id=\"Generamos-las-series-timestamps-por-parquímetro-15\"><span class=\"toc-item-num\">1.5&nbsp;&nbsp;</span>Generamos las series timestamps por parquímetro</a></div><div class=\"lev3 toc-item\"><a href=\"#Construímos-la-serie-de-ocupación-por-timestamp\" data-toc-modified-id=\"Construímos-la-serie-de-ocupación-por-timestamp-151\"><span class=\"toc-item-num\">1.5.1&nbsp;&nbsp;</span>Construímos la serie de ocupación por timestamp</a></div><div class=\"lev3 toc-item\"><a href=\"#Representamos-algún-parquímetro-y-EDA-ocupacional\" data-toc-modified-id=\"Representamos-algún-parquímetro-y-EDA-ocupacional-152\"><span class=\"toc-item-num\">1.5.2&nbsp;&nbsp;</span>Representamos algún parquímetro y EDA ocupacional</a></div><div class=\"lev3 toc-item\"><a href=\"#Frecuencia-media-de-actualización-de-ocupación\" data-toc-modified-id=\"Frecuencia-media-de-actualización-de-ocupación-153\"><span class=\"toc-item-num\">1.5.3&nbsp;&nbsp;</span>Frecuencia media de actualización de ocupación</a></div><div class=\"lev3 toc-item\"><a href=\"#Construímos-la-serie-de-ocupación-agregada\" data-toc-modified-id=\"Construímos-la-serie-de-ocupación-agregada-154\"><span class=\"toc-item-num\">1.5.4&nbsp;&nbsp;</span>Construímos la serie de ocupación agregada</a></div>"
   ]
  },
  {
   "cell_type": "markdown",
   "metadata": {},
   "source": [
    "# Ejemplo de dataset de ocupación por parquímetro geolocalizado"
   ]
  },
  {
   "cell_type": "code",
   "execution_count": 1,
   "metadata": {
    "ExecuteTime": {
     "end_time": "2018-07-03T17:34:13.558645Z",
     "start_time": "2018-07-03T17:34:12.654286Z"
    }
   },
   "outputs": [],
   "source": [
    "import constants as ct\n",
    "import numpy as np\n",
    "import pandas as pd\n",
    "import os\n",
    "import functools\n",
    "import empark.utils as utils\n",
    "from tqdm import tqdm\n",
    "import re\n",
    "import matplotlib.pyplot as plt\n",
    "import matplotlib as mpl\n",
    "import seaborn as sns\n",
    "import folium\n",
    "import sys\n",
    "from folium.plugins import MarkerCluster, HeatMapWithTime\n",
    "%matplotlib inline\n",
    "\n",
    "pd.options.display.max_columns = 200\n",
    "pd.options.display.max_colwidth = 300"
   ]
  },
  {
   "cell_type": "code",
   "execution_count": 2,
   "metadata": {
    "ExecuteTime": {
     "end_time": "2018-07-03T17:34:13.563995Z",
     "start_time": "2018-07-03T17:34:13.559932Z"
    }
   },
   "outputs": [
    {
     "data": {
      "text/plain": [
       "['ParkingTransaction_20120101_20170930_cleaned.csv',\n",
       " 'on_street_parkings_ids_1001_1598.json',\n",
       " 'Cobertura Expendedores PALENCIA V2 Comentarios.xlsx',\n",
       " 'Cobertura Expendedores VALLADOLID Comentarios.xlsx',\n",
       " 'Blockface_cleaned.csv',\n",
       " 'on_street_parkings_ids_1_1000_modif.json']"
      ]
     },
     "execution_count": 2,
     "metadata": {},
     "output_type": "execute_result"
    }
   ],
   "source": [
    "os.listdir(ct.DATA_FOLDER)"
   ]
  },
  {
   "cell_type": "markdown",
   "metadata": {},
   "source": [
    "## Cargamos transacciones\n",
    "\n",
    "Sacamos los datos de 2012, para sacar más datos quitar fecha de restricción"
   ]
  },
  {
   "cell_type": "code",
   "execution_count": 3,
   "metadata": {
    "ExecuteTime": {
     "end_time": "2018-07-03T17:34:58.089434Z",
     "start_time": "2018-07-03T17:34:13.565229Z"
    }
   },
   "outputs": [
    {
     "name": "stdout",
     "output_type": "stream",
     "text": [
      "0 (500000, 10) 0\n",
      "1 (1000000, 10) 0\n",
      "2 (1500000, 10) 0\n",
      "3 (2000000, 10) 0\n",
      "4 (2500000, 10) 0\n",
      "5 (3000000, 10) 0\n",
      "6 (3500000, 10) 0\n",
      "7 (4000000, 10) 0\n",
      "8 (4500000, 10) 0\n",
      "9 (5000000, 10) 0\n",
      "10 (5500000, 10) 0\n",
      "11 (5500000, 10) 1\n",
      "12 (5500000, 10) 2\n",
      "<class 'pandas.core.frame.DataFrame'>\n",
      "Int64Index: 5500000 entries, 507197 to 10987142\n",
      "Data columns (total 11 columns):\n",
      "transaction_id           int64\n",
      "transaction_date_time    datetime64[ns]\n",
      "transaction_date         datetime64[ns]\n",
      "time_start               object\n",
      "time_expired             object\n",
      "duration_mins            int64\n",
      "amount                   float64\n",
      "payment_mean             object\n",
      "meter_code               int64\n",
      "element_key              int64\n",
      "final_date_time          datetime64[ns]\n",
      "dtypes: datetime64[ns](3), float64(1), int64(4), object(3)\n",
      "memory usage: 1.3 GB\n"
     ]
    }
   ],
   "source": [
    "chunk_parser = pd.read_csv(os.path.join(ct.DATA_FOLDER, 'ParkingTransaction_20120101_20170930_cleaned.csv'), \n",
    "                           parse_dates=['TransactionDateTime'],\n",
    "                           chunksize=500000)\n",
    "\n",
    "df = None\n",
    "max_rows = np.inf\n",
    "counter = 0\n",
    "previous_nrows = 0\n",
    "\n",
    "for i, iteration in enumerate(chunk_parser):\n",
    "    if isinstance(df, pd.DataFrame):\n",
    "        df = pd.concat([df, chunk_parser.get_chunk()], axis=0)\n",
    "        df = df.loc[df.TransactionDateTime.dt.year == 2012]        \n",
    "        if previous_nrows == df.shape[0]:\n",
    "            counter += 1\n",
    "        if counter >= 3:\n",
    "            break\n",
    "    else:\n",
    "        df = chunk_parser.get_chunk()\n",
    "    previous_nrows = df.shape[0]    \n",
    "    print(i, df.shape, counter)\n",
    "    if df.shape[0] > max_rows:\n",
    "        break\n",
    "\n",
    "df.columns = df.columns.map(utils.camel_case_to_snake)#utils.string_cleaner)\n",
    "# df.transaction_date_time = pd.to_datetime(df.transaction_date_time)\n",
    "df.transaction_date = pd.to_datetime(df.transaction_date, format=\"%Y-%m-%d\")\n",
    "df.sort_values('transaction_date_time', inplace=True)\n",
    "\n",
    "# create final date time column\n",
    "df['final_date_time'] = df.transaction_date_time.add(pd.to_timedelta(df.duration_mins, unit=\"m\"))\n",
    "\n",
    "# optional transformation to code columns\n",
    "# df.metercode = df.metercode.map(lambda s: 'c_%s' % s)\n",
    "# df.metercode = df.metercode.map(lambda s: 'c_%s' % s)\n",
    "df.info(memory_usage='deep')"
   ]
  },
  {
   "cell_type": "code",
   "execution_count": 4,
   "metadata": {
    "ExecuteTime": {
     "end_time": "2018-07-03T17:34:58.102060Z",
     "start_time": "2018-07-03T17:34:58.090719Z"
    }
   },
   "outputs": [
    {
     "data": {
      "text/html": [
       "<div>\n",
       "<style scoped>\n",
       "    .dataframe tbody tr th:only-of-type {\n",
       "        vertical-align: middle;\n",
       "    }\n",
       "\n",
       "    .dataframe tbody tr th {\n",
       "        vertical-align: top;\n",
       "    }\n",
       "\n",
       "    .dataframe thead th {\n",
       "        text-align: right;\n",
       "    }\n",
       "</style>\n",
       "<table border=\"1\" class=\"dataframe\">\n",
       "  <thead>\n",
       "    <tr style=\"text-align: right;\">\n",
       "      <th></th>\n",
       "      <th>transaction_id</th>\n",
       "      <th>transaction_date_time</th>\n",
       "      <th>transaction_date</th>\n",
       "      <th>time_start</th>\n",
       "      <th>time_expired</th>\n",
       "      <th>duration_mins</th>\n",
       "      <th>amount</th>\n",
       "      <th>payment_mean</th>\n",
       "      <th>meter_code</th>\n",
       "      <th>element_key</th>\n",
       "      <th>final_date_time</th>\n",
       "    </tr>\n",
       "  </thead>\n",
       "  <tbody>\n",
       "    <tr>\n",
       "      <th>507197</th>\n",
       "      <td>14550137</td>\n",
       "      <td>2012-01-24 00:06:59</td>\n",
       "      <td>2012-01-24</td>\n",
       "      <td>00:06</td>\n",
       "      <td>02:06</td>\n",
       "      <td>120</td>\n",
       "      <td>4.0</td>\n",
       "      <td>CREDIT CARD</td>\n",
       "      <td>10269002</td>\n",
       "      <td>76986</td>\n",
       "      <td>2012-01-24 02:06:59</td>\n",
       "    </tr>\n",
       "    <tr>\n",
       "      <th>527058</th>\n",
       "      <td>14580904</td>\n",
       "      <td>2012-01-24 00:34:25</td>\n",
       "      <td>2012-01-24</td>\n",
       "      <td>00:34</td>\n",
       "      <td>02:34</td>\n",
       "      <td>120</td>\n",
       "      <td>4.0</td>\n",
       "      <td>CREDIT CARD</td>\n",
       "      <td>21072002</td>\n",
       "      <td>57194</td>\n",
       "      <td>2012-01-24 02:34:25</td>\n",
       "    </tr>\n",
       "    <tr>\n",
       "      <th>527059</th>\n",
       "      <td>14580905</td>\n",
       "      <td>2012-01-24 00:36:24</td>\n",
       "      <td>2012-01-24</td>\n",
       "      <td>00:36</td>\n",
       "      <td>01:36</td>\n",
       "      <td>60</td>\n",
       "      <td>2.0</td>\n",
       "      <td>CREDIT CARD</td>\n",
       "      <td>21072002</td>\n",
       "      <td>57194</td>\n",
       "      <td>2012-01-24 01:36:24</td>\n",
       "    </tr>\n",
       "    <tr>\n",
       "      <th>524148</th>\n",
       "      <td>14574122</td>\n",
       "      <td>2012-01-24 01:07:59</td>\n",
       "      <td>2012-01-24</td>\n",
       "      <td>01:07</td>\n",
       "      <td>03:07</td>\n",
       "      <td>120</td>\n",
       "      <td>4.0</td>\n",
       "      <td>CREDIT CARD</td>\n",
       "      <td>2091002</td>\n",
       "      <td>31498</td>\n",
       "      <td>2012-01-24 03:07:59</td>\n",
       "    </tr>\n",
       "    <tr>\n",
       "      <th>503897</th>\n",
       "      <td>14555348</td>\n",
       "      <td>2012-01-24 01:12:59</td>\n",
       "      <td>2012-01-24</td>\n",
       "      <td>01:12</td>\n",
       "      <td>03:12</td>\n",
       "      <td>120</td>\n",
       "      <td>8.0</td>\n",
       "      <td>CREDIT CARD</td>\n",
       "      <td>8003002</td>\n",
       "      <td>13093</td>\n",
       "      <td>2012-01-24 03:12:59</td>\n",
       "    </tr>\n",
       "  </tbody>\n",
       "</table>\n",
       "</div>"
      ],
      "text/plain": [
       "        transaction_id transaction_date_time transaction_date time_start  \\\n",
       "507197        14550137   2012-01-24 00:06:59       2012-01-24      00:06   \n",
       "527058        14580904   2012-01-24 00:34:25       2012-01-24      00:34   \n",
       "527059        14580905   2012-01-24 00:36:24       2012-01-24      00:36   \n",
       "524148        14574122   2012-01-24 01:07:59       2012-01-24      01:07   \n",
       "503897        14555348   2012-01-24 01:12:59       2012-01-24      01:12   \n",
       "\n",
       "       time_expired  duration_mins  amount payment_mean  meter_code  \\\n",
       "507197        02:06            120     4.0  CREDIT CARD    10269002   \n",
       "527058        02:34            120     4.0  CREDIT CARD    21072002   \n",
       "527059        01:36             60     2.0  CREDIT CARD    21072002   \n",
       "524148        03:07            120     4.0  CREDIT CARD     2091002   \n",
       "503897        03:12            120     8.0  CREDIT CARD     8003002   \n",
       "\n",
       "        element_key     final_date_time  \n",
       "507197        76986 2012-01-24 02:06:59  \n",
       "527058        57194 2012-01-24 02:34:25  \n",
       "527059        57194 2012-01-24 01:36:24  \n",
       "524148        31498 2012-01-24 03:07:59  \n",
       "503897        13093 2012-01-24 03:12:59  "
      ]
     },
     "execution_count": 4,
     "metadata": {},
     "output_type": "execute_result"
    }
   ],
   "source": [
    "df.head()"
   ]
  },
  {
   "cell_type": "code",
   "execution_count": 5,
   "metadata": {
    "ExecuteTime": {
     "end_time": "2018-07-03T17:34:58.108370Z",
     "start_time": "2018-07-03T17:34:58.103311Z"
    }
   },
   "outputs": [
    {
     "data": {
      "text/plain": [
       "transaction_id                    int64\n",
       "transaction_date_time    datetime64[ns]\n",
       "transaction_date         datetime64[ns]\n",
       "time_start                       object\n",
       "time_expired                     object\n",
       "duration_mins                     int64\n",
       "amount                          float64\n",
       "payment_mean                     object\n",
       "meter_code                        int64\n",
       "element_key                       int64\n",
       "final_date_time          datetime64[ns]\n",
       "dtype: object"
      ]
     },
     "execution_count": 5,
     "metadata": {},
     "output_type": "execute_result"
    }
   ],
   "source": [
    "df.dtypes"
   ]
  },
  {
   "cell_type": "code",
   "execution_count": 6,
   "metadata": {
    "ExecuteTime": {
     "end_time": "2018-07-03T17:34:59.167172Z",
     "start_time": "2018-07-03T17:34:58.109549Z"
    }
   },
   "outputs": [
    {
     "data": {
      "text/plain": [
       "payment_mean    0.000068\n",
       "dtype: float64"
      ]
     },
     "execution_count": 6,
     "metadata": {},
     "output_type": "execute_result"
    }
   ],
   "source": [
    "utils.get_null_summary(df)"
   ]
  },
  {
   "cell_type": "markdown",
   "metadata": {},
   "source": [
    "### Breve EDA"
   ]
  },
  {
   "cell_type": "code",
   "execution_count": 7,
   "metadata": {
    "ExecuteTime": {
     "end_time": "2018-07-03T17:34:59.409910Z",
     "start_time": "2018-07-03T17:34:59.168615Z"
    }
   },
   "outputs": [
    {
     "data": {
      "text/plain": [
       "count            5500000.0\n",
       "mean     83.10040109090909\n",
       "std      72.04883042795103\n",
       "min                    0.0\n",
       "25%                   35.0\n",
       "50%                   70.0\n",
       "75%                  120.0\n",
       "max                  720.0\n",
       "Name: duration_mins, dtype: object"
      ]
     },
     "execution_count": 7,
     "metadata": {},
     "output_type": "execute_result"
    }
   ],
   "source": [
    "df.duration_mins.describe().astype('str')"
   ]
  },
  {
   "cell_type": "code",
   "execution_count": 8,
   "metadata": {
    "ExecuteTime": {
     "end_time": "2018-07-03T17:34:59.469053Z",
     "start_time": "2018-07-03T17:34:59.411159Z"
    }
   },
   "outputs": [
    {
     "data": {
      "text/plain": [
       "count                 5500000\n",
       "unique                    191\n",
       "top       2012-06-08 00:00:00\n",
       "freq                    42921\n",
       "first     2012-01-24 00:00:00\n",
       "last      2012-12-31 00:00:00\n",
       "Name: transaction_date, dtype: object"
      ]
     },
     "execution_count": 8,
     "metadata": {},
     "output_type": "execute_result"
    }
   ],
   "source": [
    "df.transaction_date.describe()"
   ]
  },
  {
   "cell_type": "code",
   "execution_count": 9,
   "metadata": {
    "ExecuteTime": {
     "end_time": "2018-07-03T17:34:59.615536Z",
     "start_time": "2018-07-03T17:34:59.470302Z"
    }
   },
   "outputs": [
    {
     "data": {
      "text/plain": [
       "0      0.0438\n",
       "1      0.0336\n",
       "2      0.0251\n",
       "3      0.0138\n",
       "4      0.0287\n",
       "5      0.1172\n",
       "6      0.4833\n",
       "7      1.8748\n",
       "8      4.9057\n",
       "9      6.9790\n",
       "10     8.5951\n",
       "11    10.0542\n",
       "12    10.6129\n",
       "13     9.9416\n",
       "14     9.1021\n",
       "15     8.6460\n",
       "16     8.4291\n",
       "17     8.8719\n",
       "18     6.8404\n",
       "19     4.2433\n",
       "22     0.0913\n",
       "23     0.0673\n",
       "Name: transaction_date_time, dtype: float64"
      ]
     },
     "execution_count": 9,
     "metadata": {},
     "output_type": "execute_result"
    }
   ],
   "source": [
    "day_hours_count = df.transaction_date_time.dt.hour.value_counts(normalize=True).mul(100).map(lambda x: np.round(x, 4)).sort_index()\n",
    "day_hours_count"
   ]
  },
  {
   "cell_type": "markdown",
   "metadata": {},
   "source": [
    "Podemos considerar que los tickets se tienen entre las 6/7 y las 19 incluyendo extremos:"
   ]
  },
  {
   "cell_type": "code",
   "execution_count": 10,
   "metadata": {
    "ExecuteTime": {
     "end_time": "2018-07-03T17:34:59.782213Z",
     "start_time": "2018-07-03T17:34:59.616688Z"
    }
   },
   "outputs": [
    {
     "data": {
      "image/png": "[encoded data removed]",
      "text/plain": [
       "<Figure size 432x288 with 1 Axes>"
      ]
     },
     "metadata": {},
     "output_type": "display_data"
    }
   ],
   "source": [
    "day_hours_count.plot(kind='bar');"
   ]
  },
  {
   "cell_type": "markdown",
   "metadata": {
    "ExecuteTime": {
     "end_time": "2018-07-03T13:48:03.502764Z",
     "start_time": "2018-07-03T13:48:03.499689Z"
    }
   },
   "source": [
    "Vemos como el 99.0961 % de los tickets están entre las 7 y las 19 (inclusives)"
   ]
  },
  {
   "cell_type": "code",
   "execution_count": 11,
   "metadata": {
    "ExecuteTime": {
     "end_time": "2018-07-03T17:34:59.789396Z",
     "start_time": "2018-07-03T17:34:59.783455Z"
    }
   },
   "outputs": [
    {
     "data": {
      "text/plain": [
       "12     10.6129\n",
       "11     20.6671\n",
       "13     30.6087\n",
       "14     39.7108\n",
       "17     48.5827\n",
       "15     57.2287\n",
       "10     65.8238\n",
       "16     74.2529\n",
       "9      81.2319\n",
       "18     88.0723\n",
       "8      92.9780\n",
       "19     97.2213\n",
       "7      99.0961\n",
       "6      99.5794\n",
       "5      99.6966\n",
       "22     99.7879\n",
       "23     99.8552\n",
       "0      99.8990\n",
       "1      99.9326\n",
       "4      99.9613\n",
       "2      99.9864\n",
       "3     100.0002\n",
       "Name: transaction_date_time, dtype: float64"
      ]
     },
     "execution_count": 11,
     "metadata": {},
     "output_type": "execute_result"
    }
   ],
   "source": [
    "day_hours_count.sort_values(ascending=False).cumsum()"
   ]
  },
  {
   "cell_type": "markdown",
   "metadata": {},
   "source": [
    "## Cargamos datos de ubicación"
   ]
  },
  {
   "cell_type": "code",
   "execution_count": 12,
   "metadata": {
    "ExecuteTime": {
     "end_time": "2018-07-03T17:34:59.794376Z",
     "start_time": "2018-07-03T17:34:59.791077Z"
    }
   },
   "outputs": [
    {
     "data": {
      "text/plain": [
       "['ParkingTransaction_20120101_20170930_cleaned.csv',\n",
       " 'on_street_parkings_ids_1001_1598.json',\n",
       " 'Cobertura Expendedores PALENCIA V2 Comentarios.xlsx',\n",
       " 'Cobertura Expendedores VALLADOLID Comentarios.xlsx',\n",
       " 'Blockface_cleaned.csv',\n",
       " 'on_street_parkings_ids_1_1000_modif.json']"
      ]
     },
     "execution_count": 12,
     "metadata": {},
     "output_type": "execute_result"
    }
   ],
   "source": [
    "os.listdir(ct.DATA_FOLDER)"
   ]
  },
  {
   "cell_type": "code",
   "execution_count": 13,
   "metadata": {
    "ExecuteTime": {
     "end_time": "2018-07-03T17:34:59.879810Z",
     "start_time": "2018-07-03T17:34:59.796053Z"
    }
   },
   "outputs": [],
   "source": [
    "static_data_0 = pd.read_json(os.path.join(ct.DATA_FOLDER, 'on_street_parkings_ids_1_1000_modif.json'))\n",
    "static_data_1 = pd.read_json(os.path.join(ct.DATA_FOLDER, 'on_street_parkings_ids_1001_1598.json'))\n",
    "static_data = pd.concat([static_data_0, static_data_1], axis=0, sort=True)"
   ]
  },
  {
   "cell_type": "code",
   "execution_count": 14,
   "metadata": {
    "ExecuteTime": {
     "end_time": "2018-07-03T17:34:59.893643Z",
     "start_time": "2018-07-03T17:34:59.880961Z"
    }
   },
   "outputs": [
    {
     "data": {
      "text/html": [
       "<div>\n",
       "<style scoped>\n",
       "    .dataframe tbody tr th:only-of-type {\n",
       "        vertical-align: middle;\n",
       "    }\n",
       "\n",
       "    .dataframe tbody tr th {\n",
       "        vertical-align: top;\n",
       "    }\n",
       "\n",
       "    .dataframe thead th {\n",
       "        text-align: right;\n",
       "    }\n",
       "</style>\n",
       "<table border=\"1\" class=\"dataframe\">\n",
       "  <thead>\n",
       "    <tr style=\"text-align: right;\">\n",
       "      <th></th>\n",
       "      <th>attributes</th>\n",
       "      <th>geometry</th>\n",
       "    </tr>\n",
       "  </thead>\n",
       "  <tbody>\n",
       "    <tr>\n",
       "      <th>0</th>\n",
       "      <td>{'START_TIME_SAT': '08AM', 'END_TIME_SAT': '08PM', 'SAT_RATE2': 1.5, 'ELMNTKEY': 46257, 'CURRENT_STATUS': 'INSVC', 'END_TIME_SUN': None, 'WKD_START2': 660, 'SAT_END3': 1199, 'COMPKEY': 284126, 'SUN_RATE2': None, 'DISTANCE': 269, 'SHAPE_LNG': -122.35553873099501, 'RECEIPT_NBR': 'S097', 'WKD_RATE1...</td>\n",
       "      <td>{'x': -13620556.267099999, 'y': 6043950.853799999}</td>\n",
       "    </tr>\n",
       "    <tr>\n",
       "      <th>1</th>\n",
       "      <td>{'START_TIME_SAT': '08AM', 'END_TIME_SAT': '08PM', 'SAT_RATE2': 5, 'ELMNTKEY': 76414, 'CURRENT_STATUS': 'INSVC', 'END_TIME_SUN': None, 'WKD_START2': 660, 'SAT_END3': 1199, 'COMPKEY': 528282, 'SUN_RATE2': None, 'DISTANCE': 163, 'SHAPE_LNG': -122.32760381418501, 'RECEIPT_NBR': 'H029', 'WKD_RATE1':...</td>\n",
       "      <td>{'x': -13617446.566399999, 'y': 6042023.201899998}</td>\n",
       "    </tr>\n",
       "    <tr>\n",
       "      <th>2</th>\n",
       "      <td>{'START_TIME_SAT': '08AM', 'END_TIME_SAT': '08PM', 'SAT_RATE2': 4, 'ELMNTKEY': 57513, 'CURRENT_STATUS': 'INSVC', 'END_TIME_SUN': None, 'WKD_START2': 660, 'SAT_END3': 1199, 'COMPKEY': 527929, 'SUN_RATE2': None, 'DISTANCE': 186, 'SHAPE_LNG': -122.33164530720201, 'RECEIPT_NBR': 'E050', 'WKD_RATE1':...</td>\n",
       "      <td>{'x': -13617896.463399999, 'y': 6042609.660400003}</td>\n",
       "    </tr>\n",
       "    <tr>\n",
       "      <th>3</th>\n",
       "      <td>{'START_TIME_SAT': None, 'END_TIME_SAT': None, 'SAT_RATE2': None, 'ELMNTKEY': 120222, 'CURRENT_STATUS': 'INSVC', 'END_TIME_SUN': None, 'WKD_START2': 660, 'SAT_END3': None, 'COMPKEY': 338114, 'SUN_RATE2': None, 'DISTANCE': 60, 'SHAPE_LNG': -122.34006308416501, 'RECEIPT_NBR': 'T010', 'WKD_RATE1': ...</td>\n",
       "      <td>{'x': -13618833.526, 'y': 6046217.677699998}</td>\n",
       "    </tr>\n",
       "    <tr>\n",
       "      <th>4</th>\n",
       "      <td>{'START_TIME_SAT': '08AM', 'END_TIME_SAT': '10PM', 'SAT_RATE2': 3.5, 'ELMNTKEY': 9474, 'CURRENT_STATUS': 'INSVC', 'END_TIME_SUN': None, 'WKD_START2': 660, 'SAT_END3': 1319, 'COMPKEY': 527970, 'SUN_RATE2': None, 'DISTANCE': 264, 'SHAPE_LNG': -122.320758809525, 'RECEIPT_NBR': 'F015', 'WKD_RATE1': ...</td>\n",
       "      <td>{'x': -13616684.583999999, 'y': 6043971.799800001}</td>\n",
       "    </tr>\n",
       "  </tbody>\n",
       "</table>\n",
       "</div>"
      ],
      "text/plain": [
       "                                                                                                                                                                                                                                                                                                    attributes  \\\n",
       "0  {'START_TIME_SAT': '08AM', 'END_TIME_SAT': '08PM', 'SAT_RATE2': 1.5, 'ELMNTKEY': 46257, 'CURRENT_STATUS': 'INSVC', 'END_TIME_SUN': None, 'WKD_START2': 660, 'SAT_END3': 1199, 'COMPKEY': 284126, 'SUN_RATE2': None, 'DISTANCE': 269, 'SHAPE_LNG': -122.35553873099501, 'RECEIPT_NBR': 'S097', 'WKD_RATE1...   \n",
       "1  {'START_TIME_SAT': '08AM', 'END_TIME_SAT': '08PM', 'SAT_RATE2': 5, 'ELMNTKEY': 76414, 'CURRENT_STATUS': 'INSVC', 'END_TIME_SUN': None, 'WKD_START2': 660, 'SAT_END3': 1199, 'COMPKEY': 528282, 'SUN_RATE2': None, 'DISTANCE': 163, 'SHAPE_LNG': -122.32760381418501, 'RECEIPT_NBR': 'H029', 'WKD_RATE1':...   \n",
       "2  {'START_TIME_SAT': '08AM', 'END_TIME_SAT': '08PM', 'SAT_RATE2': 4, 'ELMNTKEY': 57513, 'CURRENT_STATUS': 'INSVC', 'END_TIME_SUN': None, 'WKD_START2': 660, 'SAT_END3': 1199, 'COMPKEY': 527929, 'SUN_RATE2': None, 'DISTANCE': 186, 'SHAPE_LNG': -122.33164530720201, 'RECEIPT_NBR': 'E050', 'WKD_RATE1':...   \n",
       "3  {'START_TIME_SAT': None, 'END_TIME_SAT': None, 'SAT_RATE2': None, 'ELMNTKEY': 120222, 'CURRENT_STATUS': 'INSVC', 'END_TIME_SUN': None, 'WKD_START2': 660, 'SAT_END3': None, 'COMPKEY': 338114, 'SUN_RATE2': None, 'DISTANCE': 60, 'SHAPE_LNG': -122.34006308416501, 'RECEIPT_NBR': 'T010', 'WKD_RATE1': ...   \n",
       "4  {'START_TIME_SAT': '08AM', 'END_TIME_SAT': '10PM', 'SAT_RATE2': 3.5, 'ELMNTKEY': 9474, 'CURRENT_STATUS': 'INSVC', 'END_TIME_SUN': None, 'WKD_START2': 660, 'SAT_END3': 1319, 'COMPKEY': 527970, 'SUN_RATE2': None, 'DISTANCE': 264, 'SHAPE_LNG': -122.320758809525, 'RECEIPT_NBR': 'F015', 'WKD_RATE1': ...   \n",
       "\n",
       "                                             geometry  \n",
       "0  {'x': -13620556.267099999, 'y': 6043950.853799999}  \n",
       "1  {'x': -13617446.566399999, 'y': 6042023.201899998}  \n",
       "2  {'x': -13617896.463399999, 'y': 6042609.660400003}  \n",
       "3        {'x': -13618833.526, 'y': 6046217.677699998}  \n",
       "4  {'x': -13616684.583999999, 'y': 6043971.799800001}  "
      ]
     },
     "execution_count": 14,
     "metadata": {},
     "output_type": "execute_result"
    }
   ],
   "source": [
    "static_data.head()"
   ]
  },
  {
   "cell_type": "code",
   "execution_count": 15,
   "metadata": {
    "ExecuteTime": {
     "end_time": "2018-07-03T17:34:59.898709Z",
     "start_time": "2018-07-03T17:34:59.894929Z"
    }
   },
   "outputs": [],
   "source": [
    "static_data.drop('geometry', axis=1, inplace=True)\n",
    "static_data = static_data.attributes.to_frame()"
   ]
  },
  {
   "cell_type": "code",
   "execution_count": 16,
   "metadata": {
    "ExecuteTime": {
     "end_time": "2018-07-03T17:34:59.912696Z",
     "start_time": "2018-07-03T17:34:59.899828Z"
    }
   },
   "outputs": [
    {
     "data": {
      "text/html": [
       "<div>\n",
       "<style scoped>\n",
       "    .dataframe tbody tr th:only-of-type {\n",
       "        vertical-align: middle;\n",
       "    }\n",
       "\n",
       "    .dataframe tbody tr th {\n",
       "        vertical-align: top;\n",
       "    }\n",
       "\n",
       "    .dataframe thead th {\n",
       "        text-align: right;\n",
       "    }\n",
       "</style>\n",
       "<table border=\"1\" class=\"dataframe\">\n",
       "  <thead>\n",
       "    <tr style=\"text-align: right;\">\n",
       "      <th></th>\n",
       "      <th>attributes</th>\n",
       "    </tr>\n",
       "  </thead>\n",
       "  <tbody>\n",
       "    <tr>\n",
       "      <th>0</th>\n",
       "      <td>{'START_TIME_SAT': '08AM', 'END_TIME_SAT': '08PM', 'SAT_RATE2': 1.5, 'ELMNTKEY': 46257, 'CURRENT_STATUS': 'INSVC', 'END_TIME_SUN': None, 'WKD_START2': 660, 'SAT_END3': 1199, 'COMPKEY': 284126, 'SUN_RATE2': None, 'DISTANCE': 269, 'SHAPE_LNG': -122.35553873099501, 'RECEIPT_NBR': 'S097', 'WKD_RATE1...</td>\n",
       "    </tr>\n",
       "    <tr>\n",
       "      <th>1</th>\n",
       "      <td>{'START_TIME_SAT': '08AM', 'END_TIME_SAT': '08PM', 'SAT_RATE2': 5, 'ELMNTKEY': 76414, 'CURRENT_STATUS': 'INSVC', 'END_TIME_SUN': None, 'WKD_START2': 660, 'SAT_END3': 1199, 'COMPKEY': 528282, 'SUN_RATE2': None, 'DISTANCE': 163, 'SHAPE_LNG': -122.32760381418501, 'RECEIPT_NBR': 'H029', 'WKD_RATE1':...</td>\n",
       "    </tr>\n",
       "    <tr>\n",
       "      <th>2</th>\n",
       "      <td>{'START_TIME_SAT': '08AM', 'END_TIME_SAT': '08PM', 'SAT_RATE2': 4, 'ELMNTKEY': 57513, 'CURRENT_STATUS': 'INSVC', 'END_TIME_SUN': None, 'WKD_START2': 660, 'SAT_END3': 1199, 'COMPKEY': 527929, 'SUN_RATE2': None, 'DISTANCE': 186, 'SHAPE_LNG': -122.33164530720201, 'RECEIPT_NBR': 'E050', 'WKD_RATE1':...</td>\n",
       "    </tr>\n",
       "    <tr>\n",
       "      <th>3</th>\n",
       "      <td>{'START_TIME_SAT': None, 'END_TIME_SAT': None, 'SAT_RATE2': None, 'ELMNTKEY': 120222, 'CURRENT_STATUS': 'INSVC', 'END_TIME_SUN': None, 'WKD_START2': 660, 'SAT_END3': None, 'COMPKEY': 338114, 'SUN_RATE2': None, 'DISTANCE': 60, 'SHAPE_LNG': -122.34006308416501, 'RECEIPT_NBR': 'T010', 'WKD_RATE1': ...</td>\n",
       "    </tr>\n",
       "    <tr>\n",
       "      <th>4</th>\n",
       "      <td>{'START_TIME_SAT': '08AM', 'END_TIME_SAT': '10PM', 'SAT_RATE2': 3.5, 'ELMNTKEY': 9474, 'CURRENT_STATUS': 'INSVC', 'END_TIME_SUN': None, 'WKD_START2': 660, 'SAT_END3': 1319, 'COMPKEY': 527970, 'SUN_RATE2': None, 'DISTANCE': 264, 'SHAPE_LNG': -122.320758809525, 'RECEIPT_NBR': 'F015', 'WKD_RATE1': ...</td>\n",
       "    </tr>\n",
       "  </tbody>\n",
       "</table>\n",
       "</div>"
      ],
      "text/plain": [
       "                                                                                                                                                                                                                                                                                                    attributes\n",
       "0  {'START_TIME_SAT': '08AM', 'END_TIME_SAT': '08PM', 'SAT_RATE2': 1.5, 'ELMNTKEY': 46257, 'CURRENT_STATUS': 'INSVC', 'END_TIME_SUN': None, 'WKD_START2': 660, 'SAT_END3': 1199, 'COMPKEY': 284126, 'SUN_RATE2': None, 'DISTANCE': 269, 'SHAPE_LNG': -122.35553873099501, 'RECEIPT_NBR': 'S097', 'WKD_RATE1...\n",
       "1  {'START_TIME_SAT': '08AM', 'END_TIME_SAT': '08PM', 'SAT_RATE2': 5, 'ELMNTKEY': 76414, 'CURRENT_STATUS': 'INSVC', 'END_TIME_SUN': None, 'WKD_START2': 660, 'SAT_END3': 1199, 'COMPKEY': 528282, 'SUN_RATE2': None, 'DISTANCE': 163, 'SHAPE_LNG': -122.32760381418501, 'RECEIPT_NBR': 'H029', 'WKD_RATE1':...\n",
       "2  {'START_TIME_SAT': '08AM', 'END_TIME_SAT': '08PM', 'SAT_RATE2': 4, 'ELMNTKEY': 57513, 'CURRENT_STATUS': 'INSVC', 'END_TIME_SUN': None, 'WKD_START2': 660, 'SAT_END3': 1199, 'COMPKEY': 527929, 'SUN_RATE2': None, 'DISTANCE': 186, 'SHAPE_LNG': -122.33164530720201, 'RECEIPT_NBR': 'E050', 'WKD_RATE1':...\n",
       "3  {'START_TIME_SAT': None, 'END_TIME_SAT': None, 'SAT_RATE2': None, 'ELMNTKEY': 120222, 'CURRENT_STATUS': 'INSVC', 'END_TIME_SUN': None, 'WKD_START2': 660, 'SAT_END3': None, 'COMPKEY': 338114, 'SUN_RATE2': None, 'DISTANCE': 60, 'SHAPE_LNG': -122.34006308416501, 'RECEIPT_NBR': 'T010', 'WKD_RATE1': ...\n",
       "4  {'START_TIME_SAT': '08AM', 'END_TIME_SAT': '10PM', 'SAT_RATE2': 3.5, 'ELMNTKEY': 9474, 'CURRENT_STATUS': 'INSVC', 'END_TIME_SUN': None, 'WKD_START2': 660, 'SAT_END3': 1319, 'COMPKEY': 527970, 'SUN_RATE2': None, 'DISTANCE': 264, 'SHAPE_LNG': -122.320758809525, 'RECEIPT_NBR': 'F015', 'WKD_RATE1': ..."
      ]
     },
     "execution_count": 16,
     "metadata": {},
     "output_type": "execute_result"
    }
   ],
   "source": [
    "static_data.head()"
   ]
  },
  {
   "cell_type": "code",
   "execution_count": 17,
   "metadata": {
    "ExecuteTime": {
     "end_time": "2018-07-03T17:34:59.917867Z",
     "start_time": "2018-07-03T17:34:59.914201Z"
    }
   },
   "outputs": [
    {
     "data": {
      "text/plain": [
       "dict_keys(['START_TIME_SAT', 'END_TIME_SAT', 'SAT_RATE2', 'ELMNTKEY', 'CURRENT_STATUS', 'END_TIME_SUN', 'WKD_START2', 'SAT_END3', 'COMPKEY', 'SUN_RATE2', 'DISTANCE', 'SHAPE_LNG', 'RECEIPT_NBR', 'WKD_RATE1', 'UNITTYPE', 'SAT_END1', 'SECONDARYDISTRICTCD', 'SUN_END3', 'WKD_START3', 'OBJECTID', 'SAT_START1', 'SAT_START2', 'SUN_START1', 'WKD_RATE2', 'SAT_END2', 'CARD_READER', 'CONDITION', 'SAT_RATE1', 'WKD_START1', 'OWNERSHIP', 'SEGKEY', 'MODEL', 'PAIDAREA', 'START_TIME_SUN', 'END_TIME_WKD', 'UNITDESC', 'CATEGORY', 'SUN_RATE3', 'SUN_END1', 'PANDD_NBR', 'OVERRIDECOMMENT', 'SUN_RATE1', 'SUN_START2', 'WKD_END3', 'SHAPE_LAT', 'PAY_BY_PHONE', 'SUN_START3', 'PS_CONFIGURATION', 'SUBAREA', 'MEASDIST', 'WIDTH', 'SIDE', 'WKD_RATE3', 'UNITID', 'MODEM', 'PEAK_HOUR', 'WIRELESS_CARRIER', 'SUN_END2', 'WKD_END1', 'START_TIME_WKD', 'SAT_START3', 'OVERRIDEYN', 'COMPTYPE', 'SAT_RATE3', 'PANDD_NBR_START', 'PERSO_NBR', 'WKD_END2', 'PRIMARYDISTRICTCD'])"
      ]
     },
     "execution_count": 17,
     "metadata": {},
     "output_type": "execute_result"
    }
   ],
   "source": [
    "static_data.attributes.iloc[0].keys()"
   ]
  },
  {
   "cell_type": "code",
   "execution_count": 18,
   "metadata": {
    "ExecuteTime": {
     "end_time": "2018-07-03T17:34:59.928086Z",
     "start_time": "2018-07-03T17:34:59.919491Z"
    }
   },
   "outputs": [],
   "source": [
    "static_data['element_key'] = static_data.attributes.map(lambda dic: dic['ELMNTKEY'])\n",
    "static_data['latitude'] = static_data.attributes.map(lambda dic: dic['SHAPE_LAT'])\n",
    "static_data['longitude'] = static_data.attributes.map(lambda dic: dic['SHAPE_LNG'])\n",
    "static_data.drop('attributes', axis=1, inplace=True)"
   ]
  },
  {
   "cell_type": "code",
   "execution_count": 19,
   "metadata": {
    "ExecuteTime": {
     "end_time": "2018-07-03T17:34:59.941662Z",
     "start_time": "2018-07-03T17:34:59.929578Z"
    }
   },
   "outputs": [
    {
     "data": {
      "text/html": [
       "<div>\n",
       "<style scoped>\n",
       "    .dataframe tbody tr th:only-of-type {\n",
       "        vertical-align: middle;\n",
       "    }\n",
       "\n",
       "    .dataframe tbody tr th {\n",
       "        vertical-align: top;\n",
       "    }\n",
       "\n",
       "    .dataframe thead th {\n",
       "        text-align: right;\n",
       "    }\n",
       "</style>\n",
       "<table border=\"1\" class=\"dataframe\">\n",
       "  <thead>\n",
       "    <tr style=\"text-align: right;\">\n",
       "      <th></th>\n",
       "      <th>element_key</th>\n",
       "      <th>latitude</th>\n",
       "      <th>longitude</th>\n",
       "    </tr>\n",
       "  </thead>\n",
       "  <tbody>\n",
       "    <tr>\n",
       "      <th>0</th>\n",
       "      <td>46257</td>\n",
       "      <td>47.620504</td>\n",
       "      <td>-122.355539</td>\n",
       "    </tr>\n",
       "    <tr>\n",
       "      <th>1</th>\n",
       "      <td>76414</td>\n",
       "      <td>47.608831</td>\n",
       "      <td>-122.327604</td>\n",
       "    </tr>\n",
       "    <tr>\n",
       "      <th>2</th>\n",
       "      <td>57513</td>\n",
       "      <td>47.612383</td>\n",
       "      <td>-122.331645</td>\n",
       "    </tr>\n",
       "    <tr>\n",
       "      <th>3</th>\n",
       "      <td>120222</td>\n",
       "      <td>47.634228</td>\n",
       "      <td>-122.340063</td>\n",
       "    </tr>\n",
       "    <tr>\n",
       "      <th>4</th>\n",
       "      <td>9474</td>\n",
       "      <td>47.620631</td>\n",
       "      <td>-122.320759</td>\n",
       "    </tr>\n",
       "  </tbody>\n",
       "</table>\n",
       "</div>"
      ],
      "text/plain": [
       "   element_key   latitude   longitude\n",
       "0        46257  47.620504 -122.355539\n",
       "1        76414  47.608831 -122.327604\n",
       "2        57513  47.612383 -122.331645\n",
       "3       120222  47.634228 -122.340063\n",
       "4         9474  47.620631 -122.320759"
      ]
     },
     "execution_count": 19,
     "metadata": {},
     "output_type": "execute_result"
    }
   ],
   "source": [
    "static_data.head()"
   ]
  },
  {
   "cell_type": "code",
   "execution_count": 20,
   "metadata": {
    "ExecuteTime": {
     "end_time": "2018-07-03T17:34:59.948381Z",
     "start_time": "2018-07-03T17:34:59.943550Z"
    }
   },
   "outputs": [
    {
     "data": {
      "text/plain": [
       "element_key      int64\n",
       "latitude       float64\n",
       "longitude      float64\n",
       "dtype: object"
      ]
     },
     "execution_count": 20,
     "metadata": {},
     "output_type": "execute_result"
    }
   ],
   "source": [
    "static_data.dtypes"
   ]
  },
  {
   "cell_type": "code",
   "execution_count": 21,
   "metadata": {
    "ExecuteTime": {
     "end_time": "2018-07-03T17:34:59.956095Z",
     "start_time": "2018-07-03T17:34:59.949558Z"
    }
   },
   "outputs": [
    {
     "data": {
      "text/plain": [
       "(1598, 3)"
      ]
     },
     "execution_count": 21,
     "metadata": {},
     "output_type": "execute_result"
    }
   ],
   "source": [
    "static_data.shape"
   ]
  },
  {
   "cell_type": "markdown",
   "metadata": {},
   "source": [
    "## Relacionamos los datos seleccionando aquellos parquímetros ubicados"
   ]
  },
  {
   "cell_type": "code",
   "execution_count": 22,
   "metadata": {
    "ExecuteTime": {
     "end_time": "2018-07-03T17:34:59.960621Z",
     "start_time": "2018-07-03T17:34:59.957361Z"
    }
   },
   "outputs": [
    {
     "data": {
      "text/plain": [
       "507197    76986\n",
       "527058    57194\n",
       "527059    57194\n",
       "524148    31498\n",
       "503897    13093\n",
       "Name: element_key, dtype: int64"
      ]
     },
     "execution_count": 22,
     "metadata": {},
     "output_type": "execute_result"
    }
   ],
   "source": [
    "df.element_key.head()"
   ]
  },
  {
   "cell_type": "code",
   "execution_count": 23,
   "metadata": {
    "ExecuteTime": {
     "end_time": "2018-07-03T17:34:59.965692Z",
     "start_time": "2018-07-03T17:34:59.961776Z"
    }
   },
   "outputs": [
    {
     "data": {
      "text/plain": [
       "0     46257\n",
       "1     76414\n",
       "2     57513\n",
       "3    120222\n",
       "4      9474\n",
       "Name: element_key, dtype: int64"
      ]
     },
     "execution_count": 23,
     "metadata": {},
     "output_type": "execute_result"
    }
   ],
   "source": [
    "static_data.element_key.head()"
   ]
  },
  {
   "cell_type": "code",
   "execution_count": 24,
   "metadata": {
    "ExecuteTime": {
     "end_time": "2018-07-03T17:34:59.971306Z",
     "start_time": "2018-07-03T17:34:59.967106Z"
    }
   },
   "outputs": [
    {
     "data": {
      "text/plain": [
       "88"
      ]
     },
     "execution_count": 24,
     "metadata": {},
     "output_type": "execute_result"
    }
   ],
   "source": [
    "static_data.element_key.duplicated().sum()"
   ]
  },
  {
   "cell_type": "code",
   "execution_count": 25,
   "metadata": {
    "ExecuteTime": {
     "end_time": "2018-07-03T17:34:59.976398Z",
     "start_time": "2018-07-03T17:34:59.972591Z"
    }
   },
   "outputs": [
    {
     "data": {
      "text/plain": [
       "0"
      ]
     },
     "execution_count": 25,
     "metadata": {},
     "output_type": "execute_result"
    }
   ],
   "source": [
    "static_data.duplicated().sum()"
   ]
  },
  {
   "cell_type": "code",
   "execution_count": 26,
   "metadata": {
    "ExecuteTime": {
     "end_time": "2018-07-03T17:34:59.982144Z",
     "start_time": "2018-07-03T17:34:59.977633Z"
    }
   },
   "outputs": [
    {
     "data": {
      "text/plain": [
       "0"
      ]
     },
     "execution_count": 26,
     "metadata": {},
     "output_type": "execute_result"
    }
   ],
   "source": [
    "static_data.drop_duplicates(['element_key'], inplace=True)\n",
    "static_data.element_key.duplicated().sum()"
   ]
  },
  {
   "cell_type": "code",
   "execution_count": 27,
   "metadata": {
    "ExecuteTime": {
     "end_time": "2018-07-03T17:35:00.005598Z",
     "start_time": "2018-07-03T17:34:59.983371Z"
    }
   },
   "outputs": [
    {
     "data": {
      "text/plain": [
       "1572"
      ]
     },
     "execution_count": 27,
     "metadata": {},
     "output_type": "execute_result"
    }
   ],
   "source": [
    "df.element_key.unique().size"
   ]
  },
  {
   "cell_type": "code",
   "execution_count": 28,
   "metadata": {
    "ExecuteTime": {
     "end_time": "2018-07-03T17:35:00.317807Z",
     "start_time": "2018-07-03T17:35:00.006918Z"
    }
   },
   "outputs": [
    {
     "data": {
      "text/plain": [
       "1349"
      ]
     },
     "execution_count": 28,
     "metadata": {},
     "output_type": "execute_result"
    }
   ],
   "source": [
    "len(set(df.element_key).intersection(set(static_data.element_key)))"
   ]
  },
  {
   "cell_type": "markdown",
   "metadata": {},
   "source": [
    "Mezclamos los datasets"
   ]
  },
  {
   "cell_type": "code",
   "execution_count": 29,
   "metadata": {
    "ExecuteTime": {
     "end_time": "2018-07-03T17:35:02.704490Z",
     "start_time": "2018-07-03T17:35:00.319180Z"
    }
   },
   "outputs": [],
   "source": [
    "df_coords = pd.merge(df, static_data, on='element_key', how='inner', validate='many_to_one')"
   ]
  },
  {
   "cell_type": "code",
   "execution_count": 30,
   "metadata": {
    "ExecuteTime": {
     "end_time": "2018-07-03T17:35:04.270535Z",
     "start_time": "2018-07-03T17:35:02.705652Z"
    }
   },
   "outputs": [
    {
     "data": {
      "text/plain": [
       "payment_mean    0.000067\n",
       "dtype: float64"
      ]
     },
     "execution_count": 30,
     "metadata": {},
     "output_type": "execute_result"
    }
   ],
   "source": [
    "utils.get_null_summary(df_coords)"
   ]
  },
  {
   "cell_type": "code",
   "execution_count": 31,
   "metadata": {
    "ExecuteTime": {
     "end_time": "2018-07-03T17:35:04.274684Z",
     "start_time": "2018-07-03T17:35:04.271724Z"
    }
   },
   "outputs": [
    {
     "data": {
      "text/plain": [
       "((5500000, 11), (4864181, 13))"
      ]
     },
     "execution_count": 31,
     "metadata": {},
     "output_type": "execute_result"
    }
   ],
   "source": [
    "df.shape, df_coords.shape"
   ]
  },
  {
   "cell_type": "code",
   "execution_count": 32,
   "metadata": {
    "ExecuteTime": {
     "end_time": "2018-07-03T17:35:04.633382Z",
     "start_time": "2018-07-03T17:35:04.276238Z"
    }
   },
   "outputs": [
    {
     "data": {
      "text/plain": [
       "0"
      ]
     },
     "execution_count": 32,
     "metadata": {},
     "output_type": "execute_result"
    }
   ],
   "source": [
    "df_coords.transaction_id.duplicated().sum()"
   ]
  },
  {
   "cell_type": "code",
   "execution_count": 33,
   "metadata": {
    "ExecuteTime": {
     "end_time": "2018-07-03T17:35:04.684905Z",
     "start_time": "2018-07-03T17:35:04.634751Z"
    }
   },
   "outputs": [
    {
     "data": {
      "text/html": [
       "<div>\n",
       "<style scoped>\n",
       "    .dataframe tbody tr th:only-of-type {\n",
       "        vertical-align: middle;\n",
       "    }\n",
       "\n",
       "    .dataframe tbody tr th {\n",
       "        vertical-align: top;\n",
       "    }\n",
       "\n",
       "    .dataframe thead th {\n",
       "        text-align: right;\n",
       "    }\n",
       "</style>\n",
       "<table border=\"1\" class=\"dataframe\">\n",
       "  <thead>\n",
       "    <tr style=\"text-align: right;\">\n",
       "      <th></th>\n",
       "      <th>transaction_date_time</th>\n",
       "      <th>transaction_date</th>\n",
       "      <th>time_start</th>\n",
       "      <th>time_expired</th>\n",
       "      <th>duration_mins</th>\n",
       "      <th>amount</th>\n",
       "      <th>payment_mean</th>\n",
       "      <th>meter_code</th>\n",
       "      <th>element_key</th>\n",
       "      <th>final_date_time</th>\n",
       "      <th>latitude</th>\n",
       "      <th>longitude</th>\n",
       "    </tr>\n",
       "    <tr>\n",
       "      <th>transaction_id</th>\n",
       "      <th></th>\n",
       "      <th></th>\n",
       "      <th></th>\n",
       "      <th></th>\n",
       "      <th></th>\n",
       "      <th></th>\n",
       "      <th></th>\n",
       "      <th></th>\n",
       "      <th></th>\n",
       "      <th></th>\n",
       "      <th></th>\n",
       "      <th></th>\n",
       "    </tr>\n",
       "  </thead>\n",
       "  <tbody>\n",
       "    <tr>\n",
       "      <th>14550137</th>\n",
       "      <td>2012-01-24 00:06:59</td>\n",
       "      <td>2012-01-24</td>\n",
       "      <td>00:06</td>\n",
       "      <td>02:06</td>\n",
       "      <td>120</td>\n",
       "      <td>4.00</td>\n",
       "      <td>CREDIT CARD</td>\n",
       "      <td>10269002</td>\n",
       "      <td>76986</td>\n",
       "      <td>2012-01-24 02:06:59</td>\n",
       "      <td>47.615013</td>\n",
       "      <td>-122.346506</td>\n",
       "    </tr>\n",
       "    <tr>\n",
       "      <th>14586857</th>\n",
       "      <td>2012-01-24 08:46:59</td>\n",
       "      <td>2012-01-24</td>\n",
       "      <td>08:46</td>\n",
       "      <td>09:16</td>\n",
       "      <td>30</td>\n",
       "      <td>1.00</td>\n",
       "      <td>COINS</td>\n",
       "      <td>10268002</td>\n",
       "      <td>76986</td>\n",
       "      <td>2012-01-24 09:16:59</td>\n",
       "      <td>47.615013</td>\n",
       "      <td>-122.346506</td>\n",
       "    </tr>\n",
       "    <tr>\n",
       "      <th>14586858</th>\n",
       "      <td>2012-01-24 09:42:59</td>\n",
       "      <td>2012-01-24</td>\n",
       "      <td>09:42</td>\n",
       "      <td>10:22</td>\n",
       "      <td>40</td>\n",
       "      <td>1.25</td>\n",
       "      <td>CREDIT CARD</td>\n",
       "      <td>10268002</td>\n",
       "      <td>76986</td>\n",
       "      <td>2012-01-24 10:22:59</td>\n",
       "      <td>47.615013</td>\n",
       "      <td>-122.346506</td>\n",
       "    </tr>\n",
       "    <tr>\n",
       "      <th>14589200</th>\n",
       "      <td>2012-01-24 12:19:59</td>\n",
       "      <td>2012-01-24</td>\n",
       "      <td>12:19</td>\n",
       "      <td>13:04</td>\n",
       "      <td>45</td>\n",
       "      <td>1.50</td>\n",
       "      <td>CREDIT CARD</td>\n",
       "      <td>10269002</td>\n",
       "      <td>76986</td>\n",
       "      <td>2012-01-24 13:04:59</td>\n",
       "      <td>47.615013</td>\n",
       "      <td>-122.346506</td>\n",
       "    </tr>\n",
       "    <tr>\n",
       "      <th>14586859</th>\n",
       "      <td>2012-01-24 12:21:59</td>\n",
       "      <td>2012-01-24</td>\n",
       "      <td>12:21</td>\n",
       "      <td>13:21</td>\n",
       "      <td>60</td>\n",
       "      <td>2.00</td>\n",
       "      <td>CREDIT CARD</td>\n",
       "      <td>10268002</td>\n",
       "      <td>76986</td>\n",
       "      <td>2012-01-24 13:21:59</td>\n",
       "      <td>47.615013</td>\n",
       "      <td>-122.346506</td>\n",
       "    </tr>\n",
       "  </tbody>\n",
       "</table>\n",
       "</div>"
      ],
      "text/plain": [
       "               transaction_date_time transaction_date time_start time_expired  \\\n",
       "transaction_id                                                                  \n",
       "14550137         2012-01-24 00:06:59       2012-01-24      00:06        02:06   \n",
       "14586857         2012-01-24 08:46:59       2012-01-24      08:46        09:16   \n",
       "14586858         2012-01-24 09:42:59       2012-01-24      09:42        10:22   \n",
       "14589200         2012-01-24 12:19:59       2012-01-24      12:19        13:04   \n",
       "14586859         2012-01-24 12:21:59       2012-01-24      12:21        13:21   \n",
       "\n",
       "                duration_mins  amount payment_mean  meter_code  element_key  \\\n",
       "transaction_id                                                                \n",
       "14550137                  120    4.00  CREDIT CARD    10269002        76986   \n",
       "14586857                   30    1.00        COINS    10268002        76986   \n",
       "14586858                   40    1.25  CREDIT CARD    10268002        76986   \n",
       "14589200                   45    1.50  CREDIT CARD    10269002        76986   \n",
       "14586859                   60    2.00  CREDIT CARD    10268002        76986   \n",
       "\n",
       "                   final_date_time   latitude   longitude  \n",
       "transaction_id                                             \n",
       "14550137       2012-01-24 02:06:59  47.615013 -122.346506  \n",
       "14586857       2012-01-24 09:16:59  47.615013 -122.346506  \n",
       "14586858       2012-01-24 10:22:59  47.615013 -122.346506  \n",
       "14589200       2012-01-24 13:04:59  47.615013 -122.346506  \n",
       "14586859       2012-01-24 13:21:59  47.615013 -122.346506  "
      ]
     },
     "execution_count": 33,
     "metadata": {},
     "output_type": "execute_result"
    }
   ],
   "source": [
    "df_coords.set_index('transaction_id', inplace=True)\n",
    "df_coords.head()"
   ]
  },
  {
   "cell_type": "markdown",
   "metadata": {},
   "source": [
    "Guardamos esto en la carpeta de datos procesados para poder luego usar R"
   ]
  },
  {
   "cell_type": "code",
   "execution_count": 34,
   "metadata": {
    "ExecuteTime": {
     "end_time": "2018-07-03T17:36:01.838719Z",
     "start_time": "2018-07-03T17:35:04.686346Z"
    }
   },
   "outputs": [],
   "source": [
    "df_coords.to_csv(os.path.join(ct.PROCESSED_DATA, 'df_2012_coords.csv'))"
   ]
  },
  {
   "cell_type": "markdown",
   "metadata": {},
   "source": [
    "## Gráfica de ubicaciones"
   ]
  },
  {
   "cell_type": "code",
   "execution_count": 35,
   "metadata": {
    "ExecuteTime": {
     "end_time": "2018-07-03T17:36:01.847797Z",
     "start_time": "2018-07-03T17:36:01.840298Z"
    }
   },
   "outputs": [
    {
     "data": {
      "text/html": [
       "<div>\n",
       "<style scoped>\n",
       "    .dataframe tbody tr th:only-of-type {\n",
       "        vertical-align: middle;\n",
       "    }\n",
       "\n",
       "    .dataframe tbody tr th {\n",
       "        vertical-align: top;\n",
       "    }\n",
       "\n",
       "    .dataframe thead th {\n",
       "        text-align: right;\n",
       "    }\n",
       "</style>\n",
       "<table border=\"1\" class=\"dataframe\">\n",
       "  <thead>\n",
       "    <tr style=\"text-align: right;\">\n",
       "      <th></th>\n",
       "      <th>element_key</th>\n",
       "      <th>latitude</th>\n",
       "      <th>longitude</th>\n",
       "    </tr>\n",
       "  </thead>\n",
       "  <tbody>\n",
       "    <tr>\n",
       "      <th>0</th>\n",
       "      <td>46257</td>\n",
       "      <td>47.620504</td>\n",
       "      <td>-122.355539</td>\n",
       "    </tr>\n",
       "    <tr>\n",
       "      <th>1</th>\n",
       "      <td>76414</td>\n",
       "      <td>47.608831</td>\n",
       "      <td>-122.327604</td>\n",
       "    </tr>\n",
       "    <tr>\n",
       "      <th>2</th>\n",
       "      <td>57513</td>\n",
       "      <td>47.612383</td>\n",
       "      <td>-122.331645</td>\n",
       "    </tr>\n",
       "    <tr>\n",
       "      <th>3</th>\n",
       "      <td>120222</td>\n",
       "      <td>47.634228</td>\n",
       "      <td>-122.340063</td>\n",
       "    </tr>\n",
       "    <tr>\n",
       "      <th>4</th>\n",
       "      <td>9474</td>\n",
       "      <td>47.620631</td>\n",
       "      <td>-122.320759</td>\n",
       "    </tr>\n",
       "  </tbody>\n",
       "</table>\n",
       "</div>"
      ],
      "text/plain": [
       "   element_key   latitude   longitude\n",
       "0        46257  47.620504 -122.355539\n",
       "1        76414  47.608831 -122.327604\n",
       "2        57513  47.612383 -122.331645\n",
       "3       120222  47.634228 -122.340063\n",
       "4         9474  47.620631 -122.320759"
      ]
     },
     "execution_count": 35,
     "metadata": {},
     "output_type": "execute_result"
    }
   ],
   "source": [
    "static_data.head()"
   ]
  },
  {
   "cell_type": "code",
   "execution_count": 36,
   "metadata": {
    "ExecuteTime": {
     "end_time": "2018-07-03T17:36:15.770994Z",
     "start_time": "2018-07-03T17:36:01.849177Z"
    }
   },
   "outputs": [],
   "source": [
    "this_map = folium.Map(prefer_canvas=True, max_bounds=False)\n",
    "\n",
    "def plotDot(df):\n",
    "    df = df.copy()\n",
    "#     df['color'] = coloring_function(df.quadrant) #.map(coloring_function)\n",
    "    folium.CircleMarker(location=[df.latitude, df.longitude],\n",
    "                        radius= 10,\n",
    "#                         weight=df.cantidadt,\n",
    "                        popup=str(df.element_key),\n",
    "                        fill=True,\n",
    "                        fill_opacity=0.8,\n",
    "                        fill_color='red').add_to(this_map)\n",
    "\n",
    "static_data.apply(plotDot, axis = 1)\n",
    "\n",
    "map_bounds = this_map.get_bounds()\n",
    "this_map.fit_bounds(map_bounds, max_zoom=20)\n",
    "this_map.max_lat = map_bounds[1][0]\n",
    "this_map.min_lat = map_bounds[0][0]\n",
    "this_map.max_lon = map_bounds[1][1]\n",
    "this_map.min_lon = map_bounds[0][1]\n",
    "\n",
    "this_map.save(os.path.join(ct.DOC_OUTPUT, 'seatle_parkimeters.html')) \n",
    "# this_map"
   ]
  },
  {
   "cell_type": "markdown",
   "metadata": {},
   "source": [
    "## Generamos las series timestamps por parquímetro"
   ]
  },
  {
   "cell_type": "code",
   "execution_count": 37,
   "metadata": {
    "ExecuteTime": {
     "end_time": "2018-07-03T17:36:15.788285Z",
     "start_time": "2018-07-03T17:36:15.772397Z"
    }
   },
   "outputs": [
    {
     "data": {
      "text/plain": [
       "1349"
      ]
     },
     "execution_count": 37,
     "metadata": {},
     "output_type": "execute_result"
    }
   ],
   "source": [
    "df_coords.element_key.unique().size"
   ]
  },
  {
   "cell_type": "markdown",
   "metadata": {},
   "source": [
    "Días que transcurren"
   ]
  },
  {
   "cell_type": "code",
   "execution_count": 38,
   "metadata": {
    "ExecuteTime": {
     "end_time": "2018-07-03T17:36:15.797314Z",
     "start_time": "2018-07-03T17:36:15.789730Z"
    }
   },
   "outputs": [
    {
     "data": {
      "text/plain": [
       "Timedelta('342 days 23:49:19')"
      ]
     },
     "execution_count": 38,
     "metadata": {},
     "output_type": "execute_result"
    }
   ],
   "source": [
    "first_moment = df.transaction_date_time.iloc[0]\n",
    "last_moment = df.transaction_date_time.iloc[-1]\n",
    "time_elapsed = last_moment - first_moment\n",
    "time_elapsed"
   ]
  },
  {
   "cell_type": "markdown",
   "metadata": {},
   "source": [
    "Tickets al día por parquímetro"
   ]
  },
  {
   "cell_type": "code",
   "execution_count": 39,
   "metadata": {
    "ExecuteTime": {
     "end_time": "2018-07-03T17:36:15.880971Z",
     "start_time": "2018-07-03T17:36:15.798806Z"
    }
   },
   "outputs": [
    {
     "data": {
      "text/plain": [
       "element_key\n",
       "1234     70.213450\n",
       "35845    70.002924\n",
       "13213    66.687135\n",
       "35850    62.640351\n",
       "35846    57.801170\n",
       "Name: tickets_by_day, dtype: float64"
      ]
     },
     "execution_count": 39,
     "metadata": {},
     "output_type": "execute_result"
    }
   ],
   "source": [
    "parkimeter_ticket_by_day = df_coords.groupby('element_key').meter_code.count() / time_elapsed.days\n",
    "parkimeter_ticket_by_day.sort_values(ascending=False, inplace=True)\n",
    "parkimeter_ticket_by_day.name = 'tickets_by_day'\n",
    "parkimeter_ticket_by_day.head()"
   ]
  },
  {
   "cell_type": "code",
   "execution_count": 40,
   "metadata": {
    "ExecuteTime": {
     "end_time": "2018-07-03T17:36:15.886283Z",
     "start_time": "2018-07-03T17:36:15.882249Z"
    }
   },
   "outputs": [
    {
     "data": {
      "text/plain": [
       "element_key\n",
       "78934    0.096491\n",
       "56901    0.093567\n",
       "58225    0.067251\n",
       "53142    0.067251\n",
       "58574    0.040936\n",
       "Name: tickets_by_day, dtype: float64"
      ]
     },
     "execution_count": 40,
     "metadata": {},
     "output_type": "execute_result"
    }
   ],
   "source": [
    "parkimeter_ticket_by_day.tail()"
   ]
  },
  {
   "cell_type": "code",
   "execution_count": 41,
   "metadata": {
    "ExecuteTime": {
     "end_time": "2018-07-03T17:36:15.894891Z",
     "start_time": "2018-07-03T17:36:15.888093Z"
    }
   },
   "outputs": [
    {
     "data": {
      "text/plain": [
       "0.00     0.040936\n",
       "0.05     1.167251\n",
       "0.10     2.104094\n",
       "0.15     2.971345\n",
       "0.20     3.843860\n",
       "0.25     4.561404\n",
       "0.30     5.366667\n",
       "0.35     6.069591\n",
       "0.40     6.828655\n",
       "0.45     7.521053\n",
       "0.50     8.356725\n",
       "0.55     9.294152\n",
       "0.60    10.236257\n",
       "0.65    11.333333\n",
       "0.70    12.609942\n",
       "0.75    14.201754\n",
       "0.80    15.847953\n",
       "0.85    18.451462\n",
       "0.90    20.895322\n",
       "0.95    26.657310\n",
       "1.00    70.213450\n",
       "Name: tickets_by_day, dtype: float64"
      ]
     },
     "execution_count": 41,
     "metadata": {},
     "output_type": "execute_result"
    }
   ],
   "source": [
    "parkimeter_ticket_by_day.quantile(np.linspace(0, 1, 21))"
   ]
  },
  {
   "cell_type": "code",
   "execution_count": 42,
   "metadata": {
    "ExecuteTime": {
     "end_time": "2018-07-03T17:36:15.994107Z",
     "start_time": "2018-07-03T17:36:15.896214Z"
    }
   },
   "outputs": [
    {
     "data": {
      "image/png": "[encoded data removed]",
      "text/plain": [
       "<Figure size 432x288 with 1 Axes>"
      ]
     },
     "metadata": {},
     "output_type": "display_data"
    }
   ],
   "source": [
    "sns.boxplot(parkimeter_ticket_by_day);"
   ]
  },
  {
   "cell_type": "markdown",
   "metadata": {},
   "source": [
    "### Construímos la serie de ocupación por timestamp\n",
    "\n",
    "Construímos la tabla corta primero que usaremos para montar las series temporales:"
   ]
  },
  {
   "cell_type": "code",
   "execution_count": 43,
   "metadata": {
    "ExecuteTime": {
     "end_time": "2018-07-03T17:36:22.283474Z",
     "start_time": "2018-07-03T17:36:22.263518Z"
    }
   },
   "outputs": [
    {
     "data": {
      "text/html": [
       "<div>\n",
       "<style scoped>\n",
       "    .dataframe tbody tr th:only-of-type {\n",
       "        vertical-align: middle;\n",
       "    }\n",
       "\n",
       "    .dataframe tbody tr th {\n",
       "        vertical-align: top;\n",
       "    }\n",
       "\n",
       "    .dataframe thead th {\n",
       "        text-align: right;\n",
       "    }\n",
       "</style>\n",
       "<table border=\"1\" class=\"dataframe\">\n",
       "  <thead>\n",
       "    <tr style=\"text-align: right;\">\n",
       "      <th></th>\n",
       "      <th>transaction_date_time</th>\n",
       "      <th>transaction_date</th>\n",
       "      <th>time_start</th>\n",
       "      <th>time_expired</th>\n",
       "      <th>duration_mins</th>\n",
       "      <th>amount</th>\n",
       "      <th>payment_mean</th>\n",
       "      <th>meter_code</th>\n",
       "      <th>element_key</th>\n",
       "      <th>final_date_time</th>\n",
       "      <th>latitude</th>\n",
       "      <th>longitude</th>\n",
       "    </tr>\n",
       "    <tr>\n",
       "      <th>transaction_id</th>\n",
       "      <th></th>\n",
       "      <th></th>\n",
       "      <th></th>\n",
       "      <th></th>\n",
       "      <th></th>\n",
       "      <th></th>\n",
       "      <th></th>\n",
       "      <th></th>\n",
       "      <th></th>\n",
       "      <th></th>\n",
       "      <th></th>\n",
       "      <th></th>\n",
       "    </tr>\n",
       "  </thead>\n",
       "  <tbody>\n",
       "    <tr>\n",
       "      <th>14550137</th>\n",
       "      <td>2012-01-24 00:06:59</td>\n",
       "      <td>2012-01-24</td>\n",
       "      <td>00:06</td>\n",
       "      <td>02:06</td>\n",
       "      <td>120</td>\n",
       "      <td>4.00</td>\n",
       "      <td>CREDIT CARD</td>\n",
       "      <td>10269002</td>\n",
       "      <td>76986</td>\n",
       "      <td>2012-01-24 02:06:59</td>\n",
       "      <td>47.615013</td>\n",
       "      <td>-122.346506</td>\n",
       "    </tr>\n",
       "    <tr>\n",
       "      <th>14586857</th>\n",
       "      <td>2012-01-24 08:46:59</td>\n",
       "      <td>2012-01-24</td>\n",
       "      <td>08:46</td>\n",
       "      <td>09:16</td>\n",
       "      <td>30</td>\n",
       "      <td>1.00</td>\n",
       "      <td>COINS</td>\n",
       "      <td>10268002</td>\n",
       "      <td>76986</td>\n",
       "      <td>2012-01-24 09:16:59</td>\n",
       "      <td>47.615013</td>\n",
       "      <td>-122.346506</td>\n",
       "    </tr>\n",
       "    <tr>\n",
       "      <th>14586858</th>\n",
       "      <td>2012-01-24 09:42:59</td>\n",
       "      <td>2012-01-24</td>\n",
       "      <td>09:42</td>\n",
       "      <td>10:22</td>\n",
       "      <td>40</td>\n",
       "      <td>1.25</td>\n",
       "      <td>CREDIT CARD</td>\n",
       "      <td>10268002</td>\n",
       "      <td>76986</td>\n",
       "      <td>2012-01-24 10:22:59</td>\n",
       "      <td>47.615013</td>\n",
       "      <td>-122.346506</td>\n",
       "    </tr>\n",
       "    <tr>\n",
       "      <th>14589200</th>\n",
       "      <td>2012-01-24 12:19:59</td>\n",
       "      <td>2012-01-24</td>\n",
       "      <td>12:19</td>\n",
       "      <td>13:04</td>\n",
       "      <td>45</td>\n",
       "      <td>1.50</td>\n",
       "      <td>CREDIT CARD</td>\n",
       "      <td>10269002</td>\n",
       "      <td>76986</td>\n",
       "      <td>2012-01-24 13:04:59</td>\n",
       "      <td>47.615013</td>\n",
       "      <td>-122.346506</td>\n",
       "    </tr>\n",
       "    <tr>\n",
       "      <th>14586859</th>\n",
       "      <td>2012-01-24 12:21:59</td>\n",
       "      <td>2012-01-24</td>\n",
       "      <td>12:21</td>\n",
       "      <td>13:21</td>\n",
       "      <td>60</td>\n",
       "      <td>2.00</td>\n",
       "      <td>CREDIT CARD</td>\n",
       "      <td>10268002</td>\n",
       "      <td>76986</td>\n",
       "      <td>2012-01-24 13:21:59</td>\n",
       "      <td>47.615013</td>\n",
       "      <td>-122.346506</td>\n",
       "    </tr>\n",
       "  </tbody>\n",
       "</table>\n",
       "</div>"
      ],
      "text/plain": [
       "               transaction_date_time transaction_date time_start time_expired  \\\n",
       "transaction_id                                                                  \n",
       "14550137         2012-01-24 00:06:59       2012-01-24      00:06        02:06   \n",
       "14586857         2012-01-24 08:46:59       2012-01-24      08:46        09:16   \n",
       "14586858         2012-01-24 09:42:59       2012-01-24      09:42        10:22   \n",
       "14589200         2012-01-24 12:19:59       2012-01-24      12:19        13:04   \n",
       "14586859         2012-01-24 12:21:59       2012-01-24      12:21        13:21   \n",
       "\n",
       "                duration_mins  amount payment_mean  meter_code  element_key  \\\n",
       "transaction_id                                                                \n",
       "14550137                  120    4.00  CREDIT CARD    10269002        76986   \n",
       "14586857                   30    1.00        COINS    10268002        76986   \n",
       "14586858                   40    1.25  CREDIT CARD    10268002        76986   \n",
       "14589200                   45    1.50  CREDIT CARD    10269002        76986   \n",
       "14586859                   60    2.00  CREDIT CARD    10268002        76986   \n",
       "\n",
       "                   final_date_time   latitude   longitude  \n",
       "transaction_id                                             \n",
       "14550137       2012-01-24 02:06:59  47.615013 -122.346506  \n",
       "14586857       2012-01-24 09:16:59  47.615013 -122.346506  \n",
       "14586858       2012-01-24 10:22:59  47.615013 -122.346506  \n",
       "14589200       2012-01-24 13:04:59  47.615013 -122.346506  \n",
       "14586859       2012-01-24 13:21:59  47.615013 -122.346506  "
      ]
     },
     "execution_count": 43,
     "metadata": {},
     "output_type": "execute_result"
    }
   ],
   "source": [
    "df_coords.head()"
   ]
  },
  {
   "cell_type": "code",
   "execution_count": 44,
   "metadata": {
    "ExecuteTime": {
     "end_time": "2018-07-03T17:36:46.500695Z",
     "start_time": "2018-07-03T17:36:42.079494Z"
    }
   },
   "outputs": [],
   "source": [
    "in_cols = ['element_key', 'transaction_date_time']\n",
    "out_cols = ['element_key', 'final_date_time']\n",
    "\n",
    "df_in = df_coords[in_cols].reset_index()\n",
    "df_in.transaction_id = df_in.transaction_id.map(lambda s:'%s_in' % str(s))\n",
    "df_in['timestamp_sign'] = 1.0\n",
    "df_in.rename(columns={'transaction_date_time': 'timestamp'}, inplace=True)\n",
    "\n",
    "df_out = df_coords[out_cols].reset_index()\n",
    "df_out.transaction_id = df_out.transaction_id.map(lambda s:'%s_out' % str(s))\n",
    "df_out['timestamp_sign'] = - 1.0\n",
    "df_out.rename(columns={'final_date_time': 'timestamp'}, inplace=True)"
   ]
  },
  {
   "cell_type": "code",
   "execution_count": 45,
   "metadata": {
    "ExecuteTime": {
     "end_time": "2018-07-03T17:36:46.511121Z",
     "start_time": "2018-07-03T17:36:46.502183Z"
    }
   },
   "outputs": [
    {
     "data": {
      "text/html": [
       "<div>\n",
       "<style scoped>\n",
       "    .dataframe tbody tr th:only-of-type {\n",
       "        vertical-align: middle;\n",
       "    }\n",
       "\n",
       "    .dataframe tbody tr th {\n",
       "        vertical-align: top;\n",
       "    }\n",
       "\n",
       "    .dataframe thead th {\n",
       "        text-align: right;\n",
       "    }\n",
       "</style>\n",
       "<table border=\"1\" class=\"dataframe\">\n",
       "  <thead>\n",
       "    <tr style=\"text-align: right;\">\n",
       "      <th></th>\n",
       "      <th>transaction_id</th>\n",
       "      <th>element_key</th>\n",
       "      <th>timestamp</th>\n",
       "      <th>timestamp_sign</th>\n",
       "    </tr>\n",
       "  </thead>\n",
       "  <tbody>\n",
       "    <tr>\n",
       "      <th>0</th>\n",
       "      <td>14550137_in</td>\n",
       "      <td>76986</td>\n",
       "      <td>2012-01-24 00:06:59</td>\n",
       "      <td>1.0</td>\n",
       "    </tr>\n",
       "    <tr>\n",
       "      <th>1</th>\n",
       "      <td>14586857_in</td>\n",
       "      <td>76986</td>\n",
       "      <td>2012-01-24 08:46:59</td>\n",
       "      <td>1.0</td>\n",
       "    </tr>\n",
       "    <tr>\n",
       "      <th>2</th>\n",
       "      <td>14586858_in</td>\n",
       "      <td>76986</td>\n",
       "      <td>2012-01-24 09:42:59</td>\n",
       "      <td>1.0</td>\n",
       "    </tr>\n",
       "    <tr>\n",
       "      <th>3</th>\n",
       "      <td>14589200_in</td>\n",
       "      <td>76986</td>\n",
       "      <td>2012-01-24 12:19:59</td>\n",
       "      <td>1.0</td>\n",
       "    </tr>\n",
       "    <tr>\n",
       "      <th>4</th>\n",
       "      <td>14586859_in</td>\n",
       "      <td>76986</td>\n",
       "      <td>2012-01-24 12:21:59</td>\n",
       "      <td>1.0</td>\n",
       "    </tr>\n",
       "  </tbody>\n",
       "</table>\n",
       "</div>"
      ],
      "text/plain": [
       "  transaction_id  element_key           timestamp  timestamp_sign\n",
       "0    14550137_in        76986 2012-01-24 00:06:59             1.0\n",
       "1    14586857_in        76986 2012-01-24 08:46:59             1.0\n",
       "2    14586858_in        76986 2012-01-24 09:42:59             1.0\n",
       "3    14589200_in        76986 2012-01-24 12:19:59             1.0\n",
       "4    14586859_in        76986 2012-01-24 12:21:59             1.0"
      ]
     },
     "execution_count": 45,
     "metadata": {},
     "output_type": "execute_result"
    }
   ],
   "source": [
    "df_in.head()"
   ]
  },
  {
   "cell_type": "code",
   "execution_count": 46,
   "metadata": {
    "ExecuteTime": {
     "end_time": "2018-07-03T17:36:46.522761Z",
     "start_time": "2018-07-03T17:36:46.512194Z"
    }
   },
   "outputs": [
    {
     "data": {
      "text/html": [
       "<div>\n",
       "<style scoped>\n",
       "    .dataframe tbody tr th:only-of-type {\n",
       "        vertical-align: middle;\n",
       "    }\n",
       "\n",
       "    .dataframe tbody tr th {\n",
       "        vertical-align: top;\n",
       "    }\n",
       "\n",
       "    .dataframe thead th {\n",
       "        text-align: right;\n",
       "    }\n",
       "</style>\n",
       "<table border=\"1\" class=\"dataframe\">\n",
       "  <thead>\n",
       "    <tr style=\"text-align: right;\">\n",
       "      <th></th>\n",
       "      <th>transaction_id</th>\n",
       "      <th>element_key</th>\n",
       "      <th>timestamp</th>\n",
       "      <th>timestamp_sign</th>\n",
       "    </tr>\n",
       "  </thead>\n",
       "  <tbody>\n",
       "    <tr>\n",
       "      <th>0</th>\n",
       "      <td>14550137_out</td>\n",
       "      <td>76986</td>\n",
       "      <td>2012-01-24 02:06:59</td>\n",
       "      <td>-1.0</td>\n",
       "    </tr>\n",
       "    <tr>\n",
       "      <th>1</th>\n",
       "      <td>14586857_out</td>\n",
       "      <td>76986</td>\n",
       "      <td>2012-01-24 09:16:59</td>\n",
       "      <td>-1.0</td>\n",
       "    </tr>\n",
       "    <tr>\n",
       "      <th>2</th>\n",
       "      <td>14586858_out</td>\n",
       "      <td>76986</td>\n",
       "      <td>2012-01-24 10:22:59</td>\n",
       "      <td>-1.0</td>\n",
       "    </tr>\n",
       "    <tr>\n",
       "      <th>3</th>\n",
       "      <td>14589200_out</td>\n",
       "      <td>76986</td>\n",
       "      <td>2012-01-24 13:04:59</td>\n",
       "      <td>-1.0</td>\n",
       "    </tr>\n",
       "    <tr>\n",
       "      <th>4</th>\n",
       "      <td>14586859_out</td>\n",
       "      <td>76986</td>\n",
       "      <td>2012-01-24 13:21:59</td>\n",
       "      <td>-1.0</td>\n",
       "    </tr>\n",
       "  </tbody>\n",
       "</table>\n",
       "</div>"
      ],
      "text/plain": [
       "  transaction_id  element_key           timestamp  timestamp_sign\n",
       "0   14550137_out        76986 2012-01-24 02:06:59            -1.0\n",
       "1   14586857_out        76986 2012-01-24 09:16:59            -1.0\n",
       "2   14586858_out        76986 2012-01-24 10:22:59            -1.0\n",
       "3   14589200_out        76986 2012-01-24 13:04:59            -1.0\n",
       "4   14586859_out        76986 2012-01-24 13:21:59            -1.0"
      ]
     },
     "execution_count": 46,
     "metadata": {},
     "output_type": "execute_result"
    }
   ],
   "source": [
    "df_out.head()"
   ]
  },
  {
   "cell_type": "code",
   "execution_count": 66,
   "metadata": {
    "ExecuteTime": {
     "end_time": "2018-07-03T17:40:48.918260Z",
     "start_time": "2018-07-03T17:40:47.003098Z"
    }
   },
   "outputs": [],
   "source": [
    "full_transactions = pd.concat([df_in, df_out])\n",
    "full_transactions.set_index('transaction_id', inplace=True)\n",
    "full_transactions.sort_values('timestamp', ascending=True, inplace=True)"
   ]
  },
  {
   "cell_type": "code",
   "execution_count": 67,
   "metadata": {
    "ExecuteTime": {
     "end_time": "2018-07-03T17:40:49.098204Z",
     "start_time": "2018-07-03T17:40:48.919905Z"
    }
   },
   "outputs": [
    {
     "data": {
      "text/plain": [
       "0.8006312881860276"
      ]
     },
     "execution_count": 67,
     "metadata": {},
     "output_type": "execute_result"
    }
   ],
   "source": [
    "full_transactions.timestamp.duplicated().mean()"
   ]
  },
  {
   "cell_type": "code",
   "execution_count": 68,
   "metadata": {
    "ExecuteTime": {
     "end_time": "2018-07-03T17:40:49.105651Z",
     "start_time": "2018-07-03T17:40:49.099414Z"
    }
   },
   "outputs": [
    {
     "data": {
      "text/html": [
       "<div>\n",
       "<style scoped>\n",
       "    .dataframe tbody tr th:only-of-type {\n",
       "        vertical-align: middle;\n",
       "    }\n",
       "\n",
       "    .dataframe tbody tr th {\n",
       "        vertical-align: top;\n",
       "    }\n",
       "\n",
       "    .dataframe thead th {\n",
       "        text-align: right;\n",
       "    }\n",
       "</style>\n",
       "<table border=\"1\" class=\"dataframe\">\n",
       "  <thead>\n",
       "    <tr style=\"text-align: right;\">\n",
       "      <th></th>\n",
       "      <th>element_key</th>\n",
       "      <th>timestamp</th>\n",
       "      <th>timestamp_sign</th>\n",
       "    </tr>\n",
       "    <tr>\n",
       "      <th>transaction_id</th>\n",
       "      <th></th>\n",
       "      <th></th>\n",
       "      <th></th>\n",
       "    </tr>\n",
       "  </thead>\n",
       "  <tbody>\n",
       "    <tr>\n",
       "      <th>14550137_in</th>\n",
       "      <td>76986</td>\n",
       "      <td>2012-01-24 00:06:59</td>\n",
       "      <td>1.0</td>\n",
       "    </tr>\n",
       "    <tr>\n",
       "      <th>14580904_in</th>\n",
       "      <td>57194</td>\n",
       "      <td>2012-01-24 00:34:25</td>\n",
       "      <td>1.0</td>\n",
       "    </tr>\n",
       "    <tr>\n",
       "      <th>14580905_in</th>\n",
       "      <td>57194</td>\n",
       "      <td>2012-01-24 00:36:24</td>\n",
       "      <td>1.0</td>\n",
       "    </tr>\n",
       "    <tr>\n",
       "      <th>14574122_in</th>\n",
       "      <td>31498</td>\n",
       "      <td>2012-01-24 01:07:59</td>\n",
       "      <td>1.0</td>\n",
       "    </tr>\n",
       "    <tr>\n",
       "      <th>14555348_in</th>\n",
       "      <td>13093</td>\n",
       "      <td>2012-01-24 01:12:59</td>\n",
       "      <td>1.0</td>\n",
       "    </tr>\n",
       "  </tbody>\n",
       "</table>\n",
       "</div>"
      ],
      "text/plain": [
       "                element_key           timestamp  timestamp_sign\n",
       "transaction_id                                                 \n",
       "14550137_in           76986 2012-01-24 00:06:59             1.0\n",
       "14580904_in           57194 2012-01-24 00:34:25             1.0\n",
       "14580905_in           57194 2012-01-24 00:36:24             1.0\n",
       "14574122_in           31498 2012-01-24 01:07:59             1.0\n",
       "14555348_in           13093 2012-01-24 01:12:59             1.0"
      ]
     },
     "execution_count": 68,
     "metadata": {},
     "output_type": "execute_result"
    }
   ],
   "source": [
    "full_transactions.head()"
   ]
  },
  {
   "cell_type": "code",
   "execution_count": 69,
   "metadata": {
    "ExecuteTime": {
     "end_time": "2018-07-03T17:40:49.110925Z",
     "start_time": "2018-07-03T17:40:49.107012Z"
    }
   },
   "outputs": [
    {
     "data": {
      "text/plain": [
       "((4864181, 4), (4864181, 4), (9728362, 3))"
      ]
     },
     "execution_count": 69,
     "metadata": {},
     "output_type": "execute_result"
    }
   ],
   "source": [
    "df_in.shape, df_out.shape, full_transactions.shape"
   ]
  },
  {
   "cell_type": "markdown",
   "metadata": {},
   "source": [
    "Comprobamos duplicados por parquímetro:"
   ]
  },
  {
   "cell_type": "code",
   "execution_count": 70,
   "metadata": {
    "ExecuteTime": {
     "end_time": "2018-07-03T17:40:50.945304Z",
     "start_time": "2018-07-03T17:40:49.259517Z"
    }
   },
   "outputs": [
    {
     "data": {
      "text/plain": [
       "element_key\n",
       "1001    0.033840\n",
       "1002    0.049411\n",
       "1005    0.001176\n",
       "1006    0.003364\n",
       "1009    0.001130\n",
       "Name: timestamp, dtype: float64"
      ]
     },
     "execution_count": 70,
     "metadata": {},
     "output_type": "execute_result"
    }
   ],
   "source": [
    "duplicated_timestamps_by_pk = full_transactions.groupby('element_key').timestamp.agg(lambda series: series.duplicated().mean())\n",
    "duplicated_timestamps_by_pk.head()"
   ]
  },
  {
   "cell_type": "code",
   "execution_count": 71,
   "metadata": {
    "ExecuteTime": {
     "end_time": "2018-07-03T17:40:50.951858Z",
     "start_time": "2018-07-03T17:40:50.946536Z"
    }
   },
   "outputs": [
    {
     "data": {
      "text/plain": [
       "0.00    0.000000\n",
       "0.05    0.000000\n",
       "0.10    0.001087\n",
       "0.15    0.001869\n",
       "0.20    0.002712\n",
       "0.25    0.003968\n",
       "0.30    0.006181\n",
       "0.35    0.011057\n",
       "0.40    0.019592\n",
       "0.45    0.025726\n",
       "0.50    0.031842\n",
       "0.55    0.036982\n",
       "0.60    0.041642\n",
       "0.65    0.046715\n",
       "0.70    0.052314\n",
       "0.75    0.057924\n",
       "0.80    0.064523\n",
       "0.85    0.075602\n",
       "0.90    0.086146\n",
       "0.95    0.107864\n",
       "1.00    0.234224\n",
       "Name: timestamp, dtype: float64"
      ]
     },
     "execution_count": 71,
     "metadata": {},
     "output_type": "execute_result"
    }
   ],
   "source": [
    "duplicated_timestamps_by_pk.quantile(np.linspace(0, 1, 21))"
   ]
  },
  {
   "cell_type": "markdown",
   "metadata": {},
   "source": [
    "Agrupamos sumando por `element_key` para crear la ocupación en timestamp por parquímetro:"
   ]
  },
  {
   "cell_type": "code",
   "execution_count": 72,
   "metadata": {
    "ExecuteTime": {
     "end_time": "2018-07-03T17:40:53.971918Z",
     "start_time": "2018-07-03T17:40:51.131054Z"
    }
   },
   "outputs": [],
   "source": [
    "full_transactions['ocupation'] =  full_transactions.groupby('element_key').timestamp_sign.transform(lambda series: series.cumsum())"
   ]
  },
  {
   "cell_type": "markdown",
   "metadata": {},
   "source": [
    "Limpiamos los duplicados por parquímetro seleccionando los valores últimos para que se hayan agregado las operaciones simultáneas"
   ]
  },
  {
   "cell_type": "code",
   "execution_count": 73,
   "metadata": {
    "ExecuteTime": {
     "end_time": "2018-07-03T17:40:55.786002Z",
     "start_time": "2018-07-03T17:40:53.973631Z"
    }
   },
   "outputs": [],
   "source": [
    "full_transactions.drop_duplicates(subset=['element_key', 'timestamp'], keep='last', inplace=True)"
   ]
  },
  {
   "cell_type": "code",
   "execution_count": 74,
   "metadata": {
    "ExecuteTime": {
     "end_time": "2018-07-03T17:40:55.801833Z",
     "start_time": "2018-07-03T17:40:55.787398Z"
    }
   },
   "outputs": [
    {
     "data": {
      "text/html": [
       "<div>\n",
       "<style scoped>\n",
       "    .dataframe tbody tr th:only-of-type {\n",
       "        vertical-align: middle;\n",
       "    }\n",
       "\n",
       "    .dataframe tbody tr th {\n",
       "        vertical-align: top;\n",
       "    }\n",
       "\n",
       "    .dataframe thead th {\n",
       "        text-align: right;\n",
       "    }\n",
       "</style>\n",
       "<table border=\"1\" class=\"dataframe\">\n",
       "  <thead>\n",
       "    <tr style=\"text-align: right;\">\n",
       "      <th></th>\n",
       "      <th>element_key</th>\n",
       "      <th>timestamp</th>\n",
       "      <th>timestamp_sign</th>\n",
       "      <th>ocupation</th>\n",
       "    </tr>\n",
       "    <tr>\n",
       "      <th>transaction_id</th>\n",
       "      <th></th>\n",
       "      <th></th>\n",
       "      <th></th>\n",
       "      <th></th>\n",
       "    </tr>\n",
       "  </thead>\n",
       "  <tbody>\n",
       "    <tr>\n",
       "      <th>14550137_in</th>\n",
       "      <td>76986</td>\n",
       "      <td>2012-01-24 00:06:59</td>\n",
       "      <td>1.0</td>\n",
       "      <td>1.0</td>\n",
       "    </tr>\n",
       "    <tr>\n",
       "      <th>14580904_in</th>\n",
       "      <td>57194</td>\n",
       "      <td>2012-01-24 00:34:25</td>\n",
       "      <td>1.0</td>\n",
       "      <td>1.0</td>\n",
       "    </tr>\n",
       "    <tr>\n",
       "      <th>14580905_in</th>\n",
       "      <td>57194</td>\n",
       "      <td>2012-01-24 00:36:24</td>\n",
       "      <td>1.0</td>\n",
       "      <td>2.0</td>\n",
       "    </tr>\n",
       "    <tr>\n",
       "      <th>14574122_in</th>\n",
       "      <td>31498</td>\n",
       "      <td>2012-01-24 01:07:59</td>\n",
       "      <td>1.0</td>\n",
       "      <td>1.0</td>\n",
       "    </tr>\n",
       "    <tr>\n",
       "      <th>14555348_in</th>\n",
       "      <td>13093</td>\n",
       "      <td>2012-01-24 01:12:59</td>\n",
       "      <td>1.0</td>\n",
       "      <td>1.0</td>\n",
       "    </tr>\n",
       "    <tr>\n",
       "      <th>14557462_in</th>\n",
       "      <td>37177</td>\n",
       "      <td>2012-01-24 01:16:59</td>\n",
       "      <td>1.0</td>\n",
       "      <td>1.0</td>\n",
       "    </tr>\n",
       "    <tr>\n",
       "      <th>14568669_in</th>\n",
       "      <td>24405</td>\n",
       "      <td>2012-01-24 01:33:59</td>\n",
       "      <td>1.0</td>\n",
       "      <td>1.0</td>\n",
       "    </tr>\n",
       "    <tr>\n",
       "      <th>14553995_in</th>\n",
       "      <td>16942</td>\n",
       "      <td>2012-01-24 01:34:59</td>\n",
       "      <td>1.0</td>\n",
       "      <td>1.0</td>\n",
       "    </tr>\n",
       "    <tr>\n",
       "      <th>14580905_out</th>\n",
       "      <td>57194</td>\n",
       "      <td>2012-01-24 01:36:24</td>\n",
       "      <td>-1.0</td>\n",
       "      <td>1.0</td>\n",
       "    </tr>\n",
       "    <tr>\n",
       "      <th>14579479_in</th>\n",
       "      <td>88634</td>\n",
       "      <td>2012-01-24 01:54:59</td>\n",
       "      <td>1.0</td>\n",
       "      <td>1.0</td>\n",
       "    </tr>\n",
       "    <tr>\n",
       "      <th>14574740_in</th>\n",
       "      <td>1601</td>\n",
       "      <td>2012-01-24 01:57:59</td>\n",
       "      <td>1.0</td>\n",
       "      <td>1.0</td>\n",
       "    </tr>\n",
       "    <tr>\n",
       "      <th>14603548_in</th>\n",
       "      <td>62098</td>\n",
       "      <td>2012-01-24 02:05:59</td>\n",
       "      <td>1.0</td>\n",
       "      <td>1.0</td>\n",
       "    </tr>\n",
       "    <tr>\n",
       "      <th>14550137_out</th>\n",
       "      <td>76986</td>\n",
       "      <td>2012-01-24 02:06:59</td>\n",
       "      <td>-1.0</td>\n",
       "      <td>0.0</td>\n",
       "    </tr>\n",
       "    <tr>\n",
       "      <th>14549462_in</th>\n",
       "      <td>54985</td>\n",
       "      <td>2012-01-24 02:06:59</td>\n",
       "      <td>1.0</td>\n",
       "      <td>1.0</td>\n",
       "    </tr>\n",
       "    <tr>\n",
       "      <th>14603549_in</th>\n",
       "      <td>62098</td>\n",
       "      <td>2012-01-24 02:27:59</td>\n",
       "      <td>1.0</td>\n",
       "      <td>2.0</td>\n",
       "    </tr>\n",
       "    <tr>\n",
       "      <th>14603550_in</th>\n",
       "      <td>62098</td>\n",
       "      <td>2012-01-24 02:32:59</td>\n",
       "      <td>1.0</td>\n",
       "      <td>3.0</td>\n",
       "    </tr>\n",
       "    <tr>\n",
       "      <th>14580904_out</th>\n",
       "      <td>57194</td>\n",
       "      <td>2012-01-24 02:34:25</td>\n",
       "      <td>-1.0</td>\n",
       "      <td>0.0</td>\n",
       "    </tr>\n",
       "    <tr>\n",
       "      <th>14603550_out</th>\n",
       "      <td>62098</td>\n",
       "      <td>2012-01-24 02:52:59</td>\n",
       "      <td>-1.0</td>\n",
       "      <td>2.0</td>\n",
       "    </tr>\n",
       "    <tr>\n",
       "      <th>14574122_out</th>\n",
       "      <td>31498</td>\n",
       "      <td>2012-01-24 03:07:59</td>\n",
       "      <td>-1.0</td>\n",
       "      <td>0.0</td>\n",
       "    </tr>\n",
       "    <tr>\n",
       "      <th>14555348_out</th>\n",
       "      <td>13093</td>\n",
       "      <td>2012-01-24 03:12:59</td>\n",
       "      <td>-1.0</td>\n",
       "      <td>0.0</td>\n",
       "    </tr>\n",
       "    <tr>\n",
       "      <th>14584793_in</th>\n",
       "      <td>30101</td>\n",
       "      <td>2012-01-24 03:13:59</td>\n",
       "      <td>1.0</td>\n",
       "      <td>1.0</td>\n",
       "    </tr>\n",
       "    <tr>\n",
       "      <th>14557462_out</th>\n",
       "      <td>37177</td>\n",
       "      <td>2012-01-24 03:16:59</td>\n",
       "      <td>-1.0</td>\n",
       "      <td>0.0</td>\n",
       "    </tr>\n",
       "    <tr>\n",
       "      <th>14568669_out</th>\n",
       "      <td>24405</td>\n",
       "      <td>2012-01-24 03:33:59</td>\n",
       "      <td>-1.0</td>\n",
       "      <td>0.0</td>\n",
       "    </tr>\n",
       "    <tr>\n",
       "      <th>14553995_out</th>\n",
       "      <td>16942</td>\n",
       "      <td>2012-01-24 03:34:59</td>\n",
       "      <td>-1.0</td>\n",
       "      <td>0.0</td>\n",
       "    </tr>\n",
       "    <tr>\n",
       "      <th>14554381_in</th>\n",
       "      <td>77221</td>\n",
       "      <td>2012-01-24 03:42:59</td>\n",
       "      <td>1.0</td>\n",
       "      <td>1.0</td>\n",
       "    </tr>\n",
       "    <tr>\n",
       "      <th>14600145_in</th>\n",
       "      <td>1046</td>\n",
       "      <td>2012-01-24 03:42:59</td>\n",
       "      <td>1.0</td>\n",
       "      <td>1.0</td>\n",
       "    </tr>\n",
       "    <tr>\n",
       "      <th>14632521_in</th>\n",
       "      <td>62098</td>\n",
       "      <td>2012-01-24 03:46:59</td>\n",
       "      <td>1.0</td>\n",
       "      <td>3.0</td>\n",
       "    </tr>\n",
       "    <tr>\n",
       "      <th>14579479_out</th>\n",
       "      <td>88634</td>\n",
       "      <td>2012-01-24 03:54:59</td>\n",
       "      <td>-1.0</td>\n",
       "      <td>0.0</td>\n",
       "    </tr>\n",
       "    <tr>\n",
       "      <th>14632521_out</th>\n",
       "      <td>62098</td>\n",
       "      <td>2012-01-24 03:56:59</td>\n",
       "      <td>-1.0</td>\n",
       "      <td>2.0</td>\n",
       "    </tr>\n",
       "    <tr>\n",
       "      <th>14603549_out</th>\n",
       "      <td>62098</td>\n",
       "      <td>2012-01-24 03:57:59</td>\n",
       "      <td>-1.0</td>\n",
       "      <td>1.0</td>\n",
       "    </tr>\n",
       "    <tr>\n",
       "      <th>14574740_out</th>\n",
       "      <td>1601</td>\n",
       "      <td>2012-01-24 03:57:59</td>\n",
       "      <td>-1.0</td>\n",
       "      <td>0.0</td>\n",
       "    </tr>\n",
       "    <tr>\n",
       "      <th>14632522_in</th>\n",
       "      <td>62098</td>\n",
       "      <td>2012-01-24 03:58:59</td>\n",
       "      <td>1.0</td>\n",
       "      <td>2.0</td>\n",
       "    </tr>\n",
       "    <tr>\n",
       "      <th>14632523_in</th>\n",
       "      <td>62098</td>\n",
       "      <td>2012-01-24 04:05:59</td>\n",
       "      <td>1.0</td>\n",
       "      <td>2.0</td>\n",
       "    </tr>\n",
       "    <tr>\n",
       "      <th>14549462_out</th>\n",
       "      <td>54985</td>\n",
       "      <td>2012-01-24 04:06:59</td>\n",
       "      <td>-1.0</td>\n",
       "      <td>0.0</td>\n",
       "    </tr>\n",
       "    <tr>\n",
       "      <th>14556004_in</th>\n",
       "      <td>80742</td>\n",
       "      <td>2012-01-24 04:17:59</td>\n",
       "      <td>1.0</td>\n",
       "      <td>1.0</td>\n",
       "    </tr>\n",
       "    <tr>\n",
       "      <th>16919441_in</th>\n",
       "      <td>78781</td>\n",
       "      <td>2012-01-24 04:29:03</td>\n",
       "      <td>1.0</td>\n",
       "      <td>1.0</td>\n",
       "    </tr>\n",
       "    <tr>\n",
       "      <th>14570958_in</th>\n",
       "      <td>59046</td>\n",
       "      <td>2012-01-24 04:31:13</td>\n",
       "      <td>1.0</td>\n",
       "      <td>1.0</td>\n",
       "    </tr>\n",
       "    <tr>\n",
       "      <th>14587694_in</th>\n",
       "      <td>32125</td>\n",
       "      <td>2012-01-24 04:32:28</td>\n",
       "      <td>1.0</td>\n",
       "      <td>1.0</td>\n",
       "    </tr>\n",
       "    <tr>\n",
       "      <th>14632523_out</th>\n",
       "      <td>62098</td>\n",
       "      <td>2012-01-24 04:35:59</td>\n",
       "      <td>-1.0</td>\n",
       "      <td>1.0</td>\n",
       "    </tr>\n",
       "    <tr>\n",
       "      <th>14558823_in</th>\n",
       "      <td>10053</td>\n",
       "      <td>2012-01-24 04:38:44</td>\n",
       "      <td>1.0</td>\n",
       "      <td>1.0</td>\n",
       "    </tr>\n",
       "    <tr>\n",
       "      <th>14558466_in</th>\n",
       "      <td>31297</td>\n",
       "      <td>2012-01-24 04:46:59</td>\n",
       "      <td>1.0</td>\n",
       "      <td>1.0</td>\n",
       "    </tr>\n",
       "    <tr>\n",
       "      <th>14632522_out</th>\n",
       "      <td>62098</td>\n",
       "      <td>2012-01-24 04:48:59</td>\n",
       "      <td>-1.0</td>\n",
       "      <td>0.0</td>\n",
       "    </tr>\n",
       "    <tr>\n",
       "      <th>14573122_in</th>\n",
       "      <td>58629</td>\n",
       "      <td>2012-01-24 04:57:07</td>\n",
       "      <td>1.0</td>\n",
       "      <td>1.0</td>\n",
       "    </tr>\n",
       "    <tr>\n",
       "      <th>14560060_in</th>\n",
       "      <td>13509</td>\n",
       "      <td>2012-01-24 04:59:59</td>\n",
       "      <td>1.0</td>\n",
       "      <td>1.0</td>\n",
       "    </tr>\n",
       "    <tr>\n",
       "      <th>14559128_in</th>\n",
       "      <td>35417</td>\n",
       "      <td>2012-01-24 05:01:59</td>\n",
       "      <td>1.0</td>\n",
       "      <td>1.0</td>\n",
       "    </tr>\n",
       "    <tr>\n",
       "      <th>14575901_in</th>\n",
       "      <td>36813</td>\n",
       "      <td>2012-01-24 05:02:59</td>\n",
       "      <td>1.0</td>\n",
       "      <td>1.0</td>\n",
       "    </tr>\n",
       "    <tr>\n",
       "      <th>14584793_out</th>\n",
       "      <td>30101</td>\n",
       "      <td>2012-01-24 05:13:59</td>\n",
       "      <td>-1.0</td>\n",
       "      <td>0.0</td>\n",
       "    </tr>\n",
       "    <tr>\n",
       "      <th>14581187_in</th>\n",
       "      <td>59042</td>\n",
       "      <td>2012-01-24 05:14:52</td>\n",
       "      <td>1.0</td>\n",
       "      <td>1.0</td>\n",
       "    </tr>\n",
       "    <tr>\n",
       "      <th>14558636_in</th>\n",
       "      <td>59041</td>\n",
       "      <td>2012-01-24 05:18:24</td>\n",
       "      <td>1.0</td>\n",
       "      <td>1.0</td>\n",
       "    </tr>\n",
       "    <tr>\n",
       "      <th>14595384_in</th>\n",
       "      <td>10874</td>\n",
       "      <td>2012-01-24 05:19:49</td>\n",
       "      <td>1.0</td>\n",
       "      <td>1.0</td>\n",
       "    </tr>\n",
       "  </tbody>\n",
       "</table>\n",
       "</div>"
      ],
      "text/plain": [
       "                element_key           timestamp  timestamp_sign  ocupation\n",
       "transaction_id                                                            \n",
       "14550137_in           76986 2012-01-24 00:06:59             1.0        1.0\n",
       "14580904_in           57194 2012-01-24 00:34:25             1.0        1.0\n",
       "14580905_in           57194 2012-01-24 00:36:24             1.0        2.0\n",
       "14574122_in           31498 2012-01-24 01:07:59             1.0        1.0\n",
       "14555348_in           13093 2012-01-24 01:12:59             1.0        1.0\n",
       "14557462_in           37177 2012-01-24 01:16:59             1.0        1.0\n",
       "14568669_in           24405 2012-01-24 01:33:59             1.0        1.0\n",
       "14553995_in           16942 2012-01-24 01:34:59             1.0        1.0\n",
       "14580905_out          57194 2012-01-24 01:36:24            -1.0        1.0\n",
       "14579479_in           88634 2012-01-24 01:54:59             1.0        1.0\n",
       "14574740_in            1601 2012-01-24 01:57:59             1.0        1.0\n",
       "14603548_in           62098 2012-01-24 02:05:59             1.0        1.0\n",
       "14550137_out          76986 2012-01-24 02:06:59            -1.0        0.0\n",
       "14549462_in           54985 2012-01-24 02:06:59             1.0        1.0\n",
       "14603549_in           62098 2012-01-24 02:27:59             1.0        2.0\n",
       "14603550_in           62098 2012-01-24 02:32:59             1.0        3.0\n",
       "14580904_out          57194 2012-01-24 02:34:25            -1.0        0.0\n",
       "14603550_out          62098 2012-01-24 02:52:59            -1.0        2.0\n",
       "14574122_out          31498 2012-01-24 03:07:59            -1.0        0.0\n",
       "14555348_out          13093 2012-01-24 03:12:59            -1.0        0.0\n",
       "14584793_in           30101 2012-01-24 03:13:59             1.0        1.0\n",
       "14557462_out          37177 2012-01-24 03:16:59            -1.0        0.0\n",
       "14568669_out          24405 2012-01-24 03:33:59            -1.0        0.0\n",
       "14553995_out          16942 2012-01-24 03:34:59            -1.0        0.0\n",
       "14554381_in           77221 2012-01-24 03:42:59             1.0        1.0\n",
       "14600145_in            1046 2012-01-24 03:42:59             1.0        1.0\n",
       "14632521_in           62098 2012-01-24 03:46:59             1.0        3.0\n",
       "14579479_out          88634 2012-01-24 03:54:59            -1.0        0.0\n",
       "14632521_out          62098 2012-01-24 03:56:59            -1.0        2.0\n",
       "14603549_out          62098 2012-01-24 03:57:59            -1.0        1.0\n",
       "14574740_out           1601 2012-01-24 03:57:59            -1.0        0.0\n",
       "14632522_in           62098 2012-01-24 03:58:59             1.0        2.0\n",
       "14632523_in           62098 2012-01-24 04:05:59             1.0        2.0\n",
       "14549462_out          54985 2012-01-24 04:06:59            -1.0        0.0\n",
       "14556004_in           80742 2012-01-24 04:17:59             1.0        1.0\n",
       "16919441_in           78781 2012-01-24 04:29:03             1.0        1.0\n",
       "14570958_in           59046 2012-01-24 04:31:13             1.0        1.0\n",
       "14587694_in           32125 2012-01-24 04:32:28             1.0        1.0\n",
       "14632523_out          62098 2012-01-24 04:35:59            -1.0        1.0\n",
       "14558823_in           10053 2012-01-24 04:38:44             1.0        1.0\n",
       "14558466_in           31297 2012-01-24 04:46:59             1.0        1.0\n",
       "14632522_out          62098 2012-01-24 04:48:59            -1.0        0.0\n",
       "14573122_in           58629 2012-01-24 04:57:07             1.0        1.0\n",
       "14560060_in           13509 2012-01-24 04:59:59             1.0        1.0\n",
       "14559128_in           35417 2012-01-24 05:01:59             1.0        1.0\n",
       "14575901_in           36813 2012-01-24 05:02:59             1.0        1.0\n",
       "14584793_out          30101 2012-01-24 05:13:59            -1.0        0.0\n",
       "14581187_in           59042 2012-01-24 05:14:52             1.0        1.0\n",
       "14558636_in           59041 2012-01-24 05:18:24             1.0        1.0\n",
       "14595384_in           10874 2012-01-24 05:19:49             1.0        1.0"
      ]
     },
     "execution_count": 74,
     "metadata": {},
     "output_type": "execute_result"
    }
   ],
   "source": [
    "full_transactions.head(50)"
   ]
  },
  {
   "cell_type": "code",
   "execution_count": 75,
   "metadata": {
    "ExecuteTime": {
     "end_time": "2018-07-03T17:41:31.492778Z",
     "start_time": "2018-07-03T17:40:55.803154Z"
    }
   },
   "outputs": [],
   "source": [
    "full_transactions.to_csv(os.path.join(ct.PROCESSED_DATA, 'full_transactional_data_2012.csv'))"
   ]
  },
  {
   "cell_type": "markdown",
   "metadata": {},
   "source": [
    "### Representamos algún parquímetro y EDA ocupacional"
   ]
  },
  {
   "cell_type": "code",
   "execution_count": 76,
   "metadata": {
    "ExecuteTime": {
     "end_time": "2018-07-03T17:41:33.630177Z",
     "start_time": "2018-07-03T17:41:31.495048Z"
    }
   },
   "outputs": [
    {
     "data": {
      "image/png": "[encoded data removed]",
      "text/plain": [
       "<Figure size 1440x720 with 1 Axes>"
      ]
     },
     "metadata": {},
     "output_type": "display_data"
    }
   ],
   "source": [
    "full_transactions.loc[full_transactions.element_key == 57194].ocupation.plot(figsize=(20, 10));"
   ]
  },
  {
   "cell_type": "code",
   "execution_count": 77,
   "metadata": {
    "ExecuteTime": {
     "end_time": "2018-07-03T17:41:36.766291Z",
     "start_time": "2018-07-03T17:41:33.631369Z"
    }
   },
   "outputs": [
    {
     "data": {
      "text/html": [
       "<div>\n",
       "<style scoped>\n",
       "    .dataframe tbody tr th:only-of-type {\n",
       "        vertical-align: middle;\n",
       "    }\n",
       "\n",
       "    .dataframe tbody tr th {\n",
       "        vertical-align: top;\n",
       "    }\n",
       "\n",
       "    .dataframe thead th {\n",
       "        text-align: right;\n",
       "    }\n",
       "</style>\n",
       "<table border=\"1\" class=\"dataframe\">\n",
       "  <thead>\n",
       "    <tr style=\"text-align: right;\">\n",
       "      <th></th>\n",
       "      <th>count</th>\n",
       "      <th>mean</th>\n",
       "      <th>std</th>\n",
       "      <th>min</th>\n",
       "      <th>25%</th>\n",
       "      <th>50%</th>\n",
       "      <th>75%</th>\n",
       "      <th>max</th>\n",
       "    </tr>\n",
       "    <tr>\n",
       "      <th>element_key</th>\n",
       "      <th></th>\n",
       "      <th></th>\n",
       "      <th></th>\n",
       "      <th></th>\n",
       "      <th></th>\n",
       "      <th></th>\n",
       "      <th></th>\n",
       "      <th></th>\n",
       "    </tr>\n",
       "  </thead>\n",
       "  <tbody>\n",
       "    <tr>\n",
       "      <th>35845</th>\n",
       "      <td>38977.0</td>\n",
       "      <td>11.919106</td>\n",
       "      <td>4.198996</td>\n",
       "      <td>0.0</td>\n",
       "      <td>10.0</td>\n",
       "      <td>13.0</td>\n",
       "      <td>15.0</td>\n",
       "      <td>25.0</td>\n",
       "    </tr>\n",
       "    <tr>\n",
       "      <th>1234</th>\n",
       "      <td>38090.0</td>\n",
       "      <td>17.866763</td>\n",
       "      <td>5.798888</td>\n",
       "      <td>0.0</td>\n",
       "      <td>15.0</td>\n",
       "      <td>19.0</td>\n",
       "      <td>22.0</td>\n",
       "      <td>37.0</td>\n",
       "    </tr>\n",
       "    <tr>\n",
       "      <th>13213</th>\n",
       "      <td>37411.0</td>\n",
       "      <td>12.340354</td>\n",
       "      <td>4.253329</td>\n",
       "      <td>0.0</td>\n",
       "      <td>10.0</td>\n",
       "      <td>13.0</td>\n",
       "      <td>15.0</td>\n",
       "      <td>25.0</td>\n",
       "    </tr>\n",
       "    <tr>\n",
       "      <th>35850</th>\n",
       "      <td>34616.0</td>\n",
       "      <td>11.921279</td>\n",
       "      <td>4.792359</td>\n",
       "      <td>0.0</td>\n",
       "      <td>9.0</td>\n",
       "      <td>12.0</td>\n",
       "      <td>15.0</td>\n",
       "      <td>28.0</td>\n",
       "    </tr>\n",
       "    <tr>\n",
       "      <th>35846</th>\n",
       "      <td>33051.0</td>\n",
       "      <td>10.494448</td>\n",
       "      <td>3.866688</td>\n",
       "      <td>0.0</td>\n",
       "      <td>8.0</td>\n",
       "      <td>11.0</td>\n",
       "      <td>13.0</td>\n",
       "      <td>25.0</td>\n",
       "    </tr>\n",
       "    <tr>\n",
       "      <th>54737</th>\n",
       "      <td>31708.0</td>\n",
       "      <td>9.528289</td>\n",
       "      <td>4.099396</td>\n",
       "      <td>0.0</td>\n",
       "      <td>7.0</td>\n",
       "      <td>10.0</td>\n",
       "      <td>12.0</td>\n",
       "      <td>23.0</td>\n",
       "    </tr>\n",
       "    <tr>\n",
       "      <th>63125</th>\n",
       "      <td>28493.0</td>\n",
       "      <td>17.531604</td>\n",
       "      <td>8.905948</td>\n",
       "      <td>0.0</td>\n",
       "      <td>11.0</td>\n",
       "      <td>18.0</td>\n",
       "      <td>24.0</td>\n",
       "      <td>44.0</td>\n",
       "    </tr>\n",
       "    <tr>\n",
       "      <th>24406</th>\n",
       "      <td>27755.0</td>\n",
       "      <td>10.874797</td>\n",
       "      <td>5.100023</td>\n",
       "      <td>0.0</td>\n",
       "      <td>7.0</td>\n",
       "      <td>10.0</td>\n",
       "      <td>14.0</td>\n",
       "      <td>32.0</td>\n",
       "    </tr>\n",
       "    <tr>\n",
       "      <th>1233</th>\n",
       "      <td>25683.0</td>\n",
       "      <td>10.217498</td>\n",
       "      <td>3.743952</td>\n",
       "      <td>0.0</td>\n",
       "      <td>8.0</td>\n",
       "      <td>10.0</td>\n",
       "      <td>13.0</td>\n",
       "      <td>24.0</td>\n",
       "    </tr>\n",
       "    <tr>\n",
       "      <th>24405</th>\n",
       "      <td>25629.0</td>\n",
       "      <td>10.455109</td>\n",
       "      <td>4.827287</td>\n",
       "      <td>0.0</td>\n",
       "      <td>7.0</td>\n",
       "      <td>10.0</td>\n",
       "      <td>14.0</td>\n",
       "      <td>32.0</td>\n",
       "    </tr>\n",
       "    <tr>\n",
       "      <th>94732</th>\n",
       "      <td>25387.0</td>\n",
       "      <td>23.743294</td>\n",
       "      <td>14.249839</td>\n",
       "      <td>0.0</td>\n",
       "      <td>12.0</td>\n",
       "      <td>22.0</td>\n",
       "      <td>36.0</td>\n",
       "      <td>61.0</td>\n",
       "    </tr>\n",
       "    <tr>\n",
       "      <th>30698</th>\n",
       "      <td>25125.0</td>\n",
       "      <td>9.179065</td>\n",
       "      <td>3.554281</td>\n",
       "      <td>0.0</td>\n",
       "      <td>7.0</td>\n",
       "      <td>9.0</td>\n",
       "      <td>12.0</td>\n",
       "      <td>21.0</td>\n",
       "    </tr>\n",
       "    <tr>\n",
       "      <th>32266</th>\n",
       "      <td>25030.0</td>\n",
       "      <td>6.458730</td>\n",
       "      <td>2.783050</td>\n",
       "      <td>0.0</td>\n",
       "      <td>5.0</td>\n",
       "      <td>7.0</td>\n",
       "      <td>8.0</td>\n",
       "      <td>17.0</td>\n",
       "    </tr>\n",
       "    <tr>\n",
       "      <th>81210</th>\n",
       "      <td>24317.0</td>\n",
       "      <td>6.866924</td>\n",
       "      <td>2.790068</td>\n",
       "      <td>0.0</td>\n",
       "      <td>5.0</td>\n",
       "      <td>7.0</td>\n",
       "      <td>9.0</td>\n",
       "      <td>17.0</td>\n",
       "    </tr>\n",
       "    <tr>\n",
       "      <th>69489</th>\n",
       "      <td>23699.0</td>\n",
       "      <td>9.461243</td>\n",
       "      <td>4.278628</td>\n",
       "      <td>0.0</td>\n",
       "      <td>6.0</td>\n",
       "      <td>9.0</td>\n",
       "      <td>12.0</td>\n",
       "      <td>26.0</td>\n",
       "    </tr>\n",
       "    <tr>\n",
       "      <th>13793</th>\n",
       "      <td>23377.0</td>\n",
       "      <td>8.960003</td>\n",
       "      <td>3.585131</td>\n",
       "      <td>0.0</td>\n",
       "      <td>7.0</td>\n",
       "      <td>9.0</td>\n",
       "      <td>11.0</td>\n",
       "      <td>22.0</td>\n",
       "    </tr>\n",
       "    <tr>\n",
       "      <th>13214</th>\n",
       "      <td>23292.0</td>\n",
       "      <td>7.384724</td>\n",
       "      <td>3.043256</td>\n",
       "      <td>0.0</td>\n",
       "      <td>5.0</td>\n",
       "      <td>8.0</td>\n",
       "      <td>9.0</td>\n",
       "      <td>21.0</td>\n",
       "    </tr>\n",
       "    <tr>\n",
       "      <th>58806</th>\n",
       "      <td>23206.0</td>\n",
       "      <td>10.046928</td>\n",
       "      <td>3.755257</td>\n",
       "      <td>0.0</td>\n",
       "      <td>8.0</td>\n",
       "      <td>10.0</td>\n",
       "      <td>13.0</td>\n",
       "      <td>24.0</td>\n",
       "    </tr>\n",
       "    <tr>\n",
       "      <th>24417</th>\n",
       "      <td>22983.0</td>\n",
       "      <td>13.897576</td>\n",
       "      <td>6.756281</td>\n",
       "      <td>0.0</td>\n",
       "      <td>9.0</td>\n",
       "      <td>14.0</td>\n",
       "      <td>19.0</td>\n",
       "      <td>31.0</td>\n",
       "    </tr>\n",
       "    <tr>\n",
       "      <th>54733</th>\n",
       "      <td>21591.0</td>\n",
       "      <td>6.444908</td>\n",
       "      <td>3.066412</td>\n",
       "      <td>0.0</td>\n",
       "      <td>4.0</td>\n",
       "      <td>7.0</td>\n",
       "      <td>8.0</td>\n",
       "      <td>21.0</td>\n",
       "    </tr>\n",
       "    <tr>\n",
       "      <th>94677</th>\n",
       "      <td>21487.0</td>\n",
       "      <td>13.124215</td>\n",
       "      <td>5.360631</td>\n",
       "      <td>0.0</td>\n",
       "      <td>10.0</td>\n",
       "      <td>14.0</td>\n",
       "      <td>17.0</td>\n",
       "      <td>26.0</td>\n",
       "    </tr>\n",
       "    <tr>\n",
       "      <th>80833</th>\n",
       "      <td>21466.0</td>\n",
       "      <td>8.668872</td>\n",
       "      <td>3.475650</td>\n",
       "      <td>0.0</td>\n",
       "      <td>6.0</td>\n",
       "      <td>9.0</td>\n",
       "      <td>11.0</td>\n",
       "      <td>20.0</td>\n",
       "    </tr>\n",
       "    <tr>\n",
       "      <th>79741</th>\n",
       "      <td>21371.0</td>\n",
       "      <td>8.294371</td>\n",
       "      <td>3.164786</td>\n",
       "      <td>0.0</td>\n",
       "      <td>6.0</td>\n",
       "      <td>9.0</td>\n",
       "      <td>10.0</td>\n",
       "      <td>21.0</td>\n",
       "    </tr>\n",
       "    <tr>\n",
       "      <th>9469</th>\n",
       "      <td>21313.0</td>\n",
       "      <td>3.991320</td>\n",
       "      <td>2.233290</td>\n",
       "      <td>0.0</td>\n",
       "      <td>2.0</td>\n",
       "      <td>4.0</td>\n",
       "      <td>5.0</td>\n",
       "      <td>18.0</td>\n",
       "    </tr>\n",
       "    <tr>\n",
       "      <th>9353</th>\n",
       "      <td>21240.0</td>\n",
       "      <td>11.368691</td>\n",
       "      <td>4.258203</td>\n",
       "      <td>0.0</td>\n",
       "      <td>9.0</td>\n",
       "      <td>12.0</td>\n",
       "      <td>14.0</td>\n",
       "      <td>23.0</td>\n",
       "    </tr>\n",
       "    <tr>\n",
       "      <th>77390</th>\n",
       "      <td>21101.0</td>\n",
       "      <td>8.900289</td>\n",
       "      <td>4.350836</td>\n",
       "      <td>0.0</td>\n",
       "      <td>6.0</td>\n",
       "      <td>9.0</td>\n",
       "      <td>12.0</td>\n",
       "      <td>24.0</td>\n",
       "    </tr>\n",
       "    <tr>\n",
       "      <th>34214</th>\n",
       "      <td>20866.0</td>\n",
       "      <td>7.000335</td>\n",
       "      <td>2.882265</td>\n",
       "      <td>0.0</td>\n",
       "      <td>5.0</td>\n",
       "      <td>7.0</td>\n",
       "      <td>9.0</td>\n",
       "      <td>17.0</td>\n",
       "    </tr>\n",
       "    <tr>\n",
       "      <th>75865</th>\n",
       "      <td>20833.0</td>\n",
       "      <td>6.481592</td>\n",
       "      <td>2.729951</td>\n",
       "      <td>0.0</td>\n",
       "      <td>5.0</td>\n",
       "      <td>7.0</td>\n",
       "      <td>8.0</td>\n",
       "      <td>18.0</td>\n",
       "    </tr>\n",
       "    <tr>\n",
       "      <th>79742</th>\n",
       "      <td>20722.0</td>\n",
       "      <td>7.451453</td>\n",
       "      <td>3.504171</td>\n",
       "      <td>0.0</td>\n",
       "      <td>5.0</td>\n",
       "      <td>7.0</td>\n",
       "      <td>9.0</td>\n",
       "      <td>26.0</td>\n",
       "    </tr>\n",
       "    <tr>\n",
       "      <th>63126</th>\n",
       "      <td>20477.0</td>\n",
       "      <td>10.976608</td>\n",
       "      <td>5.248921</td>\n",
       "      <td>0.0</td>\n",
       "      <td>7.0</td>\n",
       "      <td>11.0</td>\n",
       "      <td>15.0</td>\n",
       "      <td>31.0</td>\n",
       "    </tr>\n",
       "  </tbody>\n",
       "</table>\n",
       "</div>"
      ],
      "text/plain": [
       "               count       mean        std  min   25%   50%   75%   max\n",
       "element_key                                                            \n",
       "35845        38977.0  11.919106   4.198996  0.0  10.0  13.0  15.0  25.0\n",
       "1234         38090.0  17.866763   5.798888  0.0  15.0  19.0  22.0  37.0\n",
       "13213        37411.0  12.340354   4.253329  0.0  10.0  13.0  15.0  25.0\n",
       "35850        34616.0  11.921279   4.792359  0.0   9.0  12.0  15.0  28.0\n",
       "35846        33051.0  10.494448   3.866688  0.0   8.0  11.0  13.0  25.0\n",
       "54737        31708.0   9.528289   4.099396  0.0   7.0  10.0  12.0  23.0\n",
       "63125        28493.0  17.531604   8.905948  0.0  11.0  18.0  24.0  44.0\n",
       "24406        27755.0  10.874797   5.100023  0.0   7.0  10.0  14.0  32.0\n",
       "1233         25683.0  10.217498   3.743952  0.0   8.0  10.0  13.0  24.0\n",
       "24405        25629.0  10.455109   4.827287  0.0   7.0  10.0  14.0  32.0\n",
       "94732        25387.0  23.743294  14.249839  0.0  12.0  22.0  36.0  61.0\n",
       "30698        25125.0   9.179065   3.554281  0.0   7.0   9.0  12.0  21.0\n",
       "32266        25030.0   6.458730   2.783050  0.0   5.0   7.0   8.0  17.0\n",
       "81210        24317.0   6.866924   2.790068  0.0   5.0   7.0   9.0  17.0\n",
       "69489        23699.0   9.461243   4.278628  0.0   6.0   9.0  12.0  26.0\n",
       "13793        23377.0   8.960003   3.585131  0.0   7.0   9.0  11.0  22.0\n",
       "13214        23292.0   7.384724   3.043256  0.0   5.0   8.0   9.0  21.0\n",
       "58806        23206.0  10.046928   3.755257  0.0   8.0  10.0  13.0  24.0\n",
       "24417        22983.0  13.897576   6.756281  0.0   9.0  14.0  19.0  31.0\n",
       "54733        21591.0   6.444908   3.066412  0.0   4.0   7.0   8.0  21.0\n",
       "94677        21487.0  13.124215   5.360631  0.0  10.0  14.0  17.0  26.0\n",
       "80833        21466.0   8.668872   3.475650  0.0   6.0   9.0  11.0  20.0\n",
       "79741        21371.0   8.294371   3.164786  0.0   6.0   9.0  10.0  21.0\n",
       "9469         21313.0   3.991320   2.233290  0.0   2.0   4.0   5.0  18.0\n",
       "9353         21240.0  11.368691   4.258203  0.0   9.0  12.0  14.0  23.0\n",
       "77390        21101.0   8.900289   4.350836  0.0   6.0   9.0  12.0  24.0\n",
       "34214        20866.0   7.000335   2.882265  0.0   5.0   7.0   9.0  17.0\n",
       "75865        20833.0   6.481592   2.729951  0.0   5.0   7.0   8.0  18.0\n",
       "79742        20722.0   7.451453   3.504171  0.0   5.0   7.0   9.0  26.0\n",
       "63126        20477.0  10.976608   5.248921  0.0   7.0  11.0  15.0  31.0"
      ]
     },
     "execution_count": 77,
     "metadata": {},
     "output_type": "execute_result"
    }
   ],
   "source": [
    "ocupation_stats = full_transactions.groupby('element_key').ocupation.describe().sort_values(by='count', ascending=False)\n",
    "ocupation_stats.head(30)"
   ]
  },
  {
   "cell_type": "code",
   "execution_count": 78,
   "metadata": {
    "ExecuteTime": {
     "end_time": "2018-07-03T17:41:36.857289Z",
     "start_time": "2018-07-03T17:41:36.767752Z"
    }
   },
   "outputs": [
    {
     "data": {
      "text/plain": [
       "<matplotlib.axes._subplots.AxesSubplot at 0x7fae32656358>"
      ]
     },
     "execution_count": 78,
     "metadata": {},
     "output_type": "execute_result"
    },
    {
     "data": {
      "image/png": "[encoded data removed]",
      "text/plain": [
       "<Figure size 432x288 with 1 Axes>"
      ]
     },
     "metadata": {},
     "output_type": "display_data"
    }
   ],
   "source": [
    "sns.boxplot(ocupation_stats['max'])"
   ]
  },
  {
   "cell_type": "code",
   "execution_count": 79,
   "metadata": {
    "ExecuteTime": {
     "end_time": "2018-07-03T17:41:36.863620Z",
     "start_time": "2018-07-03T17:41:36.858696Z"
    }
   },
   "outputs": [
    {
     "data": {
      "text/plain": [
       "0.00     2.0\n",
       "0.05     5.0\n",
       "0.10     6.0\n",
       "0.15     7.0\n",
       "0.20     7.0\n",
       "0.25     8.0\n",
       "0.30     9.0\n",
       "0.35     9.0\n",
       "0.40    10.0\n",
       "0.45    11.0\n",
       "0.50    11.0\n",
       "0.55    12.0\n",
       "0.60    12.0\n",
       "0.65    13.0\n",
       "0.70    14.0\n",
       "0.75    15.0\n",
       "0.80    16.0\n",
       "0.85    18.0\n",
       "0.90    20.0\n",
       "0.95    24.0\n",
       "1.00    70.0\n",
       "Name: max, dtype: float64"
      ]
     },
     "execution_count": 79,
     "metadata": {},
     "output_type": "execute_result"
    }
   ],
   "source": [
    "ocupation_stats['max'].quantile(np.linspace(0, 1, 21))"
   ]
  },
  {
   "cell_type": "markdown",
   "metadata": {},
   "source": [
    "Ocupación a través de las horas del día:"
   ]
  },
  {
   "cell_type": "code",
   "execution_count": 80,
   "metadata": {
    "ExecuteTime": {
     "end_time": "2018-07-03T17:42:09.642030Z",
     "start_time": "2018-07-03T17:41:36.864995Z"
    }
   },
   "outputs": [],
   "source": [
    "full_transactions['hour'] = full_transactions.timestamp.dt.hour\n",
    "ocupation_by_hour_key = full_transactions.groupby(['element_key', 'hour']).ocupation.describe()"
   ]
  },
  {
   "cell_type": "code",
   "execution_count": 81,
   "metadata": {
    "ExecuteTime": {
     "end_time": "2018-07-03T17:42:09.652984Z",
     "start_time": "2018-07-03T17:42:09.643167Z"
    }
   },
   "outputs": [
    {
     "data": {
      "text/html": [
       "<div>\n",
       "<style scoped>\n",
       "    .dataframe tbody tr th:only-of-type {\n",
       "        vertical-align: middle;\n",
       "    }\n",
       "\n",
       "    .dataframe tbody tr th {\n",
       "        vertical-align: top;\n",
       "    }\n",
       "\n",
       "    .dataframe thead th {\n",
       "        text-align: right;\n",
       "    }\n",
       "</style>\n",
       "<table border=\"1\" class=\"dataframe\">\n",
       "  <thead>\n",
       "    <tr style=\"text-align: right;\">\n",
       "      <th></th>\n",
       "      <th></th>\n",
       "      <th>count</th>\n",
       "      <th>mean</th>\n",
       "      <th>std</th>\n",
       "      <th>min</th>\n",
       "      <th>25%</th>\n",
       "      <th>50%</th>\n",
       "      <th>75%</th>\n",
       "      <th>max</th>\n",
       "    </tr>\n",
       "    <tr>\n",
       "      <th>element_key</th>\n",
       "      <th>hour</th>\n",
       "      <th></th>\n",
       "      <th></th>\n",
       "      <th></th>\n",
       "      <th></th>\n",
       "      <th></th>\n",
       "      <th></th>\n",
       "      <th></th>\n",
       "      <th></th>\n",
       "    </tr>\n",
       "  </thead>\n",
       "  <tbody>\n",
       "    <tr>\n",
       "      <th rowspan=\"5\" valign=\"top\">1001</th>\n",
       "      <th>0</th>\n",
       "      <td>1.0</td>\n",
       "      <td>0.000000</td>\n",
       "      <td>NaN</td>\n",
       "      <td>0.0</td>\n",
       "      <td>0.0</td>\n",
       "      <td>0.0</td>\n",
       "      <td>0.0</td>\n",
       "      <td>0.0</td>\n",
       "    </tr>\n",
       "    <tr>\n",
       "      <th>7</th>\n",
       "      <td>2.0</td>\n",
       "      <td>1.000000</td>\n",
       "      <td>0.000000</td>\n",
       "      <td>1.0</td>\n",
       "      <td>1.0</td>\n",
       "      <td>1.0</td>\n",
       "      <td>1.0</td>\n",
       "      <td>1.0</td>\n",
       "    </tr>\n",
       "    <tr>\n",
       "      <th>8</th>\n",
       "      <td>6.0</td>\n",
       "      <td>1.000000</td>\n",
       "      <td>0.632456</td>\n",
       "      <td>0.0</td>\n",
       "      <td>1.0</td>\n",
       "      <td>1.0</td>\n",
       "      <td>1.0</td>\n",
       "      <td>2.0</td>\n",
       "    </tr>\n",
       "    <tr>\n",
       "      <th>9</th>\n",
       "      <td>164.0</td>\n",
       "      <td>1.640244</td>\n",
       "      <td>0.971288</td>\n",
       "      <td>0.0</td>\n",
       "      <td>1.0</td>\n",
       "      <td>1.0</td>\n",
       "      <td>2.0</td>\n",
       "      <td>5.0</td>\n",
       "    </tr>\n",
       "    <tr>\n",
       "      <th>10</th>\n",
       "      <td>274.0</td>\n",
       "      <td>2.357664</td>\n",
       "      <td>1.486137</td>\n",
       "      <td>0.0</td>\n",
       "      <td>1.0</td>\n",
       "      <td>2.0</td>\n",
       "      <td>3.0</td>\n",
       "      <td>7.0</td>\n",
       "    </tr>\n",
       "  </tbody>\n",
       "</table>\n",
       "</div>"
      ],
      "text/plain": [
       "                  count      mean       std  min  25%  50%  75%  max\n",
       "element_key hour                                                    \n",
       "1001        0       1.0  0.000000       NaN  0.0  0.0  0.0  0.0  0.0\n",
       "            7       2.0  1.000000  0.000000  1.0  1.0  1.0  1.0  1.0\n",
       "            8       6.0  1.000000  0.632456  0.0  1.0  1.0  1.0  2.0\n",
       "            9     164.0  1.640244  0.971288  0.0  1.0  1.0  2.0  5.0\n",
       "            10    274.0  2.357664  1.486137  0.0  1.0  2.0  3.0  7.0"
      ]
     },
     "execution_count": 81,
     "metadata": {},
     "output_type": "execute_result"
    }
   ],
   "source": [
    "ocupation_by_hour_key.head()"
   ]
  },
  {
   "cell_type": "markdown",
   "metadata": {},
   "source": [
    "Realizamos gráficas:\n",
    "\n",
    "- Agrupando primero por parquímetro y pintando media de ocupación por hora\n",
    "- Agrupando primero por hora y una gráfica de la media de todos los parquímetros"
   ]
  },
  {
   "cell_type": "markdown",
   "metadata": {},
   "source": [
    "### Frecuencia media de actualización de ocupación\n",
    "\n",
    "La calculamos en minutos"
   ]
  },
  {
   "cell_type": "code",
   "execution_count": 82,
   "metadata": {
    "ExecuteTime": {
     "end_time": "2018-07-03T17:42:11.247223Z",
     "start_time": "2018-07-03T17:42:09.654288Z"
    }
   },
   "outputs": [],
   "source": [
    "update_frequency = full_transactions.groupby('element_key').timestamp.agg(lambda series: series.diff().mean().seconds / 60.0)"
   ]
  },
  {
   "cell_type": "code",
   "execution_count": 83,
   "metadata": {
    "ExecuteTime": {
     "end_time": "2018-07-03T17:42:11.252141Z",
     "start_time": "2018-07-03T17:42:11.248434Z"
    }
   },
   "outputs": [
    {
     "data": {
      "text/plain": [
       "element_key\n",
       "1001    193.900000\n",
       "1002     98.533333\n",
       "1005    115.716667\n",
       "1006     85.550000\n",
       "1009    138.983333\n",
       "Name: timestamp, dtype: float64"
      ]
     },
     "execution_count": 83,
     "metadata": {},
     "output_type": "execute_result"
    }
   ],
   "source": [
    "update_frequency.head()"
   ]
  },
  {
   "cell_type": "code",
   "execution_count": 84,
   "metadata": {
    "ExecuteTime": {
     "end_time": "2018-07-03T17:42:11.259278Z",
     "start_time": "2018-07-03T17:42:11.253527Z"
    }
   },
   "outputs": [
    {
     "data": {
      "text/plain": [
       "0.00      12.650000\n",
       "0.05      29.706667\n",
       "0.10      36.553333\n",
       "0.15      41.676667\n",
       "0.20      48.246667\n",
       "0.25      53.050000\n",
       "0.30      59.290000\n",
       "0.35      65.010000\n",
       "0.40      72.350000\n",
       "0.45      79.733333\n",
       "0.50      87.066667\n",
       "0.55      95.703333\n",
       "0.60     105.546667\n",
       "0.65     117.833333\n",
       "0.70     134.143333\n",
       "0.75     154.950000\n",
       "0.80     178.090000\n",
       "0.85     230.310000\n",
       "0.90     313.526667\n",
       "0.95     535.146667\n",
       "1.00    1422.766667\n",
       "Name: timestamp, dtype: float64"
      ]
     },
     "execution_count": 84,
     "metadata": {},
     "output_type": "execute_result"
    }
   ],
   "source": [
    "update_frequency.quantile(np.linspace(0, 1, 21))"
   ]
  },
  {
   "cell_type": "markdown",
   "metadata": {},
   "source": [
    "Hay series que tienen frecuencias realmente bajas"
   ]
  },
  {
   "cell_type": "markdown",
   "metadata": {},
   "source": [
    "### Construímos la serie de ocupación agregada\n",
    "\n",
    "Hay que ver cómo agregar por time deltas de 10 minutos o 30 minutos la serie temporal, viendo que hay bastante pocas actualizaciones en muchas de las series, igual el delta debería ser mayor.\n",
    "\n",
    "Otra opción es trabajar con una librería que admita series irregularmente espaciadas."
   ]
  }
 ],
 "metadata": {
  "hide_input": false,
  "kernelspec": {
   "display_name": "Python 3",
   "language": "python",
   "name": "python3"
  },
  "language_info": {
   "codemirror_mode": {
    "name": "ipython",
    "version": 3
   },
   "file_extension": ".py",
   "mimetype": "text/x-python",
   "name": "python",
   "nbconvert_exporter": "python",
   "pygments_lexer": "ipython3",
   "version": "3.6.5"
  },
  "toc": {
   "colors": {
    "hover_highlight": "#DAA520",
    "navigate_num": "#000000",
    "navigate_text": "#333333",
    "running_highlight": "#FF0000",
    "selected_highlight": "#FFD700",
    "sidebar_border": "#EEEEEE",
    "wrapper_background": "#FFFFFF"
   },
   "moveMenuLeft": true,
   "nav_menu": {
    "height": "200px",
    "width": "254px"
   },
   "navigate_menu": true,
   "number_sections": true,
   "sideBar": true,
   "threshold": 4,
   "toc_cell": true,
   "toc_section_display": "block",
   "toc_window_display": false,
   "widenNotebook": false
  }
 },
 "nbformat": 4,
 "nbformat_minor": 2
}
