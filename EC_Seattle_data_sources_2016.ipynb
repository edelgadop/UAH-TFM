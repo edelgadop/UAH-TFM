{
 "cells": [
  {
   "cell_type": "markdown",
   "metadata": {
    "toc": "true"
   },
   "source": [
    "# Table of Contents\n",
    "<p>\n",
    "<div class=\"lev1 toc-item\">\n",
    "    <a href=\"#Cargamos-transacciones-de-2016\" data-toc-modified-id=\"Cargamos-transacciones-de-2016\">\n",
    "        <span class=\"toc-item-num\">1&nbsp;&nbsp;</span>\n",
    "        Cargamos transacciones de 2016</a></div>\n",
    "\n",
    "<div class=\"lev2 toc-item\">\n",
    "    <a href=\"#Limpieza-de-transacciones\" data-toc-modified-id=\"Limpieza-de-transacciones\">\n",
    "    <span class=\"toc-item-num\">1.1&nbsp;&nbsp;</span>\n",
    "    Limpieza de transacciones</a></div>\n",
    "\n",
    "<div class=\"lev1 toc-item\">\n",
    "    <a href=\"#Cargamos-datos-de-ubicación-geográfica\" data-toc-modified-id=\"Cargamos-datos-de-ubicación-geográfica\">\n",
    "    <span class=\"toc-item-num\">2&nbsp;&nbsp;</span>\n",
    "    Cargamos datos de ubicación geográfica</a></div>\n",
    "    \n",
    "<div class=\"lev1 toc-item\">\n",
    "    <a href=\"#Cargamos-datos-de-capacidad-de-plazas\" data-toc-modified-id=\"Cargamos-datos-de-capacidad-de-plazas\">\n",
    "    <span class=\"toc-item-num\">3&nbsp;&nbsp;</span>\n",
    "    Cargamos datos de capacidad de plazas</a></div>\n",
    "\n",
    "<div class=\"lev1 toc-item\">\n",
    "    <a href=\"#Relacionamos-transacciones,-ubicaciones-y-capacidad\" data-toc-modified-id=\"Relacionamos-transacciones,-ubicaciones-y-capacidad\">\n",
    "    <span class=\"toc-item-num\">4&nbsp;&nbsp;</span>\n",
    "    Relacionamos transacciones, ubicaciones y capacidad</a></div>\n",
    "          \n",
    "<div class=\"lev1 toc-item\">\n",
    "    <a href=\"#Construimos-la-serie-de-ocupación-por-timestamp\" data-toc-modified-id=\"Construimos-la-serie-de-ocupación-por-timestamp\">\n",
    "    <span class=\"toc-item-num\">5&nbsp;&nbsp;</span>\n",
    "    Construimos la serie de ocupación por timestamp</a></div>\n",
    "    \n",
    "<div class=\"lev1 toc-item\">\n",
    "    <a href=\"#Completamos-la-serie-con-datos-meteorológicos\" data-toc-modified-id=\"Completamos-la-serie-con-datos-meteorológicos\">\n",
    "    <span class=\"toc-item-num\">6&nbsp;&nbsp;</span>\n",
    "    Completamos la serie con datos meteorológicos</a></div>"
   ]
  },
  {
   "cell_type": "code",
   "execution_count": 1,
   "metadata": {
    "ExecuteTime": {
     "end_time": "2018-07-03T17:34:13.558645Z",
     "start_time": "2018-07-03T17:34:12.654286Z"
    }
   },
   "outputs": [],
   "source": [
    "import numpy as np\n",
    "import pandas as pd\n",
    "import os\n",
    "import seaborn as sns\n",
    "% matplotlib inline"
   ]
  },
  {
   "cell_type": "markdown",
   "metadata": {},
   "source": [
    "## Cargamos transacciones de 2016"
   ]
  },
  {
   "cell_type": "code",
   "execution_count": 2,
   "metadata": {},
   "outputs": [],
   "source": [
    "df = pd.read_csv(os.path.join('./data/ParkingTransaction_2016_cleaned.csv'), \n",
    "                           parse_dates=['TransactionDateTime'])"
   ]
  },
  {
   "cell_type": "code",
   "execution_count": 3,
   "metadata": {},
   "outputs": [
    {
     "data": {
      "text/plain": [
       "count                10935395\n",
       "unique                5505469\n",
       "top       2016-04-08 12:03:59\n",
       "freq                       63\n",
       "first     2016-01-01 11:49:15\n",
       "last      2016-12-31 20:00:51\n",
       "Name: TransactionDateTime, dtype: object"
      ]
     },
     "execution_count": 3,
     "metadata": {},
     "output_type": "execute_result"
    }
   ],
   "source": [
    "df['TransactionDateTime'].describe()"
   ]
  },
  {
   "cell_type": "code",
   "execution_count": 3,
   "metadata": {},
   "outputs": [],
   "source": [
    "import re\n",
    "\n",
    "_underscorer1 = re.compile(r'(.)([A-Z][a-z]+)')\n",
    "_underscorer2 = re.compile('([a-z0-9])([A-Z])')\n",
    "\n",
    "def camelToSnake(s):\n",
    "    subbed = _underscorer1.sub(r'\\1_\\2', s)\n",
    "    return _underscorer2.sub(r'\\1_\\2', subbed).lower()"
   ]
  },
  {
   "cell_type": "code",
   "execution_count": 4,
   "metadata": {},
   "outputs": [
    {
     "name": "stdout",
     "output_type": "stream",
     "text": [
      "<class 'pandas.core.frame.DataFrame'>\n",
      "Int64Index: 10935395 entries, 8 to 10912795\n",
      "Data columns (total 12 columns):\n",
      "unnamed: 0               int64\n",
      "transaction_id           int64\n",
      "transaction_date_time    datetime64[ns]\n",
      "transaction_date         datetime64[ns]\n",
      "time_start               object\n",
      "time_expired             object\n",
      "duration_mins            int64\n",
      "amount                   float64\n",
      "payment_mean             object\n",
      "meter_code               int64\n",
      "element_key              int64\n",
      "final_date_time          datetime64[ns]\n",
      "dtypes: datetime64[ns](3), float64(1), int64(5), object(3)\n",
      "memory usage: 2.8 GB\n"
     ]
    }
   ],
   "source": [
    "df.columns = df.columns.map(lambda x: camelToSnake(x))\n",
    "\n",
    "df.transaction_date = pd.to_datetime(df.transaction_date, format=\"%Y-%m-%d\")\n",
    "df.sort_values('transaction_date_time', inplace=True)\n",
    "\n",
    "# creamos nueva columna 'final_date_time'\n",
    "df['final_date_time'] = df.transaction_date_time.add(pd.to_timedelta(df.duration_mins, unit=\"m\"))\n",
    "\n",
    "df.info(memory_usage='deep')"
   ]
  },
  {
   "cell_type": "code",
   "execution_count": 5,
   "metadata": {},
   "outputs": [],
   "source": [
    "df = df.drop(columns=['unnamed: 0','amount','payment_mean','meter_code'])"
   ]
  },
  {
   "cell_type": "code",
   "execution_count": 6,
   "metadata": {},
   "outputs": [
    {
     "data": {
      "text/html": [
       "<div>\n",
       "<style scoped>\n",
       "    .dataframe tbody tr th:only-of-type {\n",
       "        vertical-align: middle;\n",
       "    }\n",
       "\n",
       "    .dataframe tbody tr th {\n",
       "        vertical-align: top;\n",
       "    }\n",
       "\n",
       "    .dataframe thead th {\n",
       "        text-align: right;\n",
       "    }\n",
       "</style>\n",
       "<table border=\"1\" class=\"dataframe\">\n",
       "  <thead>\n",
       "    <tr style=\"text-align: right;\">\n",
       "      <th></th>\n",
       "      <th>transaction_id</th>\n",
       "      <th>transaction_date_time</th>\n",
       "      <th>transaction_date</th>\n",
       "      <th>time_start</th>\n",
       "      <th>time_expired</th>\n",
       "      <th>duration_mins</th>\n",
       "      <th>element_key</th>\n",
       "      <th>final_date_time</th>\n",
       "    </tr>\n",
       "  </thead>\n",
       "  <tbody>\n",
       "    <tr>\n",
       "      <th>8</th>\n",
       "      <td>183506786</td>\n",
       "      <td>2016-01-01 11:49:15</td>\n",
       "      <td>2016-01-01</td>\n",
       "      <td>11:49</td>\n",
       "      <td>11:49</td>\n",
       "      <td>0</td>\n",
       "      <td>54730</td>\n",
       "      <td>2016-01-01 11:49:15</td>\n",
       "    </tr>\n",
       "    <tr>\n",
       "      <th>4</th>\n",
       "      <td>183511748</td>\n",
       "      <td>2016-01-01 12:36:04</td>\n",
       "      <td>2016-01-01</td>\n",
       "      <td>12:36</td>\n",
       "      <td>12:36</td>\n",
       "      <td>0</td>\n",
       "      <td>88773</td>\n",
       "      <td>2016-01-01 12:36:04</td>\n",
       "    </tr>\n",
       "    <tr>\n",
       "      <th>17</th>\n",
       "      <td>183511753</td>\n",
       "      <td>2016-01-01 12:36:08</td>\n",
       "      <td>2016-01-01</td>\n",
       "      <td>12:36</td>\n",
       "      <td>12:36</td>\n",
       "      <td>0</td>\n",
       "      <td>88773</td>\n",
       "      <td>2016-01-01 12:36:08</td>\n",
       "    </tr>\n",
       "    <tr>\n",
       "      <th>15</th>\n",
       "      <td>183529739</td>\n",
       "      <td>2016-01-01 12:40:30</td>\n",
       "      <td>2016-01-01</td>\n",
       "      <td>12:40</td>\n",
       "      <td>12:40</td>\n",
       "      <td>0</td>\n",
       "      <td>57354</td>\n",
       "      <td>2016-01-01 12:40:30</td>\n",
       "    </tr>\n",
       "    <tr>\n",
       "      <th>12</th>\n",
       "      <td>183527118</td>\n",
       "      <td>2016-01-01 14:52:45</td>\n",
       "      <td>2016-01-01</td>\n",
       "      <td>14:52</td>\n",
       "      <td>14:52</td>\n",
       "      <td>0</td>\n",
       "      <td>76102</td>\n",
       "      <td>2016-01-01 14:52:45</td>\n",
       "    </tr>\n",
       "  </tbody>\n",
       "</table>\n",
       "</div>"
      ],
      "text/plain": [
       "    transaction_id transaction_date_time transaction_date time_start  \\\n",
       "8        183506786   2016-01-01 11:49:15       2016-01-01      11:49   \n",
       "4        183511748   2016-01-01 12:36:04       2016-01-01      12:36   \n",
       "17       183511753   2016-01-01 12:36:08       2016-01-01      12:36   \n",
       "15       183529739   2016-01-01 12:40:30       2016-01-01      12:40   \n",
       "12       183527118   2016-01-01 14:52:45       2016-01-01      14:52   \n",
       "\n",
       "   time_expired  duration_mins  element_key     final_date_time  \n",
       "8         11:49              0        54730 2016-01-01 11:49:15  \n",
       "4         12:36              0        88773 2016-01-01 12:36:04  \n",
       "17        12:36              0        88773 2016-01-01 12:36:08  \n",
       "15        12:40              0        57354 2016-01-01 12:40:30  \n",
       "12        14:52              0        76102 2016-01-01 14:52:45  "
      ]
     },
     "execution_count": 6,
     "metadata": {},
     "output_type": "execute_result"
    }
   ],
   "source": [
    "df.head()"
   ]
  },
  {
   "cell_type": "markdown",
   "metadata": {},
   "source": [
    "### Limpieza de transacciones"
   ]
  },
  {
   "cell_type": "code",
   "execution_count": 7,
   "metadata": {},
   "outputs": [
    {
     "data": {
      "text/plain": [
       "0"
      ]
     },
     "execution_count": 7,
     "metadata": {},
     "output_type": "execute_result"
    }
   ],
   "source": [
    "df.transaction_id.duplicated().sum()  # no hay transacciones duplicadas"
   ]
  },
  {
   "cell_type": "code",
   "execution_count": 8,
   "metadata": {},
   "outputs": [
    {
     "data": {
      "text/plain": [
       "transaction_id           0\n",
       "transaction_date_time    0\n",
       "transaction_date         0\n",
       "time_start               0\n",
       "time_expired             0\n",
       "duration_mins            0\n",
       "element_key              0\n",
       "final_date_time          0\n",
       "dtype: int64"
      ]
     },
     "execution_count": 8,
     "metadata": {},
     "output_type": "execute_result"
    }
   ],
   "source": [
    "df.isnull().sum()  # no hay valores nulos"
   ]
  },
  {
   "cell_type": "markdown",
   "metadata": {},
   "source": [
    "#### Duración incorrecta"
   ]
  },
  {
   "cell_type": "code",
   "execution_count": 9,
   "metadata": {},
   "outputs": [
    {
     "data": {
      "text/plain": [
       "9086"
      ]
     },
     "execution_count": 9,
     "metadata": {},
     "output_type": "execute_result"
    }
   ],
   "source": [
    "# Observamos algunas transacciones con duración = 0\n",
    "df.duration_mins.loc[df.duration_mins == 0].count()"
   ]
  },
  {
   "cell_type": "code",
   "execution_count": 10,
   "metadata": {},
   "outputs": [
    {
     "data": {
      "text/plain": [
       "1118"
      ]
     },
     "execution_count": 10,
     "metadata": {},
     "output_type": "execute_result"
    }
   ],
   "source": [
    "# Incluso hay algunas transacciones con duración negativa\n",
    "df.duration_mins.loc[df.duration_mins < 0].count()"
   ]
  },
  {
   "cell_type": "code",
   "execution_count": 13,
   "metadata": {
    "ExecuteTime": {
     "end_time": "2018-07-03T17:34:59.469053Z",
     "start_time": "2018-07-03T17:34:59.411159Z"
    }
   },
   "outputs": [],
   "source": [
    "# Eliminamos ambos casos que suponen menos de un 0.1% del total\n",
    "df = df.loc[df.duration_mins > 0]"
   ]
  },
  {
   "cell_type": "markdown",
   "metadata": {},
   "source": [
    "#### Domingos o festivos"
   ]
  },
  {
   "cell_type": "code",
   "execution_count": 11,
   "metadata": {},
   "outputs": [
    {
     "data": {
      "text/plain": [
       "2762"
      ]
     },
     "execution_count": 11,
     "metadata": {},
     "output_type": "execute_result"
    }
   ],
   "source": [
    "# Observamos algunas transacciones realizadas por error en domingo\n",
    "df.transaction_date_time.loc[df.transaction_date_time.dt.weekday == 6].count()"
   ]
  },
  {
   "cell_type": "code",
   "execution_count": 12,
   "metadata": {},
   "outputs": [],
   "source": [
    "# Las eliminamos también (suponen menos de un 0.03% del total)\n",
    "df = df.loc[df.transaction_date_time.dt.weekday != 6]"
   ]
  },
  {
   "cell_type": "code",
   "execution_count": 13,
   "metadata": {},
   "outputs": [
    {
     "data": {
      "text/plain": [
       "34108"
      ]
     },
     "execution_count": 13,
     "metadata": {},
     "output_type": "execute_result"
    }
   ],
   "source": [
    "# Y observamos transacciones en días festivos\n",
    "import holidays\n",
    "\n",
    "hol = holidays.US(state='WA', years=[2016]).items()\n",
    "hol_dates = []\n",
    "for dat, name in sorted(hol):\n",
    "    hol_dates.append(dat)\n",
    "\n",
    "df.transaction_date.loc[df.transaction_date.isin(hol_dates)].count()"
   ]
  },
  {
   "cell_type": "code",
   "execution_count": 14,
   "metadata": {},
   "outputs": [],
   "source": [
    "# Las eliminamos también (suponen un 0.3% del total)\n",
    "df = df.loc[~df.transaction_date.isin(hol_dates)]"
   ]
  },
  {
   "cell_type": "markdown",
   "metadata": {},
   "source": [
    "#### Horario de funcionamiento de los parquímetros"
   ]
  },
  {
   "cell_type": "code",
   "execution_count": 15,
   "metadata": {},
   "outputs": [
    {
     "data": {
      "text/plain": [
       "70503"
      ]
     },
     "execution_count": 15,
     "metadata": {},
     "output_type": "execute_result"
    }
   ],
   "source": [
    "# Encontramos también transacciones que están fuera del rango horario de uso de los parquímetros (de 8 a 20h)\n",
    "df.element_key.loc[((df.time_start > '20:00') | (df.time_start < '08:00')) & \n",
    "       ((df.time_expired > '20:00') | (df.time_expired < '08:00'))].count()"
   ]
  },
  {
   "cell_type": "code",
   "execution_count": 17,
   "metadata": {},
   "outputs": [],
   "source": [
    "# También las eliminamos, reduciendo el dataset en menos de un 0.7%\n",
    "indexes = df.loc[((df.time_start > '20:00') | (df.time_start < '08:00')) & \n",
    "       ((df.time_expired > '20:00') | (df.time_expired < '08:00'))].index.get_values()\n",
    "df = df.drop(index=indexes, axis = 1)"
   ]
  },
  {
   "cell_type": "code",
   "execution_count": 18,
   "metadata": {},
   "outputs": [
    {
     "data": {
      "text/plain": [
       "(10828022, 8)"
      ]
     },
     "execution_count": 18,
     "metadata": {},
     "output_type": "execute_result"
    }
   ],
   "source": [
    "df.shape  # con la limpieza hemos reducido el tamaño del dataset inicial en casi un 1%."
   ]
  },
  {
   "cell_type": "markdown",
   "metadata": {},
   "source": [
    "## Cargamos datos de ubicación geográfica"
   ]
  },
  {
   "cell_type": "code",
   "execution_count": 21,
   "metadata": {},
   "outputs": [],
   "source": [
    "coord = pd.read_csv(os.path.join('./data/Coord_EK.csv'))"
   ]
  },
  {
   "cell_type": "code",
   "execution_count": 22,
   "metadata": {
    "ExecuteTime": {
     "end_time": "2018-07-03T17:34:59.893643Z",
     "start_time": "2018-07-03T17:34:59.880961Z"
    }
   },
   "outputs": [
    {
     "data": {
      "text/html": [
       "<div>\n",
       "<style scoped>\n",
       "    .dataframe tbody tr th:only-of-type {\n",
       "        vertical-align: middle;\n",
       "    }\n",
       "\n",
       "    .dataframe tbody tr th {\n",
       "        vertical-align: top;\n",
       "    }\n",
       "\n",
       "    .dataframe thead th {\n",
       "        text-align: right;\n",
       "    }\n",
       "</style>\n",
       "<table border=\"1\" class=\"dataframe\">\n",
       "  <thead>\n",
       "    <tr style=\"text-align: right;\">\n",
       "      <th></th>\n",
       "      <th>element_key</th>\n",
       "      <th>latitude</th>\n",
       "      <th>longitude</th>\n",
       "    </tr>\n",
       "  </thead>\n",
       "  <tbody>\n",
       "    <tr>\n",
       "      <th>0</th>\n",
       "      <td>1001</td>\n",
       "      <td>47.602862</td>\n",
       "      <td>-122.334703</td>\n",
       "    </tr>\n",
       "    <tr>\n",
       "      <th>1</th>\n",
       "      <td>1002</td>\n",
       "      <td>47.602997</td>\n",
       "      <td>-122.334538</td>\n",
       "    </tr>\n",
       "    <tr>\n",
       "      <th>2</th>\n",
       "      <td>1005</td>\n",
       "      <td>47.603602</td>\n",
       "      <td>-122.335382</td>\n",
       "    </tr>\n",
       "    <tr>\n",
       "      <th>3</th>\n",
       "      <td>1006</td>\n",
       "      <td>47.603725</td>\n",
       "      <td>-122.335171</td>\n",
       "    </tr>\n",
       "    <tr>\n",
       "      <th>4</th>\n",
       "      <td>1009</td>\n",
       "      <td>47.605010</td>\n",
       "      <td>-122.336669</td>\n",
       "    </tr>\n",
       "  </tbody>\n",
       "</table>\n",
       "</div>"
      ],
      "text/plain": [
       "   element_key   latitude   longitude\n",
       "0         1001  47.602862 -122.334703\n",
       "1         1002  47.602997 -122.334538\n",
       "2         1005  47.603602 -122.335382\n",
       "3         1006  47.603725 -122.335171\n",
       "4         1009  47.605010 -122.336669"
      ]
     },
     "execution_count": 22,
     "metadata": {},
     "output_type": "execute_result"
    }
   ],
   "source": [
    "coord.head()"
   ]
  },
  {
   "cell_type": "code",
   "execution_count": 23,
   "metadata": {},
   "outputs": [
    {
     "data": {
      "text/plain": [
       "0"
      ]
     },
     "execution_count": 23,
     "metadata": {},
     "output_type": "execute_result"
    }
   ],
   "source": [
    "coord.element_key.duplicated().sum()"
   ]
  },
  {
   "cell_type": "markdown",
   "metadata": {},
   "source": [
    "## Cargamos datos de capacidad de plazas"
   ]
  },
  {
   "cell_type": "code",
   "execution_count": 24,
   "metadata": {},
   "outputs": [],
   "source": [
    "blocks = pd.read_csv(os.path.join('./data/Blockface_cleaned.csv'))"
   ]
  },
  {
   "cell_type": "code",
   "execution_count": 25,
   "metadata": {},
   "outputs": [],
   "source": [
    "blocks.columns = blocks.columns.map(lambda x: camelToSnake(x))"
   ]
  },
  {
   "cell_type": "code",
   "execution_count": 26,
   "metadata": {},
   "outputs": [
    {
     "data": {
      "text/html": [
       "<div>\n",
       "<style scoped>\n",
       "    .dataframe tbody tr th:only-of-type {\n",
       "        vertical-align: middle;\n",
       "    }\n",
       "\n",
       "    .dataframe tbody tr th {\n",
       "        vertical-align: top;\n",
       "    }\n",
       "\n",
       "    .dataframe thead th {\n",
       "        text-align: right;\n",
       "    }\n",
       "</style>\n",
       "<table border=\"1\" class=\"dataframe\">\n",
       "  <thead>\n",
       "    <tr style=\"text-align: right;\">\n",
       "      <th></th>\n",
       "      <th>pay_station_blockface_id</th>\n",
       "      <th>element_key</th>\n",
       "      <th>parking_spaces</th>\n",
       "      <th>paid_parking_area</th>\n",
       "      <th>parking_time_limit_category</th>\n",
       "      <th>peak_hour_start1</th>\n",
       "      <th>peak_hour_end1</th>\n",
       "      <th>peak_hour_start2</th>\n",
       "      <th>peak_hour_end2</th>\n",
       "      <th>paid_area_start_time</th>\n",
       "      <th>...</th>\n",
       "      <th>saturday_start1</th>\n",
       "      <th>saturday_end1</th>\n",
       "      <th>saturday_rate2</th>\n",
       "      <th>saturday_start2</th>\n",
       "      <th>saturday_end2</th>\n",
       "      <th>saturday_rate3</th>\n",
       "      <th>saturday_start3</th>\n",
       "      <th>saturday_end3</th>\n",
       "      <th>start_time_saturday</th>\n",
       "      <th>end_time_saturday</th>\n",
       "    </tr>\n",
       "  </thead>\n",
       "  <tbody>\n",
       "    <tr>\n",
       "      <th>469</th>\n",
       "      <td>7576</td>\n",
       "      <td>1001</td>\n",
       "      <td>5.0</td>\n",
       "      <td>Pioneer Square</td>\n",
       "      <td>120.0</td>\n",
       "      <td>06:00:00</td>\n",
       "      <td>09:00:00</td>\n",
       "      <td>15:00:00</td>\n",
       "      <td>18:00:00</td>\n",
       "      <td>08:00:00</td>\n",
       "      <td>...</td>\n",
       "      <td>08:00:00</td>\n",
       "      <td>11:00:00</td>\n",
       "      <td>4.0</td>\n",
       "      <td>11:00:00</td>\n",
       "      <td>18:00:00</td>\n",
       "      <td>NaN</td>\n",
       "      <td>NaN</td>\n",
       "      <td>NaN</td>\n",
       "      <td>08:00:00</td>\n",
       "      <td>18:00:00</td>\n",
       "    </tr>\n",
       "    <tr>\n",
       "      <th>2783</th>\n",
       "      <td>10071</td>\n",
       "      <td>1001</td>\n",
       "      <td>5.0</td>\n",
       "      <td>Pioneer Square</td>\n",
       "      <td>120.0</td>\n",
       "      <td>06:00:00</td>\n",
       "      <td>09:00:00</td>\n",
       "      <td>15:00:00</td>\n",
       "      <td>18:00:00</td>\n",
       "      <td>08:00:00</td>\n",
       "      <td>...</td>\n",
       "      <td>08:00:00</td>\n",
       "      <td>11:00:00</td>\n",
       "      <td>4.5</td>\n",
       "      <td>11:00:00</td>\n",
       "      <td>18:00:00</td>\n",
       "      <td>NaN</td>\n",
       "      <td>NaN</td>\n",
       "      <td>NaN</td>\n",
       "      <td>08:00:00</td>\n",
       "      <td>18:00:00</td>\n",
       "    </tr>\n",
       "    <tr>\n",
       "      <th>3017</th>\n",
       "      <td>10262</td>\n",
       "      <td>1001</td>\n",
       "      <td>4.0</td>\n",
       "      <td>Pioneer Square</td>\n",
       "      <td>120.0</td>\n",
       "      <td>06:00:00</td>\n",
       "      <td>09:00:00</td>\n",
       "      <td>15:00:00</td>\n",
       "      <td>18:00:00</td>\n",
       "      <td>08:00:00</td>\n",
       "      <td>...</td>\n",
       "      <td>08:00:00</td>\n",
       "      <td>11:00:00</td>\n",
       "      <td>4.5</td>\n",
       "      <td>11:00:00</td>\n",
       "      <td>18:00:00</td>\n",
       "      <td>NaN</td>\n",
       "      <td>NaN</td>\n",
       "      <td>NaN</td>\n",
       "      <td>08:00:00</td>\n",
       "      <td>18:00:00</td>\n",
       "    </tr>\n",
       "    <tr>\n",
       "      <th>4648</th>\n",
       "      <td>11976</td>\n",
       "      <td>1001</td>\n",
       "      <td>4.0</td>\n",
       "      <td>NaN</td>\n",
       "      <td>120.0</td>\n",
       "      <td>06:00:00</td>\n",
       "      <td>09:00:00</td>\n",
       "      <td>15:00:00</td>\n",
       "      <td>18:00:00</td>\n",
       "      <td>NaN</td>\n",
       "      <td>...</td>\n",
       "      <td>00:00:00</td>\n",
       "      <td>00:00:00</td>\n",
       "      <td>0.0</td>\n",
       "      <td>00:00:00</td>\n",
       "      <td>00:00:00</td>\n",
       "      <td>0.0</td>\n",
       "      <td>00:00:00</td>\n",
       "      <td>00:00:00</td>\n",
       "      <td>NaN</td>\n",
       "      <td>NaN</td>\n",
       "    </tr>\n",
       "    <tr>\n",
       "      <th>5989</th>\n",
       "      <td>13670</td>\n",
       "      <td>1001</td>\n",
       "      <td>4.0</td>\n",
       "      <td>Pioneer Square</td>\n",
       "      <td>120.0</td>\n",
       "      <td>06:00:00</td>\n",
       "      <td>09:00:00</td>\n",
       "      <td>15:00:00</td>\n",
       "      <td>18:00:00</td>\n",
       "      <td>08:00:00</td>\n",
       "      <td>...</td>\n",
       "      <td>08:00:00</td>\n",
       "      <td>11:00:00</td>\n",
       "      <td>4.5</td>\n",
       "      <td>11:00:00</td>\n",
       "      <td>18:00:00</td>\n",
       "      <td>NaN</td>\n",
       "      <td>NaN</td>\n",
       "      <td>NaN</td>\n",
       "      <td>08:00:00</td>\n",
       "      <td>18:00:00</td>\n",
       "    </tr>\n",
       "    <tr>\n",
       "      <th>6301</th>\n",
       "      <td>14348</td>\n",
       "      <td>1001</td>\n",
       "      <td>5.0</td>\n",
       "      <td>Pioneer Square</td>\n",
       "      <td>120.0</td>\n",
       "      <td>06:00:00</td>\n",
       "      <td>09:00:00</td>\n",
       "      <td>15:00:00</td>\n",
       "      <td>18:00:00</td>\n",
       "      <td>08:00:00</td>\n",
       "      <td>...</td>\n",
       "      <td>08:00:00</td>\n",
       "      <td>11:00:00</td>\n",
       "      <td>5.0</td>\n",
       "      <td>11:00:00</td>\n",
       "      <td>18:00:00</td>\n",
       "      <td>NaN</td>\n",
       "      <td>NaN</td>\n",
       "      <td>NaN</td>\n",
       "      <td>08:00:00</td>\n",
       "      <td>18:00:00</td>\n",
       "    </tr>\n",
       "    <tr>\n",
       "      <th>7077</th>\n",
       "      <td>13939</td>\n",
       "      <td>1001</td>\n",
       "      <td>5.0</td>\n",
       "      <td>Pioneer Square</td>\n",
       "      <td>120.0</td>\n",
       "      <td>06:00:00</td>\n",
       "      <td>09:00:00</td>\n",
       "      <td>15:00:00</td>\n",
       "      <td>18:00:00</td>\n",
       "      <td>08:00:00</td>\n",
       "      <td>...</td>\n",
       "      <td>08:00:00</td>\n",
       "      <td>11:00:00</td>\n",
       "      <td>4.5</td>\n",
       "      <td>11:00:00</td>\n",
       "      <td>18:00:00</td>\n",
       "      <td>NaN</td>\n",
       "      <td>NaN</td>\n",
       "      <td>NaN</td>\n",
       "      <td>08:00:00</td>\n",
       "      <td>18:00:00</td>\n",
       "    </tr>\n",
       "    <tr>\n",
       "      <th>8059</th>\n",
       "      <td>3405</td>\n",
       "      <td>1001</td>\n",
       "      <td>5.0</td>\n",
       "      <td>Pioneer Square</td>\n",
       "      <td>120.0</td>\n",
       "      <td>06:00:00</td>\n",
       "      <td>09:00:00</td>\n",
       "      <td>15:00:00</td>\n",
       "      <td>18:00:00</td>\n",
       "      <td>08:00:00</td>\n",
       "      <td>...</td>\n",
       "      <td>NaN</td>\n",
       "      <td>NaN</td>\n",
       "      <td>NaN</td>\n",
       "      <td>NaN</td>\n",
       "      <td>NaN</td>\n",
       "      <td>NaN</td>\n",
       "      <td>NaN</td>\n",
       "      <td>NaN</td>\n",
       "      <td>NaN</td>\n",
       "      <td>NaN</td>\n",
       "    </tr>\n",
       "    <tr>\n",
       "      <th>10576</th>\n",
       "      <td>1352</td>\n",
       "      <td>1001</td>\n",
       "      <td>7.0</td>\n",
       "      <td>Pioneer Square</td>\n",
       "      <td>120.0</td>\n",
       "      <td>06:00:00</td>\n",
       "      <td>09:00:00</td>\n",
       "      <td>15:00:00</td>\n",
       "      <td>18:00:00</td>\n",
       "      <td>08:00:00</td>\n",
       "      <td>...</td>\n",
       "      <td>NaN</td>\n",
       "      <td>NaN</td>\n",
       "      <td>NaN</td>\n",
       "      <td>NaN</td>\n",
       "      <td>NaN</td>\n",
       "      <td>NaN</td>\n",
       "      <td>NaN</td>\n",
       "      <td>NaN</td>\n",
       "      <td>NaN</td>\n",
       "      <td>NaN</td>\n",
       "    </tr>\n",
       "    <tr>\n",
       "      <th>11332</th>\n",
       "      <td>6046</td>\n",
       "      <td>1001</td>\n",
       "      <td>5.0</td>\n",
       "      <td>Pioneer Square</td>\n",
       "      <td>120.0</td>\n",
       "      <td>06:00:00</td>\n",
       "      <td>09:00:00</td>\n",
       "      <td>15:00:00</td>\n",
       "      <td>18:00:00</td>\n",
       "      <td>08:00:00</td>\n",
       "      <td>...</td>\n",
       "      <td>08:00:00</td>\n",
       "      <td>11:00:00</td>\n",
       "      <td>3.5</td>\n",
       "      <td>11:00:00</td>\n",
       "      <td>18:00:00</td>\n",
       "      <td>NaN</td>\n",
       "      <td>NaN</td>\n",
       "      <td>NaN</td>\n",
       "      <td>08:00:00</td>\n",
       "      <td>18:00:00</td>\n",
       "    </tr>\n",
       "    <tr>\n",
       "      <th>11812</th>\n",
       "      <td>7333</td>\n",
       "      <td>1001</td>\n",
       "      <td>5.0</td>\n",
       "      <td>NaN</td>\n",
       "      <td>120.0</td>\n",
       "      <td>06:00:00</td>\n",
       "      <td>09:00:00</td>\n",
       "      <td>15:00:00</td>\n",
       "      <td>18:00:00</td>\n",
       "      <td>NaN</td>\n",
       "      <td>...</td>\n",
       "      <td>00:00:00</td>\n",
       "      <td>00:00:00</td>\n",
       "      <td>0.0</td>\n",
       "      <td>00:00:00</td>\n",
       "      <td>00:00:00</td>\n",
       "      <td>0.0</td>\n",
       "      <td>00:00:00</td>\n",
       "      <td>00:00:00</td>\n",
       "      <td>NaN</td>\n",
       "      <td>NaN</td>\n",
       "    </tr>\n",
       "    <tr>\n",
       "      <th>12193</th>\n",
       "      <td>7440</td>\n",
       "      <td>1001</td>\n",
       "      <td>5.0</td>\n",
       "      <td>Pioneer Square</td>\n",
       "      <td>120.0</td>\n",
       "      <td>06:00:00</td>\n",
       "      <td>09:00:00</td>\n",
       "      <td>15:00:00</td>\n",
       "      <td>18:00:00</td>\n",
       "      <td>08:00:00</td>\n",
       "      <td>...</td>\n",
       "      <td>08:00:00</td>\n",
       "      <td>11:00:00</td>\n",
       "      <td>3.5</td>\n",
       "      <td>11:00:00</td>\n",
       "      <td>18:00:00</td>\n",
       "      <td>NaN</td>\n",
       "      <td>NaN</td>\n",
       "      <td>NaN</td>\n",
       "      <td>08:00:00</td>\n",
       "      <td>18:00:00</td>\n",
       "    </tr>\n",
       "  </tbody>\n",
       "</table>\n",
       "<p>12 rows × 39 columns</p>\n",
       "</div>"
      ],
      "text/plain": [
       "       pay_station_blockface_id  element_key  parking_spaces  \\\n",
       "469                        7576         1001             5.0   \n",
       "2783                      10071         1001             5.0   \n",
       "3017                      10262         1001             4.0   \n",
       "4648                      11976         1001             4.0   \n",
       "5989                      13670         1001             4.0   \n",
       "6301                      14348         1001             5.0   \n",
       "7077                      13939         1001             5.0   \n",
       "8059                       3405         1001             5.0   \n",
       "10576                      1352         1001             7.0   \n",
       "11332                      6046         1001             5.0   \n",
       "11812                      7333         1001             5.0   \n",
       "12193                      7440         1001             5.0   \n",
       "\n",
       "      paid_parking_area  parking_time_limit_category peak_hour_start1  \\\n",
       "469      Pioneer Square                        120.0         06:00:00   \n",
       "2783     Pioneer Square                        120.0         06:00:00   \n",
       "3017     Pioneer Square                        120.0         06:00:00   \n",
       "4648                NaN                        120.0         06:00:00   \n",
       "5989     Pioneer Square                        120.0         06:00:00   \n",
       "6301     Pioneer Square                        120.0         06:00:00   \n",
       "7077     Pioneer Square                        120.0         06:00:00   \n",
       "8059     Pioneer Square                        120.0         06:00:00   \n",
       "10576    Pioneer Square                        120.0         06:00:00   \n",
       "11332    Pioneer Square                        120.0         06:00:00   \n",
       "11812               NaN                        120.0         06:00:00   \n",
       "12193    Pioneer Square                        120.0         06:00:00   \n",
       "\n",
       "      peak_hour_end1 peak_hour_start2 peak_hour_end2 paid_area_start_time  \\\n",
       "469         09:00:00         15:00:00       18:00:00             08:00:00   \n",
       "2783        09:00:00         15:00:00       18:00:00             08:00:00   \n",
       "3017        09:00:00         15:00:00       18:00:00             08:00:00   \n",
       "4648        09:00:00         15:00:00       18:00:00                  NaN   \n",
       "5989        09:00:00         15:00:00       18:00:00             08:00:00   \n",
       "6301        09:00:00         15:00:00       18:00:00             08:00:00   \n",
       "7077        09:00:00         15:00:00       18:00:00             08:00:00   \n",
       "8059        09:00:00         15:00:00       18:00:00             08:00:00   \n",
       "10576       09:00:00         15:00:00       18:00:00             08:00:00   \n",
       "11332       09:00:00         15:00:00       18:00:00             08:00:00   \n",
       "11812       09:00:00         15:00:00       18:00:00                  NaN   \n",
       "12193       09:00:00         15:00:00       18:00:00             08:00:00   \n",
       "\n",
       "             ...        saturday_start1 saturday_end1 saturday_rate2  \\\n",
       "469          ...               08:00:00      11:00:00            4.0   \n",
       "2783         ...               08:00:00      11:00:00            4.5   \n",
       "3017         ...               08:00:00      11:00:00            4.5   \n",
       "4648         ...               00:00:00      00:00:00            0.0   \n",
       "5989         ...               08:00:00      11:00:00            4.5   \n",
       "6301         ...               08:00:00      11:00:00            5.0   \n",
       "7077         ...               08:00:00      11:00:00            4.5   \n",
       "8059         ...                    NaN           NaN            NaN   \n",
       "10576        ...                    NaN           NaN            NaN   \n",
       "11332        ...               08:00:00      11:00:00            3.5   \n",
       "11812        ...               00:00:00      00:00:00            0.0   \n",
       "12193        ...               08:00:00      11:00:00            3.5   \n",
       "\n",
       "       saturday_start2 saturday_end2  saturday_rate3  saturday_start3  \\\n",
       "469           11:00:00      18:00:00             NaN              NaN   \n",
       "2783          11:00:00      18:00:00             NaN              NaN   \n",
       "3017          11:00:00      18:00:00             NaN              NaN   \n",
       "4648          00:00:00      00:00:00             0.0         00:00:00   \n",
       "5989          11:00:00      18:00:00             NaN              NaN   \n",
       "6301          11:00:00      18:00:00             NaN              NaN   \n",
       "7077          11:00:00      18:00:00             NaN              NaN   \n",
       "8059               NaN           NaN             NaN              NaN   \n",
       "10576              NaN           NaN             NaN              NaN   \n",
       "11332         11:00:00      18:00:00             NaN              NaN   \n",
       "11812         00:00:00      00:00:00             0.0         00:00:00   \n",
       "12193         11:00:00      18:00:00             NaN              NaN   \n",
       "\n",
       "       saturday_end3 start_time_saturday end_time_saturday  \n",
       "469              NaN            08:00:00          18:00:00  \n",
       "2783             NaN            08:00:00          18:00:00  \n",
       "3017             NaN            08:00:00          18:00:00  \n",
       "4648        00:00:00                 NaN               NaN  \n",
       "5989             NaN            08:00:00          18:00:00  \n",
       "6301             NaN            08:00:00          18:00:00  \n",
       "7077             NaN            08:00:00          18:00:00  \n",
       "8059             NaN                 NaN               NaN  \n",
       "10576            NaN                 NaN               NaN  \n",
       "11332            NaN            08:00:00          18:00:00  \n",
       "11812       00:00:00                 NaN               NaN  \n",
       "12193            NaN            08:00:00          18:00:00  \n",
       "\n",
       "[12 rows x 39 columns]"
      ]
     },
     "execution_count": 26,
     "metadata": {},
     "output_type": "execute_result"
    }
   ],
   "source": [
    "blocks[blocks.element_key == 1001]"
   ]
  },
  {
   "cell_type": "markdown",
   "metadata": {},
   "source": [
    "Como hay algunos casos como el anterior donde hay divergencia en la información de plazas asociadas a un mismo element_key, calculamos la media redondeada a un valor entero de los distintos valores existentes."
   ]
  },
  {
   "cell_type": "code",
   "execution_count": 27,
   "metadata": {},
   "outputs": [],
   "source": [
    "park_spaces = blocks.groupby('element_key')['parking_spaces'].mean()"
   ]
  },
  {
   "cell_type": "code",
   "execution_count": 28,
   "metadata": {},
   "outputs": [],
   "source": [
    "park_spaces = park_spaces.reset_index(level=['element_key'])"
   ]
  },
  {
   "cell_type": "code",
   "execution_count": 29,
   "metadata": {},
   "outputs": [
    {
     "data": {
      "text/plain": [
       "141   NaN\n",
       "Name: parking_spaces, dtype: float64"
      ]
     },
     "execution_count": 29,
     "metadata": {},
     "output_type": "execute_result"
    }
   ],
   "source": [
    "park_spaces.parking_spaces.loc[park_spaces.parking_spaces.isnull()]"
   ]
  },
  {
   "cell_type": "code",
   "execution_count": 30,
   "metadata": {},
   "outputs": [],
   "source": [
    "park_spaces = park_spaces.dropna()  # eliminamos un valor nulo"
   ]
  },
  {
   "cell_type": "code",
   "execution_count": 31,
   "metadata": {},
   "outputs": [],
   "source": [
    "park_spaces.parking_spaces = np.rint(park_spaces.parking_spaces).astype(int)"
   ]
  },
  {
   "cell_type": "code",
   "execution_count": 32,
   "metadata": {},
   "outputs": [],
   "source": [
    "# park_spaces.to_csv('./data/Parking_Spaces.csv', index=False)"
   ]
  },
  {
   "cell_type": "code",
   "execution_count": 32,
   "metadata": {},
   "outputs": [
    {
     "data": {
      "text/plain": [
       "0"
      ]
     },
     "execution_count": 32,
     "metadata": {},
     "output_type": "execute_result"
    }
   ],
   "source": [
    "park_spaces.element_key.duplicated().sum()"
   ]
  },
  {
   "cell_type": "code",
   "execution_count": 33,
   "metadata": {},
   "outputs": [
    {
     "data": {
      "text/html": [
       "<div>\n",
       "<style scoped>\n",
       "    .dataframe tbody tr th:only-of-type {\n",
       "        vertical-align: middle;\n",
       "    }\n",
       "\n",
       "    .dataframe tbody tr th {\n",
       "        vertical-align: top;\n",
       "    }\n",
       "\n",
       "    .dataframe thead th {\n",
       "        text-align: right;\n",
       "    }\n",
       "</style>\n",
       "<table border=\"1\" class=\"dataframe\">\n",
       "  <thead>\n",
       "    <tr style=\"text-align: right;\">\n",
       "      <th></th>\n",
       "      <th>element_key</th>\n",
       "      <th>parking_spaces</th>\n",
       "    </tr>\n",
       "  </thead>\n",
       "  <tbody>\n",
       "    <tr>\n",
       "      <th>0</th>\n",
       "      <td>1001</td>\n",
       "      <td>5</td>\n",
       "    </tr>\n",
       "    <tr>\n",
       "      <th>1</th>\n",
       "      <td>1002</td>\n",
       "      <td>9</td>\n",
       "    </tr>\n",
       "    <tr>\n",
       "      <th>2</th>\n",
       "      <td>1005</td>\n",
       "      <td>5</td>\n",
       "    </tr>\n",
       "    <tr>\n",
       "      <th>3</th>\n",
       "      <td>1006</td>\n",
       "      <td>5</td>\n",
       "    </tr>\n",
       "    <tr>\n",
       "      <th>4</th>\n",
       "      <td>1009</td>\n",
       "      <td>5</td>\n",
       "    </tr>\n",
       "  </tbody>\n",
       "</table>\n",
       "</div>"
      ],
      "text/plain": [
       "   element_key  parking_spaces\n",
       "0         1001               5\n",
       "1         1002               9\n",
       "2         1005               5\n",
       "3         1006               5\n",
       "4         1009               5"
      ]
     },
     "execution_count": 33,
     "metadata": {},
     "output_type": "execute_result"
    }
   ],
   "source": [
    "park_spaces.head()"
   ]
  },
  {
   "cell_type": "markdown",
   "metadata": {},
   "source": [
    "## Relacionamos transacciones, ubicaciones y capacidad"
   ]
  },
  {
   "cell_type": "code",
   "execution_count": 34,
   "metadata": {
    "ExecuteTime": {
     "end_time": "2018-07-03T17:35:00.005598Z",
     "start_time": "2018-07-03T17:34:59.983371Z"
    }
   },
   "outputs": [
    {
     "data": {
      "text/plain": [
       "1514"
      ]
     },
     "execution_count": 34,
     "metadata": {},
     "output_type": "execute_result"
    }
   ],
   "source": [
    "df.element_key.unique().size"
   ]
  },
  {
   "cell_type": "code",
   "execution_count": 35,
   "metadata": {},
   "outputs": [
    {
     "data": {
      "text/plain": [
       "1517"
      ]
     },
     "execution_count": 35,
     "metadata": {},
     "output_type": "execute_result"
    }
   ],
   "source": [
    "coord.element_key.unique().size"
   ]
  },
  {
   "cell_type": "code",
   "execution_count": 36,
   "metadata": {},
   "outputs": [
    {
     "data": {
      "text/plain": [
       "1707"
      ]
     },
     "execution_count": 36,
     "metadata": {},
     "output_type": "execute_result"
    }
   ],
   "source": [
    "park_spaces.element_key.unique().size"
   ]
  },
  {
   "cell_type": "code",
   "execution_count": 37,
   "metadata": {
    "ExecuteTime": {
     "end_time": "2018-07-03T17:35:00.317807Z",
     "start_time": "2018-07-03T17:35:00.006918Z"
    }
   },
   "outputs": [
    {
     "data": {
      "text/plain": [
       "1445"
      ]
     },
     "execution_count": 37,
     "metadata": {},
     "output_type": "execute_result"
    }
   ],
   "source": [
    "len(set(coord.element_key).intersection(set(df.element_key)))"
   ]
  },
  {
   "cell_type": "code",
   "execution_count": 38,
   "metadata": {},
   "outputs": [
    {
     "data": {
      "text/plain": [
       "1513"
      ]
     },
     "execution_count": 38,
     "metadata": {},
     "output_type": "execute_result"
    }
   ],
   "source": [
    "len(set(park_spaces.element_key).intersection(set(df.element_key)))"
   ]
  },
  {
   "cell_type": "markdown",
   "metadata": {},
   "source": [
    "**Mezclamos los datasets:**"
   ]
  },
  {
   "cell_type": "code",
   "execution_count": 39,
   "metadata": {
    "ExecuteTime": {
     "end_time": "2018-07-03T17:35:02.704490Z",
     "start_time": "2018-07-03T17:35:00.319180Z"
    }
   },
   "outputs": [],
   "source": [
    "# Transacciones con Coordenadas\n",
    "df_c = pd.merge(df, coord, on='element_key', how='inner', validate='many_to_one')"
   ]
  },
  {
   "cell_type": "code",
   "execution_count": 40,
   "metadata": {},
   "outputs": [],
   "source": [
    "# Transacciones con Coordenadas y con Capacidad de Plazas disponibles\n",
    "df_cp = pd.merge(df_c, park_spaces, on='element_key', how='inner', validate='many_to_one')"
   ]
  },
  {
   "cell_type": "code",
   "execution_count": 41,
   "metadata": {
    "ExecuteTime": {
     "end_time": "2018-07-03T17:35:04.274684Z",
     "start_time": "2018-07-03T17:35:04.271724Z"
    }
   },
   "outputs": [
    {
     "data": {
      "text/plain": [
       "((10828022, 8), (10664529, 10), (10664529, 11))"
      ]
     },
     "execution_count": 41,
     "metadata": {},
     "output_type": "execute_result"
    }
   ],
   "source": [
    "df.shape, df_c.shape, df_cp.shape"
   ]
  },
  {
   "cell_type": "code",
   "execution_count": 42,
   "metadata": {
    "ExecuteTime": {
     "end_time": "2018-07-03T17:35:04.633382Z",
     "start_time": "2018-07-03T17:35:04.276238Z"
    }
   },
   "outputs": [
    {
     "data": {
      "text/plain": [
       "0"
      ]
     },
     "execution_count": 42,
     "metadata": {},
     "output_type": "execute_result"
    }
   ],
   "source": [
    "df_cp.transaction_id.duplicated().sum()  # comprobamos que no se han generado duplicados"
   ]
  },
  {
   "cell_type": "code",
   "execution_count": 43,
   "metadata": {
    "ExecuteTime": {
     "end_time": "2018-07-03T17:35:04.684905Z",
     "start_time": "2018-07-03T17:35:04.634751Z"
    }
   },
   "outputs": [
    {
     "data": {
      "text/html": [
       "<div>\n",
       "<style scoped>\n",
       "    .dataframe tbody tr th:only-of-type {\n",
       "        vertical-align: middle;\n",
       "    }\n",
       "\n",
       "    .dataframe tbody tr th {\n",
       "        vertical-align: top;\n",
       "    }\n",
       "\n",
       "    .dataframe thead th {\n",
       "        text-align: right;\n",
       "    }\n",
       "</style>\n",
       "<table border=\"1\" class=\"dataframe\">\n",
       "  <thead>\n",
       "    <tr style=\"text-align: right;\">\n",
       "      <th></th>\n",
       "      <th>transaction_date_time</th>\n",
       "      <th>transaction_date</th>\n",
       "      <th>time_start</th>\n",
       "      <th>time_expired</th>\n",
       "      <th>duration_mins</th>\n",
       "      <th>element_key</th>\n",
       "      <th>final_date_time</th>\n",
       "      <th>latitude</th>\n",
       "      <th>longitude</th>\n",
       "      <th>parking_spaces</th>\n",
       "    </tr>\n",
       "    <tr>\n",
       "      <th>transaction_id</th>\n",
       "      <th></th>\n",
       "      <th></th>\n",
       "      <th></th>\n",
       "      <th></th>\n",
       "      <th></th>\n",
       "      <th></th>\n",
       "      <th></th>\n",
       "      <th></th>\n",
       "      <th></th>\n",
       "      <th></th>\n",
       "    </tr>\n",
       "  </thead>\n",
       "  <tbody>\n",
       "    <tr>\n",
       "      <th>64059668</th>\n",
       "      <td>2016-01-02 00:19:07</td>\n",
       "      <td>2016-01-02</td>\n",
       "      <td>00:19</td>\n",
       "      <td>10:17</td>\n",
       "      <td>598</td>\n",
       "      <td>35693</td>\n",
       "      <td>2016-01-02 10:17:07</td>\n",
       "      <td>47.619158</td>\n",
       "      <td>-122.346457</td>\n",
       "      <td>7</td>\n",
       "    </tr>\n",
       "    <tr>\n",
       "      <th>64059669</th>\n",
       "      <td>2016-01-02 00:21:55</td>\n",
       "      <td>2016-01-02</td>\n",
       "      <td>00:21</td>\n",
       "      <td>10:19</td>\n",
       "      <td>598</td>\n",
       "      <td>35693</td>\n",
       "      <td>2016-01-02 10:19:55</td>\n",
       "      <td>47.619158</td>\n",
       "      <td>-122.346457</td>\n",
       "      <td>7</td>\n",
       "    </tr>\n",
       "    <tr>\n",
       "      <th>64084672</th>\n",
       "      <td>2016-01-02 07:52:55</td>\n",
       "      <td>2016-01-02</td>\n",
       "      <td>07:52</td>\n",
       "      <td>14:02</td>\n",
       "      <td>370</td>\n",
       "      <td>35693</td>\n",
       "      <td>2016-01-02 14:02:55</td>\n",
       "      <td>47.619158</td>\n",
       "      <td>-122.346457</td>\n",
       "      <td>7</td>\n",
       "    </tr>\n",
       "    <tr>\n",
       "      <th>183563751</th>\n",
       "      <td>2016-01-02 08:10:02</td>\n",
       "      <td>2016-01-02</td>\n",
       "      <td>08:10</td>\n",
       "      <td>09:10</td>\n",
       "      <td>60</td>\n",
       "      <td>35693</td>\n",
       "      <td>2016-01-02 09:10:02</td>\n",
       "      <td>47.619158</td>\n",
       "      <td>-122.346457</td>\n",
       "      <td>7</td>\n",
       "    </tr>\n",
       "    <tr>\n",
       "      <th>64084673</th>\n",
       "      <td>2016-01-02 08:22:59</td>\n",
       "      <td>2016-01-02</td>\n",
       "      <td>08:22</td>\n",
       "      <td>10:22</td>\n",
       "      <td>120</td>\n",
       "      <td>35693</td>\n",
       "      <td>2016-01-02 10:22:59</td>\n",
       "      <td>47.619158</td>\n",
       "      <td>-122.346457</td>\n",
       "      <td>7</td>\n",
       "    </tr>\n",
       "  </tbody>\n",
       "</table>\n",
       "</div>"
      ],
      "text/plain": [
       "               transaction_date_time transaction_date time_start time_expired  \\\n",
       "transaction_id                                                                  \n",
       "64059668         2016-01-02 00:19:07       2016-01-02      00:19        10:17   \n",
       "64059669         2016-01-02 00:21:55       2016-01-02      00:21        10:19   \n",
       "64084672         2016-01-02 07:52:55       2016-01-02      07:52        14:02   \n",
       "183563751        2016-01-02 08:10:02       2016-01-02      08:10        09:10   \n",
       "64084673         2016-01-02 08:22:59       2016-01-02      08:22        10:22   \n",
       "\n",
       "                duration_mins  element_key     final_date_time   latitude  \\\n",
       "transaction_id                                                              \n",
       "64059668                  598        35693 2016-01-02 10:17:07  47.619158   \n",
       "64059669                  598        35693 2016-01-02 10:19:55  47.619158   \n",
       "64084672                  370        35693 2016-01-02 14:02:55  47.619158   \n",
       "183563751                  60        35693 2016-01-02 09:10:02  47.619158   \n",
       "64084673                  120        35693 2016-01-02 10:22:59  47.619158   \n",
       "\n",
       "                 longitude  parking_spaces  \n",
       "transaction_id                              \n",
       "64059668       -122.346457               7  \n",
       "64059669       -122.346457               7  \n",
       "64084672       -122.346457               7  \n",
       "183563751      -122.346457               7  \n",
       "64084673       -122.346457               7  "
      ]
     },
     "execution_count": 43,
     "metadata": {},
     "output_type": "execute_result"
    }
   ],
   "source": [
    "df_cp.set_index('transaction_id', inplace=True)\n",
    "df_cp.head()"
   ]
  },
  {
   "cell_type": "markdown",
   "metadata": {},
   "source": [
    "## Construimos la serie de ocupación por timestamp\n",
    "\n",
    "Construimos la tabla corta primero que usaremos para montar las series temporales:"
   ]
  },
  {
   "cell_type": "code",
   "execution_count": 51,
   "metadata": {
    "ExecuteTime": {
     "end_time": "2018-07-03T17:36:46.500695Z",
     "start_time": "2018-07-03T17:36:42.079494Z"
    }
   },
   "outputs": [],
   "source": [
    "in_cols = ['element_key', 'latitude', 'longitude', 'transaction_date_time', 'parking_spaces']\n",
    "out_cols = ['element_key', 'latitude', 'longitude', 'final_date_time', 'parking_spaces']\n",
    "\n",
    "df_in = df_cp[in_cols].reset_index()\n",
    "df_in.transaction_id = df_in.transaction_id.map(lambda s:'%s_in' % str(s))\n",
    "df_in['timestamp_sign'] = 1.0\n",
    "df_in.rename(columns={'transaction_date_time': 'timestamp'}, inplace=True)\n",
    "\n",
    "df_out = df_cp[out_cols].reset_index()\n",
    "df_out.transaction_id = df_out.transaction_id.map(lambda s:'%s_out' % str(s))\n",
    "df_out['timestamp_sign'] = - 1.0\n",
    "df_out.rename(columns={'final_date_time': 'timestamp'}, inplace=True)  # inplace = True, value of copy is ignored"
   ]
  },
  {
   "cell_type": "code",
   "execution_count": 52,
   "metadata": {
    "ExecuteTime": {
     "end_time": "2018-07-03T17:36:46.511121Z",
     "start_time": "2018-07-03T17:36:46.502183Z"
    }
   },
   "outputs": [
    {
     "data": {
      "text/html": [
       "<div>\n",
       "<style scoped>\n",
       "    .dataframe tbody tr th:only-of-type {\n",
       "        vertical-align: middle;\n",
       "    }\n",
       "\n",
       "    .dataframe tbody tr th {\n",
       "        vertical-align: top;\n",
       "    }\n",
       "\n",
       "    .dataframe thead th {\n",
       "        text-align: right;\n",
       "    }\n",
       "</style>\n",
       "<table border=\"1\" class=\"dataframe\">\n",
       "  <thead>\n",
       "    <tr style=\"text-align: right;\">\n",
       "      <th></th>\n",
       "      <th>transaction_id</th>\n",
       "      <th>element_key</th>\n",
       "      <th>latitude</th>\n",
       "      <th>longitude</th>\n",
       "      <th>timestamp</th>\n",
       "      <th>parking_spaces</th>\n",
       "      <th>timestamp_sign</th>\n",
       "    </tr>\n",
       "  </thead>\n",
       "  <tbody>\n",
       "    <tr>\n",
       "      <th>0</th>\n",
       "      <td>64059668_in</td>\n",
       "      <td>35693</td>\n",
       "      <td>47.619158</td>\n",
       "      <td>-122.346457</td>\n",
       "      <td>2016-01-02 00:19:07</td>\n",
       "      <td>7</td>\n",
       "      <td>1.0</td>\n",
       "    </tr>\n",
       "    <tr>\n",
       "      <th>1</th>\n",
       "      <td>64059669_in</td>\n",
       "      <td>35693</td>\n",
       "      <td>47.619158</td>\n",
       "      <td>-122.346457</td>\n",
       "      <td>2016-01-02 00:21:55</td>\n",
       "      <td>7</td>\n",
       "      <td>1.0</td>\n",
       "    </tr>\n",
       "    <tr>\n",
       "      <th>2</th>\n",
       "      <td>64084672_in</td>\n",
       "      <td>35693</td>\n",
       "      <td>47.619158</td>\n",
       "      <td>-122.346457</td>\n",
       "      <td>2016-01-02 07:52:55</td>\n",
       "      <td>7</td>\n",
       "      <td>1.0</td>\n",
       "    </tr>\n",
       "    <tr>\n",
       "      <th>3</th>\n",
       "      <td>183563751_in</td>\n",
       "      <td>35693</td>\n",
       "      <td>47.619158</td>\n",
       "      <td>-122.346457</td>\n",
       "      <td>2016-01-02 08:10:02</td>\n",
       "      <td>7</td>\n",
       "      <td>1.0</td>\n",
       "    </tr>\n",
       "    <tr>\n",
       "      <th>4</th>\n",
       "      <td>64084673_in</td>\n",
       "      <td>35693</td>\n",
       "      <td>47.619158</td>\n",
       "      <td>-122.346457</td>\n",
       "      <td>2016-01-02 08:22:59</td>\n",
       "      <td>7</td>\n",
       "      <td>1.0</td>\n",
       "    </tr>\n",
       "  </tbody>\n",
       "</table>\n",
       "</div>"
      ],
      "text/plain": [
       "  transaction_id  element_key   latitude   longitude           timestamp  \\\n",
       "0    64059668_in        35693  47.619158 -122.346457 2016-01-02 00:19:07   \n",
       "1    64059669_in        35693  47.619158 -122.346457 2016-01-02 00:21:55   \n",
       "2    64084672_in        35693  47.619158 -122.346457 2016-01-02 07:52:55   \n",
       "3   183563751_in        35693  47.619158 -122.346457 2016-01-02 08:10:02   \n",
       "4    64084673_in        35693  47.619158 -122.346457 2016-01-02 08:22:59   \n",
       "\n",
       "   parking_spaces  timestamp_sign  \n",
       "0               7             1.0  \n",
       "1               7             1.0  \n",
       "2               7             1.0  \n",
       "3               7             1.0  \n",
       "4               7             1.0  "
      ]
     },
     "execution_count": 52,
     "metadata": {},
     "output_type": "execute_result"
    }
   ],
   "source": [
    "df_in.head()"
   ]
  },
  {
   "cell_type": "code",
   "execution_count": 53,
   "metadata": {
    "ExecuteTime": {
     "end_time": "2018-07-03T17:36:46.522761Z",
     "start_time": "2018-07-03T17:36:46.512194Z"
    }
   },
   "outputs": [
    {
     "data": {
      "text/html": [
       "<div>\n",
       "<style scoped>\n",
       "    .dataframe tbody tr th:only-of-type {\n",
       "        vertical-align: middle;\n",
       "    }\n",
       "\n",
       "    .dataframe tbody tr th {\n",
       "        vertical-align: top;\n",
       "    }\n",
       "\n",
       "    .dataframe thead th {\n",
       "        text-align: right;\n",
       "    }\n",
       "</style>\n",
       "<table border=\"1\" class=\"dataframe\">\n",
       "  <thead>\n",
       "    <tr style=\"text-align: right;\">\n",
       "      <th></th>\n",
       "      <th>transaction_id</th>\n",
       "      <th>element_key</th>\n",
       "      <th>latitude</th>\n",
       "      <th>longitude</th>\n",
       "      <th>timestamp</th>\n",
       "      <th>parking_spaces</th>\n",
       "      <th>timestamp_sign</th>\n",
       "    </tr>\n",
       "  </thead>\n",
       "  <tbody>\n",
       "    <tr>\n",
       "      <th>0</th>\n",
       "      <td>64059668_out</td>\n",
       "      <td>35693</td>\n",
       "      <td>47.619158</td>\n",
       "      <td>-122.346457</td>\n",
       "      <td>2016-01-02 10:17:07</td>\n",
       "      <td>7</td>\n",
       "      <td>-1.0</td>\n",
       "    </tr>\n",
       "    <tr>\n",
       "      <th>1</th>\n",
       "      <td>64059669_out</td>\n",
       "      <td>35693</td>\n",
       "      <td>47.619158</td>\n",
       "      <td>-122.346457</td>\n",
       "      <td>2016-01-02 10:19:55</td>\n",
       "      <td>7</td>\n",
       "      <td>-1.0</td>\n",
       "    </tr>\n",
       "    <tr>\n",
       "      <th>2</th>\n",
       "      <td>64084672_out</td>\n",
       "      <td>35693</td>\n",
       "      <td>47.619158</td>\n",
       "      <td>-122.346457</td>\n",
       "      <td>2016-01-02 14:02:55</td>\n",
       "      <td>7</td>\n",
       "      <td>-1.0</td>\n",
       "    </tr>\n",
       "    <tr>\n",
       "      <th>3</th>\n",
       "      <td>183563751_out</td>\n",
       "      <td>35693</td>\n",
       "      <td>47.619158</td>\n",
       "      <td>-122.346457</td>\n",
       "      <td>2016-01-02 09:10:02</td>\n",
       "      <td>7</td>\n",
       "      <td>-1.0</td>\n",
       "    </tr>\n",
       "    <tr>\n",
       "      <th>4</th>\n",
       "      <td>64084673_out</td>\n",
       "      <td>35693</td>\n",
       "      <td>47.619158</td>\n",
       "      <td>-122.346457</td>\n",
       "      <td>2016-01-02 10:22:59</td>\n",
       "      <td>7</td>\n",
       "      <td>-1.0</td>\n",
       "    </tr>\n",
       "  </tbody>\n",
       "</table>\n",
       "</div>"
      ],
      "text/plain": [
       "  transaction_id  element_key   latitude   longitude           timestamp  \\\n",
       "0   64059668_out        35693  47.619158 -122.346457 2016-01-02 10:17:07   \n",
       "1   64059669_out        35693  47.619158 -122.346457 2016-01-02 10:19:55   \n",
       "2   64084672_out        35693  47.619158 -122.346457 2016-01-02 14:02:55   \n",
       "3  183563751_out        35693  47.619158 -122.346457 2016-01-02 09:10:02   \n",
       "4   64084673_out        35693  47.619158 -122.346457 2016-01-02 10:22:59   \n",
       "\n",
       "   parking_spaces  timestamp_sign  \n",
       "0               7            -1.0  \n",
       "1               7            -1.0  \n",
       "2               7            -1.0  \n",
       "3               7            -1.0  \n",
       "4               7            -1.0  "
      ]
     },
     "execution_count": 53,
     "metadata": {},
     "output_type": "execute_result"
    }
   ],
   "source": [
    "df_out.head()"
   ]
  },
  {
   "cell_type": "code",
   "execution_count": 54,
   "metadata": {
    "ExecuteTime": {
     "end_time": "2018-07-03T17:40:48.918260Z",
     "start_time": "2018-07-03T17:40:47.003098Z"
    }
   },
   "outputs": [],
   "source": [
    "full_transactions = pd.concat([df_in, df_out])\n",
    "full_transactions.set_index('transaction_id', inplace=True)\n",
    "full_transactions.sort_values('timestamp', ascending=True, inplace=True)"
   ]
  },
  {
   "cell_type": "code",
   "execution_count": 55,
   "metadata": {
    "ExecuteTime": {
     "end_time": "2018-07-03T17:40:49.105651Z",
     "start_time": "2018-07-03T17:40:49.099414Z"
    }
   },
   "outputs": [
    {
     "data": {
      "text/html": [
       "<div>\n",
       "<style scoped>\n",
       "    .dataframe tbody tr th:only-of-type {\n",
       "        vertical-align: middle;\n",
       "    }\n",
       "\n",
       "    .dataframe tbody tr th {\n",
       "        vertical-align: top;\n",
       "    }\n",
       "\n",
       "    .dataframe thead th {\n",
       "        text-align: right;\n",
       "    }\n",
       "</style>\n",
       "<table border=\"1\" class=\"dataframe\">\n",
       "  <thead>\n",
       "    <tr style=\"text-align: right;\">\n",
       "      <th></th>\n",
       "      <th>element_key</th>\n",
       "      <th>latitude</th>\n",
       "      <th>longitude</th>\n",
       "      <th>timestamp</th>\n",
       "      <th>parking_spaces</th>\n",
       "      <th>timestamp_sign</th>\n",
       "    </tr>\n",
       "    <tr>\n",
       "      <th>transaction_id</th>\n",
       "      <th></th>\n",
       "      <th></th>\n",
       "      <th></th>\n",
       "      <th></th>\n",
       "      <th></th>\n",
       "      <th></th>\n",
       "    </tr>\n",
       "  </thead>\n",
       "  <tbody>\n",
       "    <tr>\n",
       "      <th>64059668_in</th>\n",
       "      <td>35693</td>\n",
       "      <td>47.619158</td>\n",
       "      <td>-122.346457</td>\n",
       "      <td>2016-01-02 00:19:07</td>\n",
       "      <td>7</td>\n",
       "      <td>1.0</td>\n",
       "    </tr>\n",
       "    <tr>\n",
       "      <th>64059669_in</th>\n",
       "      <td>35693</td>\n",
       "      <td>47.619158</td>\n",
       "      <td>-122.346457</td>\n",
       "      <td>2016-01-02 00:21:55</td>\n",
       "      <td>7</td>\n",
       "      <td>1.0</td>\n",
       "    </tr>\n",
       "    <tr>\n",
       "      <th>64059649_in</th>\n",
       "      <td>53549</td>\n",
       "      <td>47.628175</td>\n",
       "      <td>-122.341132</td>\n",
       "      <td>2016-01-02 00:46:40</td>\n",
       "      <td>32</td>\n",
       "      <td>1.0</td>\n",
       "    </tr>\n",
       "    <tr>\n",
       "      <th>64059636_in</th>\n",
       "      <td>11881</td>\n",
       "      <td>47.619156</td>\n",
       "      <td>-122.333107</td>\n",
       "      <td>2016-01-02 02:56:06</td>\n",
       "      <td>10</td>\n",
       "      <td>1.0</td>\n",
       "    </tr>\n",
       "    <tr>\n",
       "      <th>64059641_in</th>\n",
       "      <td>9393</td>\n",
       "      <td>47.621441</td>\n",
       "      <td>-122.335970</td>\n",
       "      <td>2016-01-02 03:14:33</td>\n",
       "      <td>5</td>\n",
       "      <td>1.0</td>\n",
       "    </tr>\n",
       "  </tbody>\n",
       "</table>\n",
       "</div>"
      ],
      "text/plain": [
       "                element_key   latitude   longitude           timestamp  \\\n",
       "transaction_id                                                           \n",
       "64059668_in           35693  47.619158 -122.346457 2016-01-02 00:19:07   \n",
       "64059669_in           35693  47.619158 -122.346457 2016-01-02 00:21:55   \n",
       "64059649_in           53549  47.628175 -122.341132 2016-01-02 00:46:40   \n",
       "64059636_in           11881  47.619156 -122.333107 2016-01-02 02:56:06   \n",
       "64059641_in            9393  47.621441 -122.335970 2016-01-02 03:14:33   \n",
       "\n",
       "                parking_spaces  timestamp_sign  \n",
       "transaction_id                                  \n",
       "64059668_in                  7             1.0  \n",
       "64059669_in                  7             1.0  \n",
       "64059649_in                 32             1.0  \n",
       "64059636_in                 10             1.0  \n",
       "64059641_in                  5             1.0  "
      ]
     },
     "execution_count": 55,
     "metadata": {},
     "output_type": "execute_result"
    }
   ],
   "source": [
    "full_transactions.head()"
   ]
  },
  {
   "cell_type": "code",
   "execution_count": 57,
   "metadata": {
    "ExecuteTime": {
     "end_time": "2018-07-03T17:40:49.110925Z",
     "start_time": "2018-07-03T17:40:49.107012Z"
    }
   },
   "outputs": [
    {
     "data": {
      "text/plain": [
       "((10664529, 7), (10664529, 7), (21329058, 6))"
      ]
     },
     "execution_count": 57,
     "metadata": {},
     "output_type": "execute_result"
    }
   ],
   "source": [
    "df_in.shape, df_out.shape, full_transactions.shape"
   ]
  },
  {
   "cell_type": "markdown",
   "metadata": {},
   "source": [
    "#### Añadimos porcentaje de ocupación"
   ]
  },
  {
   "cell_type": "code",
   "execution_count": 58,
   "metadata": {},
   "outputs": [],
   "source": [
    "# COMANDO A REVISAR OPTIMIZACIÓN - LE HA COSTADO\n",
    "full_transactions.timestamp = full_transactions.timestamp.map(lambda x: x.replace(microsecond=0,second=0,minute=0))"
   ]
  },
  {
   "cell_type": "code",
   "execution_count": 59,
   "metadata": {},
   "outputs": [],
   "source": [
    "# COMANDO A REVISAR OPTIMIZACIÓN - LE HA COSTADO\n",
    "full_transactions['occupation'] = full_transactions.groupby(['element_key', 'timestamp']).timestamp_sign.transform(\n",
    "    lambda series: series.cumsum())"
   ]
  },
  {
   "cell_type": "code",
   "execution_count": 60,
   "metadata": {},
   "outputs": [],
   "source": [
    "full_transactions = full_transactions.reset_index(drop=True)"
   ]
  },
  {
   "cell_type": "code",
   "execution_count": 61,
   "metadata": {},
   "outputs": [],
   "source": [
    "full_transactions.drop_duplicates(subset=['element_key','timestamp'], keep='last', inplace=True)"
   ]
  },
  {
   "cell_type": "code",
   "execution_count": 62,
   "metadata": {},
   "outputs": [],
   "source": [
    "full_transactions['day_year'] = full_transactions.timestamp.dt.dayofyear"
   ]
  },
  {
   "cell_type": "code",
   "execution_count": 63,
   "metadata": {},
   "outputs": [],
   "source": [
    "full_transactions['occu_cum'] = full_transactions.groupby(['element_key','day_year']).occupation.agg('cumsum')"
   ]
  },
  {
   "cell_type": "code",
   "execution_count": 64,
   "metadata": {},
   "outputs": [],
   "source": [
    "full_transactions['occupation_perc'] = (full_transactions.occu_cum / full_transactions.parking_spaces * 100.0).map(\n",
    "    \"{0:.2f}\".format).astype(float)"
   ]
  },
  {
   "cell_type": "code",
   "execution_count": 65,
   "metadata": {},
   "outputs": [
    {
     "data": {
      "text/html": [
       "<div>\n",
       "<style scoped>\n",
       "    .dataframe tbody tr th:only-of-type {\n",
       "        vertical-align: middle;\n",
       "    }\n",
       "\n",
       "    .dataframe tbody tr th {\n",
       "        vertical-align: top;\n",
       "    }\n",
       "\n",
       "    .dataframe thead th {\n",
       "        text-align: right;\n",
       "    }\n",
       "</style>\n",
       "<table border=\"1\" class=\"dataframe\">\n",
       "  <thead>\n",
       "    <tr style=\"text-align: right;\">\n",
       "      <th></th>\n",
       "      <th>element_key</th>\n",
       "      <th>latitude</th>\n",
       "      <th>longitude</th>\n",
       "      <th>timestamp</th>\n",
       "      <th>parking_spaces</th>\n",
       "      <th>timestamp_sign</th>\n",
       "      <th>occupation</th>\n",
       "      <th>day_year</th>\n",
       "      <th>occu_cum</th>\n",
       "      <th>occupation_perc</th>\n",
       "    </tr>\n",
       "  </thead>\n",
       "  <tbody>\n",
       "    <tr>\n",
       "      <th>1</th>\n",
       "      <td>35693</td>\n",
       "      <td>47.619158</td>\n",
       "      <td>-122.346457</td>\n",
       "      <td>2016-01-02 00:00:00</td>\n",
       "      <td>7</td>\n",
       "      <td>1.0</td>\n",
       "      <td>2.0</td>\n",
       "      <td>2</td>\n",
       "      <td>2.0</td>\n",
       "      <td>28.57</td>\n",
       "    </tr>\n",
       "    <tr>\n",
       "      <th>2</th>\n",
       "      <td>53549</td>\n",
       "      <td>47.628175</td>\n",
       "      <td>-122.341132</td>\n",
       "      <td>2016-01-02 00:00:00</td>\n",
       "      <td>32</td>\n",
       "      <td>1.0</td>\n",
       "      <td>1.0</td>\n",
       "      <td>2</td>\n",
       "      <td>1.0</td>\n",
       "      <td>3.12</td>\n",
       "    </tr>\n",
       "    <tr>\n",
       "      <th>3</th>\n",
       "      <td>11881</td>\n",
       "      <td>47.619156</td>\n",
       "      <td>-122.333107</td>\n",
       "      <td>2016-01-02 02:00:00</td>\n",
       "      <td>10</td>\n",
       "      <td>1.0</td>\n",
       "      <td>1.0</td>\n",
       "      <td>2</td>\n",
       "      <td>1.0</td>\n",
       "      <td>10.00</td>\n",
       "    </tr>\n",
       "    <tr>\n",
       "      <th>4</th>\n",
       "      <td>9393</td>\n",
       "      <td>47.621441</td>\n",
       "      <td>-122.335970</td>\n",
       "      <td>2016-01-02 03:00:00</td>\n",
       "      <td>5</td>\n",
       "      <td>1.0</td>\n",
       "      <td>1.0</td>\n",
       "      <td>2</td>\n",
       "      <td>1.0</td>\n",
       "      <td>20.00</td>\n",
       "    </tr>\n",
       "    <tr>\n",
       "      <th>5</th>\n",
       "      <td>11133</td>\n",
       "      <td>47.619815</td>\n",
       "      <td>-122.348131</td>\n",
       "      <td>2016-01-02 04:00:00</td>\n",
       "      <td>5</td>\n",
       "      <td>1.0</td>\n",
       "      <td>1.0</td>\n",
       "      <td>2</td>\n",
       "      <td>1.0</td>\n",
       "      <td>20.00</td>\n",
       "    </tr>\n",
       "    <tr>\n",
       "      <th>6</th>\n",
       "      <td>31310</td>\n",
       "      <td>47.619256</td>\n",
       "      <td>-122.339661</td>\n",
       "      <td>2016-01-02 04:00:00</td>\n",
       "      <td>11</td>\n",
       "      <td>1.0</td>\n",
       "      <td>1.0</td>\n",
       "      <td>2</td>\n",
       "      <td>1.0</td>\n",
       "      <td>9.09</td>\n",
       "    </tr>\n",
       "    <tr>\n",
       "      <th>8</th>\n",
       "      <td>13130</td>\n",
       "      <td>47.620816</td>\n",
       "      <td>-122.345711</td>\n",
       "      <td>2016-01-02 04:00:00</td>\n",
       "      <td>9</td>\n",
       "      <td>1.0</td>\n",
       "      <td>2.0</td>\n",
       "      <td>2</td>\n",
       "      <td>2.0</td>\n",
       "      <td>22.22</td>\n",
       "    </tr>\n",
       "    <tr>\n",
       "      <th>9</th>\n",
       "      <td>53126</td>\n",
       "      <td>47.616374</td>\n",
       "      <td>-122.341452</td>\n",
       "      <td>2016-01-02 04:00:00</td>\n",
       "      <td>11</td>\n",
       "      <td>1.0</td>\n",
       "      <td>1.0</td>\n",
       "      <td>2</td>\n",
       "      <td>1.0</td>\n",
       "      <td>9.09</td>\n",
       "    </tr>\n",
       "    <tr>\n",
       "      <th>11</th>\n",
       "      <td>36142</td>\n",
       "      <td>47.617287</td>\n",
       "      <td>-122.338056</td>\n",
       "      <td>2016-01-02 05:00:00</td>\n",
       "      <td>6</td>\n",
       "      <td>1.0</td>\n",
       "      <td>1.0</td>\n",
       "      <td>2</td>\n",
       "      <td>1.0</td>\n",
       "      <td>16.67</td>\n",
       "    </tr>\n",
       "    <tr>\n",
       "      <th>12</th>\n",
       "      <td>76433</td>\n",
       "      <td>47.622804</td>\n",
       "      <td>-122.339860</td>\n",
       "      <td>2016-01-02 05:00:00</td>\n",
       "      <td>11</td>\n",
       "      <td>1.0</td>\n",
       "      <td>1.0</td>\n",
       "      <td>2</td>\n",
       "      <td>1.0</td>\n",
       "      <td>9.09</td>\n",
       "    </tr>\n",
       "    <tr>\n",
       "      <th>13</th>\n",
       "      <td>56082</td>\n",
       "      <td>47.621913</td>\n",
       "      <td>-122.329855</td>\n",
       "      <td>2016-01-02 05:00:00</td>\n",
       "      <td>8</td>\n",
       "      <td>1.0</td>\n",
       "      <td>1.0</td>\n",
       "      <td>2</td>\n",
       "      <td>1.0</td>\n",
       "      <td>12.50</td>\n",
       "    </tr>\n",
       "    <tr>\n",
       "      <th>14</th>\n",
       "      <td>11133</td>\n",
       "      <td>47.619815</td>\n",
       "      <td>-122.348131</td>\n",
       "      <td>2016-01-02 05:00:00</td>\n",
       "      <td>5</td>\n",
       "      <td>1.0</td>\n",
       "      <td>1.0</td>\n",
       "      <td>2</td>\n",
       "      <td>2.0</td>\n",
       "      <td>40.00</td>\n",
       "    </tr>\n",
       "    <tr>\n",
       "      <th>15</th>\n",
       "      <td>13793</td>\n",
       "      <td>47.620221</td>\n",
       "      <td>-122.330509</td>\n",
       "      <td>2016-01-02 05:00:00</td>\n",
       "      <td>11</td>\n",
       "      <td>1.0</td>\n",
       "      <td>1.0</td>\n",
       "      <td>2</td>\n",
       "      <td>1.0</td>\n",
       "      <td>9.09</td>\n",
       "    </tr>\n",
       "    <tr>\n",
       "      <th>16</th>\n",
       "      <td>8401</td>\n",
       "      <td>47.623862</td>\n",
       "      <td>-122.341180</td>\n",
       "      <td>2016-01-02 05:00:00</td>\n",
       "      <td>10</td>\n",
       "      <td>1.0</td>\n",
       "      <td>1.0</td>\n",
       "      <td>2</td>\n",
       "      <td>1.0</td>\n",
       "      <td>10.00</td>\n",
       "    </tr>\n",
       "    <tr>\n",
       "      <th>17</th>\n",
       "      <td>35242</td>\n",
       "      <td>47.662434</td>\n",
       "      <td>-122.317343</td>\n",
       "      <td>2016-01-02 05:00:00</td>\n",
       "      <td>14</td>\n",
       "      <td>1.0</td>\n",
       "      <td>1.0</td>\n",
       "      <td>2</td>\n",
       "      <td>1.0</td>\n",
       "      <td>7.14</td>\n",
       "    </tr>\n",
       "    <tr>\n",
       "      <th>18</th>\n",
       "      <td>79026</td>\n",
       "      <td>47.619623</td>\n",
       "      <td>-122.339190</td>\n",
       "      <td>2016-01-02 05:00:00</td>\n",
       "      <td>7</td>\n",
       "      <td>1.0</td>\n",
       "      <td>1.0</td>\n",
       "      <td>2</td>\n",
       "      <td>1.0</td>\n",
       "      <td>14.29</td>\n",
       "    </tr>\n",
       "    <tr>\n",
       "      <th>19</th>\n",
       "      <td>31302</td>\n",
       "      <td>47.617464</td>\n",
       "      <td>-122.337406</td>\n",
       "      <td>2016-01-02 05:00:00</td>\n",
       "      <td>6</td>\n",
       "      <td>1.0</td>\n",
       "      <td>2.0</td>\n",
       "      <td>2</td>\n",
       "      <td>2.0</td>\n",
       "      <td>33.33</td>\n",
       "    </tr>\n",
       "    <tr>\n",
       "      <th>20</th>\n",
       "      <td>77382</td>\n",
       "      <td>47.612479</td>\n",
       "      <td>-122.319791</td>\n",
       "      <td>2016-01-02 05:00:00</td>\n",
       "      <td>8</td>\n",
       "      <td>1.0</td>\n",
       "      <td>1.0</td>\n",
       "      <td>2</td>\n",
       "      <td>1.0</td>\n",
       "      <td>12.50</td>\n",
       "    </tr>\n",
       "    <tr>\n",
       "      <th>21</th>\n",
       "      <td>77126</td>\n",
       "      <td>47.616931</td>\n",
       "      <td>-122.341779</td>\n",
       "      <td>2016-01-02 06:00:00</td>\n",
       "      <td>10</td>\n",
       "      <td>1.0</td>\n",
       "      <td>1.0</td>\n",
       "      <td>2</td>\n",
       "      <td>1.0</td>\n",
       "      <td>10.00</td>\n",
       "    </tr>\n",
       "    <tr>\n",
       "      <th>22</th>\n",
       "      <td>35694</td>\n",
       "      <td>47.619260</td>\n",
       "      <td>-122.346152</td>\n",
       "      <td>2016-01-02 06:00:00</td>\n",
       "      <td>6</td>\n",
       "      <td>1.0</td>\n",
       "      <td>1.0</td>\n",
       "      <td>2</td>\n",
       "      <td>1.0</td>\n",
       "      <td>16.67</td>\n",
       "    </tr>\n",
       "  </tbody>\n",
       "</table>\n",
       "</div>"
      ],
      "text/plain": [
       "    element_key   latitude   longitude           timestamp  parking_spaces  \\\n",
       "1         35693  47.619158 -122.346457 2016-01-02 00:00:00               7   \n",
       "2         53549  47.628175 -122.341132 2016-01-02 00:00:00              32   \n",
       "3         11881  47.619156 -122.333107 2016-01-02 02:00:00              10   \n",
       "4          9393  47.621441 -122.335970 2016-01-02 03:00:00               5   \n",
       "5         11133  47.619815 -122.348131 2016-01-02 04:00:00               5   \n",
       "6         31310  47.619256 -122.339661 2016-01-02 04:00:00              11   \n",
       "8         13130  47.620816 -122.345711 2016-01-02 04:00:00               9   \n",
       "9         53126  47.616374 -122.341452 2016-01-02 04:00:00              11   \n",
       "11        36142  47.617287 -122.338056 2016-01-02 05:00:00               6   \n",
       "12        76433  47.622804 -122.339860 2016-01-02 05:00:00              11   \n",
       "13        56082  47.621913 -122.329855 2016-01-02 05:00:00               8   \n",
       "14        11133  47.619815 -122.348131 2016-01-02 05:00:00               5   \n",
       "15        13793  47.620221 -122.330509 2016-01-02 05:00:00              11   \n",
       "16         8401  47.623862 -122.341180 2016-01-02 05:00:00              10   \n",
       "17        35242  47.662434 -122.317343 2016-01-02 05:00:00              14   \n",
       "18        79026  47.619623 -122.339190 2016-01-02 05:00:00               7   \n",
       "19        31302  47.617464 -122.337406 2016-01-02 05:00:00               6   \n",
       "20        77382  47.612479 -122.319791 2016-01-02 05:00:00               8   \n",
       "21        77126  47.616931 -122.341779 2016-01-02 06:00:00              10   \n",
       "22        35694  47.619260 -122.346152 2016-01-02 06:00:00               6   \n",
       "\n",
       "    timestamp_sign  occupation  day_year  occu_cum  occupation_perc  \n",
       "1              1.0         2.0         2       2.0            28.57  \n",
       "2              1.0         1.0         2       1.0             3.12  \n",
       "3              1.0         1.0         2       1.0            10.00  \n",
       "4              1.0         1.0         2       1.0            20.00  \n",
       "5              1.0         1.0         2       1.0            20.00  \n",
       "6              1.0         1.0         2       1.0             9.09  \n",
       "8              1.0         2.0         2       2.0            22.22  \n",
       "9              1.0         1.0         2       1.0             9.09  \n",
       "11             1.0         1.0         2       1.0            16.67  \n",
       "12             1.0         1.0         2       1.0             9.09  \n",
       "13             1.0         1.0         2       1.0            12.50  \n",
       "14             1.0         1.0         2       2.0            40.00  \n",
       "15             1.0         1.0         2       1.0             9.09  \n",
       "16             1.0         1.0         2       1.0            10.00  \n",
       "17             1.0         1.0         2       1.0             7.14  \n",
       "18             1.0         1.0         2       1.0            14.29  \n",
       "19             1.0         2.0         2       2.0            33.33  \n",
       "20             1.0         1.0         2       1.0            12.50  \n",
       "21             1.0         1.0         2       1.0            10.00  \n",
       "22             1.0         1.0         2       1.0            16.67  "
      ]
     },
     "execution_count": 65,
     "metadata": {},
     "output_type": "execute_result"
    }
   ],
   "source": [
    "full_transactions.head(20)"
   ]
  },
  {
   "cell_type": "markdown",
   "metadata": {},
   "source": [
    "## Completamos la serie con datos meteorológicos"
   ]
  },
  {
   "cell_type": "code",
   "execution_count": 68,
   "metadata": {},
   "outputs": [],
   "source": [
    "meteo = pd.read_csv(os.path.join('./data/seattleWeather_1948-2017.csv'))\n",
    "meteo.columns = meteo.columns.map(lambda x: camelToSnake(x))\n",
    "meteo.date = pd.to_datetime(meteo.date, format=\"%Y-%m-%d\")\n",
    "\n",
    "meteo = meteo.loc[meteo['date'].dt.year == 2016]\n",
    "meteo['day_year'] = meteo.date.dt.dayofyear"
   ]
  },
  {
   "cell_type": "code",
   "execution_count": 69,
   "metadata": {},
   "outputs": [
    {
     "data": {
      "text/html": [
       "<div>\n",
       "<style scoped>\n",
       "    .dataframe tbody tr th:only-of-type {\n",
       "        vertical-align: middle;\n",
       "    }\n",
       "\n",
       "    .dataframe tbody tr th {\n",
       "        vertical-align: top;\n",
       "    }\n",
       "\n",
       "    .dataframe thead th {\n",
       "        text-align: right;\n",
       "    }\n",
       "</style>\n",
       "<table border=\"1\" class=\"dataframe\">\n",
       "  <thead>\n",
       "    <tr style=\"text-align: right;\">\n",
       "      <th></th>\n",
       "      <th>date</th>\n",
       "      <th>prcp</th>\n",
       "      <th>tmax</th>\n",
       "      <th>tmin</th>\n",
       "      <th>rain</th>\n",
       "      <th>day_year</th>\n",
       "    </tr>\n",
       "  </thead>\n",
       "  <tbody>\n",
       "    <tr>\n",
       "      <th>24837</th>\n",
       "      <td>2016-01-01</td>\n",
       "      <td>0.00</td>\n",
       "      <td>46</td>\n",
       "      <td>28</td>\n",
       "      <td>False</td>\n",
       "      <td>1</td>\n",
       "    </tr>\n",
       "    <tr>\n",
       "      <th>24838</th>\n",
       "      <td>2016-01-02</td>\n",
       "      <td>0.00</td>\n",
       "      <td>42</td>\n",
       "      <td>25</td>\n",
       "      <td>False</td>\n",
       "      <td>2</td>\n",
       "    </tr>\n",
       "    <tr>\n",
       "      <th>24839</th>\n",
       "      <td>2016-01-03</td>\n",
       "      <td>0.02</td>\n",
       "      <td>40</td>\n",
       "      <td>31</td>\n",
       "      <td>True</td>\n",
       "      <td>3</td>\n",
       "    </tr>\n",
       "    <tr>\n",
       "      <th>24840</th>\n",
       "      <td>2016-01-04</td>\n",
       "      <td>0.15</td>\n",
       "      <td>38</td>\n",
       "      <td>35</td>\n",
       "      <td>True</td>\n",
       "      <td>4</td>\n",
       "    </tr>\n",
       "    <tr>\n",
       "      <th>24841</th>\n",
       "      <td>2016-01-05</td>\n",
       "      <td>0.11</td>\n",
       "      <td>46</td>\n",
       "      <td>36</td>\n",
       "      <td>True</td>\n",
       "      <td>5</td>\n",
       "    </tr>\n",
       "  </tbody>\n",
       "</table>\n",
       "</div>"
      ],
      "text/plain": [
       "            date  prcp  tmax  tmin   rain  day_year\n",
       "24837 2016-01-01  0.00    46    28  False         1\n",
       "24838 2016-01-02  0.00    42    25  False         2\n",
       "24839 2016-01-03  0.02    40    31   True         3\n",
       "24840 2016-01-04  0.15    38    35   True         4\n",
       "24841 2016-01-05  0.11    46    36   True         5"
      ]
     },
     "execution_count": 69,
     "metadata": {},
     "output_type": "execute_result"
    }
   ],
   "source": [
    "meteo.head()"
   ]
  },
  {
   "cell_type": "code",
   "execution_count": 71,
   "metadata": {},
   "outputs": [],
   "source": [
    "full_transactions_meteo = pd.merge(full_transactions, \n",
    "                                   meteo, on='day_year', how='inner', validate='many_to_one')"
   ]
  },
  {
   "cell_type": "code",
   "execution_count": 77,
   "metadata": {},
   "outputs": [],
   "source": [
    "full_transactions_meteo[['element_key','latitude','longitude','timestamp','occupation_perc',\n",
    "                         'prcp','tmax','tmin']].to_csv('./data/Serie_Total2016.csv')"
   ]
  },
  {
   "cell_type": "code",
   "execution_count": null,
   "metadata": {},
   "outputs": [],
   "source": []
  }
 ],
 "metadata": {
  "hide_input": false,
  "kernelspec": {
   "display_name": "Python 3",
   "language": "python",
   "name": "python3"
  },
  "language_info": {
   "codemirror_mode": {
    "name": "ipython",
    "version": 3
   },
   "file_extension": ".py",
   "mimetype": "text/x-python",
   "name": "python",
   "nbconvert_exporter": "python",
   "pygments_lexer": "ipython3",
   "version": "3.6.4"
  },
  "toc": {
   "colors": {
    "hover_highlight": "#DAA520",
    "navigate_num": "#000000",
    "navigate_text": "#333333",
    "running_highlight": "#FF0000",
    "selected_highlight": "#FFD700",
    "sidebar_border": "#EEEEEE",
    "wrapper_background": "#FFFFFF"
   },
   "moveMenuLeft": true,
   "nav_menu": {
    "height": "200px",
    "width": "254px"
   },
   "navigate_menu": true,
   "number_sections": true,
   "sideBar": true,
   "threshold": 4,
   "toc_cell": true,
   "toc_section_display": "block",
   "toc_window_display": false,
   "widenNotebook": false
  }
 },
 "nbformat": 4,
 "nbformat_minor": 2
}
