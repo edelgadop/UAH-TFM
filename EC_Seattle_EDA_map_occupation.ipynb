{
 "cells": [
  {
   "cell_type": "markdown",
   "metadata": {
    "toc": "true"
   },
   "source": [
    "# Table of Contents\n",
    "<p>\n",
    "<div class=\"lev1 toc-item\">\n",
    "    <a href=\"#Cargamos-la-serie\" data-toc-modified-id=\"Cargamos-la-serie\">\n",
    "        <span class=\"toc-item-num\">1&nbsp;&nbsp;</span>\n",
    "        Cargamos la serie</a></div>\n",
    "\n",
    "<div class=\"lev1 toc-item\">\n",
    "    <a href=\"#Gráfica-de-ubicaciones\" data-toc-modified-id=\"Gráfica-de-ubicaciones\">\n",
    "    <span class=\"toc-item-num\">2&nbsp;&nbsp;</span>\n",
    "    Gráfica de ubicaciones</a></div>"
   ]
  },
  {
   "cell_type": "code",
   "execution_count": 1,
   "metadata": {},
   "outputs": [],
   "source": [
    "import pandas as pd\n",
    "import numpy as np\n",
    "import os\n",
    "import seaborn as sns\n",
    "import folium\n",
    "from folium.plugins import MarkerCluster, HeatMapWithTime\n",
    "%matplotlib inline"
   ]
  },
  {
   "cell_type": "markdown",
   "metadata": {},
   "source": [
    "## Cargamos la serie"
   ]
  },
  {
   "cell_type": "code",
   "execution_count": 32,
   "metadata": {},
   "outputs": [],
   "source": [
    "df = pd.read_csv(os.path.join('./data/Serie_Total2016.csv'))"
   ]
  },
  {
   "cell_type": "code",
   "execution_count": 33,
   "metadata": {},
   "outputs": [],
   "source": [
    "df.timestamp = pd.to_datetime(df.timestamp)"
   ]
  },
  {
   "cell_type": "code",
   "execution_count": 34,
   "metadata": {},
   "outputs": [],
   "source": [
    "# Eliminamos los valores de ocupación 0 correspondientes a las 20 horas\n",
    "df = df.loc[df.timestamp.dt.hour < 20]"
   ]
  },
  {
   "cell_type": "code",
   "execution_count": 35,
   "metadata": {},
   "outputs": [],
   "source": [
    "# Fijo un rango de una hora y un día del año\n",
    "import datetime\n",
    "fixed_hour = 12\n",
    "fixed_day = datetime.datetime(2016,7,15).timetuple().tm_yday\n",
    "subset_df = df.loc[(df.timestamp.dt.hour == fixed_hour) & (df.timestamp.dt.dayofyear == fixed_day)]"
   ]
  },
  {
   "cell_type": "code",
   "execution_count": 52,
   "metadata": {},
   "outputs": [],
   "source": [
    "# Seleccionamos los 100 primeros element_key\n",
    "df_first100 = subset_df.loc[:,['latitude','longitude','occupation_perc']].head(100)"
   ]
  },
  {
   "cell_type": "markdown",
   "metadata": {},
   "source": [
    "## Mapa de porcentaje de ocupación por parquímetro"
   ]
  },
  {
   "cell_type": "code",
   "execution_count": 57,
   "metadata": {
    "ExecuteTime": {
     "end_time": "2018-07-03T17:36:15.770994Z",
     "start_time": "2018-07-03T17:36:01.849177Z"
    }
   },
   "outputs": [],
   "source": [
    "this_map = folium.Map(prefer_canvas=True, max_bounds=False)\n",
    "\n",
    "def plotDot(df):\n",
    "    df = df.copy()\n",
    "#     df['color'] = coloring_function(df.quadrant) #.map(coloring_function)\n",
    "    folium.CircleMarker(location=[df.latitude, df.longitude],\n",
    "                        radius= 10,\n",
    "#                        weight=df.occupation_perc,\n",
    "                        popup=str(df.occupation_perc),\n",
    "                        fill=True,\n",
    "                        fill_opacity=0.8,\n",
    "                        fill_color=usedColor).add_to(this_map)\n",
    "\n",
    "usedColor='red'\n",
    "df_first100.loc[df_first100.occupation_perc >= 75].apply(plotDot, axis = 1)\n",
    "usedColor='orange'\n",
    "df_first100.loc[(df_first100.occupation_perc >= 50) & (df_first100.occupation_perc < 75)].apply(plotDot, axis = 1)\n",
    "usedColor='yellow'\n",
    "df_first100.loc[(df_first100.occupation_perc >=25) & (df_first100.occupation_perc < 50)].apply(plotDot, axis = 1)\n",
    "usedColor='green'\n",
    "df_first100.loc[(df_first100.occupation_perc < 25)].apply(plotDot, axis = 1)\n",
    "\n",
    "map_bounds = this_map.get_bounds()\n",
    "this_map.fit_bounds(map_bounds, max_zoom=20)\n",
    "this_map.max_lat = map_bounds[1][0]\n",
    "this_map.min_lat = map_bounds[0][0]\n",
    "this_map.max_lon = map_bounds[1][1]\n",
    "this_map.min_lon = map_bounds[0][1]\n",
    "\n",
    "this_map.save('seatle_parkimeters_occup_perc_example.html')"
   ]
  },
  {
   "cell_type": "code",
   "execution_count": null,
   "metadata": {},
   "outputs": [],
   "source": []
  }
 ],
 "metadata": {
  "hide_input": false,
  "kernelspec": {
   "display_name": "Python 3",
   "language": "python",
   "name": "python3"
  },
  "language_info": {
   "codemirror_mode": {
    "name": "ipython",
    "version": 3
   },
   "file_extension": ".py",
   "mimetype": "text/x-python",
   "name": "python",
   "nbconvert_exporter": "python",
   "pygments_lexer": "ipython3",
   "version": "3.6.4"
  },
  "toc": {
   "colors": {
    "hover_highlight": "#DAA520",
    "navigate_num": "#000000",
    "navigate_text": "#333333",
    "running_highlight": "#FF0000",
    "selected_highlight": "#FFD700",
    "sidebar_border": "#EEEEEE",
    "wrapper_background": "#FFFFFF"
   },
   "moveMenuLeft": true,
   "nav_menu": {
    "height": "200px",
    "width": "254px"
   },
   "navigate_menu": true,
   "number_sections": true,
   "sideBar": true,
   "threshold": 4,
   "toc_cell": true,
   "toc_section_display": "block",
   "toc_window_display": false,
   "widenNotebook": false
  }
 },
 "nbformat": 4,
 "nbformat_minor": 2
}
