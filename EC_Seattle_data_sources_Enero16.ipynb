{
 "cells": [
  {
   "cell_type": "markdown",
   "metadata": {
    "toc": "true"
   },
   "source": [
    "# Table of Contents\n",
    "<p>\n",
    "<div class=\"lev1 toc-item\">\n",
    "    <a href=\"#Cargamos-transacciones-de-Enero-2016\" data-toc-modified-id=\"Cargamos-transacciones-de-Enero-2016\">\n",
    "        <span class=\"toc-item-num\">1&nbsp;&nbsp;</span>\n",
    "        Cargamos transacciones de Enero 2016</a></div>\n",
    "\n",
    "<div class=\"lev2 toc-item\">\n",
    "    <a href=\"#Limpieza-de-transacciones\" data-toc-modified-id=\"Limpieza-de-transacciones\">\n",
    "    <span class=\"toc-item-num\">1.1&nbsp;&nbsp;</span>\n",
    "    Limpieza de transacciones</a></div>\n",
    "\n",
    "<div class=\"lev1 toc-item\">\n",
    "    <a href=\"#Cargamos-datos-de-ubicación-geográfica\" data-toc-modified-id=\"Cargamos-datos-de-ubicación-geográfica\">\n",
    "    <span class=\"toc-item-num\">2&nbsp;&nbsp;</span>\n",
    "    Cargamos datos de ubicación geográfica</a></div>\n",
    "    \n",
    "<div class=\"lev1 toc-item\">\n",
    "    <a href=\"#Cargamos-datos-de-capacidad-de-plazas\" data-toc-modified-id=\"Cargamos-datos-de-capacidad-de-plazas\">\n",
    "    <span class=\"toc-item-num\">3&nbsp;&nbsp;</span>\n",
    "    Cargamos datos de capacidad de plazas</a></div>\n",
    "\n",
    "<div class=\"lev1 toc-item\">\n",
    "    <a href=\"#Relacionamos-transacciones,-ubicaciones-y-capacidad\" data-toc-modified-id=\"Relacionamos-transacciones,-ubicaciones-y-capacidad\">\n",
    "    <span class=\"toc-item-num\">4&nbsp;&nbsp;</span>\n",
    "    Relacionamos transacciones, ubicaciones y capacidad</a></div>\n",
    "    \n",
    "<div class=\"lev1 toc-item\">\n",
    "    <a href=\"#Análisis-de-tickets-diarios-por-parquímetro\" data-toc-modified-id=\"Análisis-de-tickets-diarios-por-parquímetro\">\n",
    "    <span class=\"toc-item-num\">5&nbsp;&nbsp;</span>\n",
    "    Análisis de tickets diarios por parquímetro</a></div>\n",
    "       \n",
    "<div class=\"lev1 toc-item\">\n",
    "    <a href=\"#Construímos-la-serie-de-ocupación-por-timestamp\" data-toc-modified-id=\"Construímos-la-serie-de-ocupación-por-timestamp\">\n",
    "    <span class=\"toc-item-num\">6&nbsp;&nbsp;</span>\n",
    "    Construímos la serie de ocupación por timestamp</a></div>\n",
    "    \n",
    "<div class=\"lev1 toc-item\">\n",
    "    <a href=\"#Análisis-de-un-parquímetro-concreto\" data-toc-modified-id=\"Análisis-de-un-parquímetro-concreto\">\n",
    "    <span class=\"toc-item-num\">7&nbsp;&nbsp;</span>\n",
    "    Análisis de un parquímetro concreto</a></div>\n",
    "    \n",
    "<div class=\"lev1 toc-item\">\n",
    "    <a href=\"#Top-15%-parquímetros-con-más-transacciones\" data-toc-modified-id=\"Top-15%-parquímetros-con-más-transacciones\">\n",
    "    <span class=\"toc-item-num\">8&nbsp;&nbsp;</span>\n",
    "    Top 15% parquímetros con más transacciones</a></div>"
   ]
  },
  {
   "cell_type": "code",
   "execution_count": 1,
   "metadata": {
    "ExecuteTime": {
     "end_time": "2018-07-03T17:34:13.558645Z",
     "start_time": "2018-07-03T17:34:12.654286Z"
    }
   },
   "outputs": [],
   "source": [
    "import numpy as np\n",
    "import pandas as pd\n",
    "import os\n",
    "import seaborn as sns\n",
    "% matplotlib inline"
   ]
  },
  {
   "cell_type": "markdown",
   "metadata": {},
   "source": [
    "## Cargamos transacciones de Enero 2016"
   ]
  },
  {
   "cell_type": "code",
   "execution_count": 2,
   "metadata": {},
   "outputs": [],
   "source": [
    "df = pd.read_csv(os.path.join('./data/ParkingTransaction_2016_cleaned.csv'), \n",
    "                           parse_dates=['TransactionDateTime'])"
   ]
  },
  {
   "cell_type": "code",
   "execution_count": 3,
   "metadata": {},
   "outputs": [
    {
     "data": {
      "text/plain": [
       "count                10935395\n",
       "unique                5505469\n",
       "top       2016-04-08 12:03:59\n",
       "freq                       63\n",
       "first     2016-01-01 11:49:15\n",
       "last      2016-12-31 20:00:51\n",
       "Name: TransactionDateTime, dtype: object"
      ]
     },
     "execution_count": 3,
     "metadata": {},
     "output_type": "execute_result"
    }
   ],
   "source": [
    "df['TransactionDateTime'].describe()"
   ]
  },
  {
   "cell_type": "markdown",
   "metadata": {},
   "source": [
    "Acotamos inicialmente el dataset al mes de Enero para facilitar un primer análisis"
   ]
  },
  {
   "cell_type": "code",
   "execution_count": 4,
   "metadata": {},
   "outputs": [],
   "source": [
    "df = df.loc[df['TransactionDateTime'].dt.month == 1]     "
   ]
  },
  {
   "cell_type": "code",
   "execution_count": 5,
   "metadata": {},
   "outputs": [],
   "source": [
    "import re\n",
    "\n",
    "_underscorer1 = re.compile(r'(.)([A-Z][a-z]+)')\n",
    "_underscorer2 = re.compile('([a-z0-9])([A-Z])')\n",
    "\n",
    "def camelToSnake(s):\n",
    "    subbed = _underscorer1.sub(r'\\1_\\2', s)\n",
    "    return _underscorer2.sub(r'\\1_\\2', subbed).lower()"
   ]
  },
  {
   "cell_type": "code",
   "execution_count": 6,
   "metadata": {},
   "outputs": [
    {
     "name": "stdout",
     "output_type": "stream",
     "text": [
      "<class 'pandas.core.frame.DataFrame'>\n",
      "Int64Index: 843102 entries, 8 to 843065\n",
      "Data columns (total 12 columns):\n",
      "unnamed: 0               843102 non-null int64\n",
      "transaction_id           843102 non-null int64\n",
      "transaction_date_time    843102 non-null datetime64[ns]\n",
      "transaction_date         843102 non-null datetime64[ns]\n",
      "time_start               843102 non-null object\n",
      "time_expired             843102 non-null object\n",
      "duration_mins            843102 non-null int64\n",
      "amount                   843102 non-null float64\n",
      "payment_mean             843055 non-null object\n",
      "meter_code               843102 non-null int64\n",
      "element_key              843102 non-null int64\n",
      "final_date_time          843102 non-null datetime64[ns]\n",
      "dtypes: datetime64[ns](3), float64(1), int64(5), object(3)\n",
      "memory usage: 217.5 MB\n"
     ]
    }
   ],
   "source": [
    "df.columns = df.columns.map(lambda x: camelToSnake(x))\n",
    "\n",
    "df.transaction_date = pd.to_datetime(df.transaction_date, format=\"%Y-%m-%d\")\n",
    "df.sort_values('transaction_date_time', inplace=True)\n",
    "\n",
    "# creamos nueva columna 'final_date_time'\n",
    "df['final_date_time'] = df.transaction_date_time.add(pd.to_timedelta(df.duration_mins, unit=\"m\"))\n",
    "\n",
    "df.info(memory_usage='deep')"
   ]
  },
  {
   "cell_type": "code",
   "execution_count": 7,
   "metadata": {},
   "outputs": [],
   "source": [
    "df = df.drop(columns=['unnamed: 0','amount','payment_mean','meter_code'])"
   ]
  },
  {
   "cell_type": "code",
   "execution_count": 8,
   "metadata": {},
   "outputs": [
    {
     "data": {
      "text/html": [
       "<div>\n",
       "<style scoped>\n",
       "    .dataframe tbody tr th:only-of-type {\n",
       "        vertical-align: middle;\n",
       "    }\n",
       "\n",
       "    .dataframe tbody tr th {\n",
       "        vertical-align: top;\n",
       "    }\n",
       "\n",
       "    .dataframe thead th {\n",
       "        text-align: right;\n",
       "    }\n",
       "</style>\n",
       "<table border=\"1\" class=\"dataframe\">\n",
       "  <thead>\n",
       "    <tr style=\"text-align: right;\">\n",
       "      <th></th>\n",
       "      <th>transaction_id</th>\n",
       "      <th>transaction_date_time</th>\n",
       "      <th>transaction_date</th>\n",
       "      <th>time_start</th>\n",
       "      <th>time_expired</th>\n",
       "      <th>duration_mins</th>\n",
       "      <th>element_key</th>\n",
       "      <th>final_date_time</th>\n",
       "    </tr>\n",
       "  </thead>\n",
       "  <tbody>\n",
       "    <tr>\n",
       "      <th>8</th>\n",
       "      <td>183506786</td>\n",
       "      <td>2016-01-01 11:49:15</td>\n",
       "      <td>2016-01-01</td>\n",
       "      <td>11:49</td>\n",
       "      <td>11:49</td>\n",
       "      <td>0</td>\n",
       "      <td>54730</td>\n",
       "      <td>2016-01-01 11:49:15</td>\n",
       "    </tr>\n",
       "    <tr>\n",
       "      <th>4</th>\n",
       "      <td>183511748</td>\n",
       "      <td>2016-01-01 12:36:04</td>\n",
       "      <td>2016-01-01</td>\n",
       "      <td>12:36</td>\n",
       "      <td>12:36</td>\n",
       "      <td>0</td>\n",
       "      <td>88773</td>\n",
       "      <td>2016-01-01 12:36:04</td>\n",
       "    </tr>\n",
       "    <tr>\n",
       "      <th>17</th>\n",
       "      <td>183511753</td>\n",
       "      <td>2016-01-01 12:36:08</td>\n",
       "      <td>2016-01-01</td>\n",
       "      <td>12:36</td>\n",
       "      <td>12:36</td>\n",
       "      <td>0</td>\n",
       "      <td>88773</td>\n",
       "      <td>2016-01-01 12:36:08</td>\n",
       "    </tr>\n",
       "    <tr>\n",
       "      <th>15</th>\n",
       "      <td>183529739</td>\n",
       "      <td>2016-01-01 12:40:30</td>\n",
       "      <td>2016-01-01</td>\n",
       "      <td>12:40</td>\n",
       "      <td>12:40</td>\n",
       "      <td>0</td>\n",
       "      <td>57354</td>\n",
       "      <td>2016-01-01 12:40:30</td>\n",
       "    </tr>\n",
       "    <tr>\n",
       "      <th>12</th>\n",
       "      <td>183527118</td>\n",
       "      <td>2016-01-01 14:52:45</td>\n",
       "      <td>2016-01-01</td>\n",
       "      <td>14:52</td>\n",
       "      <td>14:52</td>\n",
       "      <td>0</td>\n",
       "      <td>76102</td>\n",
       "      <td>2016-01-01 14:52:45</td>\n",
       "    </tr>\n",
       "  </tbody>\n",
       "</table>\n",
       "</div>"
      ],
      "text/plain": [
       "    transaction_id transaction_date_time transaction_date time_start  \\\n",
       "8        183506786   2016-01-01 11:49:15       2016-01-01      11:49   \n",
       "4        183511748   2016-01-01 12:36:04       2016-01-01      12:36   \n",
       "17       183511753   2016-01-01 12:36:08       2016-01-01      12:36   \n",
       "15       183529739   2016-01-01 12:40:30       2016-01-01      12:40   \n",
       "12       183527118   2016-01-01 14:52:45       2016-01-01      14:52   \n",
       "\n",
       "   time_expired  duration_mins  element_key     final_date_time  \n",
       "8         11:49              0        54730 2016-01-01 11:49:15  \n",
       "4         12:36              0        88773 2016-01-01 12:36:04  \n",
       "17        12:36              0        88773 2016-01-01 12:36:08  \n",
       "15        12:40              0        57354 2016-01-01 12:40:30  \n",
       "12        14:52              0        76102 2016-01-01 14:52:45  "
      ]
     },
     "execution_count": 8,
     "metadata": {},
     "output_type": "execute_result"
    }
   ],
   "source": [
    "df.head()"
   ]
  },
  {
   "cell_type": "markdown",
   "metadata": {},
   "source": [
    "### Limpieza de transacciones"
   ]
  },
  {
   "cell_type": "code",
   "execution_count": 9,
   "metadata": {},
   "outputs": [
    {
     "data": {
      "text/plain": [
       "transaction_id           0\n",
       "transaction_date_time    0\n",
       "transaction_date         0\n",
       "time_start               0\n",
       "time_expired             0\n",
       "duration_mins            0\n",
       "element_key              0\n",
       "final_date_time          0\n",
       "dtype: int64"
      ]
     },
     "execution_count": 9,
     "metadata": {},
     "output_type": "execute_result"
    }
   ],
   "source": [
    "df.isnull().sum()  # no hay valores nulos"
   ]
  },
  {
   "cell_type": "code",
   "execution_count": 10,
   "metadata": {},
   "outputs": [
    {
     "data": {
      "text/plain": [
       "391"
      ]
     },
     "execution_count": 10,
     "metadata": {},
     "output_type": "execute_result"
    }
   ],
   "source": [
    "# Observamos algunas transacciones con duración = 0\n",
    "df.duration_mins.loc[df.duration_mins == 0].count()"
   ]
  },
  {
   "cell_type": "code",
   "execution_count": 11,
   "metadata": {
    "ExecuteTime": {
     "end_time": "2018-07-03T17:34:59.469053Z",
     "start_time": "2018-07-03T17:34:59.411159Z"
    }
   },
   "outputs": [],
   "source": [
    "# Las eliminamos porque suponen menos de un 0.05% del total\n",
    "df = df.loc[df.duration_mins != 0]"
   ]
  },
  {
   "cell_type": "code",
   "execution_count": 12,
   "metadata": {},
   "outputs": [],
   "source": [
    "# Eliminamos también aquellas transacciones con hora final entre las 0 y las 8, \n",
    "# por estar fuera del rango horario de uso de los parquímetros. Suponen un 0.5% del total.\n",
    "df = df.loc[df.final_date_time.dt.hour > 8]"
   ]
  },
  {
   "cell_type": "code",
   "execution_count": 13,
   "metadata": {
    "ExecuteTime": {
     "end_time": "2018-07-03T17:34:59.782213Z",
     "start_time": "2018-07-03T17:34:59.616688Z"
    }
   },
   "outputs": [],
   "source": [
    "# Eliminamos también aquellas transacciones con hora inicial mayor que 20,\n",
    "# por estar fuera del rango horario de uso de los parquímetros. Suponen menos de un 0.4% del total. \n",
    "df = df.loc[df.transaction_date_time.dt.hour < 20]"
   ]
  },
  {
   "cell_type": "code",
   "execution_count": 14,
   "metadata": {},
   "outputs": [],
   "source": [
    "# Eliminamos también aquellas transacciones realizadas por error en domingo\n",
    "df = df.loc[df.transaction_date_time.dt.weekday != 6]"
   ]
  },
  {
   "cell_type": "code",
   "execution_count": 15,
   "metadata": {},
   "outputs": [
    {
     "data": {
      "text/plain": [
       "(827298, 8)"
      ]
     },
     "execution_count": 15,
     "metadata": {},
     "output_type": "execute_result"
    }
   ],
   "source": [
    "df.shape  # con la limpieza hemos reducido el tamaño del dataset menos de un 1.9%."
   ]
  },
  {
   "cell_type": "markdown",
   "metadata": {},
   "source": [
    "## Cargamos datos de ubicación geográfica"
   ]
  },
  {
   "cell_type": "code",
   "execution_count": 16,
   "metadata": {},
   "outputs": [],
   "source": [
    "coord = pd.read_csv(os.path.join('./data/Coord_EK.csv'))"
   ]
  },
  {
   "cell_type": "code",
   "execution_count": 17,
   "metadata": {
    "ExecuteTime": {
     "end_time": "2018-07-03T17:34:59.893643Z",
     "start_time": "2018-07-03T17:34:59.880961Z"
    }
   },
   "outputs": [
    {
     "data": {
      "text/html": [
       "<div>\n",
       "<style scoped>\n",
       "    .dataframe tbody tr th:only-of-type {\n",
       "        vertical-align: middle;\n",
       "    }\n",
       "\n",
       "    .dataframe tbody tr th {\n",
       "        vertical-align: top;\n",
       "    }\n",
       "\n",
       "    .dataframe thead th {\n",
       "        text-align: right;\n",
       "    }\n",
       "</style>\n",
       "<table border=\"1\" class=\"dataframe\">\n",
       "  <thead>\n",
       "    <tr style=\"text-align: right;\">\n",
       "      <th></th>\n",
       "      <th>element_key</th>\n",
       "      <th>latitude</th>\n",
       "      <th>longitude</th>\n",
       "    </tr>\n",
       "  </thead>\n",
       "  <tbody>\n",
       "    <tr>\n",
       "      <th>0</th>\n",
       "      <td>1001</td>\n",
       "      <td>47.602862</td>\n",
       "      <td>-122.334703</td>\n",
       "    </tr>\n",
       "    <tr>\n",
       "      <th>1</th>\n",
       "      <td>1002</td>\n",
       "      <td>47.602997</td>\n",
       "      <td>-122.334538</td>\n",
       "    </tr>\n",
       "    <tr>\n",
       "      <th>2</th>\n",
       "      <td>1005</td>\n",
       "      <td>47.603602</td>\n",
       "      <td>-122.335382</td>\n",
       "    </tr>\n",
       "    <tr>\n",
       "      <th>3</th>\n",
       "      <td>1006</td>\n",
       "      <td>47.603725</td>\n",
       "      <td>-122.335171</td>\n",
       "    </tr>\n",
       "    <tr>\n",
       "      <th>4</th>\n",
       "      <td>1009</td>\n",
       "      <td>47.605010</td>\n",
       "      <td>-122.336669</td>\n",
       "    </tr>\n",
       "  </tbody>\n",
       "</table>\n",
       "</div>"
      ],
      "text/plain": [
       "   element_key   latitude   longitude\n",
       "0         1001  47.602862 -122.334703\n",
       "1         1002  47.602997 -122.334538\n",
       "2         1005  47.603602 -122.335382\n",
       "3         1006  47.603725 -122.335171\n",
       "4         1009  47.605010 -122.336669"
      ]
     },
     "execution_count": 17,
     "metadata": {},
     "output_type": "execute_result"
    }
   ],
   "source": [
    "coord.head()"
   ]
  },
  {
   "cell_type": "code",
   "execution_count": 18,
   "metadata": {},
   "outputs": [
    {
     "data": {
      "text/plain": [
       "0"
      ]
     },
     "execution_count": 18,
     "metadata": {},
     "output_type": "execute_result"
    }
   ],
   "source": [
    "coord.element_key.duplicated().sum()"
   ]
  },
  {
   "cell_type": "markdown",
   "metadata": {},
   "source": [
    "## Cargamos datos de capacidad de plazas"
   ]
  },
  {
   "cell_type": "code",
   "execution_count": 19,
   "metadata": {},
   "outputs": [],
   "source": [
    "blocks = pd.read_csv(os.path.join('./data/Blockface_cleaned.csv'))"
   ]
  },
  {
   "cell_type": "code",
   "execution_count": 20,
   "metadata": {},
   "outputs": [],
   "source": [
    "blocks.columns = blocks.columns.map(lambda x: camelToSnake(x))"
   ]
  },
  {
   "cell_type": "code",
   "execution_count": 21,
   "metadata": {},
   "outputs": [
    {
     "data": {
      "text/html": [
       "<div>\n",
       "<style scoped>\n",
       "    .dataframe tbody tr th:only-of-type {\n",
       "        vertical-align: middle;\n",
       "    }\n",
       "\n",
       "    .dataframe tbody tr th {\n",
       "        vertical-align: top;\n",
       "    }\n",
       "\n",
       "    .dataframe thead th {\n",
       "        text-align: right;\n",
       "    }\n",
       "</style>\n",
       "<table border=\"1\" class=\"dataframe\">\n",
       "  <thead>\n",
       "    <tr style=\"text-align: right;\">\n",
       "      <th></th>\n",
       "      <th>pay_station_blockface_id</th>\n",
       "      <th>element_key</th>\n",
       "      <th>parking_spaces</th>\n",
       "      <th>paid_parking_area</th>\n",
       "      <th>parking_time_limit_category</th>\n",
       "      <th>peak_hour_start1</th>\n",
       "      <th>peak_hour_end1</th>\n",
       "      <th>peak_hour_start2</th>\n",
       "      <th>peak_hour_end2</th>\n",
       "      <th>paid_area_start_time</th>\n",
       "      <th>...</th>\n",
       "      <th>saturday_start1</th>\n",
       "      <th>saturday_end1</th>\n",
       "      <th>saturday_rate2</th>\n",
       "      <th>saturday_start2</th>\n",
       "      <th>saturday_end2</th>\n",
       "      <th>saturday_rate3</th>\n",
       "      <th>saturday_start3</th>\n",
       "      <th>saturday_end3</th>\n",
       "      <th>start_time_saturday</th>\n",
       "      <th>end_time_saturday</th>\n",
       "    </tr>\n",
       "  </thead>\n",
       "  <tbody>\n",
       "    <tr>\n",
       "      <th>469</th>\n",
       "      <td>7576</td>\n",
       "      <td>1001</td>\n",
       "      <td>5.0</td>\n",
       "      <td>Pioneer Square</td>\n",
       "      <td>120.0</td>\n",
       "      <td>06:00:00</td>\n",
       "      <td>09:00:00</td>\n",
       "      <td>15:00:00</td>\n",
       "      <td>18:00:00</td>\n",
       "      <td>08:00:00</td>\n",
       "      <td>...</td>\n",
       "      <td>08:00:00</td>\n",
       "      <td>11:00:00</td>\n",
       "      <td>4.0</td>\n",
       "      <td>11:00:00</td>\n",
       "      <td>18:00:00</td>\n",
       "      <td>NaN</td>\n",
       "      <td>NaN</td>\n",
       "      <td>NaN</td>\n",
       "      <td>08:00:00</td>\n",
       "      <td>18:00:00</td>\n",
       "    </tr>\n",
       "    <tr>\n",
       "      <th>2783</th>\n",
       "      <td>10071</td>\n",
       "      <td>1001</td>\n",
       "      <td>5.0</td>\n",
       "      <td>Pioneer Square</td>\n",
       "      <td>120.0</td>\n",
       "      <td>06:00:00</td>\n",
       "      <td>09:00:00</td>\n",
       "      <td>15:00:00</td>\n",
       "      <td>18:00:00</td>\n",
       "      <td>08:00:00</td>\n",
       "      <td>...</td>\n",
       "      <td>08:00:00</td>\n",
       "      <td>11:00:00</td>\n",
       "      <td>4.5</td>\n",
       "      <td>11:00:00</td>\n",
       "      <td>18:00:00</td>\n",
       "      <td>NaN</td>\n",
       "      <td>NaN</td>\n",
       "      <td>NaN</td>\n",
       "      <td>08:00:00</td>\n",
       "      <td>18:00:00</td>\n",
       "    </tr>\n",
       "    <tr>\n",
       "      <th>3017</th>\n",
       "      <td>10262</td>\n",
       "      <td>1001</td>\n",
       "      <td>4.0</td>\n",
       "      <td>Pioneer Square</td>\n",
       "      <td>120.0</td>\n",
       "      <td>06:00:00</td>\n",
       "      <td>09:00:00</td>\n",
       "      <td>15:00:00</td>\n",
       "      <td>18:00:00</td>\n",
       "      <td>08:00:00</td>\n",
       "      <td>...</td>\n",
       "      <td>08:00:00</td>\n",
       "      <td>11:00:00</td>\n",
       "      <td>4.5</td>\n",
       "      <td>11:00:00</td>\n",
       "      <td>18:00:00</td>\n",
       "      <td>NaN</td>\n",
       "      <td>NaN</td>\n",
       "      <td>NaN</td>\n",
       "      <td>08:00:00</td>\n",
       "      <td>18:00:00</td>\n",
       "    </tr>\n",
       "    <tr>\n",
       "      <th>4648</th>\n",
       "      <td>11976</td>\n",
       "      <td>1001</td>\n",
       "      <td>4.0</td>\n",
       "      <td>NaN</td>\n",
       "      <td>120.0</td>\n",
       "      <td>06:00:00</td>\n",
       "      <td>09:00:00</td>\n",
       "      <td>15:00:00</td>\n",
       "      <td>18:00:00</td>\n",
       "      <td>NaN</td>\n",
       "      <td>...</td>\n",
       "      <td>00:00:00</td>\n",
       "      <td>00:00:00</td>\n",
       "      <td>0.0</td>\n",
       "      <td>00:00:00</td>\n",
       "      <td>00:00:00</td>\n",
       "      <td>0.0</td>\n",
       "      <td>00:00:00</td>\n",
       "      <td>00:00:00</td>\n",
       "      <td>NaN</td>\n",
       "      <td>NaN</td>\n",
       "    </tr>\n",
       "    <tr>\n",
       "      <th>5989</th>\n",
       "      <td>13670</td>\n",
       "      <td>1001</td>\n",
       "      <td>4.0</td>\n",
       "      <td>Pioneer Square</td>\n",
       "      <td>120.0</td>\n",
       "      <td>06:00:00</td>\n",
       "      <td>09:00:00</td>\n",
       "      <td>15:00:00</td>\n",
       "      <td>18:00:00</td>\n",
       "      <td>08:00:00</td>\n",
       "      <td>...</td>\n",
       "      <td>08:00:00</td>\n",
       "      <td>11:00:00</td>\n",
       "      <td>4.5</td>\n",
       "      <td>11:00:00</td>\n",
       "      <td>18:00:00</td>\n",
       "      <td>NaN</td>\n",
       "      <td>NaN</td>\n",
       "      <td>NaN</td>\n",
       "      <td>08:00:00</td>\n",
       "      <td>18:00:00</td>\n",
       "    </tr>\n",
       "    <tr>\n",
       "      <th>6301</th>\n",
       "      <td>14348</td>\n",
       "      <td>1001</td>\n",
       "      <td>5.0</td>\n",
       "      <td>Pioneer Square</td>\n",
       "      <td>120.0</td>\n",
       "      <td>06:00:00</td>\n",
       "      <td>09:00:00</td>\n",
       "      <td>15:00:00</td>\n",
       "      <td>18:00:00</td>\n",
       "      <td>08:00:00</td>\n",
       "      <td>...</td>\n",
       "      <td>08:00:00</td>\n",
       "      <td>11:00:00</td>\n",
       "      <td>5.0</td>\n",
       "      <td>11:00:00</td>\n",
       "      <td>18:00:00</td>\n",
       "      <td>NaN</td>\n",
       "      <td>NaN</td>\n",
       "      <td>NaN</td>\n",
       "      <td>08:00:00</td>\n",
       "      <td>18:00:00</td>\n",
       "    </tr>\n",
       "    <tr>\n",
       "      <th>7077</th>\n",
       "      <td>13939</td>\n",
       "      <td>1001</td>\n",
       "      <td>5.0</td>\n",
       "      <td>Pioneer Square</td>\n",
       "      <td>120.0</td>\n",
       "      <td>06:00:00</td>\n",
       "      <td>09:00:00</td>\n",
       "      <td>15:00:00</td>\n",
       "      <td>18:00:00</td>\n",
       "      <td>08:00:00</td>\n",
       "      <td>...</td>\n",
       "      <td>08:00:00</td>\n",
       "      <td>11:00:00</td>\n",
       "      <td>4.5</td>\n",
       "      <td>11:00:00</td>\n",
       "      <td>18:00:00</td>\n",
       "      <td>NaN</td>\n",
       "      <td>NaN</td>\n",
       "      <td>NaN</td>\n",
       "      <td>08:00:00</td>\n",
       "      <td>18:00:00</td>\n",
       "    </tr>\n",
       "    <tr>\n",
       "      <th>8059</th>\n",
       "      <td>3405</td>\n",
       "      <td>1001</td>\n",
       "      <td>5.0</td>\n",
       "      <td>Pioneer Square</td>\n",
       "      <td>120.0</td>\n",
       "      <td>06:00:00</td>\n",
       "      <td>09:00:00</td>\n",
       "      <td>15:00:00</td>\n",
       "      <td>18:00:00</td>\n",
       "      <td>08:00:00</td>\n",
       "      <td>...</td>\n",
       "      <td>NaN</td>\n",
       "      <td>NaN</td>\n",
       "      <td>NaN</td>\n",
       "      <td>NaN</td>\n",
       "      <td>NaN</td>\n",
       "      <td>NaN</td>\n",
       "      <td>NaN</td>\n",
       "      <td>NaN</td>\n",
       "      <td>NaN</td>\n",
       "      <td>NaN</td>\n",
       "    </tr>\n",
       "    <tr>\n",
       "      <th>10576</th>\n",
       "      <td>1352</td>\n",
       "      <td>1001</td>\n",
       "      <td>7.0</td>\n",
       "      <td>Pioneer Square</td>\n",
       "      <td>120.0</td>\n",
       "      <td>06:00:00</td>\n",
       "      <td>09:00:00</td>\n",
       "      <td>15:00:00</td>\n",
       "      <td>18:00:00</td>\n",
       "      <td>08:00:00</td>\n",
       "      <td>...</td>\n",
       "      <td>NaN</td>\n",
       "      <td>NaN</td>\n",
       "      <td>NaN</td>\n",
       "      <td>NaN</td>\n",
       "      <td>NaN</td>\n",
       "      <td>NaN</td>\n",
       "      <td>NaN</td>\n",
       "      <td>NaN</td>\n",
       "      <td>NaN</td>\n",
       "      <td>NaN</td>\n",
       "    </tr>\n",
       "    <tr>\n",
       "      <th>11332</th>\n",
       "      <td>6046</td>\n",
       "      <td>1001</td>\n",
       "      <td>5.0</td>\n",
       "      <td>Pioneer Square</td>\n",
       "      <td>120.0</td>\n",
       "      <td>06:00:00</td>\n",
       "      <td>09:00:00</td>\n",
       "      <td>15:00:00</td>\n",
       "      <td>18:00:00</td>\n",
       "      <td>08:00:00</td>\n",
       "      <td>...</td>\n",
       "      <td>08:00:00</td>\n",
       "      <td>11:00:00</td>\n",
       "      <td>3.5</td>\n",
       "      <td>11:00:00</td>\n",
       "      <td>18:00:00</td>\n",
       "      <td>NaN</td>\n",
       "      <td>NaN</td>\n",
       "      <td>NaN</td>\n",
       "      <td>08:00:00</td>\n",
       "      <td>18:00:00</td>\n",
       "    </tr>\n",
       "    <tr>\n",
       "      <th>11812</th>\n",
       "      <td>7333</td>\n",
       "      <td>1001</td>\n",
       "      <td>5.0</td>\n",
       "      <td>NaN</td>\n",
       "      <td>120.0</td>\n",
       "      <td>06:00:00</td>\n",
       "      <td>09:00:00</td>\n",
       "      <td>15:00:00</td>\n",
       "      <td>18:00:00</td>\n",
       "      <td>NaN</td>\n",
       "      <td>...</td>\n",
       "      <td>00:00:00</td>\n",
       "      <td>00:00:00</td>\n",
       "      <td>0.0</td>\n",
       "      <td>00:00:00</td>\n",
       "      <td>00:00:00</td>\n",
       "      <td>0.0</td>\n",
       "      <td>00:00:00</td>\n",
       "      <td>00:00:00</td>\n",
       "      <td>NaN</td>\n",
       "      <td>NaN</td>\n",
       "    </tr>\n",
       "    <tr>\n",
       "      <th>12193</th>\n",
       "      <td>7440</td>\n",
       "      <td>1001</td>\n",
       "      <td>5.0</td>\n",
       "      <td>Pioneer Square</td>\n",
       "      <td>120.0</td>\n",
       "      <td>06:00:00</td>\n",
       "      <td>09:00:00</td>\n",
       "      <td>15:00:00</td>\n",
       "      <td>18:00:00</td>\n",
       "      <td>08:00:00</td>\n",
       "      <td>...</td>\n",
       "      <td>08:00:00</td>\n",
       "      <td>11:00:00</td>\n",
       "      <td>3.5</td>\n",
       "      <td>11:00:00</td>\n",
       "      <td>18:00:00</td>\n",
       "      <td>NaN</td>\n",
       "      <td>NaN</td>\n",
       "      <td>NaN</td>\n",
       "      <td>08:00:00</td>\n",
       "      <td>18:00:00</td>\n",
       "    </tr>\n",
       "  </tbody>\n",
       "</table>\n",
       "<p>12 rows × 39 columns</p>\n",
       "</div>"
      ],
      "text/plain": [
       "       pay_station_blockface_id  element_key  parking_spaces  \\\n",
       "469                        7576         1001             5.0   \n",
       "2783                      10071         1001             5.0   \n",
       "3017                      10262         1001             4.0   \n",
       "4648                      11976         1001             4.0   \n",
       "5989                      13670         1001             4.0   \n",
       "6301                      14348         1001             5.0   \n",
       "7077                      13939         1001             5.0   \n",
       "8059                       3405         1001             5.0   \n",
       "10576                      1352         1001             7.0   \n",
       "11332                      6046         1001             5.0   \n",
       "11812                      7333         1001             5.0   \n",
       "12193                      7440         1001             5.0   \n",
       "\n",
       "      paid_parking_area  parking_time_limit_category peak_hour_start1  \\\n",
       "469      Pioneer Square                        120.0         06:00:00   \n",
       "2783     Pioneer Square                        120.0         06:00:00   \n",
       "3017     Pioneer Square                        120.0         06:00:00   \n",
       "4648                NaN                        120.0         06:00:00   \n",
       "5989     Pioneer Square                        120.0         06:00:00   \n",
       "6301     Pioneer Square                        120.0         06:00:00   \n",
       "7077     Pioneer Square                        120.0         06:00:00   \n",
       "8059     Pioneer Square                        120.0         06:00:00   \n",
       "10576    Pioneer Square                        120.0         06:00:00   \n",
       "11332    Pioneer Square                        120.0         06:00:00   \n",
       "11812               NaN                        120.0         06:00:00   \n",
       "12193    Pioneer Square                        120.0         06:00:00   \n",
       "\n",
       "      peak_hour_end1 peak_hour_start2 peak_hour_end2 paid_area_start_time  \\\n",
       "469         09:00:00         15:00:00       18:00:00             08:00:00   \n",
       "2783        09:00:00         15:00:00       18:00:00             08:00:00   \n",
       "3017        09:00:00         15:00:00       18:00:00             08:00:00   \n",
       "4648        09:00:00         15:00:00       18:00:00                  NaN   \n",
       "5989        09:00:00         15:00:00       18:00:00             08:00:00   \n",
       "6301        09:00:00         15:00:00       18:00:00             08:00:00   \n",
       "7077        09:00:00         15:00:00       18:00:00             08:00:00   \n",
       "8059        09:00:00         15:00:00       18:00:00             08:00:00   \n",
       "10576       09:00:00         15:00:00       18:00:00             08:00:00   \n",
       "11332       09:00:00         15:00:00       18:00:00             08:00:00   \n",
       "11812       09:00:00         15:00:00       18:00:00                  NaN   \n",
       "12193       09:00:00         15:00:00       18:00:00             08:00:00   \n",
       "\n",
       "             ...        saturday_start1 saturday_end1 saturday_rate2  \\\n",
       "469          ...               08:00:00      11:00:00            4.0   \n",
       "2783         ...               08:00:00      11:00:00            4.5   \n",
       "3017         ...               08:00:00      11:00:00            4.5   \n",
       "4648         ...               00:00:00      00:00:00            0.0   \n",
       "5989         ...               08:00:00      11:00:00            4.5   \n",
       "6301         ...               08:00:00      11:00:00            5.0   \n",
       "7077         ...               08:00:00      11:00:00            4.5   \n",
       "8059         ...                    NaN           NaN            NaN   \n",
       "10576        ...                    NaN           NaN            NaN   \n",
       "11332        ...               08:00:00      11:00:00            3.5   \n",
       "11812        ...               00:00:00      00:00:00            0.0   \n",
       "12193        ...               08:00:00      11:00:00            3.5   \n",
       "\n",
       "       saturday_start2 saturday_end2  saturday_rate3  saturday_start3  \\\n",
       "469           11:00:00      18:00:00             NaN              NaN   \n",
       "2783          11:00:00      18:00:00             NaN              NaN   \n",
       "3017          11:00:00      18:00:00             NaN              NaN   \n",
       "4648          00:00:00      00:00:00             0.0         00:00:00   \n",
       "5989          11:00:00      18:00:00             NaN              NaN   \n",
       "6301          11:00:00      18:00:00             NaN              NaN   \n",
       "7077          11:00:00      18:00:00             NaN              NaN   \n",
       "8059               NaN           NaN             NaN              NaN   \n",
       "10576              NaN           NaN             NaN              NaN   \n",
       "11332         11:00:00      18:00:00             NaN              NaN   \n",
       "11812         00:00:00      00:00:00             0.0         00:00:00   \n",
       "12193         11:00:00      18:00:00             NaN              NaN   \n",
       "\n",
       "       saturday_end3 start_time_saturday end_time_saturday  \n",
       "469              NaN            08:00:00          18:00:00  \n",
       "2783             NaN            08:00:00          18:00:00  \n",
       "3017             NaN            08:00:00          18:00:00  \n",
       "4648        00:00:00                 NaN               NaN  \n",
       "5989             NaN            08:00:00          18:00:00  \n",
       "6301             NaN            08:00:00          18:00:00  \n",
       "7077             NaN            08:00:00          18:00:00  \n",
       "8059             NaN                 NaN               NaN  \n",
       "10576            NaN                 NaN               NaN  \n",
       "11332            NaN            08:00:00          18:00:00  \n",
       "11812       00:00:00                 NaN               NaN  \n",
       "12193            NaN            08:00:00          18:00:00  \n",
       "\n",
       "[12 rows x 39 columns]"
      ]
     },
     "execution_count": 21,
     "metadata": {},
     "output_type": "execute_result"
    }
   ],
   "source": [
    "blocks[blocks.element_key == 1001]"
   ]
  },
  {
   "cell_type": "markdown",
   "metadata": {},
   "source": [
    "Como hay algunos casos como el anterior donde hay divergencia en la información de plazas asociadas a un mismo element_key, calculamos la media redondeada a un valor entero de los distintos valores existentes."
   ]
  },
  {
   "cell_type": "code",
   "execution_count": 22,
   "metadata": {},
   "outputs": [],
   "source": [
    "park_spaces = blocks.groupby('element_key')['parking_spaces'].mean()"
   ]
  },
  {
   "cell_type": "code",
   "execution_count": 23,
   "metadata": {},
   "outputs": [],
   "source": [
    "park_spaces = park_spaces.reset_index(level=['element_key'])"
   ]
  },
  {
   "cell_type": "code",
   "execution_count": 24,
   "metadata": {},
   "outputs": [
    {
     "data": {
      "text/plain": [
       "141   NaN\n",
       "Name: parking_spaces, dtype: float64"
      ]
     },
     "execution_count": 24,
     "metadata": {},
     "output_type": "execute_result"
    }
   ],
   "source": [
    "park_spaces.parking_spaces.loc[park_spaces.parking_spaces.isnull()]"
   ]
  },
  {
   "cell_type": "code",
   "execution_count": 25,
   "metadata": {},
   "outputs": [],
   "source": [
    "park_spaces = park_spaces.dropna()  # eliminamos un valor nulo"
   ]
  },
  {
   "cell_type": "code",
   "execution_count": 26,
   "metadata": {},
   "outputs": [],
   "source": [
    "park_spaces.parking_spaces = np.rint(park_spaces.parking_spaces).astype(int)"
   ]
  },
  {
   "cell_type": "code",
   "execution_count": 27,
   "metadata": {},
   "outputs": [],
   "source": [
    "# park_spaces.to_csv('./data/Parking_Spaces.csv', index=False)"
   ]
  },
  {
   "cell_type": "code",
   "execution_count": 28,
   "metadata": {},
   "outputs": [
    {
     "data": {
      "text/plain": [
       "0"
      ]
     },
     "execution_count": 28,
     "metadata": {},
     "output_type": "execute_result"
    }
   ],
   "source": [
    "park_spaces.element_key.duplicated().sum()"
   ]
  },
  {
   "cell_type": "code",
   "execution_count": 29,
   "metadata": {},
   "outputs": [
    {
     "data": {
      "text/html": [
       "<div>\n",
       "<style scoped>\n",
       "    .dataframe tbody tr th:only-of-type {\n",
       "        vertical-align: middle;\n",
       "    }\n",
       "\n",
       "    .dataframe tbody tr th {\n",
       "        vertical-align: top;\n",
       "    }\n",
       "\n",
       "    .dataframe thead th {\n",
       "        text-align: right;\n",
       "    }\n",
       "</style>\n",
       "<table border=\"1\" class=\"dataframe\">\n",
       "  <thead>\n",
       "    <tr style=\"text-align: right;\">\n",
       "      <th></th>\n",
       "      <th>element_key</th>\n",
       "      <th>parking_spaces</th>\n",
       "    </tr>\n",
       "  </thead>\n",
       "  <tbody>\n",
       "    <tr>\n",
       "      <th>0</th>\n",
       "      <td>1001</td>\n",
       "      <td>5</td>\n",
       "    </tr>\n",
       "    <tr>\n",
       "      <th>1</th>\n",
       "      <td>1002</td>\n",
       "      <td>9</td>\n",
       "    </tr>\n",
       "    <tr>\n",
       "      <th>2</th>\n",
       "      <td>1005</td>\n",
       "      <td>5</td>\n",
       "    </tr>\n",
       "    <tr>\n",
       "      <th>3</th>\n",
       "      <td>1006</td>\n",
       "      <td>5</td>\n",
       "    </tr>\n",
       "    <tr>\n",
       "      <th>4</th>\n",
       "      <td>1009</td>\n",
       "      <td>5</td>\n",
       "    </tr>\n",
       "  </tbody>\n",
       "</table>\n",
       "</div>"
      ],
      "text/plain": [
       "   element_key  parking_spaces\n",
       "0         1001               5\n",
       "1         1002               9\n",
       "2         1005               5\n",
       "3         1006               5\n",
       "4         1009               5"
      ]
     },
     "execution_count": 29,
     "metadata": {},
     "output_type": "execute_result"
    }
   ],
   "source": [
    "park_spaces.head()"
   ]
  },
  {
   "cell_type": "markdown",
   "metadata": {},
   "source": [
    "## Relacionamos transacciones, ubicaciones y capacidad"
   ]
  },
  {
   "cell_type": "code",
   "execution_count": 30,
   "metadata": {
    "ExecuteTime": {
     "end_time": "2018-07-03T17:35:00.005598Z",
     "start_time": "2018-07-03T17:34:59.983371Z"
    }
   },
   "outputs": [
    {
     "data": {
      "text/plain": [
       "1464"
      ]
     },
     "execution_count": 30,
     "metadata": {},
     "output_type": "execute_result"
    }
   ],
   "source": [
    "df.element_key.unique().size"
   ]
  },
  {
   "cell_type": "code",
   "execution_count": 31,
   "metadata": {},
   "outputs": [
    {
     "data": {
      "text/plain": [
       "1517"
      ]
     },
     "execution_count": 31,
     "metadata": {},
     "output_type": "execute_result"
    }
   ],
   "source": [
    "coord.element_key.unique().size"
   ]
  },
  {
   "cell_type": "code",
   "execution_count": 32,
   "metadata": {},
   "outputs": [
    {
     "data": {
      "text/plain": [
       "1707"
      ]
     },
     "execution_count": 32,
     "metadata": {},
     "output_type": "execute_result"
    }
   ],
   "source": [
    "park_spaces.element_key.unique().size"
   ]
  },
  {
   "cell_type": "code",
   "execution_count": 33,
   "metadata": {
    "ExecuteTime": {
     "end_time": "2018-07-03T17:35:00.317807Z",
     "start_time": "2018-07-03T17:35:00.006918Z"
    }
   },
   "outputs": [
    {
     "data": {
      "text/plain": [
       "1405"
      ]
     },
     "execution_count": 33,
     "metadata": {},
     "output_type": "execute_result"
    }
   ],
   "source": [
    "len(set(coord.element_key).intersection(set(df.element_key)))"
   ]
  },
  {
   "cell_type": "code",
   "execution_count": 34,
   "metadata": {},
   "outputs": [
    {
     "data": {
      "text/plain": [
       "1463"
      ]
     },
     "execution_count": 34,
     "metadata": {},
     "output_type": "execute_result"
    }
   ],
   "source": [
    "len(set(park_spaces.element_key).intersection(set(df.element_key)))"
   ]
  },
  {
   "cell_type": "markdown",
   "metadata": {},
   "source": [
    "**Mezclamos los datasets:**"
   ]
  },
  {
   "cell_type": "code",
   "execution_count": 35,
   "metadata": {
    "ExecuteTime": {
     "end_time": "2018-07-03T17:35:02.704490Z",
     "start_time": "2018-07-03T17:35:00.319180Z"
    }
   },
   "outputs": [],
   "source": [
    "df_c = pd.merge(df, coord, on='element_key', how='inner', validate='many_to_one')"
   ]
  },
  {
   "cell_type": "code",
   "execution_count": 36,
   "metadata": {},
   "outputs": [],
   "source": [
    "df_cp = pd.merge(df_c, park_spaces, on='element_key', how='inner', validate='many_to_one')"
   ]
  },
  {
   "cell_type": "code",
   "execution_count": 37,
   "metadata": {
    "ExecuteTime": {
     "end_time": "2018-07-03T17:35:04.274684Z",
     "start_time": "2018-07-03T17:35:04.271724Z"
    }
   },
   "outputs": [
    {
     "data": {
      "text/plain": [
       "((827298, 8), (806100, 10), (806100, 11))"
      ]
     },
     "execution_count": 37,
     "metadata": {},
     "output_type": "execute_result"
    }
   ],
   "source": [
    "df.shape, df_c.shape, df_cp.shape"
   ]
  },
  {
   "cell_type": "code",
   "execution_count": 38,
   "metadata": {
    "ExecuteTime": {
     "end_time": "2018-07-03T17:35:04.633382Z",
     "start_time": "2018-07-03T17:35:04.276238Z"
    }
   },
   "outputs": [
    {
     "data": {
      "text/plain": [
       "0"
      ]
     },
     "execution_count": 38,
     "metadata": {},
     "output_type": "execute_result"
    }
   ],
   "source": [
    "df_cp.transaction_id.duplicated().sum()"
   ]
  },
  {
   "cell_type": "code",
   "execution_count": 39,
   "metadata": {
    "ExecuteTime": {
     "end_time": "2018-07-03T17:35:04.684905Z",
     "start_time": "2018-07-03T17:35:04.634751Z"
    }
   },
   "outputs": [
    {
     "data": {
      "text/html": [
       "<div>\n",
       "<style scoped>\n",
       "    .dataframe tbody tr th:only-of-type {\n",
       "        vertical-align: middle;\n",
       "    }\n",
       "\n",
       "    .dataframe tbody tr th {\n",
       "        vertical-align: top;\n",
       "    }\n",
       "\n",
       "    .dataframe thead th {\n",
       "        text-align: right;\n",
       "    }\n",
       "</style>\n",
       "<table border=\"1\" class=\"dataframe\">\n",
       "  <thead>\n",
       "    <tr style=\"text-align: right;\">\n",
       "      <th></th>\n",
       "      <th>transaction_date_time</th>\n",
       "      <th>transaction_date</th>\n",
       "      <th>time_start</th>\n",
       "      <th>time_expired</th>\n",
       "      <th>duration_mins</th>\n",
       "      <th>element_key</th>\n",
       "      <th>final_date_time</th>\n",
       "      <th>latitude</th>\n",
       "      <th>longitude</th>\n",
       "      <th>parking_spaces</th>\n",
       "    </tr>\n",
       "    <tr>\n",
       "      <th>transaction_id</th>\n",
       "      <th></th>\n",
       "      <th></th>\n",
       "      <th></th>\n",
       "      <th></th>\n",
       "      <th></th>\n",
       "      <th></th>\n",
       "      <th></th>\n",
       "      <th></th>\n",
       "      <th></th>\n",
       "      <th></th>\n",
       "    </tr>\n",
       "  </thead>\n",
       "  <tbody>\n",
       "    <tr>\n",
       "      <th>64059668</th>\n",
       "      <td>2016-01-02 00:19:07</td>\n",
       "      <td>2016-01-02</td>\n",
       "      <td>00:19</td>\n",
       "      <td>10:17</td>\n",
       "      <td>598</td>\n",
       "      <td>35693</td>\n",
       "      <td>2016-01-02 10:17:07</td>\n",
       "      <td>47.619158</td>\n",
       "      <td>-122.346457</td>\n",
       "      <td>7</td>\n",
       "    </tr>\n",
       "    <tr>\n",
       "      <th>64059669</th>\n",
       "      <td>2016-01-02 00:21:55</td>\n",
       "      <td>2016-01-02</td>\n",
       "      <td>00:21</td>\n",
       "      <td>10:19</td>\n",
       "      <td>598</td>\n",
       "      <td>35693</td>\n",
       "      <td>2016-01-02 10:19:55</td>\n",
       "      <td>47.619158</td>\n",
       "      <td>-122.346457</td>\n",
       "      <td>7</td>\n",
       "    </tr>\n",
       "    <tr>\n",
       "      <th>64084672</th>\n",
       "      <td>2016-01-02 07:52:55</td>\n",
       "      <td>2016-01-02</td>\n",
       "      <td>07:52</td>\n",
       "      <td>14:02</td>\n",
       "      <td>370</td>\n",
       "      <td>35693</td>\n",
       "      <td>2016-01-02 14:02:55</td>\n",
       "      <td>47.619158</td>\n",
       "      <td>-122.346457</td>\n",
       "      <td>7</td>\n",
       "    </tr>\n",
       "    <tr>\n",
       "      <th>183563751</th>\n",
       "      <td>2016-01-02 08:10:02</td>\n",
       "      <td>2016-01-02</td>\n",
       "      <td>08:10</td>\n",
       "      <td>09:10</td>\n",
       "      <td>60</td>\n",
       "      <td>35693</td>\n",
       "      <td>2016-01-02 09:10:02</td>\n",
       "      <td>47.619158</td>\n",
       "      <td>-122.346457</td>\n",
       "      <td>7</td>\n",
       "    </tr>\n",
       "    <tr>\n",
       "      <th>64084673</th>\n",
       "      <td>2016-01-02 08:22:59</td>\n",
       "      <td>2016-01-02</td>\n",
       "      <td>08:22</td>\n",
       "      <td>10:22</td>\n",
       "      <td>120</td>\n",
       "      <td>35693</td>\n",
       "      <td>2016-01-02 10:22:59</td>\n",
       "      <td>47.619158</td>\n",
       "      <td>-122.346457</td>\n",
       "      <td>7</td>\n",
       "    </tr>\n",
       "  </tbody>\n",
       "</table>\n",
       "</div>"
      ],
      "text/plain": [
       "               transaction_date_time transaction_date time_start time_expired  \\\n",
       "transaction_id                                                                  \n",
       "64059668         2016-01-02 00:19:07       2016-01-02      00:19        10:17   \n",
       "64059669         2016-01-02 00:21:55       2016-01-02      00:21        10:19   \n",
       "64084672         2016-01-02 07:52:55       2016-01-02      07:52        14:02   \n",
       "183563751        2016-01-02 08:10:02       2016-01-02      08:10        09:10   \n",
       "64084673         2016-01-02 08:22:59       2016-01-02      08:22        10:22   \n",
       "\n",
       "                duration_mins  element_key     final_date_time   latitude  \\\n",
       "transaction_id                                                              \n",
       "64059668                  598        35693 2016-01-02 10:17:07  47.619158   \n",
       "64059669                  598        35693 2016-01-02 10:19:55  47.619158   \n",
       "64084672                  370        35693 2016-01-02 14:02:55  47.619158   \n",
       "183563751                  60        35693 2016-01-02 09:10:02  47.619158   \n",
       "64084673                  120        35693 2016-01-02 10:22:59  47.619158   \n",
       "\n",
       "                 longitude  parking_spaces  \n",
       "transaction_id                              \n",
       "64059668       -122.346457               7  \n",
       "64059669       -122.346457               7  \n",
       "64084672       -122.346457               7  \n",
       "183563751      -122.346457               7  \n",
       "64084673       -122.346457               7  "
      ]
     },
     "execution_count": 39,
     "metadata": {},
     "output_type": "execute_result"
    }
   ],
   "source": [
    "df_cp.set_index('transaction_id', inplace=True)\n",
    "df_cp.head()"
   ]
  },
  {
   "cell_type": "markdown",
   "metadata": {},
   "source": [
    "## Análisis de tickets diarios por parquímetro"
   ]
  },
  {
   "cell_type": "code",
   "execution_count": 40,
   "metadata": {
    "ExecuteTime": {
     "end_time": "2018-07-03T17:36:15.788285Z",
     "start_time": "2018-07-03T17:36:15.772397Z"
    }
   },
   "outputs": [
    {
     "data": {
      "text/plain": [
       "1405"
      ]
     },
     "execution_count": 40,
     "metadata": {},
     "output_type": "execute_result"
    }
   ],
   "source": [
    "df_cp.element_key.unique().size"
   ]
  },
  {
   "cell_type": "code",
   "execution_count": 41,
   "metadata": {},
   "outputs": [
    {
     "data": {
      "text/plain": [
       "element_key\n",
       "31853    4931\n",
       "1234     3779\n",
       "35845    3533\n",
       "54737    3303\n",
       "35850    3246\n",
       "35846    2869\n",
       "13213    2710\n",
       "1233     2404\n",
       "24406    2334\n",
       "36158    2322\n",
       "2922     2303\n",
       "31850    2285\n",
       "9474     2186\n",
       "9353     2114\n",
       "81210    2091\n",
       "Name: parking_spaces, dtype: int64"
      ]
     },
     "execution_count": 41,
     "metadata": {},
     "output_type": "execute_result"
    }
   ],
   "source": [
    "# Top 15 de parquímetros con más transacciones\n",
    "df_cp.groupby('element_key').parking_spaces.count().sort_values(ascending=False).head(15)"
   ]
  },
  {
   "cell_type": "markdown",
   "metadata": {},
   "source": [
    "Días que transcurren en el dataset:"
   ]
  },
  {
   "cell_type": "code",
   "execution_count": 42,
   "metadata": {
    "ExecuteTime": {
     "end_time": "2018-07-03T17:36:15.797314Z",
     "start_time": "2018-07-03T17:36:15.789730Z"
    }
   },
   "outputs": [
    {
     "data": {
      "text/plain": [
       "Timedelta('28 days 13:53:15')"
      ]
     },
     "execution_count": 42,
     "metadata": {},
     "output_type": "execute_result"
    }
   ],
   "source": [
    "first_moment = df_cp.transaction_date_time.iloc[0]\n",
    "last_moment = df_cp.transaction_date_time.iloc[-1]\n",
    "time_elapsed = last_moment - first_moment\n",
    "time_elapsed"
   ]
  },
  {
   "cell_type": "markdown",
   "metadata": {},
   "source": [
    "Tickets al día promedio por parquímetro:"
   ]
  },
  {
   "cell_type": "code",
   "execution_count": 43,
   "metadata": {
    "ExecuteTime": {
     "end_time": "2018-07-03T17:36:15.880971Z",
     "start_time": "2018-07-03T17:36:15.798806Z"
    }
   },
   "outputs": [
    {
     "data": {
      "text/plain": [
       "element_key\n",
       "31853    176.107143\n",
       "1234     134.964286\n",
       "35845    126.178571\n",
       "54737    117.964286\n",
       "35850    115.928571\n",
       "35846    102.464286\n",
       "13213     96.785714\n",
       "1233      85.857143\n",
       "24406     83.357143\n",
       "36158     82.928571\n",
       "2922      82.250000\n",
       "31850     81.607143\n",
       "9474      78.071429\n",
       "9353      75.500000\n",
       "81210     74.678571\n",
       "Name: tickets_by_day, dtype: float64"
      ]
     },
     "execution_count": 43,
     "metadata": {},
     "output_type": "execute_result"
    }
   ],
   "source": [
    "parkimeter_ticket_by_day = df_cp.groupby('element_key').parking_spaces.count() / time_elapsed.days\n",
    "parkimeter_ticket_by_day.sort_values(ascending=False, inplace=True)\n",
    "parkimeter_ticket_by_day.name = 'tickets_by_day'\n",
    "parkimeter_ticket_by_day.head(15)"
   ]
  },
  {
   "cell_type": "code",
   "execution_count": 44,
   "metadata": {},
   "outputs": [
    {
     "data": {
      "text/plain": [
       "element_key\n",
       "75282    0.428571\n",
       "12538    0.428571\n",
       "12601    0.357143\n",
       "7246     0.250000\n",
       "13509    0.178571\n",
       "58225    0.178571\n",
       "47970    0.107143\n",
       "76201    0.107143\n",
       "8858     0.107143\n",
       "8854     0.107143\n",
       "9762     0.035714\n",
       "10054    0.035714\n",
       "13510    0.035714\n",
       "13301    0.035714\n",
       "13138    0.035714\n",
       "Name: tickets_by_day, dtype: float64"
      ]
     },
     "execution_count": 44,
     "metadata": {},
     "output_type": "execute_result"
    }
   ],
   "source": [
    "parkimeter_ticket_by_day.tail(15)"
   ]
  },
  {
   "cell_type": "code",
   "execution_count": 45,
   "metadata": {
    "ExecuteTime": {
     "end_time": "2018-07-03T17:36:15.894891Z",
     "start_time": "2018-07-03T17:36:15.888093Z"
    }
   },
   "outputs": [
    {
     "data": {
      "text/plain": [
       "0.00      0.035714\n",
       "0.05      2.721429\n",
       "0.10      4.392857\n",
       "0.15      6.385714\n",
       "0.20      7.678571\n",
       "0.25      9.142857\n",
       "0.30     10.614286\n",
       "0.35     12.192857\n",
       "0.40     13.714286\n",
       "0.45     14.964286\n",
       "0.50     16.714286\n",
       "0.55     18.542857\n",
       "0.60     20.392857\n",
       "0.65     22.571429\n",
       "0.70     24.850000\n",
       "0.75     27.642857\n",
       "0.80     30.757143\n",
       "0.85     34.478571\n",
       "0.90     39.592857\n",
       "0.95     50.264286\n",
       "1.00    176.107143\n",
       "Name: tickets_by_day, dtype: float64"
      ]
     },
     "execution_count": 45,
     "metadata": {},
     "output_type": "execute_result"
    }
   ],
   "source": [
    "parkimeter_ticket_by_day.quantile(np.linspace(0, 1, 21))"
   ]
  },
  {
   "cell_type": "code",
   "execution_count": 46,
   "metadata": {
    "ExecuteTime": {
     "end_time": "2018-07-03T17:36:15.994107Z",
     "start_time": "2018-07-03T17:36:15.896214Z"
    }
   },
   "outputs": [
    {
     "data": {
      "image/png": "[encoded data removed]",
      "text/plain": [
       "<matplotlib.figure.Figure at 0x110ed5b00>"
      ]
     },
     "metadata": {},
     "output_type": "display_data"
    }
   ],
   "source": [
    "sns.boxplot(parkimeter_ticket_by_day);"
   ]
  },
  {
   "cell_type": "markdown",
   "metadata": {},
   "source": [
    "## Construímos la serie de ocupación por timestamp\n",
    "\n",
    "Construímos la tabla corta primero que usaremos para montar las series temporales:"
   ]
  },
  {
   "cell_type": "code",
   "execution_count": 47,
   "metadata": {
    "ExecuteTime": {
     "end_time": "2018-07-03T17:36:46.500695Z",
     "start_time": "2018-07-03T17:36:42.079494Z"
    }
   },
   "outputs": [],
   "source": [
    "in_cols = ['element_key', 'latitude', 'longitude', 'transaction_date_time', 'parking_spaces']\n",
    "out_cols = ['element_key', 'latitude', 'longitude', 'final_date_time', 'parking_spaces']\n",
    "\n",
    "df_in = df_cp[in_cols].reset_index()\n",
    "df_in.transaction_id = df_in.transaction_id.map(lambda s:'%s_in' % str(s))\n",
    "df_in['timestamp_sign'] = 1.0\n",
    "df_in.rename(columns={'transaction_date_time': 'timestamp'}, inplace=True)\n",
    "\n",
    "df_out = df_cp[out_cols].reset_index()\n",
    "df_out.transaction_id = df_out.transaction_id.map(lambda s:'%s_out' % str(s))\n",
    "df_out['timestamp_sign'] = - 1.0\n",
    "df_out.rename(columns={'final_date_time': 'timestamp'}, inplace=True)  # inplace = True, value of copy is ignored"
   ]
  },
  {
   "cell_type": "code",
   "execution_count": 48,
   "metadata": {
    "ExecuteTime": {
     "end_time": "2018-07-03T17:36:46.511121Z",
     "start_time": "2018-07-03T17:36:46.502183Z"
    }
   },
   "outputs": [
    {
     "data": {
      "text/html": [
       "<div>\n",
       "<style scoped>\n",
       "    .dataframe tbody tr th:only-of-type {\n",
       "        vertical-align: middle;\n",
       "    }\n",
       "\n",
       "    .dataframe tbody tr th {\n",
       "        vertical-align: top;\n",
       "    }\n",
       "\n",
       "    .dataframe thead th {\n",
       "        text-align: right;\n",
       "    }\n",
       "</style>\n",
       "<table border=\"1\" class=\"dataframe\">\n",
       "  <thead>\n",
       "    <tr style=\"text-align: right;\">\n",
       "      <th></th>\n",
       "      <th>transaction_id</th>\n",
       "      <th>element_key</th>\n",
       "      <th>latitude</th>\n",
       "      <th>longitude</th>\n",
       "      <th>timestamp</th>\n",
       "      <th>parking_spaces</th>\n",
       "      <th>timestamp_sign</th>\n",
       "    </tr>\n",
       "  </thead>\n",
       "  <tbody>\n",
       "    <tr>\n",
       "      <th>0</th>\n",
       "      <td>64059668_in</td>\n",
       "      <td>35693</td>\n",
       "      <td>47.619158</td>\n",
       "      <td>-122.346457</td>\n",
       "      <td>2016-01-02 00:19:07</td>\n",
       "      <td>7</td>\n",
       "      <td>1.0</td>\n",
       "    </tr>\n",
       "    <tr>\n",
       "      <th>1</th>\n",
       "      <td>64059669_in</td>\n",
       "      <td>35693</td>\n",
       "      <td>47.619158</td>\n",
       "      <td>-122.346457</td>\n",
       "      <td>2016-01-02 00:21:55</td>\n",
       "      <td>7</td>\n",
       "      <td>1.0</td>\n",
       "    </tr>\n",
       "    <tr>\n",
       "      <th>2</th>\n",
       "      <td>64084672_in</td>\n",
       "      <td>35693</td>\n",
       "      <td>47.619158</td>\n",
       "      <td>-122.346457</td>\n",
       "      <td>2016-01-02 07:52:55</td>\n",
       "      <td>7</td>\n",
       "      <td>1.0</td>\n",
       "    </tr>\n",
       "    <tr>\n",
       "      <th>3</th>\n",
       "      <td>183563751_in</td>\n",
       "      <td>35693</td>\n",
       "      <td>47.619158</td>\n",
       "      <td>-122.346457</td>\n",
       "      <td>2016-01-02 08:10:02</td>\n",
       "      <td>7</td>\n",
       "      <td>1.0</td>\n",
       "    </tr>\n",
       "    <tr>\n",
       "      <th>4</th>\n",
       "      <td>64084673_in</td>\n",
       "      <td>35693</td>\n",
       "      <td>47.619158</td>\n",
       "      <td>-122.346457</td>\n",
       "      <td>2016-01-02 08:22:59</td>\n",
       "      <td>7</td>\n",
       "      <td>1.0</td>\n",
       "    </tr>\n",
       "  </tbody>\n",
       "</table>\n",
       "</div>"
      ],
      "text/plain": [
       "  transaction_id  element_key   latitude   longitude           timestamp  \\\n",
       "0    64059668_in        35693  47.619158 -122.346457 2016-01-02 00:19:07   \n",
       "1    64059669_in        35693  47.619158 -122.346457 2016-01-02 00:21:55   \n",
       "2    64084672_in        35693  47.619158 -122.346457 2016-01-02 07:52:55   \n",
       "3   183563751_in        35693  47.619158 -122.346457 2016-01-02 08:10:02   \n",
       "4    64084673_in        35693  47.619158 -122.346457 2016-01-02 08:22:59   \n",
       "\n",
       "   parking_spaces  timestamp_sign  \n",
       "0               7             1.0  \n",
       "1               7             1.0  \n",
       "2               7             1.0  \n",
       "3               7             1.0  \n",
       "4               7             1.0  "
      ]
     },
     "execution_count": 48,
     "metadata": {},
     "output_type": "execute_result"
    }
   ],
   "source": [
    "df_in.head()"
   ]
  },
  {
   "cell_type": "code",
   "execution_count": 49,
   "metadata": {
    "ExecuteTime": {
     "end_time": "2018-07-03T17:36:46.522761Z",
     "start_time": "2018-07-03T17:36:46.512194Z"
    }
   },
   "outputs": [
    {
     "data": {
      "text/html": [
       "<div>\n",
       "<style scoped>\n",
       "    .dataframe tbody tr th:only-of-type {\n",
       "        vertical-align: middle;\n",
       "    }\n",
       "\n",
       "    .dataframe tbody tr th {\n",
       "        vertical-align: top;\n",
       "    }\n",
       "\n",
       "    .dataframe thead th {\n",
       "        text-align: right;\n",
       "    }\n",
       "</style>\n",
       "<table border=\"1\" class=\"dataframe\">\n",
       "  <thead>\n",
       "    <tr style=\"text-align: right;\">\n",
       "      <th></th>\n",
       "      <th>transaction_id</th>\n",
       "      <th>element_key</th>\n",
       "      <th>latitude</th>\n",
       "      <th>longitude</th>\n",
       "      <th>timestamp</th>\n",
       "      <th>parking_spaces</th>\n",
       "      <th>timestamp_sign</th>\n",
       "    </tr>\n",
       "  </thead>\n",
       "  <tbody>\n",
       "    <tr>\n",
       "      <th>0</th>\n",
       "      <td>64059668_out</td>\n",
       "      <td>35693</td>\n",
       "      <td>47.619158</td>\n",
       "      <td>-122.346457</td>\n",
       "      <td>2016-01-02 10:17:07</td>\n",
       "      <td>7</td>\n",
       "      <td>-1.0</td>\n",
       "    </tr>\n",
       "    <tr>\n",
       "      <th>1</th>\n",
       "      <td>64059669_out</td>\n",
       "      <td>35693</td>\n",
       "      <td>47.619158</td>\n",
       "      <td>-122.346457</td>\n",
       "      <td>2016-01-02 10:19:55</td>\n",
       "      <td>7</td>\n",
       "      <td>-1.0</td>\n",
       "    </tr>\n",
       "    <tr>\n",
       "      <th>2</th>\n",
       "      <td>64084672_out</td>\n",
       "      <td>35693</td>\n",
       "      <td>47.619158</td>\n",
       "      <td>-122.346457</td>\n",
       "      <td>2016-01-02 14:02:55</td>\n",
       "      <td>7</td>\n",
       "      <td>-1.0</td>\n",
       "    </tr>\n",
       "    <tr>\n",
       "      <th>3</th>\n",
       "      <td>183563751_out</td>\n",
       "      <td>35693</td>\n",
       "      <td>47.619158</td>\n",
       "      <td>-122.346457</td>\n",
       "      <td>2016-01-02 09:10:02</td>\n",
       "      <td>7</td>\n",
       "      <td>-1.0</td>\n",
       "    </tr>\n",
       "    <tr>\n",
       "      <th>4</th>\n",
       "      <td>64084673_out</td>\n",
       "      <td>35693</td>\n",
       "      <td>47.619158</td>\n",
       "      <td>-122.346457</td>\n",
       "      <td>2016-01-02 10:22:59</td>\n",
       "      <td>7</td>\n",
       "      <td>-1.0</td>\n",
       "    </tr>\n",
       "  </tbody>\n",
       "</table>\n",
       "</div>"
      ],
      "text/plain": [
       "  transaction_id  element_key   latitude   longitude           timestamp  \\\n",
       "0   64059668_out        35693  47.619158 -122.346457 2016-01-02 10:17:07   \n",
       "1   64059669_out        35693  47.619158 -122.346457 2016-01-02 10:19:55   \n",
       "2   64084672_out        35693  47.619158 -122.346457 2016-01-02 14:02:55   \n",
       "3  183563751_out        35693  47.619158 -122.346457 2016-01-02 09:10:02   \n",
       "4   64084673_out        35693  47.619158 -122.346457 2016-01-02 10:22:59   \n",
       "\n",
       "   parking_spaces  timestamp_sign  \n",
       "0               7            -1.0  \n",
       "1               7            -1.0  \n",
       "2               7            -1.0  \n",
       "3               7            -1.0  \n",
       "4               7            -1.0  "
      ]
     },
     "execution_count": 49,
     "metadata": {},
     "output_type": "execute_result"
    }
   ],
   "source": [
    "df_out.head()"
   ]
  },
  {
   "cell_type": "code",
   "execution_count": 50,
   "metadata": {
    "ExecuteTime": {
     "end_time": "2018-07-03T17:40:48.918260Z",
     "start_time": "2018-07-03T17:40:47.003098Z"
    }
   },
   "outputs": [],
   "source": [
    "full_transactions = pd.concat([df_in, df_out])\n",
    "full_transactions.set_index('transaction_id', inplace=True)\n",
    "full_transactions.sort_values('timestamp', ascending=True, inplace=True)"
   ]
  },
  {
   "cell_type": "code",
   "execution_count": 51,
   "metadata": {
    "ExecuteTime": {
     "end_time": "2018-07-03T17:40:49.105651Z",
     "start_time": "2018-07-03T17:40:49.099414Z"
    }
   },
   "outputs": [
    {
     "data": {
      "text/html": [
       "<div>\n",
       "<style scoped>\n",
       "    .dataframe tbody tr th:only-of-type {\n",
       "        vertical-align: middle;\n",
       "    }\n",
       "\n",
       "    .dataframe tbody tr th {\n",
       "        vertical-align: top;\n",
       "    }\n",
       "\n",
       "    .dataframe thead th {\n",
       "        text-align: right;\n",
       "    }\n",
       "</style>\n",
       "<table border=\"1\" class=\"dataframe\">\n",
       "  <thead>\n",
       "    <tr style=\"text-align: right;\">\n",
       "      <th></th>\n",
       "      <th>element_key</th>\n",
       "      <th>latitude</th>\n",
       "      <th>longitude</th>\n",
       "      <th>timestamp</th>\n",
       "      <th>parking_spaces</th>\n",
       "      <th>timestamp_sign</th>\n",
       "    </tr>\n",
       "    <tr>\n",
       "      <th>transaction_id</th>\n",
       "      <th></th>\n",
       "      <th></th>\n",
       "      <th></th>\n",
       "      <th></th>\n",
       "      <th></th>\n",
       "      <th></th>\n",
       "    </tr>\n",
       "  </thead>\n",
       "  <tbody>\n",
       "    <tr>\n",
       "      <th>64059668_in</th>\n",
       "      <td>35693</td>\n",
       "      <td>47.619158</td>\n",
       "      <td>-122.346457</td>\n",
       "      <td>2016-01-02 00:19:07</td>\n",
       "      <td>7</td>\n",
       "      <td>1.0</td>\n",
       "    </tr>\n",
       "    <tr>\n",
       "      <th>64059669_in</th>\n",
       "      <td>35693</td>\n",
       "      <td>47.619158</td>\n",
       "      <td>-122.346457</td>\n",
       "      <td>2016-01-02 00:21:55</td>\n",
       "      <td>7</td>\n",
       "      <td>1.0</td>\n",
       "    </tr>\n",
       "    <tr>\n",
       "      <th>64059649_in</th>\n",
       "      <td>53549</td>\n",
       "      <td>47.628175</td>\n",
       "      <td>-122.341132</td>\n",
       "      <td>2016-01-02 00:46:40</td>\n",
       "      <td>32</td>\n",
       "      <td>1.0</td>\n",
       "    </tr>\n",
       "    <tr>\n",
       "      <th>64059641_in</th>\n",
       "      <td>9393</td>\n",
       "      <td>47.621441</td>\n",
       "      <td>-122.335970</td>\n",
       "      <td>2016-01-02 03:14:33</td>\n",
       "      <td>5</td>\n",
       "      <td>1.0</td>\n",
       "    </tr>\n",
       "    <tr>\n",
       "      <th>64059674_in</th>\n",
       "      <td>11133</td>\n",
       "      <td>47.619815</td>\n",
       "      <td>-122.348131</td>\n",
       "      <td>2016-01-02 04:51:28</td>\n",
       "      <td>5</td>\n",
       "      <td>1.0</td>\n",
       "    </tr>\n",
       "  </tbody>\n",
       "</table>\n",
       "</div>"
      ],
      "text/plain": [
       "                element_key   latitude   longitude           timestamp  \\\n",
       "transaction_id                                                           \n",
       "64059668_in           35693  47.619158 -122.346457 2016-01-02 00:19:07   \n",
       "64059669_in           35693  47.619158 -122.346457 2016-01-02 00:21:55   \n",
       "64059649_in           53549  47.628175 -122.341132 2016-01-02 00:46:40   \n",
       "64059641_in            9393  47.621441 -122.335970 2016-01-02 03:14:33   \n",
       "64059674_in           11133  47.619815 -122.348131 2016-01-02 04:51:28   \n",
       "\n",
       "                parking_spaces  timestamp_sign  \n",
       "transaction_id                                  \n",
       "64059668_in                  7             1.0  \n",
       "64059669_in                  7             1.0  \n",
       "64059649_in                 32             1.0  \n",
       "64059641_in                  5             1.0  \n",
       "64059674_in                  5             1.0  "
      ]
     },
     "execution_count": 51,
     "metadata": {},
     "output_type": "execute_result"
    }
   ],
   "source": [
    "full_transactions.head()"
   ]
  },
  {
   "cell_type": "code",
   "execution_count": 52,
   "metadata": {
    "ExecuteTime": {
     "end_time": "2018-07-03T17:40:49.110925Z",
     "start_time": "2018-07-03T17:40:49.107012Z"
    }
   },
   "outputs": [
    {
     "data": {
      "text/plain": [
       "((806100, 7), (806100, 7), (1612200, 6))"
      ]
     },
     "execution_count": 52,
     "metadata": {},
     "output_type": "execute_result"
    }
   ],
   "source": [
    "df_in.shape, df_out.shape, full_transactions.shape"
   ]
  },
  {
   "cell_type": "markdown",
   "metadata": {},
   "source": [
    "## Análisis de un parquímetro concreto"
   ]
  },
  {
   "cell_type": "code",
   "execution_count": 53,
   "metadata": {},
   "outputs": [],
   "source": [
    "full_transactions.reset_index(drop=True)\n",
    "ek1234 = full_transactions[full_transactions.element_key == 1234]"
   ]
  },
  {
   "cell_type": "code",
   "execution_count": 54,
   "metadata": {},
   "outputs": [
    {
     "data": {
      "text/plain": [
       "(7558, 6)"
      ]
     },
     "execution_count": 54,
     "metadata": {},
     "output_type": "execute_result"
    }
   ],
   "source": [
    "ek1234.shape"
   ]
  },
  {
   "cell_type": "code",
   "execution_count": 55,
   "metadata": {},
   "outputs": [
    {
     "name": "stderr",
     "output_type": "stream",
     "text": [
      "/anaconda3/lib/python3.6/site-packages/pandas/core/generic.py:4401: SettingWithCopyWarning: \n",
      "A value is trying to be set on a copy of a slice from a DataFrame.\n",
      "Try using .loc[row_indexer,col_indexer] = value instead\n",
      "\n",
      "See the caveats in the documentation: http://pandas.pydata.org/pandas-docs/stable/indexing.html#indexing-view-versus-copy\n",
      "  self[name] = value\n"
     ]
    }
   ],
   "source": [
    "ek1234.timestamp = ek1234.timestamp.map(lambda x: x.replace(microsecond=0,second=0,minute=0))"
   ]
  },
  {
   "cell_type": "code",
   "execution_count": 56,
   "metadata": {},
   "outputs": [
    {
     "name": "stderr",
     "output_type": "stream",
     "text": [
      "/anaconda3/lib/python3.6/site-packages/ipykernel_launcher.py:1: SettingWithCopyWarning: \n",
      "A value is trying to be set on a copy of a slice from a DataFrame.\n",
      "Try using .loc[row_indexer,col_indexer] = value instead\n",
      "\n",
      "See the caveats in the documentation: http://pandas.pydata.org/pandas-docs/stable/indexing.html#indexing-view-versus-copy\n",
      "  \"\"\"Entry point for launching an IPython kernel.\n"
     ]
    }
   ],
   "source": [
    "ek1234['occupation'] = ek1234.groupby('timestamp').timestamp_sign.transform(lambda series: series.cumsum())"
   ]
  },
  {
   "cell_type": "code",
   "execution_count": 57,
   "metadata": {},
   "outputs": [],
   "source": [
    "ek1234 = ek1234.reset_index(drop=True)"
   ]
  },
  {
   "cell_type": "markdown",
   "metadata": {},
   "source": [
    "Limpiamos los duplicados por parquímetro seleccionando los valores últimos para que se hayan agregado las operaciones simultáneas"
   ]
  },
  {
   "cell_type": "code",
   "execution_count": 58,
   "metadata": {
    "ExecuteTime": {
     "end_time": "2018-07-03T17:40:55.786002Z",
     "start_time": "2018-07-03T17:40:53.973631Z"
    }
   },
   "outputs": [],
   "source": [
    "ek1234.drop_duplicates(subset=['timestamp'], keep='last', inplace=True)"
   ]
  },
  {
   "cell_type": "code",
   "execution_count": 59,
   "metadata": {},
   "outputs": [
    {
     "data": {
      "text/html": [
       "<div>\n",
       "<style scoped>\n",
       "    .dataframe tbody tr th:only-of-type {\n",
       "        vertical-align: middle;\n",
       "    }\n",
       "\n",
       "    .dataframe tbody tr th {\n",
       "        vertical-align: top;\n",
       "    }\n",
       "\n",
       "    .dataframe thead th {\n",
       "        text-align: right;\n",
       "    }\n",
       "</style>\n",
       "<table border=\"1\" class=\"dataframe\">\n",
       "  <thead>\n",
       "    <tr style=\"text-align: right;\">\n",
       "      <th></th>\n",
       "      <th>element_key</th>\n",
       "      <th>latitude</th>\n",
       "      <th>longitude</th>\n",
       "      <th>timestamp</th>\n",
       "      <th>parking_spaces</th>\n",
       "      <th>timestamp_sign</th>\n",
       "      <th>occupation</th>\n",
       "    </tr>\n",
       "  </thead>\n",
       "  <tbody>\n",
       "    <tr>\n",
       "      <th>3</th>\n",
       "      <td>1234</td>\n",
       "      <td>47.61471</td>\n",
       "      <td>-122.319331</td>\n",
       "      <td>2016-01-02 08:00:00</td>\n",
       "      <td>27</td>\n",
       "      <td>1.0</td>\n",
       "      <td>4.0</td>\n",
       "    </tr>\n",
       "    <tr>\n",
       "      <th>22</th>\n",
       "      <td>1234</td>\n",
       "      <td>47.61471</td>\n",
       "      <td>-122.319331</td>\n",
       "      <td>2016-01-02 09:00:00</td>\n",
       "      <td>27</td>\n",
       "      <td>1.0</td>\n",
       "      <td>15.0</td>\n",
       "    </tr>\n",
       "    <tr>\n",
       "      <th>44</th>\n",
       "      <td>1234</td>\n",
       "      <td>47.61471</td>\n",
       "      <td>-122.319331</td>\n",
       "      <td>2016-01-02 10:00:00</td>\n",
       "      <td>27</td>\n",
       "      <td>-1.0</td>\n",
       "      <td>0.0</td>\n",
       "    </tr>\n",
       "    <tr>\n",
       "      <th>75</th>\n",
       "      <td>1234</td>\n",
       "      <td>47.61471</td>\n",
       "      <td>-122.319331</td>\n",
       "      <td>2016-01-02 11:00:00</td>\n",
       "      <td>27</td>\n",
       "      <td>-1.0</td>\n",
       "      <td>1.0</td>\n",
       "    </tr>\n",
       "    <tr>\n",
       "      <th>111</th>\n",
       "      <td>1234</td>\n",
       "      <td>47.61471</td>\n",
       "      <td>-122.319331</td>\n",
       "      <td>2016-01-02 12:00:00</td>\n",
       "      <td>27</td>\n",
       "      <td>-1.0</td>\n",
       "      <td>2.0</td>\n",
       "    </tr>\n",
       "    <tr>\n",
       "      <th>148</th>\n",
       "      <td>1234</td>\n",
       "      <td>47.61471</td>\n",
       "      <td>-122.319331</td>\n",
       "      <td>2016-01-02 13:00:00</td>\n",
       "      <td>27</td>\n",
       "      <td>-1.0</td>\n",
       "      <td>-3.0</td>\n",
       "    </tr>\n",
       "    <tr>\n",
       "      <th>187</th>\n",
       "      <td>1234</td>\n",
       "      <td>47.61471</td>\n",
       "      <td>-122.319331</td>\n",
       "      <td>2016-01-02 14:00:00</td>\n",
       "      <td>27</td>\n",
       "      <td>1.0</td>\n",
       "      <td>7.0</td>\n",
       "    </tr>\n",
       "    <tr>\n",
       "      <th>235</th>\n",
       "      <td>1234</td>\n",
       "      <td>47.61471</td>\n",
       "      <td>-122.319331</td>\n",
       "      <td>2016-01-02 15:00:00</td>\n",
       "      <td>27</td>\n",
       "      <td>1.0</td>\n",
       "      <td>-4.0</td>\n",
       "    </tr>\n",
       "    <tr>\n",
       "      <th>266</th>\n",
       "      <td>1234</td>\n",
       "      <td>47.61471</td>\n",
       "      <td>-122.319331</td>\n",
       "      <td>2016-01-02 16:00:00</td>\n",
       "      <td>27</td>\n",
       "      <td>-1.0</td>\n",
       "      <td>-1.0</td>\n",
       "    </tr>\n",
       "    <tr>\n",
       "      <th>294</th>\n",
       "      <td>1234</td>\n",
       "      <td>47.61471</td>\n",
       "      <td>-122.319331</td>\n",
       "      <td>2016-01-02 17:00:00</td>\n",
       "      <td>27</td>\n",
       "      <td>1.0</td>\n",
       "      <td>0.0</td>\n",
       "    </tr>\n",
       "    <tr>\n",
       "      <th>319</th>\n",
       "      <td>1234</td>\n",
       "      <td>47.61471</td>\n",
       "      <td>-122.319331</td>\n",
       "      <td>2016-01-02 18:00:00</td>\n",
       "      <td>27</td>\n",
       "      <td>-1.0</td>\n",
       "      <td>-5.0</td>\n",
       "    </tr>\n",
       "    <tr>\n",
       "      <th>342</th>\n",
       "      <td>1234</td>\n",
       "      <td>47.61471</td>\n",
       "      <td>-122.319331</td>\n",
       "      <td>2016-01-02 19:00:00</td>\n",
       "      <td>27</td>\n",
       "      <td>-1.0</td>\n",
       "      <td>-9.0</td>\n",
       "    </tr>\n",
       "    <tr>\n",
       "      <th>349</th>\n",
       "      <td>1234</td>\n",
       "      <td>47.61471</td>\n",
       "      <td>-122.319331</td>\n",
       "      <td>2016-01-02 20:00:00</td>\n",
       "      <td>27</td>\n",
       "      <td>-1.0</td>\n",
       "      <td>-7.0</td>\n",
       "    </tr>\n",
       "    <tr>\n",
       "      <th>352</th>\n",
       "      <td>1234</td>\n",
       "      <td>47.61471</td>\n",
       "      <td>-122.319331</td>\n",
       "      <td>2016-01-04 08:00:00</td>\n",
       "      <td>27</td>\n",
       "      <td>1.0</td>\n",
       "      <td>3.0</td>\n",
       "    </tr>\n",
       "    <tr>\n",
       "      <th>361</th>\n",
       "      <td>1234</td>\n",
       "      <td>47.61471</td>\n",
       "      <td>-122.319331</td>\n",
       "      <td>2016-01-04 09:00:00</td>\n",
       "      <td>27</td>\n",
       "      <td>1.0</td>\n",
       "      <td>7.0</td>\n",
       "    </tr>\n",
       "    <tr>\n",
       "      <th>379</th>\n",
       "      <td>1234</td>\n",
       "      <td>47.61471</td>\n",
       "      <td>-122.319331</td>\n",
       "      <td>2016-01-04 10:00:00</td>\n",
       "      <td>27</td>\n",
       "      <td>-1.0</td>\n",
       "      <td>8.0</td>\n",
       "    </tr>\n",
       "    <tr>\n",
       "      <th>414</th>\n",
       "      <td>1234</td>\n",
       "      <td>47.61471</td>\n",
       "      <td>-122.319331</td>\n",
       "      <td>2016-01-04 11:00:00</td>\n",
       "      <td>27</td>\n",
       "      <td>1.0</td>\n",
       "      <td>3.0</td>\n",
       "    </tr>\n",
       "    <tr>\n",
       "      <th>446</th>\n",
       "      <td>1234</td>\n",
       "      <td>47.61471</td>\n",
       "      <td>-122.319331</td>\n",
       "      <td>2016-01-04 12:00:00</td>\n",
       "      <td>27</td>\n",
       "      <td>-1.0</td>\n",
       "      <td>-2.0</td>\n",
       "    </tr>\n",
       "    <tr>\n",
       "      <th>473</th>\n",
       "      <td>1234</td>\n",
       "      <td>47.61471</td>\n",
       "      <td>-122.319331</td>\n",
       "      <td>2016-01-04 13:00:00</td>\n",
       "      <td>27</td>\n",
       "      <td>-1.0</td>\n",
       "      <td>1.0</td>\n",
       "    </tr>\n",
       "    <tr>\n",
       "      <th>501</th>\n",
       "      <td>1234</td>\n",
       "      <td>47.61471</td>\n",
       "      <td>-122.319331</td>\n",
       "      <td>2016-01-04 14:00:00</td>\n",
       "      <td>27</td>\n",
       "      <td>-1.0</td>\n",
       "      <td>0.0</td>\n",
       "    </tr>\n",
       "    <tr>\n",
       "      <th>542</th>\n",
       "      <td>1234</td>\n",
       "      <td>47.61471</td>\n",
       "      <td>-122.319331</td>\n",
       "      <td>2016-01-04 15:00:00</td>\n",
       "      <td>27</td>\n",
       "      <td>1.0</td>\n",
       "      <td>-3.0</td>\n",
       "    </tr>\n",
       "    <tr>\n",
       "      <th>574</th>\n",
       "      <td>1234</td>\n",
       "      <td>47.61471</td>\n",
       "      <td>-122.319331</td>\n",
       "      <td>2016-01-04 16:00:00</td>\n",
       "      <td>27</td>\n",
       "      <td>-1.0</td>\n",
       "      <td>0.0</td>\n",
       "    </tr>\n",
       "    <tr>\n",
       "      <th>600</th>\n",
       "      <td>1234</td>\n",
       "      <td>47.61471</td>\n",
       "      <td>-122.319331</td>\n",
       "      <td>2016-01-04 17:00:00</td>\n",
       "      <td>27</td>\n",
       "      <td>1.0</td>\n",
       "      <td>6.0</td>\n",
       "    </tr>\n",
       "    <tr>\n",
       "      <th>630</th>\n",
       "      <td>1234</td>\n",
       "      <td>47.61471</td>\n",
       "      <td>-122.319331</td>\n",
       "      <td>2016-01-04 18:00:00</td>\n",
       "      <td>27</td>\n",
       "      <td>-1.0</td>\n",
       "      <td>-6.0</td>\n",
       "    </tr>\n",
       "    <tr>\n",
       "      <th>656</th>\n",
       "      <td>1234</td>\n",
       "      <td>47.61471</td>\n",
       "      <td>-122.319331</td>\n",
       "      <td>2016-01-04 19:00:00</td>\n",
       "      <td>27</td>\n",
       "      <td>-1.0</td>\n",
       "      <td>-10.0</td>\n",
       "    </tr>\n",
       "    <tr>\n",
       "      <th>663</th>\n",
       "      <td>1234</td>\n",
       "      <td>47.61471</td>\n",
       "      <td>-122.319331</td>\n",
       "      <td>2016-01-04 20:00:00</td>\n",
       "      <td>27</td>\n",
       "      <td>-1.0</td>\n",
       "      <td>-7.0</td>\n",
       "    </tr>\n",
       "    <tr>\n",
       "      <th>666</th>\n",
       "      <td>1234</td>\n",
       "      <td>47.61471</td>\n",
       "      <td>-122.319331</td>\n",
       "      <td>2016-01-05 08:00:00</td>\n",
       "      <td>27</td>\n",
       "      <td>1.0</td>\n",
       "      <td>3.0</td>\n",
       "    </tr>\n",
       "    <tr>\n",
       "      <th>672</th>\n",
       "      <td>1234</td>\n",
       "      <td>47.61471</td>\n",
       "      <td>-122.319331</td>\n",
       "      <td>2016-01-05 09:00:00</td>\n",
       "      <td>27</td>\n",
       "      <td>1.0</td>\n",
       "      <td>2.0</td>\n",
       "    </tr>\n",
       "    <tr>\n",
       "      <th>689</th>\n",
       "      <td>1234</td>\n",
       "      <td>47.61471</td>\n",
       "      <td>-122.319331</td>\n",
       "      <td>2016-01-05 10:00:00</td>\n",
       "      <td>27</td>\n",
       "      <td>1.0</td>\n",
       "      <td>11.0</td>\n",
       "    </tr>\n",
       "    <tr>\n",
       "      <th>716</th>\n",
       "      <td>1234</td>\n",
       "      <td>47.61471</td>\n",
       "      <td>-122.319331</td>\n",
       "      <td>2016-01-05 11:00:00</td>\n",
       "      <td>27</td>\n",
       "      <td>1.0</td>\n",
       "      <td>5.0</td>\n",
       "    </tr>\n",
       "  </tbody>\n",
       "</table>\n",
       "</div>"
      ],
      "text/plain": [
       "     element_key  latitude   longitude           timestamp  parking_spaces  \\\n",
       "3           1234  47.61471 -122.319331 2016-01-02 08:00:00              27   \n",
       "22          1234  47.61471 -122.319331 2016-01-02 09:00:00              27   \n",
       "44          1234  47.61471 -122.319331 2016-01-02 10:00:00              27   \n",
       "75          1234  47.61471 -122.319331 2016-01-02 11:00:00              27   \n",
       "111         1234  47.61471 -122.319331 2016-01-02 12:00:00              27   \n",
       "148         1234  47.61471 -122.319331 2016-01-02 13:00:00              27   \n",
       "187         1234  47.61471 -122.319331 2016-01-02 14:00:00              27   \n",
       "235         1234  47.61471 -122.319331 2016-01-02 15:00:00              27   \n",
       "266         1234  47.61471 -122.319331 2016-01-02 16:00:00              27   \n",
       "294         1234  47.61471 -122.319331 2016-01-02 17:00:00              27   \n",
       "319         1234  47.61471 -122.319331 2016-01-02 18:00:00              27   \n",
       "342         1234  47.61471 -122.319331 2016-01-02 19:00:00              27   \n",
       "349         1234  47.61471 -122.319331 2016-01-02 20:00:00              27   \n",
       "352         1234  47.61471 -122.319331 2016-01-04 08:00:00              27   \n",
       "361         1234  47.61471 -122.319331 2016-01-04 09:00:00              27   \n",
       "379         1234  47.61471 -122.319331 2016-01-04 10:00:00              27   \n",
       "414         1234  47.61471 -122.319331 2016-01-04 11:00:00              27   \n",
       "446         1234  47.61471 -122.319331 2016-01-04 12:00:00              27   \n",
       "473         1234  47.61471 -122.319331 2016-01-04 13:00:00              27   \n",
       "501         1234  47.61471 -122.319331 2016-01-04 14:00:00              27   \n",
       "542         1234  47.61471 -122.319331 2016-01-04 15:00:00              27   \n",
       "574         1234  47.61471 -122.319331 2016-01-04 16:00:00              27   \n",
       "600         1234  47.61471 -122.319331 2016-01-04 17:00:00              27   \n",
       "630         1234  47.61471 -122.319331 2016-01-04 18:00:00              27   \n",
       "656         1234  47.61471 -122.319331 2016-01-04 19:00:00              27   \n",
       "663         1234  47.61471 -122.319331 2016-01-04 20:00:00              27   \n",
       "666         1234  47.61471 -122.319331 2016-01-05 08:00:00              27   \n",
       "672         1234  47.61471 -122.319331 2016-01-05 09:00:00              27   \n",
       "689         1234  47.61471 -122.319331 2016-01-05 10:00:00              27   \n",
       "716         1234  47.61471 -122.319331 2016-01-05 11:00:00              27   \n",
       "\n",
       "     timestamp_sign  occupation  \n",
       "3               1.0         4.0  \n",
       "22              1.0        15.0  \n",
       "44             -1.0         0.0  \n",
       "75             -1.0         1.0  \n",
       "111            -1.0         2.0  \n",
       "148            -1.0        -3.0  \n",
       "187             1.0         7.0  \n",
       "235             1.0        -4.0  \n",
       "266            -1.0        -1.0  \n",
       "294             1.0         0.0  \n",
       "319            -1.0        -5.0  \n",
       "342            -1.0        -9.0  \n",
       "349            -1.0        -7.0  \n",
       "352             1.0         3.0  \n",
       "361             1.0         7.0  \n",
       "379            -1.0         8.0  \n",
       "414             1.0         3.0  \n",
       "446            -1.0        -2.0  \n",
       "473            -1.0         1.0  \n",
       "501            -1.0         0.0  \n",
       "542             1.0        -3.0  \n",
       "574            -1.0         0.0  \n",
       "600             1.0         6.0  \n",
       "630            -1.0        -6.0  \n",
       "656            -1.0       -10.0  \n",
       "663            -1.0        -7.0  \n",
       "666             1.0         3.0  \n",
       "672             1.0         2.0  \n",
       "689             1.0        11.0  \n",
       "716             1.0         5.0  "
      ]
     },
     "execution_count": 59,
     "metadata": {},
     "output_type": "execute_result"
    }
   ],
   "source": [
    "ek1234.head(30)"
   ]
  },
  {
   "cell_type": "markdown",
   "metadata": {},
   "source": [
    "Ocupación media a través de las horas del día:"
   ]
  },
  {
   "cell_type": "code",
   "execution_count": 60,
   "metadata": {
    "ExecuteTime": {
     "end_time": "2018-07-03T17:42:09.642030Z",
     "start_time": "2018-07-03T17:41:36.864995Z"
    }
   },
   "outputs": [
    {
     "data": {
      "image/png": "[encoded data removed]",
      "text/plain": [
       "<matplotlib.figure.Figure at 0x114535e10>"
      ]
     },
     "metadata": {},
     "output_type": "display_data"
    }
   ],
   "source": [
    "ek1234['hour'] = ek1234.timestamp.dt.hour\n",
    "occupation_by_hour_key = ek1234.groupby(['hour']).occupation\n",
    "occupation_by_hour_key.mean().plot(figsize=(10, 4));"
   ]
  },
  {
   "cell_type": "code",
   "execution_count": 61,
   "metadata": {
    "ExecuteTime": {
     "end_time": "2018-07-03T17:42:09.652984Z",
     "start_time": "2018-07-03T17:42:09.643167Z"
    }
   },
   "outputs": [
    {
     "data": {
      "text/html": [
       "<div>\n",
       "<style scoped>\n",
       "    .dataframe tbody tr th:only-of-type {\n",
       "        vertical-align: middle;\n",
       "    }\n",
       "\n",
       "    .dataframe tbody tr th {\n",
       "        vertical-align: top;\n",
       "    }\n",
       "\n",
       "    .dataframe thead th {\n",
       "        text-align: right;\n",
       "    }\n",
       "</style>\n",
       "<table border=\"1\" class=\"dataframe\">\n",
       "  <thead>\n",
       "    <tr style=\"text-align: right;\">\n",
       "      <th></th>\n",
       "      <th>count</th>\n",
       "      <th>mean</th>\n",
       "      <th>std</th>\n",
       "      <th>min</th>\n",
       "      <th>25%</th>\n",
       "      <th>50%</th>\n",
       "      <th>75%</th>\n",
       "      <th>max</th>\n",
       "    </tr>\n",
       "    <tr>\n",
       "      <th>hour</th>\n",
       "      <th></th>\n",
       "      <th></th>\n",
       "      <th></th>\n",
       "      <th></th>\n",
       "      <th></th>\n",
       "      <th></th>\n",
       "      <th></th>\n",
       "      <th></th>\n",
       "    </tr>\n",
       "  </thead>\n",
       "  <tbody>\n",
       "    <tr>\n",
       "      <th>7</th>\n",
       "      <td>12.0</td>\n",
       "      <td>2.000000</td>\n",
       "      <td>1.279204</td>\n",
       "      <td>1.0</td>\n",
       "      <td>1.00</td>\n",
       "      <td>1.0</td>\n",
       "      <td>3.00</td>\n",
       "      <td>4.0</td>\n",
       "    </tr>\n",
       "    <tr>\n",
       "      <th>8</th>\n",
       "      <td>24.0</td>\n",
       "      <td>6.875000</td>\n",
       "      <td>3.791438</td>\n",
       "      <td>1.0</td>\n",
       "      <td>4.00</td>\n",
       "      <td>6.5</td>\n",
       "      <td>9.25</td>\n",
       "      <td>17.0</td>\n",
       "    </tr>\n",
       "    <tr>\n",
       "      <th>9</th>\n",
       "      <td>24.0</td>\n",
       "      <td>4.333333</td>\n",
       "      <td>4.018075</td>\n",
       "      <td>-4.0</td>\n",
       "      <td>2.00</td>\n",
       "      <td>4.5</td>\n",
       "      <td>7.00</td>\n",
       "      <td>15.0</td>\n",
       "    </tr>\n",
       "    <tr>\n",
       "      <th>10</th>\n",
       "      <td>24.0</td>\n",
       "      <td>4.083333</td>\n",
       "      <td>4.292731</td>\n",
       "      <td>-6.0</td>\n",
       "      <td>1.00</td>\n",
       "      <td>4.5</td>\n",
       "      <td>8.00</td>\n",
       "      <td>11.0</td>\n",
       "    </tr>\n",
       "    <tr>\n",
       "      <th>11</th>\n",
       "      <td>24.0</td>\n",
       "      <td>1.791667</td>\n",
       "      <td>3.776117</td>\n",
       "      <td>-5.0</td>\n",
       "      <td>-1.00</td>\n",
       "      <td>1.5</td>\n",
       "      <td>5.00</td>\n",
       "      <td>8.0</td>\n",
       "    </tr>\n",
       "    <tr>\n",
       "      <th>12</th>\n",
       "      <td>24.0</td>\n",
       "      <td>0.333333</td>\n",
       "      <td>3.726132</td>\n",
       "      <td>-10.0</td>\n",
       "      <td>-2.00</td>\n",
       "      <td>0.0</td>\n",
       "      <td>2.25</td>\n",
       "      <td>8.0</td>\n",
       "    </tr>\n",
       "    <tr>\n",
       "      <th>13</th>\n",
       "      <td>24.0</td>\n",
       "      <td>-0.041667</td>\n",
       "      <td>4.378596</td>\n",
       "      <td>-5.0</td>\n",
       "      <td>-3.25</td>\n",
       "      <td>-0.5</td>\n",
       "      <td>1.25</td>\n",
       "      <td>15.0</td>\n",
       "    </tr>\n",
       "    <tr>\n",
       "      <th>14</th>\n",
       "      <td>24.0</td>\n",
       "      <td>-1.166667</td>\n",
       "      <td>3.897231</td>\n",
       "      <td>-10.0</td>\n",
       "      <td>-4.00</td>\n",
       "      <td>0.0</td>\n",
       "      <td>1.25</td>\n",
       "      <td>7.0</td>\n",
       "    </tr>\n",
       "    <tr>\n",
       "      <th>15</th>\n",
       "      <td>24.0</td>\n",
       "      <td>-1.083333</td>\n",
       "      <td>3.133503</td>\n",
       "      <td>-6.0</td>\n",
       "      <td>-3.25</td>\n",
       "      <td>-1.0</td>\n",
       "      <td>1.00</td>\n",
       "      <td>4.0</td>\n",
       "    </tr>\n",
       "    <tr>\n",
       "      <th>16</th>\n",
       "      <td>24.0</td>\n",
       "      <td>2.625000</td>\n",
       "      <td>4.332009</td>\n",
       "      <td>-6.0</td>\n",
       "      <td>-0.25</td>\n",
       "      <td>2.0</td>\n",
       "      <td>6.00</td>\n",
       "      <td>11.0</td>\n",
       "    </tr>\n",
       "    <tr>\n",
       "      <th>17</th>\n",
       "      <td>24.0</td>\n",
       "      <td>1.208333</td>\n",
       "      <td>4.107037</td>\n",
       "      <td>-7.0</td>\n",
       "      <td>-2.00</td>\n",
       "      <td>1.5</td>\n",
       "      <td>3.00</td>\n",
       "      <td>9.0</td>\n",
       "    </tr>\n",
       "    <tr>\n",
       "      <th>18</th>\n",
       "      <td>24.0</td>\n",
       "      <td>0.875000</td>\n",
       "      <td>4.014241</td>\n",
       "      <td>-6.0</td>\n",
       "      <td>-1.25</td>\n",
       "      <td>1.5</td>\n",
       "      <td>3.00</td>\n",
       "      <td>10.0</td>\n",
       "    </tr>\n",
       "    <tr>\n",
       "      <th>19</th>\n",
       "      <td>24.0</td>\n",
       "      <td>-11.250000</td>\n",
       "      <td>2.674355</td>\n",
       "      <td>-16.0</td>\n",
       "      <td>-13.00</td>\n",
       "      <td>-11.0</td>\n",
       "      <td>-9.00</td>\n",
       "      <td>-7.0</td>\n",
       "    </tr>\n",
       "    <tr>\n",
       "      <th>20</th>\n",
       "      <td>24.0</td>\n",
       "      <td>-9.583333</td>\n",
       "      <td>3.335144</td>\n",
       "      <td>-17.0</td>\n",
       "      <td>-11.25</td>\n",
       "      <td>-10.0</td>\n",
       "      <td>-7.00</td>\n",
       "      <td>-5.0</td>\n",
       "    </tr>\n",
       "  </tbody>\n",
       "</table>\n",
       "</div>"
      ],
      "text/plain": [
       "      count       mean       std   min    25%   50%   75%   max\n",
       "hour                                                           \n",
       "7      12.0   2.000000  1.279204   1.0   1.00   1.0  3.00   4.0\n",
       "8      24.0   6.875000  3.791438   1.0   4.00   6.5  9.25  17.0\n",
       "9      24.0   4.333333  4.018075  -4.0   2.00   4.5  7.00  15.0\n",
       "10     24.0   4.083333  4.292731  -6.0   1.00   4.5  8.00  11.0\n",
       "11     24.0   1.791667  3.776117  -5.0  -1.00   1.5  5.00   8.0\n",
       "12     24.0   0.333333  3.726132 -10.0  -2.00   0.0  2.25   8.0\n",
       "13     24.0  -0.041667  4.378596  -5.0  -3.25  -0.5  1.25  15.0\n",
       "14     24.0  -1.166667  3.897231 -10.0  -4.00   0.0  1.25   7.0\n",
       "15     24.0  -1.083333  3.133503  -6.0  -3.25  -1.0  1.00   4.0\n",
       "16     24.0   2.625000  4.332009  -6.0  -0.25   2.0  6.00  11.0\n",
       "17     24.0   1.208333  4.107037  -7.0  -2.00   1.5  3.00   9.0\n",
       "18     24.0   0.875000  4.014241  -6.0  -1.25   1.5  3.00  10.0\n",
       "19     24.0 -11.250000  2.674355 -16.0 -13.00 -11.0 -9.00  -7.0\n",
       "20     24.0  -9.583333  3.335144 -17.0 -11.25 -10.0 -7.00  -5.0"
      ]
     },
     "execution_count": 61,
     "metadata": {},
     "output_type": "execute_result"
    }
   ],
   "source": [
    "occupation_by_hour_key.describe().head(25)"
   ]
  },
  {
   "cell_type": "code",
   "execution_count": 62,
   "metadata": {},
   "outputs": [],
   "source": [
    "ek1234['day_year'] = ek1234.timestamp.dt.dayofyear"
   ]
  },
  {
   "cell_type": "code",
   "execution_count": 63,
   "metadata": {},
   "outputs": [],
   "source": [
    "ek1234['occu_cum'] = ek1234.groupby('day_year').occupation.agg('cumsum')"
   ]
  },
  {
   "cell_type": "code",
   "execution_count": 64,
   "metadata": {},
   "outputs": [],
   "source": [
    "ek1234['occupation_perc'] = (ek1234.occu_cum / ek1234.parking_spaces * 100.0).map(\"{0:.2f}\".format)"
   ]
  },
  {
   "cell_type": "code",
   "execution_count": 65,
   "metadata": {},
   "outputs": [
    {
     "data": {
      "text/html": [
       "<div>\n",
       "<style scoped>\n",
       "    .dataframe tbody tr th:only-of-type {\n",
       "        vertical-align: middle;\n",
       "    }\n",
       "\n",
       "    .dataframe tbody tr th {\n",
       "        vertical-align: top;\n",
       "    }\n",
       "\n",
       "    .dataframe thead th {\n",
       "        text-align: right;\n",
       "    }\n",
       "</style>\n",
       "<table border=\"1\" class=\"dataframe\">\n",
       "  <thead>\n",
       "    <tr style=\"text-align: right;\">\n",
       "      <th></th>\n",
       "      <th>element_key</th>\n",
       "      <th>latitude</th>\n",
       "      <th>longitude</th>\n",
       "      <th>timestamp</th>\n",
       "      <th>parking_spaces</th>\n",
       "      <th>timestamp_sign</th>\n",
       "      <th>occupation</th>\n",
       "      <th>hour</th>\n",
       "      <th>day_year</th>\n",
       "      <th>occu_cum</th>\n",
       "      <th>occupation_perc</th>\n",
       "    </tr>\n",
       "  </thead>\n",
       "  <tbody>\n",
       "    <tr>\n",
       "      <th>3</th>\n",
       "      <td>1234</td>\n",
       "      <td>47.61471</td>\n",
       "      <td>-122.319331</td>\n",
       "      <td>2016-01-02 08:00:00</td>\n",
       "      <td>27</td>\n",
       "      <td>1.0</td>\n",
       "      <td>4.0</td>\n",
       "      <td>8</td>\n",
       "      <td>2</td>\n",
       "      <td>4.0</td>\n",
       "      <td>14.81</td>\n",
       "    </tr>\n",
       "    <tr>\n",
       "      <th>22</th>\n",
       "      <td>1234</td>\n",
       "      <td>47.61471</td>\n",
       "      <td>-122.319331</td>\n",
       "      <td>2016-01-02 09:00:00</td>\n",
       "      <td>27</td>\n",
       "      <td>1.0</td>\n",
       "      <td>15.0</td>\n",
       "      <td>9</td>\n",
       "      <td>2</td>\n",
       "      <td>19.0</td>\n",
       "      <td>70.37</td>\n",
       "    </tr>\n",
       "    <tr>\n",
       "      <th>44</th>\n",
       "      <td>1234</td>\n",
       "      <td>47.61471</td>\n",
       "      <td>-122.319331</td>\n",
       "      <td>2016-01-02 10:00:00</td>\n",
       "      <td>27</td>\n",
       "      <td>-1.0</td>\n",
       "      <td>0.0</td>\n",
       "      <td>10</td>\n",
       "      <td>2</td>\n",
       "      <td>19.0</td>\n",
       "      <td>70.37</td>\n",
       "    </tr>\n",
       "    <tr>\n",
       "      <th>75</th>\n",
       "      <td>1234</td>\n",
       "      <td>47.61471</td>\n",
       "      <td>-122.319331</td>\n",
       "      <td>2016-01-02 11:00:00</td>\n",
       "      <td>27</td>\n",
       "      <td>-1.0</td>\n",
       "      <td>1.0</td>\n",
       "      <td>11</td>\n",
       "      <td>2</td>\n",
       "      <td>20.0</td>\n",
       "      <td>74.07</td>\n",
       "    </tr>\n",
       "    <tr>\n",
       "      <th>111</th>\n",
       "      <td>1234</td>\n",
       "      <td>47.61471</td>\n",
       "      <td>-122.319331</td>\n",
       "      <td>2016-01-02 12:00:00</td>\n",
       "      <td>27</td>\n",
       "      <td>-1.0</td>\n",
       "      <td>2.0</td>\n",
       "      <td>12</td>\n",
       "      <td>2</td>\n",
       "      <td>22.0</td>\n",
       "      <td>81.48</td>\n",
       "    </tr>\n",
       "  </tbody>\n",
       "</table>\n",
       "</div>"
      ],
      "text/plain": [
       "     element_key  latitude   longitude           timestamp  parking_spaces  \\\n",
       "3           1234  47.61471 -122.319331 2016-01-02 08:00:00              27   \n",
       "22          1234  47.61471 -122.319331 2016-01-02 09:00:00              27   \n",
       "44          1234  47.61471 -122.319331 2016-01-02 10:00:00              27   \n",
       "75          1234  47.61471 -122.319331 2016-01-02 11:00:00              27   \n",
       "111         1234  47.61471 -122.319331 2016-01-02 12:00:00              27   \n",
       "\n",
       "     timestamp_sign  occupation  hour  day_year  occu_cum occupation_perc  \n",
       "3               1.0         4.0     8         2       4.0           14.81  \n",
       "22              1.0        15.0     9         2      19.0           70.37  \n",
       "44             -1.0         0.0    10         2      19.0           70.37  \n",
       "75             -1.0         1.0    11         2      20.0           74.07  \n",
       "111            -1.0         2.0    12         2      22.0           81.48  "
      ]
     },
     "execution_count": 65,
     "metadata": {},
     "output_type": "execute_result"
    }
   ],
   "source": [
    "ek1234.head()"
   ]
  },
  {
   "cell_type": "markdown",
   "metadata": {},
   "source": [
    "## Top 15% parquímetros con más transacciones"
   ]
  },
  {
   "cell_type": "code",
   "execution_count": 66,
   "metadata": {},
   "outputs": [],
   "source": [
    "N = np.rint(0.15 * df_cp.element_key.unique().size).astype(int)  # 211 parquímetros\n",
    "top15 = df_cp.groupby('element_key').parking_spaces.count().sort_values(ascending=False).head(N)"
   ]
  },
  {
   "cell_type": "code",
   "execution_count": 67,
   "metadata": {},
   "outputs": [],
   "source": [
    "top15_list = list(top15.index)"
   ]
  },
  {
   "cell_type": "code",
   "execution_count": 68,
   "metadata": {},
   "outputs": [],
   "source": [
    "top15_transactions = full_transactions[full_transactions.element_key.isin(top15_list)]"
   ]
  },
  {
   "cell_type": "code",
   "execution_count": 69,
   "metadata": {},
   "outputs": [
    {
     "data": {
      "text/plain": [
       "211"
      ]
     },
     "execution_count": 69,
     "metadata": {},
     "output_type": "execute_result"
    }
   ],
   "source": [
    "top15_transactions.element_key.unique().size  # comprobamos"
   ]
  },
  {
   "cell_type": "code",
   "execution_count": 70,
   "metadata": {},
   "outputs": [
    {
     "name": "stderr",
     "output_type": "stream",
     "text": [
      "/anaconda3/lib/python3.6/site-packages/pandas/core/generic.py:4401: SettingWithCopyWarning: \n",
      "A value is trying to be set on a copy of a slice from a DataFrame.\n",
      "Try using .loc[row_indexer,col_indexer] = value instead\n",
      "\n",
      "See the caveats in the documentation: http://pandas.pydata.org/pandas-docs/stable/indexing.html#indexing-view-versus-copy\n",
      "  self[name] = value\n"
     ]
    }
   ],
   "source": [
    "top15_transactions.timestamp = top15_transactions.timestamp.map(lambda x: x.replace(microsecond=0,second=0,minute=0))"
   ]
  },
  {
   "cell_type": "code",
   "execution_count": 71,
   "metadata": {},
   "outputs": [
    {
     "name": "stderr",
     "output_type": "stream",
     "text": [
      "/anaconda3/lib/python3.6/site-packages/ipykernel_launcher.py:2: SettingWithCopyWarning: \n",
      "A value is trying to be set on a copy of a slice from a DataFrame.\n",
      "Try using .loc[row_indexer,col_indexer] = value instead\n",
      "\n",
      "See the caveats in the documentation: http://pandas.pydata.org/pandas-docs/stable/indexing.html#indexing-view-versus-copy\n",
      "  \n"
     ]
    }
   ],
   "source": [
    "top15_transactions['occupation'] = top15_transactions.groupby(['element_key', 'timestamp']).timestamp_sign.transform(\n",
    "    lambda series: series.cumsum())"
   ]
  },
  {
   "cell_type": "code",
   "execution_count": 72,
   "metadata": {},
   "outputs": [],
   "source": [
    "top15_transactions = top15_transactions.reset_index(drop=True)"
   ]
  },
  {
   "cell_type": "code",
   "execution_count": 73,
   "metadata": {},
   "outputs": [],
   "source": [
    "top15_transactions.drop_duplicates(subset=['element_key','timestamp'], keep='last', inplace=True)"
   ]
  },
  {
   "cell_type": "code",
   "execution_count": 74,
   "metadata": {},
   "outputs": [],
   "source": [
    "top15_transactions['day_year'] = top15_transactions.timestamp.dt.dayofyear"
   ]
  },
  {
   "cell_type": "code",
   "execution_count": 75,
   "metadata": {},
   "outputs": [],
   "source": [
    "top15_transactions['occu_cum'] = top15_transactions.groupby(['element_key','day_year']).occupation.agg('cumsum')"
   ]
  },
  {
   "cell_type": "code",
   "execution_count": 76,
   "metadata": {},
   "outputs": [],
   "source": [
    "top15_transactions['occupation_perc'] = (top15_transactions.occu_cum / top15_transactions.parking_spaces * 100.0).map(\n",
    "    \"{0:.2f}\".format).astype(float)"
   ]
  },
  {
   "cell_type": "code",
   "execution_count": 77,
   "metadata": {},
   "outputs": [
    {
     "data": {
      "text/html": [
       "<div>\n",
       "<style scoped>\n",
       "    .dataframe tbody tr th:only-of-type {\n",
       "        vertical-align: middle;\n",
       "    }\n",
       "\n",
       "    .dataframe tbody tr th {\n",
       "        vertical-align: top;\n",
       "    }\n",
       "\n",
       "    .dataframe thead th {\n",
       "        text-align: right;\n",
       "    }\n",
       "</style>\n",
       "<table border=\"1\" class=\"dataframe\">\n",
       "  <thead>\n",
       "    <tr style=\"text-align: right;\">\n",
       "      <th></th>\n",
       "      <th>element_key</th>\n",
       "      <th>latitude</th>\n",
       "      <th>longitude</th>\n",
       "      <th>timestamp</th>\n",
       "      <th>parking_spaces</th>\n",
       "      <th>timestamp_sign</th>\n",
       "      <th>occupation</th>\n",
       "      <th>day_year</th>\n",
       "      <th>occu_cum</th>\n",
       "      <th>occupation_perc</th>\n",
       "    </tr>\n",
       "  </thead>\n",
       "  <tbody>\n",
       "    <tr>\n",
       "      <th>0</th>\n",
       "      <td>35242</td>\n",
       "      <td>47.662434</td>\n",
       "      <td>-122.317343</td>\n",
       "      <td>2016-01-02 05:00:00</td>\n",
       "      <td>14</td>\n",
       "      <td>1.0</td>\n",
       "      <td>1.0</td>\n",
       "      <td>2</td>\n",
       "      <td>1.0</td>\n",
       "      <td>7.14</td>\n",
       "    </tr>\n",
       "    <tr>\n",
       "      <th>1</th>\n",
       "      <td>34506</td>\n",
       "      <td>47.621271</td>\n",
       "      <td>-122.332867</td>\n",
       "      <td>2016-01-02 06:00:00</td>\n",
       "      <td>31</td>\n",
       "      <td>1.0</td>\n",
       "      <td>1.0</td>\n",
       "      <td>2</td>\n",
       "      <td>1.0</td>\n",
       "      <td>3.23</td>\n",
       "    </tr>\n",
       "    <tr>\n",
       "      <th>2</th>\n",
       "      <td>86450</td>\n",
       "      <td>47.669376</td>\n",
       "      <td>-122.386098</td>\n",
       "      <td>2016-01-02 06:00:00</td>\n",
       "      <td>14</td>\n",
       "      <td>1.0</td>\n",
       "      <td>1.0</td>\n",
       "      <td>2</td>\n",
       "      <td>1.0</td>\n",
       "      <td>7.14</td>\n",
       "    </tr>\n",
       "    <tr>\n",
       "      <th>3</th>\n",
       "      <td>37186</td>\n",
       "      <td>47.615173</td>\n",
       "      <td>-122.320241</td>\n",
       "      <td>2016-01-02 07:00:00</td>\n",
       "      <td>6</td>\n",
       "      <td>1.0</td>\n",
       "      <td>1.0</td>\n",
       "      <td>2</td>\n",
       "      <td>1.0</td>\n",
       "      <td>16.67</td>\n",
       "    </tr>\n",
       "    <tr>\n",
       "      <th>4</th>\n",
       "      <td>58513</td>\n",
       "      <td>47.657933</td>\n",
       "      <td>-122.313319</td>\n",
       "      <td>2016-01-02 07:00:00</td>\n",
       "      <td>9</td>\n",
       "      <td>1.0</td>\n",
       "      <td>1.0</td>\n",
       "      <td>2</td>\n",
       "      <td>1.0</td>\n",
       "      <td>11.11</td>\n",
       "    </tr>\n",
       "    <tr>\n",
       "      <th>5</th>\n",
       "      <td>69446</td>\n",
       "      <td>47.613507</td>\n",
       "      <td>-122.316700</td>\n",
       "      <td>2016-01-02 07:00:00</td>\n",
       "      <td>10</td>\n",
       "      <td>1.0</td>\n",
       "      <td>1.0</td>\n",
       "      <td>2</td>\n",
       "      <td>1.0</td>\n",
       "      <td>10.00</td>\n",
       "    </tr>\n",
       "    <tr>\n",
       "      <th>6</th>\n",
       "      <td>2921</td>\n",
       "      <td>47.600475</td>\n",
       "      <td>-122.331714</td>\n",
       "      <td>2016-01-02 07:00:00</td>\n",
       "      <td>14</td>\n",
       "      <td>1.0</td>\n",
       "      <td>1.0</td>\n",
       "      <td>2</td>\n",
       "      <td>1.0</td>\n",
       "      <td>7.14</td>\n",
       "    </tr>\n",
       "    <tr>\n",
       "      <th>7</th>\n",
       "      <td>31889</td>\n",
       "      <td>47.614501</td>\n",
       "      <td>-122.347519</td>\n",
       "      <td>2016-01-02 07:00:00</td>\n",
       "      <td>16</td>\n",
       "      <td>1.0</td>\n",
       "      <td>1.0</td>\n",
       "      <td>2</td>\n",
       "      <td>1.0</td>\n",
       "      <td>6.25</td>\n",
       "    </tr>\n",
       "    <tr>\n",
       "      <th>10</th>\n",
       "      <td>35838</td>\n",
       "      <td>47.654700</td>\n",
       "      <td>-122.313188</td>\n",
       "      <td>2016-01-02 07:00:00</td>\n",
       "      <td>12</td>\n",
       "      <td>1.0</td>\n",
       "      <td>1.0</td>\n",
       "      <td>2</td>\n",
       "      <td>1.0</td>\n",
       "      <td>8.33</td>\n",
       "    </tr>\n",
       "    <tr>\n",
       "      <th>11</th>\n",
       "      <td>52525</td>\n",
       "      <td>47.616354</td>\n",
       "      <td>-122.343798</td>\n",
       "      <td>2016-01-02 07:00:00</td>\n",
       "      <td>12</td>\n",
       "      <td>1.0</td>\n",
       "      <td>1.0</td>\n",
       "      <td>2</td>\n",
       "      <td>1.0</td>\n",
       "      <td>8.33</td>\n",
       "    </tr>\n",
       "    <tr>\n",
       "      <th>13</th>\n",
       "      <td>9353</td>\n",
       "      <td>47.612938</td>\n",
       "      <td>-122.344920</td>\n",
       "      <td>2016-01-02 07:00:00</td>\n",
       "      <td>16</td>\n",
       "      <td>1.0</td>\n",
       "      <td>1.0</td>\n",
       "      <td>2</td>\n",
       "      <td>1.0</td>\n",
       "      <td>6.25</td>\n",
       "    </tr>\n",
       "    <tr>\n",
       "      <th>15</th>\n",
       "      <td>11106</td>\n",
       "      <td>47.601960</td>\n",
       "      <td>-122.333136</td>\n",
       "      <td>2016-01-02 07:00:00</td>\n",
       "      <td>9</td>\n",
       "      <td>1.0</td>\n",
       "      <td>1.0</td>\n",
       "      <td>2</td>\n",
       "      <td>1.0</td>\n",
       "      <td>11.11</td>\n",
       "    </tr>\n",
       "    <tr>\n",
       "      <th>20</th>\n",
       "      <td>85382</td>\n",
       "      <td>47.680345</td>\n",
       "      <td>-122.325125</td>\n",
       "      <td>2016-01-02 07:00:00</td>\n",
       "      <td>7</td>\n",
       "      <td>1.0</td>\n",
       "      <td>1.0</td>\n",
       "      <td>2</td>\n",
       "      <td>1.0</td>\n",
       "      <td>14.29</td>\n",
       "    </tr>\n",
       "    <tr>\n",
       "      <th>23</th>\n",
       "      <td>7257</td>\n",
       "      <td>47.614036</td>\n",
       "      <td>-122.339875</td>\n",
       "      <td>2016-01-02 07:00:00</td>\n",
       "      <td>11</td>\n",
       "      <td>1.0</td>\n",
       "      <td>1.0</td>\n",
       "      <td>2</td>\n",
       "      <td>1.0</td>\n",
       "      <td>9.09</td>\n",
       "    </tr>\n",
       "    <tr>\n",
       "      <th>25</th>\n",
       "      <td>24265</td>\n",
       "      <td>47.620377</td>\n",
       "      <td>-122.358138</td>\n",
       "      <td>2016-01-02 07:00:00</td>\n",
       "      <td>11</td>\n",
       "      <td>1.0</td>\n",
       "      <td>1.0</td>\n",
       "      <td>2</td>\n",
       "      <td>1.0</td>\n",
       "      <td>9.09</td>\n",
       "    </tr>\n",
       "    <tr>\n",
       "      <th>26</th>\n",
       "      <td>24041</td>\n",
       "      <td>47.613750</td>\n",
       "      <td>-122.347351</td>\n",
       "      <td>2016-01-02 07:00:00</td>\n",
       "      <td>12</td>\n",
       "      <td>1.0</td>\n",
       "      <td>2.0</td>\n",
       "      <td>2</td>\n",
       "      <td>2.0</td>\n",
       "      <td>16.67</td>\n",
       "    </tr>\n",
       "    <tr>\n",
       "      <th>27</th>\n",
       "      <td>3341</td>\n",
       "      <td>47.669124</td>\n",
       "      <td>-122.384866</td>\n",
       "      <td>2016-01-02 07:00:00</td>\n",
       "      <td>5</td>\n",
       "      <td>1.0</td>\n",
       "      <td>1.0</td>\n",
       "      <td>2</td>\n",
       "      <td>1.0</td>\n",
       "      <td>20.00</td>\n",
       "    </tr>\n",
       "    <tr>\n",
       "      <th>28</th>\n",
       "      <td>24266</td>\n",
       "      <td>47.620259</td>\n",
       "      <td>-122.357944</td>\n",
       "      <td>2016-01-02 07:00:00</td>\n",
       "      <td>11</td>\n",
       "      <td>1.0</td>\n",
       "      <td>1.0</td>\n",
       "      <td>2</td>\n",
       "      <td>1.0</td>\n",
       "      <td>9.09</td>\n",
       "    </tr>\n",
       "    <tr>\n",
       "      <th>29</th>\n",
       "      <td>1233</td>\n",
       "      <td>47.614656</td>\n",
       "      <td>-122.319574</td>\n",
       "      <td>2016-01-02 07:00:00</td>\n",
       "      <td>11</td>\n",
       "      <td>1.0</td>\n",
       "      <td>2.0</td>\n",
       "      <td>2</td>\n",
       "      <td>2.0</td>\n",
       "      <td>18.18</td>\n",
       "    </tr>\n",
       "    <tr>\n",
       "      <th>30</th>\n",
       "      <td>24413</td>\n",
       "      <td>47.617043</td>\n",
       "      <td>-122.318314</td>\n",
       "      <td>2016-01-02 07:00:00</td>\n",
       "      <td>31</td>\n",
       "      <td>1.0</td>\n",
       "      <td>1.0</td>\n",
       "      <td>2</td>\n",
       "      <td>1.0</td>\n",
       "      <td>3.23</td>\n",
       "    </tr>\n",
       "    <tr>\n",
       "      <th>31</th>\n",
       "      <td>34214</td>\n",
       "      <td>47.605852</td>\n",
       "      <td>-122.333280</td>\n",
       "      <td>2016-01-02 07:00:00</td>\n",
       "      <td>14</td>\n",
       "      <td>1.0</td>\n",
       "      <td>1.0</td>\n",
       "      <td>2</td>\n",
       "      <td>1.0</td>\n",
       "      <td>7.14</td>\n",
       "    </tr>\n",
       "    <tr>\n",
       "      <th>32</th>\n",
       "      <td>69489</td>\n",
       "      <td>47.664042</td>\n",
       "      <td>-122.315368</td>\n",
       "      <td>2016-01-02 07:00:00</td>\n",
       "      <td>17</td>\n",
       "      <td>1.0</td>\n",
       "      <td>1.0</td>\n",
       "      <td>2</td>\n",
       "      <td>1.0</td>\n",
       "      <td>5.88</td>\n",
       "    </tr>\n",
       "    <tr>\n",
       "      <th>35</th>\n",
       "      <td>86450</td>\n",
       "      <td>47.669376</td>\n",
       "      <td>-122.386098</td>\n",
       "      <td>2016-01-02 07:00:00</td>\n",
       "      <td>14</td>\n",
       "      <td>1.0</td>\n",
       "      <td>1.0</td>\n",
       "      <td>2</td>\n",
       "      <td>2.0</td>\n",
       "      <td>14.29</td>\n",
       "    </tr>\n",
       "    <tr>\n",
       "      <th>37</th>\n",
       "      <td>80598</td>\n",
       "      <td>47.676221</td>\n",
       "      <td>-122.317259</td>\n",
       "      <td>2016-01-02 07:00:00</td>\n",
       "      <td>8</td>\n",
       "      <td>1.0</td>\n",
       "      <td>3.0</td>\n",
       "      <td>2</td>\n",
       "      <td>3.0</td>\n",
       "      <td>37.50</td>\n",
       "    </tr>\n",
       "    <tr>\n",
       "      <th>39</th>\n",
       "      <td>88773</td>\n",
       "      <td>47.600119</td>\n",
       "      <td>-122.325690</td>\n",
       "      <td>2016-01-02 07:00:00</td>\n",
       "      <td>13</td>\n",
       "      <td>1.0</td>\n",
       "      <td>1.0</td>\n",
       "      <td>2</td>\n",
       "      <td>1.0</td>\n",
       "      <td>7.69</td>\n",
       "    </tr>\n",
       "    <tr>\n",
       "      <th>40</th>\n",
       "      <td>41721</td>\n",
       "      <td>47.668772</td>\n",
       "      <td>-122.385470</td>\n",
       "      <td>2016-01-02 07:00:00</td>\n",
       "      <td>4</td>\n",
       "      <td>1.0</td>\n",
       "      <td>1.0</td>\n",
       "      <td>2</td>\n",
       "      <td>1.0</td>\n",
       "      <td>25.00</td>\n",
       "    </tr>\n",
       "    <tr>\n",
       "      <th>43</th>\n",
       "      <td>70762</td>\n",
       "      <td>47.619206</td>\n",
       "      <td>-122.352676</td>\n",
       "      <td>2016-01-02 07:00:00</td>\n",
       "      <td>16</td>\n",
       "      <td>1.0</td>\n",
       "      <td>3.0</td>\n",
       "      <td>2</td>\n",
       "      <td>3.0</td>\n",
       "      <td>18.75</td>\n",
       "    </tr>\n",
       "    <tr>\n",
       "      <th>44</th>\n",
       "      <td>10278</td>\n",
       "      <td>47.650201</td>\n",
       "      <td>-122.351196</td>\n",
       "      <td>2016-01-02 07:00:00</td>\n",
       "      <td>9</td>\n",
       "      <td>1.0</td>\n",
       "      <td>1.0</td>\n",
       "      <td>2</td>\n",
       "      <td>1.0</td>\n",
       "      <td>11.11</td>\n",
       "    </tr>\n",
       "    <tr>\n",
       "      <th>45</th>\n",
       "      <td>37138</td>\n",
       "      <td>47.613995</td>\n",
       "      <td>-122.320153</td>\n",
       "      <td>2016-01-02 07:00:00</td>\n",
       "      <td>6</td>\n",
       "      <td>1.0</td>\n",
       "      <td>1.0</td>\n",
       "      <td>2</td>\n",
       "      <td>1.0</td>\n",
       "      <td>16.67</td>\n",
       "    </tr>\n",
       "    <tr>\n",
       "      <th>46</th>\n",
       "      <td>34506</td>\n",
       "      <td>47.621271</td>\n",
       "      <td>-122.332867</td>\n",
       "      <td>2016-01-02 07:00:00</td>\n",
       "      <td>31</td>\n",
       "      <td>1.0</td>\n",
       "      <td>1.0</td>\n",
       "      <td>2</td>\n",
       "      <td>2.0</td>\n",
       "      <td>6.45</td>\n",
       "    </tr>\n",
       "  </tbody>\n",
       "</table>\n",
       "</div>"
      ],
      "text/plain": [
       "    element_key   latitude   longitude           timestamp  parking_spaces  \\\n",
       "0         35242  47.662434 -122.317343 2016-01-02 05:00:00              14   \n",
       "1         34506  47.621271 -122.332867 2016-01-02 06:00:00              31   \n",
       "2         86450  47.669376 -122.386098 2016-01-02 06:00:00              14   \n",
       "3         37186  47.615173 -122.320241 2016-01-02 07:00:00               6   \n",
       "4         58513  47.657933 -122.313319 2016-01-02 07:00:00               9   \n",
       "5         69446  47.613507 -122.316700 2016-01-02 07:00:00              10   \n",
       "6          2921  47.600475 -122.331714 2016-01-02 07:00:00              14   \n",
       "7         31889  47.614501 -122.347519 2016-01-02 07:00:00              16   \n",
       "10        35838  47.654700 -122.313188 2016-01-02 07:00:00              12   \n",
       "11        52525  47.616354 -122.343798 2016-01-02 07:00:00              12   \n",
       "13         9353  47.612938 -122.344920 2016-01-02 07:00:00              16   \n",
       "15        11106  47.601960 -122.333136 2016-01-02 07:00:00               9   \n",
       "20        85382  47.680345 -122.325125 2016-01-02 07:00:00               7   \n",
       "23         7257  47.614036 -122.339875 2016-01-02 07:00:00              11   \n",
       "25        24265  47.620377 -122.358138 2016-01-02 07:00:00              11   \n",
       "26        24041  47.613750 -122.347351 2016-01-02 07:00:00              12   \n",
       "27         3341  47.669124 -122.384866 2016-01-02 07:00:00               5   \n",
       "28        24266  47.620259 -122.357944 2016-01-02 07:00:00              11   \n",
       "29         1233  47.614656 -122.319574 2016-01-02 07:00:00              11   \n",
       "30        24413  47.617043 -122.318314 2016-01-02 07:00:00              31   \n",
       "31        34214  47.605852 -122.333280 2016-01-02 07:00:00              14   \n",
       "32        69489  47.664042 -122.315368 2016-01-02 07:00:00              17   \n",
       "35        86450  47.669376 -122.386098 2016-01-02 07:00:00              14   \n",
       "37        80598  47.676221 -122.317259 2016-01-02 07:00:00               8   \n",
       "39        88773  47.600119 -122.325690 2016-01-02 07:00:00              13   \n",
       "40        41721  47.668772 -122.385470 2016-01-02 07:00:00               4   \n",
       "43        70762  47.619206 -122.352676 2016-01-02 07:00:00              16   \n",
       "44        10278  47.650201 -122.351196 2016-01-02 07:00:00               9   \n",
       "45        37138  47.613995 -122.320153 2016-01-02 07:00:00               6   \n",
       "46        34506  47.621271 -122.332867 2016-01-02 07:00:00              31   \n",
       "\n",
       "    timestamp_sign  occupation  day_year  occu_cum  occupation_perc  \n",
       "0              1.0         1.0         2       1.0             7.14  \n",
       "1              1.0         1.0         2       1.0             3.23  \n",
       "2              1.0         1.0         2       1.0             7.14  \n",
       "3              1.0         1.0         2       1.0            16.67  \n",
       "4              1.0         1.0         2       1.0            11.11  \n",
       "5              1.0         1.0         2       1.0            10.00  \n",
       "6              1.0         1.0         2       1.0             7.14  \n",
       "7              1.0         1.0         2       1.0             6.25  \n",
       "10             1.0         1.0         2       1.0             8.33  \n",
       "11             1.0         1.0         2       1.0             8.33  \n",
       "13             1.0         1.0         2       1.0             6.25  \n",
       "15             1.0         1.0         2       1.0            11.11  \n",
       "20             1.0         1.0         2       1.0            14.29  \n",
       "23             1.0         1.0         2       1.0             9.09  \n",
       "25             1.0         1.0         2       1.0             9.09  \n",
       "26             1.0         2.0         2       2.0            16.67  \n",
       "27             1.0         1.0         2       1.0            20.00  \n",
       "28             1.0         1.0         2       1.0             9.09  \n",
       "29             1.0         2.0         2       2.0            18.18  \n",
       "30             1.0         1.0         2       1.0             3.23  \n",
       "31             1.0         1.0         2       1.0             7.14  \n",
       "32             1.0         1.0         2       1.0             5.88  \n",
       "35             1.0         1.0         2       2.0            14.29  \n",
       "37             1.0         3.0         2       3.0            37.50  \n",
       "39             1.0         1.0         2       1.0             7.69  \n",
       "40             1.0         1.0         2       1.0            25.00  \n",
       "43             1.0         3.0         2       3.0            18.75  \n",
       "44             1.0         1.0         2       1.0            11.11  \n",
       "45             1.0         1.0         2       1.0            16.67  \n",
       "46             1.0         1.0         2       2.0             6.45  "
      ]
     },
     "execution_count": 77,
     "metadata": {},
     "output_type": "execute_result"
    }
   ],
   "source": [
    "top15_transactions.head(30)"
   ]
  },
  {
   "cell_type": "code",
   "execution_count": 78,
   "metadata": {},
   "outputs": [
    {
     "data": {
      "image/png": "[encoded data removed]",
      "text/plain": [
       "<matplotlib.figure.Figure at 0x13bd4a710>"
      ]
     },
     "metadata": {},
     "output_type": "display_data"
    }
   ],
   "source": [
    "top15_transactions['hour'] = top15_transactions.timestamp.dt.hour\n",
    "perc_occupation_by_hour = top15_transactions.groupby(['hour']).occupation_perc.mean()\n",
    "perc_occupation_by_hour.plot(kind='bar',figsize=(12, 4));"
   ]
  },
  {
   "cell_type": "code",
   "execution_count": 79,
   "metadata": {},
   "outputs": [],
   "source": [
    "top15_transactions[['element_key','latitude','longitude','timestamp','occupation_perc']].to_csv(\n",
    "    './data/Top15_EK_2016.csv')"
   ]
  },
  {
   "cell_type": "code",
   "execution_count": null,
   "metadata": {},
   "outputs": [],
   "source": []
  }
 ],
 "metadata": {
  "hide_input": false,
  "kernelspec": {
   "display_name": "Python 3",
   "language": "python",
   "name": "python3"
  },
  "language_info": {
   "codemirror_mode": {
    "name": "ipython",
    "version": 3
   },
   "file_extension": ".py",
   "mimetype": "text/x-python",
   "name": "python",
   "nbconvert_exporter": "python",
   "pygments_lexer": "ipython3",
   "version": "3.6.4"
  },
  "toc": {
   "colors": {
    "hover_highlight": "#DAA520",
    "navigate_num": "#000000",
    "navigate_text": "#333333",
    "running_highlight": "#FF0000",
    "selected_highlight": "#FFD700",
    "sidebar_border": "#EEEEEE",
    "wrapper_background": "#FFFFFF"
   },
   "moveMenuLeft": true,
   "nav_menu": {
    "height": "200px",
    "width": "254px"
   },
   "navigate_menu": true,
   "number_sections": true,
   "sideBar": true,
   "threshold": 4,
   "toc_cell": true,
   "toc_section_display": "block",
   "toc_window_display": false,
   "widenNotebook": false
  }
 },
 "nbformat": 4,
 "nbformat_minor": 2
}
